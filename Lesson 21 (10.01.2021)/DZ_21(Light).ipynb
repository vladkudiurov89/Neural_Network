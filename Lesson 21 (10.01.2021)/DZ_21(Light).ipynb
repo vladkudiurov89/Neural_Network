{
  "nbformat": 4,
  "nbformat_minor": 0,
  "metadata": {
    "colab": {
      "name": "DZ-21(Light).ipynb",
      "private_outputs": true,
      "provenance": []
    },
    "kernelspec": {
      "name": "python3",
      "display_name": "Python 3"
    },
    "accelerator": "GPU"
  },
  "cells": [
    {
      "cell_type": "code",
      "metadata": {
        "id": "zSQ3NbZXzscF"
      },
      "source": [
        "import keras # Должны быть версии 2.2.5\r\n",
        "import tensorflow as tf # Должна быть версия 1.15.0\r\n",
        "import scipy # Должна быть 1.2.1\r\n",
        "\r\n",
        "from keras.models import Sequential\r\n",
        "from keras.layers import Dense, Dropout, Flatten\r\n",
        "from keras.layers import Conv2D, MaxPooling2D\r\n",
        "from keras import backend as K\r\n",
        "\r\n",
        "print('Keras: ',keras.__version__)\r\n",
        "print('TensorFlow:', tf.__version__)\r\n",
        "print('Scipy:' ,scipy.__version__)"
      ],
      "execution_count": null,
      "outputs": []
    },
    {
      "cell_type": "code",
      "metadata": {
        "id": "JsO6fl6kz_Qu"
      },
      "source": [
        "# Загружаем MNIST\r\n",
        "from keras.datasets import mnist\r\n",
        "\r\n",
        "(x_train, y_train), (x_test, y_test) = mnist.load_data()\r\n",
        "x_train = x_train.reshape(x_train.shape[0], 28, 28, 1)\r\n",
        "x_test = x_test.reshape(x_test.shape[0], 28, 28, 1)\r\n",
        "input_shape = (28, 28, 1)\r\n",
        "\r\n",
        "# Нормализуем значения пикспелей (от 0 до 1)\r\n",
        "x_train = x_train.astype('float32')\r\n",
        "x_test = x_test.astype('float32')\r\n",
        "x_train /= 255\r\n",
        "x_test /= 255\r\n",
        "\r\n",
        "# Приводим лейблы к формату One Hot\r\n",
        "y_train = keras.utils.to_categorical(y_train, 10)\r\n",
        "y_test = keras.utils.to_categorical(y_test, 10)\r\n",
        "print(x_train.shape, y_train.shape)\r\n",
        "print(x_test.shape, y_test.shape)\r\n",
        "\r\n",
        "# Функция создания модели\r\n",
        "def create_model():\r\n",
        "  model = Sequential()\r\n",
        "  model.add(Conv2D(32, kernel_size=(3, 3), activation='relu', input_shape=input_shape))\r\n",
        "  model.add(Conv2D(64, (3, 3), activation='relu'))\r\n",
        "  model.add(MaxPooling2D(pool_size=(2, 2)))\r\n",
        "  model.add(Dropout(0.25))\r\n",
        "  model.add(Flatten())\r\n",
        "  model.add(Dense(128, activation='relu'))\r\n",
        "  model.add(Dropout(0.5))\r\n",
        "  model.add(Dense(10, activation='softmax'))\r\n",
        "  model.compile(loss=keras.losses.categorical_crossentropy, optimizer=keras.optimizers.Adadelta(), metrics=['accuracy'])\r\n",
        "  return model\r\n",
        "\r\n",
        "# Создаём модель\r\n",
        "model = create_model()\r\n",
        "model.summary()\r\n",
        "\r\n",
        "# Обучаем модель\r\n",
        "model.fit(x_train, y_train, batch_size=32, epochs=10, verbose=1, validation_data=(x_test, y_test))\r\n",
        "\r\n",
        "# Результат модели\r\n",
        "score = model.evaluate(x_test, y_test, verbose=0)\r\n",
        "print('Test loss:', score[0])\r\n",
        "print('Test accuracy:', score[1])\r\n",
        "\r\n",
        "# Сохраняем саму модель\r\n",
        "# Сериализация в JSON\r\n",
        "model_json = model.to_json()\r\n",
        "with open(\"model.json\", \"w\") as json_file:\r\n",
        "    json_file.write(model_json)\r\n",
        "# Сохраняем(сериализуем) веса  в формате HDF5\r\n",
        "model.save_weights(\"model.h5\")\r\n",
        "print(\"Сохранено\")"
      ],
      "execution_count": null,
      "outputs": []
    },
    {
      "cell_type": "code",
      "metadata": {
        "id": "-sMVqj_qz_Tk"
      },
      "source": [
        "from flask import Flask, request # request - это объекты, которыми управляет flask handles (get, set, post и т.д.)\r\n",
        "from flask import render_template # этот объект автоматически зарендерит нам шаблон html\r\n",
        "import imageio # для работы с изображениями\r\n",
        "import numpy as np\r\n",
        "import keras.models\r\n",
        "import re # регулярные питоновские выражения\r\n",
        "from keras.models import model_from_json\r\n",
        "import sys \r\n",
        "import os\r\n",
        "# from load import * # наследуем все классы\r\n",
        "\r\n",
        "# Задаем имя серверу\r\n",
        "app = Flask(__name__)\r\n",
        "\r\n",
        "import tensorflow as tf\r\n",
        "import base64 # универсальный формат кодирования (часто используется с изображениями)\r\n",
        "# from scipy.misc import imresize\r\n",
        "\r\n",
        "# Открываем json файл разметки модели\r\n",
        "json_file = open('model.json','r') \r\n",
        "loaded_model_json = json_file.read() # считываем\r\n",
        "json_file.close() # закрываем\r\n",
        "loaded_model = model_from_json(loaded_model_json) # используем керас, чтобы считать разметку архитектуры\r\n",
        "loaded_model.summary()\r\n",
        "\r\n",
        "loaded_model.load_weights(\"model.h5\") # подгружаем веса\r\n",
        "print(\"Загружено с диска\")\r\n",
        "\r\n",
        "# компилируем модель\r\n",
        "loaded_model.compile(loss='categorical_crossentropy',optimizer='adam',metrics=['accuracy'])\r\n",
        "\r\n",
        "# оценим ее точность еще раз\r\n",
        "loss,accuracy = loaded_model.evaluate(x_test,y_test)\r\n",
        "print('accuracy:', accuracy)"
      ],
      "execution_count": null,
      "outputs": []
    },
    {
      "cell_type": "code",
      "metadata": {
        "id": "ozYzfsXWz_ZG"
      },
      "source": [
        "# инициализируем граф\r\n",
        "global graph\r\n",
        "graph = tf.compat.v1.get_default_graph()"
      ],
      "execution_count": null,
      "outputs": []
    },
    {
      "cell_type": "code",
      "metadata": {
        "id": "akV_sZtIz_cV"
      },
      "source": [
        "# заносим его в дефолтный граф для сессии\r\n",
        "session = tf.compat.v1.Session(graph=graph)  \r\n",
        "init_g = tf.compat.v1.global_variables_initializer()"
      ],
      "execution_count": null,
      "outputs": []
    },
    {
      "cell_type": "code",
      "metadata": {
        "id": "Z1Dosc71z_eo"
      },
      "source": [
        "# декодируем изображение из сырого(бинарного) представления в его base64 \r\n",
        "def convertImage(imgData1):\r\n",
        "    imgstr = re.search(b'base64,(.*)',imgData1).group(1) # находим строчку, в которой содержится побитовое представление изображение,\r\n",
        "                                                        # возвращает вторую(1) подгруппу\r\n",
        "    with open('output.png','wb') as output: # временный файл, в который записываем декодированное представление\r\n",
        "        output.write(base64.b64decode(imgstr))"
      ],
      "execution_count": null,
      "outputs": []
    },
    {
      "cell_type": "code",
      "metadata": {
        "id": "6NfCex_-3wdg"
      },
      "source": [
        "# # Указываем адрес по которому будет откликаться Web сервис и задаем саму функцию веб сервиса. Это наша стартовая страница\r\n",
        "@app.route('/')\r\n",
        "@app.route('/index')\r\n",
        "def index():\r\n",
        "    # рендерим заранее построенный HTML файл\r\n",
        "    return render_template(\"index1.html\")"
      ],
      "execution_count": null,
      "outputs": []
    },
    {
      "cell_type": "code",
      "metadata": {
        "id": "fH4WsnbP3wgg"
      },
      "source": [
        "# маршрут, по которому будет идти предсказание\r\n",
        "@app.route('/predict/',methods=['GET','POST'])\r\n",
        "def predict():\r\n",
        "    # в любой момент, когда пользователь вызовет predict\r\n",
        "    # после того, как нарисовал картинку, произойдет\r\n",
        "    # inference/внедрение, вернется результат классификации\r\n",
        "    \r\n",
        "    # получить сырой формат изображения (этот метод объекта Flask)\r\n",
        "    imgData = request.get_data()\r\n",
        "    \r\n",
        "    # кодируем в подходящий формат\r\n",
        "    convertImage(imgData)\r\n",
        "    print (\"debug\")\r\n",
        "    # считываем изображение в память\r\n",
        "    x = imageio.imread('output.png',pilmode='L')\r\n",
        "    # побитово инвертируем (из черного в белое и наоборот)\r\n",
        "    x = np.invert(x)\r\n",
        "    # выравниваем по размеру\r\n",
        "    x = imresize(x,(28,28))\r\n",
        "    \r\n",
        "    # преобразуем в четырехразмерный тензор для модели\r\n",
        "    x = x.reshape(1,28,28,1)\r\n",
        "    print (\"debug2\")\r\n",
        "    \r\n",
        "    # инициализируем все переменные для графа\r\n",
        "    session.run(init_g)\r\n",
        "    #tf.compat.v1.global_variables_initializer()\r\n",
        "\r\n",
        "   # session = tf.Session(graph=graph)\r\n",
        "    \r\n",
        "    # в сессии, заданной по умолчанию\r\n",
        "    with session.as_default():\r\n",
        "        # в графе, заданном по умолчанию\r\n",
        "        with graph.as_default():\r\n",
        "           \r\n",
        "        # предсказать\r\n",
        "            out = loaded_model.predict(x)            \r\n",
        "            print(out)\r\n",
        "            print(np.argmax(out,axis=1))\r\n",
        "            print (\"debug3\")\r\n",
        "            \r\n",
        "        # преобразуем ответ в строку\r\n",
        "            response = np.array_str(np.argmax(out,axis=1))\r\n",
        "            return response\r\n",
        "        # обнуляем граф, чтобы можно было ввести новые данные\r\n",
        "        tf.reset_default_graph()"
      ],
      "execution_count": null,
      "outputs": []
    },
    {
      "cell_type": "code",
      "metadata": {
        "id": "kUtkbbF636DS"
      },
      "source": [
        "if __name__ == \"__main__\":\r\n",
        "    # этот порт выделяем под прогонку\r\n",
        "    port = int(os.environ.get('PORT', 5002))\r\n",
        "    \r\n",
        "    # прогоняем на локальном сервере по заданному порту\r\n",
        "    app.run(host='127.0.1.1', port=port)"
      ],
      "execution_count": null,
      "outputs": []
    },
    {
      "cell_type": "code",
      "metadata": {
        "id": "j0FMwy7I36GU"
      },
      "source": [
        ""
      ],
      "execution_count": null,
      "outputs": []
    },
    {
      "cell_type": "code",
      "metadata": {
        "id": "AbIUrtgy36JE"
      },
      "source": [
        ""
      ],
      "execution_count": null,
      "outputs": []
    }
  ]
}