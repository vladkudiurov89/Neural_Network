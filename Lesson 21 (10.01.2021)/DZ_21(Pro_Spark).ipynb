{
  "nbformat": 4,
  "nbformat_minor": 0,
  "metadata": {
    "colab": {
      "name": "DZ-21(Pro-Spark).ipynb",
      "provenance": []
    },
    "kernelspec": {
      "name": "python3",
      "display_name": "Python 3"
    }
  },
  "cells": [
    {
      "cell_type": "code",
      "metadata": {
        "colab": {
          "base_uri": "https://localhost:8080/"
        },
        "id": "l9Gfr9_oavN4",
        "outputId": "d1b18a9b-a255-49e5-8b5e-bf0e64459a5a"
      },
      "source": [
        "# Устанавливаем необходимые пакеты\r\n",
        "!apt-get update\r\n",
        "!apt-get install openjdk-8-jdk-headless"
      ],
      "execution_count": 1,
      "outputs": [
        {
          "output_type": "stream",
          "text": [
            "\r0% [Working]\r            \rGet:1 https://cloud.r-project.org/bin/linux/ubuntu bionic-cran40/ InRelease [3,626 B]\n",
            "\r0% [Connecting to archive.ubuntu.com (91.189.88.152)] [Waiting for headers] [1 \r0% [Connecting to archive.ubuntu.com (91.189.88.152)] [Waiting for headers] [Co\r                                                                               \rIgn:2 https://developer.download.nvidia.com/compute/cuda/repos/ubuntu1804/x86_64  InRelease\n",
            "\r0% [Connecting to archive.ubuntu.com (91.189.88.152)] [Waiting for headers] [Co\r0% [1 InRelease gpgv 3,626 B] [Connecting to archive.ubuntu.com (91.189.88.152)\r                                                                               \rIgn:3 https://developer.download.nvidia.com/compute/machine-learning/repos/ubuntu1804/x86_64  InRelease\n",
            "\r0% [1 InRelease gpgv 3,626 B] [Connecting to archive.ubuntu.com (91.189.88.152)\r                                                                               \rHit:4 https://developer.download.nvidia.com/compute/cuda/repos/ubuntu1804/x86_64  Release\n",
            "\r0% [1 InRelease gpgv 3,626 B] [Connecting to archive.ubuntu.com (91.189.88.152)\r                                                                               \rHit:5 https://developer.download.nvidia.com/compute/machine-learning/repos/ubuntu1804/x86_64  Release\n",
            "\r0% [1 InRelease gpgv 3,626 B] [Connecting to archive.ubuntu.com (91.189.88.152)\r                                                                               \rGet:6 http://security.ubuntu.com/ubuntu bionic-security InRelease [88.7 kB]\n",
            "Get:7 http://ppa.launchpad.net/c2d4u.team/c2d4u4.0+/ubuntu bionic InRelease [15.9 kB]\n",
            "Hit:8 http://archive.ubuntu.com/ubuntu bionic InRelease\n",
            "Get:9 http://archive.ubuntu.com/ubuntu bionic-updates InRelease [88.7 kB]\n",
            "Hit:10 http://ppa.launchpad.net/cran/libgit2/ubuntu bionic InRelease\n",
            "Hit:12 http://ppa.launchpad.net/deadsnakes/ppa/ubuntu bionic InRelease\n",
            "Get:13 http://archive.ubuntu.com/ubuntu bionic-backports InRelease [74.6 kB]\n",
            "Hit:15 http://ppa.launchpad.net/graphics-drivers/ppa/ubuntu bionic InRelease\n",
            "Get:16 http://ppa.launchpad.net/c2d4u.team/c2d4u4.0+/ubuntu bionic/main Sources [1,738 kB]\n",
            "Get:17 http://security.ubuntu.com/ubuntu bionic-security/main amd64 Packages [1,929 kB]\n",
            "Get:18 http://archive.ubuntu.com/ubuntu bionic-updates/restricted amd64 Packages [334 kB]\n",
            "Get:19 http://security.ubuntu.com/ubuntu bionic-security/universe amd64 Packages [1,391 kB]\n",
            "Get:20 http://ppa.launchpad.net/c2d4u.team/c2d4u4.0+/ubuntu bionic/main amd64 Packages [889 kB]\n",
            "Get:21 http://archive.ubuntu.com/ubuntu bionic-updates/main amd64 Packages [2,395 kB]\n",
            "Get:22 http://archive.ubuntu.com/ubuntu bionic-updates/universe amd64 Packages [2,163 kB]\n",
            "Fetched 11.1 MB in 3s (3,197 kB/s)\n",
            "Reading package lists... Done\n",
            "Reading package lists... Done\n",
            "Building dependency tree       \n",
            "Reading state information... Done\n",
            "The following additional packages will be installed:\n",
            "  openjdk-8-jre-headless\n",
            "Suggested packages:\n",
            "  openjdk-8-demo openjdk-8-source libnss-mdns fonts-dejavu-extra\n",
            "  fonts-ipafont-gothic fonts-ipafont-mincho fonts-wqy-microhei\n",
            "  fonts-wqy-zenhei fonts-indic\n",
            "The following NEW packages will be installed:\n",
            "  openjdk-8-jdk-headless openjdk-8-jre-headless\n",
            "0 upgraded, 2 newly installed, 0 to remove and 29 not upgraded.\n",
            "Need to get 36.5 MB of archives.\n",
            "After this operation, 143 MB of additional disk space will be used.\n",
            "Get:1 http://archive.ubuntu.com/ubuntu bionic-updates/universe amd64 openjdk-8-jre-headless amd64 8u282-b08-0ubuntu1~18.04 [28.2 MB]\n",
            "Get:2 http://archive.ubuntu.com/ubuntu bionic-updates/universe amd64 openjdk-8-jdk-headless amd64 8u282-b08-0ubuntu1~18.04 [8,267 kB]\n",
            "Fetched 36.5 MB in 2s (14.7 MB/s)\n",
            "Selecting previously unselected package openjdk-8-jre-headless:amd64.\n",
            "(Reading database ... 149414 files and directories currently installed.)\n",
            "Preparing to unpack .../openjdk-8-jre-headless_8u282-b08-0ubuntu1~18.04_amd64.deb ...\n",
            "Unpacking openjdk-8-jre-headless:amd64 (8u282-b08-0ubuntu1~18.04) ...\n",
            "Selecting previously unselected package openjdk-8-jdk-headless:amd64.\n",
            "Preparing to unpack .../openjdk-8-jdk-headless_8u282-b08-0ubuntu1~18.04_amd64.deb ...\n",
            "Unpacking openjdk-8-jdk-headless:amd64 (8u282-b08-0ubuntu1~18.04) ...\n",
            "Setting up openjdk-8-jre-headless:amd64 (8u282-b08-0ubuntu1~18.04) ...\n",
            "update-alternatives: using /usr/lib/jvm/java-8-openjdk-amd64/jre/bin/orbd to provide /usr/bin/orbd (orbd) in auto mode\n",
            "update-alternatives: using /usr/lib/jvm/java-8-openjdk-amd64/jre/bin/servertool to provide /usr/bin/servertool (servertool) in auto mode\n",
            "update-alternatives: using /usr/lib/jvm/java-8-openjdk-amd64/jre/bin/tnameserv to provide /usr/bin/tnameserv (tnameserv) in auto mode\n",
            "Setting up openjdk-8-jdk-headless:amd64 (8u282-b08-0ubuntu1~18.04) ...\n",
            "update-alternatives: using /usr/lib/jvm/java-8-openjdk-amd64/bin/idlj to provide /usr/bin/idlj (idlj) in auto mode\n",
            "update-alternatives: using /usr/lib/jvm/java-8-openjdk-amd64/bin/wsimport to provide /usr/bin/wsimport (wsimport) in auto mode\n",
            "update-alternatives: using /usr/lib/jvm/java-8-openjdk-amd64/bin/jsadebugd to provide /usr/bin/jsadebugd (jsadebugd) in auto mode\n",
            "update-alternatives: using /usr/lib/jvm/java-8-openjdk-amd64/bin/native2ascii to provide /usr/bin/native2ascii (native2ascii) in auto mode\n",
            "update-alternatives: using /usr/lib/jvm/java-8-openjdk-amd64/bin/javah to provide /usr/bin/javah (javah) in auto mode\n",
            "update-alternatives: using /usr/lib/jvm/java-8-openjdk-amd64/bin/hsdb to provide /usr/bin/hsdb (hsdb) in auto mode\n",
            "update-alternatives: using /usr/lib/jvm/java-8-openjdk-amd64/bin/clhsdb to provide /usr/bin/clhsdb (clhsdb) in auto mode\n",
            "update-alternatives: using /usr/lib/jvm/java-8-openjdk-amd64/bin/xjc to provide /usr/bin/xjc (xjc) in auto mode\n",
            "update-alternatives: using /usr/lib/jvm/java-8-openjdk-amd64/bin/schemagen to provide /usr/bin/schemagen (schemagen) in auto mode\n",
            "update-alternatives: using /usr/lib/jvm/java-8-openjdk-amd64/bin/extcheck to provide /usr/bin/extcheck (extcheck) in auto mode\n",
            "update-alternatives: using /usr/lib/jvm/java-8-openjdk-amd64/bin/jhat to provide /usr/bin/jhat (jhat) in auto mode\n",
            "update-alternatives: using /usr/lib/jvm/java-8-openjdk-amd64/bin/wsgen to provide /usr/bin/wsgen (wsgen) in auto mode\n"
          ],
          "name": "stdout"
        }
      ]
    },
    {
      "cell_type": "code",
      "metadata": {
        "colab": {
          "base_uri": "https://localhost:8080/"
        },
        "id": "5uPoH_ZEaytJ",
        "outputId": "721eabf6-feab-4c27-937e-79bdaea6c0aa"
      },
      "source": [
        "!wget http://mirror.klaus-uwe.me/apache/spark/spark-2.4.7/spark-2.4.7-bin-hadoop2.7.tgz\r\n",
        "!tar xf spark-2.4.7-bin-hadoop2.7.tgz"
      ],
      "execution_count": 2,
      "outputs": [
        {
          "output_type": "stream",
          "text": [
            "--2021-02-24 09:22:01--  http://mirror.klaus-uwe.me/apache/spark/spark-2.4.7/spark-2.4.7-bin-hadoop2.7.tgz\n",
            "Resolving mirror.klaus-uwe.me (mirror.klaus-uwe.me)... 94.130.201.139, 2a01:4f8:13b:228c::2\n",
            "Connecting to mirror.klaus-uwe.me (mirror.klaus-uwe.me)|94.130.201.139|:80... connected.\n",
            "HTTP request sent, awaiting response... 200 OK\n",
            "Length: 233333392 (223M) [application/octet-stream]\n",
            "Saving to: ‘spark-2.4.7-bin-hadoop2.7.tgz’\n",
            "\n",
            "spark-2.4.7-bin-had 100%[===================>] 222.52M  24.6MB/s    in 9.9s    \n",
            "\n",
            "2021-02-24 09:22:12 (22.4 MB/s) - ‘spark-2.4.7-bin-hadoop2.7.tgz’ saved [233333392/233333392]\n",
            "\n"
          ],
          "name": "stdout"
        }
      ]
    },
    {
      "cell_type": "code",
      "metadata": {
        "colab": {
          "base_uri": "https://localhost:8080/"
        },
        "id": "zXWJAlN1aywD",
        "outputId": "d3d7a169-b591-4519-aa2c-5a46f4bc75c2"
      },
      "source": [
        "!update-alternatives --set java /usr/lib/jvm/java-8-openjdk-amd64/jre/bin/java\r\n",
        "!java -version\r\n",
        "!ls /usr/lib/jvm/java-8-openjdk-amd64"
      ],
      "execution_count": 3,
      "outputs": [
        {
          "output_type": "stream",
          "text": [
            "update-alternatives: using /usr/lib/jvm/java-8-openjdk-amd64/jre/bin/java to provide /usr/bin/java (java) in manual mode\n",
            "openjdk version \"1.8.0_282\"\n",
            "OpenJDK Runtime Environment (build 1.8.0_282-8u282-b08-0ubuntu1~18.04-b08)\n",
            "OpenJDK 64-Bit Server VM (build 25.282-b08, mixed mode)\n",
            "ASSEMBLY_EXCEPTION  docs     jre  man\t   THIRD_PARTY_README\n",
            "bin\t\t    include  lib  src.zip\n"
          ],
          "name": "stdout"
        }
      ]
    },
    {
      "cell_type": "code",
      "metadata": {
        "colab": {
          "base_uri": "https://localhost:8080/"
        },
        "id": "9Ozwxh9Dayy5",
        "outputId": "add16511-095c-4673-bbaa-8bd23c267259"
      },
      "source": [
        "# Библиотеки для использования SparkDL\r\n",
        "!pip uninstall -y keras tensorflow fancyimpute\r\n",
        "!pip install keras==2.2.5 tensorflow-gpu==1.12.0 findspark sparkdl \\\r\n",
        "    tensorframes kafka-python tensorflowonspark"
      ],
      "execution_count": 4,
      "outputs": [
        {
          "output_type": "stream",
          "text": [
            "Uninstalling Keras-2.4.3:\n",
            "  Successfully uninstalled Keras-2.4.3\n",
            "Uninstalling tensorflow-2.4.1:\n",
            "  Successfully uninstalled tensorflow-2.4.1\n",
            "Uninstalling fancyimpute-0.4.3:\n",
            "  Successfully uninstalled fancyimpute-0.4.3\n",
            "Collecting keras==2.2.5\n",
            "\u001b[?25l  Downloading https://files.pythonhosted.org/packages/f8/ba/2d058dcf1b85b9c212cc58264c98a4a7dd92c989b798823cc5690d062bb2/Keras-2.2.5-py2.py3-none-any.whl (336kB)\n",
            "\u001b[K     |████████████████████████████████| 337kB 5.2MB/s \n",
            "\u001b[31mERROR: Could not find a version that satisfies the requirement tensorflow-gpu==1.12.0 (from versions: 1.13.1, 1.13.2, 1.14.0, 1.15.0rc0, 1.15.0rc1, 1.15.0rc2, 1.15.0rc3, 1.15.0, 1.15.2, 1.15.3, 1.15.4, 1.15.5, 2.0.0a0, 2.0.0b0, 2.0.0b1, 2.0.0rc0, 2.0.0rc1, 2.0.0rc2, 2.0.0, 2.0.1, 2.0.2, 2.0.3, 2.0.4, 2.1.0rc0, 2.1.0rc1, 2.1.0rc2, 2.1.0, 2.1.1, 2.1.2, 2.1.3, 2.2.0rc0, 2.2.0rc1, 2.2.0rc2, 2.2.0rc3, 2.2.0rc4, 2.2.0, 2.2.1, 2.2.2, 2.3.0rc0, 2.3.0rc1, 2.3.0rc2, 2.3.0, 2.3.1, 2.3.2, 2.4.0rc0, 2.4.0rc1, 2.4.0rc2, 2.4.0rc3, 2.4.0rc4, 2.4.0, 2.4.1)\u001b[0m\n",
            "\u001b[31mERROR: No matching distribution found for tensorflow-gpu==1.12.0\u001b[0m\n",
            "\u001b[?25h"
          ],
          "name": "stdout"
        }
      ]
    },
    {
      "cell_type": "code",
      "metadata": {
        "colab": {
          "base_uri": "https://localhost:8080/"
        },
        "id": "E67a_t43ay1z",
        "outputId": "6ca2b88c-f4ce-45fe-c284-3fa54b798c7d"
      },
      "source": [
        "# Устанавливаем CUDA 9.0\r\n",
        "!wget https://developer.nvidia.com/compute/cuda/9.0/Prod/local_installers/cuda-repo-ubuntu1604-9-0-local_9.0.176-1_amd64-deb\r\n",
        "!dpkg -i cuda-repo-ubuntu1604-9-0-local_9.0.176-1_amd64-deb\r\n",
        "!apt-key add /var/cuda-repo-9-0-local/7fa2af80.pub\r\n",
        "!apt-get update\r\n",
        "!apt-get install cuda=9.0.176-1"
      ],
      "execution_count": 5,
      "outputs": [
        {
          "output_type": "stream",
          "text": [
            "--2021-02-24 09:22:34--  https://developer.nvidia.com/compute/cuda/9.0/Prod/local_installers/cuda-repo-ubuntu1604-9-0-local_9.0.176-1_amd64-deb\n",
            "Resolving developer.nvidia.com (developer.nvidia.com)... 152.199.0.24\n",
            "Connecting to developer.nvidia.com (developer.nvidia.com)|152.199.0.24|:443... connected.\n",
            "HTTP request sent, awaiting response... 301 Moved Permanently\n",
            "Location: https://developer.nvidia.com/compute/cuda/9.0/prod/local_installers/cuda-repo-ubuntu1604-9-0-local_9.0.176-1_amd64-deb [following]\n",
            "--2021-02-24 09:22:34--  https://developer.nvidia.com/compute/cuda/9.0/prod/local_installers/cuda-repo-ubuntu1604-9-0-local_9.0.176-1_amd64-deb\n",
            "Reusing existing connection to developer.nvidia.com:443.\n",
            "HTTP request sent, awaiting response... 302 Found\n",
            "Location: https://developer.download.nvidia.com/compute/cuda/9.0/secure/Prod/local_installers/cuda-repo-ubuntu1604-9-0-local_9.0.176-1_amd64.deb?4k6Ad9ugIgH73dI5QyWmZu-iY9IGB7odUtI7QqvQyyuXxt_N4M8VNDiCT0jn46IKO-umDSRGY6LembJGHVrvdjLV3dq9RjloOApZI-U6MOVFFpqiDFcX-Ev8YlVAYqr8e4Q6uB3kJ_Nc_Q-33NiAtbe4n_EFrRJv-59wVdqk6XCOKAQ7kn1eoMU3PeJc9jo2TJ9e9e3WQ92YwyMuX9eC [following]\n",
            "--2021-02-24 09:22:35--  https://developer.download.nvidia.com/compute/cuda/9.0/secure/Prod/local_installers/cuda-repo-ubuntu1604-9-0-local_9.0.176-1_amd64.deb?4k6Ad9ugIgH73dI5QyWmZu-iY9IGB7odUtI7QqvQyyuXxt_N4M8VNDiCT0jn46IKO-umDSRGY6LembJGHVrvdjLV3dq9RjloOApZI-U6MOVFFpqiDFcX-Ev8YlVAYqr8e4Q6uB3kJ_Nc_Q-33NiAtbe4n_EFrRJv-59wVdqk6XCOKAQ7kn1eoMU3PeJc9jo2TJ9e9e3WQ92YwyMuX9eC\n",
            "Resolving developer.download.nvidia.com (developer.download.nvidia.com)... 152.195.19.142\n",
            "Connecting to developer.download.nvidia.com (developer.download.nvidia.com)|152.195.19.142|:443... connected.\n",
            "HTTP request sent, awaiting response... 200 OK\n",
            "Length: 1212738714 (1.1G) [application/x-deb]\n",
            "Saving to: ‘cuda-repo-ubuntu1604-9-0-local_9.0.176-1_amd64-deb’\n",
            "\n",
            "cuda-repo-ubuntu160 100%[===================>]   1.13G   212MB/s    in 5.3s    \n",
            "\n",
            "2021-02-24 09:22:40 (218 MB/s) - ‘cuda-repo-ubuntu1604-9-0-local_9.0.176-1_amd64-deb’ saved [1212738714/1212738714]\n",
            "\n",
            "Selecting previously unselected package cuda-repo-ubuntu1604-9-0-local.\n",
            "(Reading database ... 149757 files and directories currently installed.)\n",
            "Preparing to unpack cuda-repo-ubuntu1604-9-0-local_9.0.176-1_amd64-deb ...\n",
            "Unpacking cuda-repo-ubuntu1604-9-0-local (9.0.176-1) ...\n",
            "Setting up cuda-repo-ubuntu1604-9-0-local (9.0.176-1) ...\n",
            "OK\n",
            "Get:1 file:/var/cuda-repo-9-0-local  InRelease\n",
            "Ign:1 file:/var/cuda-repo-9-0-local  InRelease\n",
            "Get:2 file:/var/cuda-repo-9-0-local  Release [574 B]\n",
            "Get:2 file:/var/cuda-repo-9-0-local  Release [574 B]\n",
            "Get:3 file:/var/cuda-repo-9-0-local  Release.gpg [819 B]\n",
            "Get:3 file:/var/cuda-repo-9-0-local  Release.gpg [819 B]\n",
            "Hit:4 http://security.ubuntu.com/ubuntu bionic-security InRelease\n",
            "Hit:5 https://cloud.r-project.org/bin/linux/ubuntu bionic-cran40/ InRelease\n",
            "Ign:6 https://developer.download.nvidia.com/compute/cuda/repos/ubuntu1804/x86_64  InRelease\n",
            "Ign:7 https://developer.download.nvidia.com/compute/machine-learning/repos/ubuntu1804/x86_64  InRelease\n",
            "Hit:8 https://developer.download.nvidia.com/compute/cuda/repos/ubuntu1804/x86_64  Release\n",
            "Hit:9 https://developer.download.nvidia.com/compute/machine-learning/repos/ubuntu1804/x86_64  Release\n",
            "Hit:10 http://ppa.launchpad.net/c2d4u.team/c2d4u4.0+/ubuntu bionic InRelease\n",
            "Hit:11 http://archive.ubuntu.com/ubuntu bionic InRelease\n",
            "Get:12 file:/var/cuda-repo-9-0-local  Packages [15.4 kB]\n",
            "Hit:13 http://archive.ubuntu.com/ubuntu bionic-updates InRelease\n",
            "Hit:14 http://ppa.launchpad.net/cran/libgit2/ubuntu bionic InRelease\n",
            "Hit:15 http://archive.ubuntu.com/ubuntu bionic-backports InRelease\n",
            "Hit:16 http://ppa.launchpad.net/deadsnakes/ppa/ubuntu bionic InRelease\n",
            "Hit:17 http://ppa.launchpad.net/graphics-drivers/ppa/ubuntu bionic InRelease\n",
            "Reading package lists... Done\n",
            "Reading package lists... Done\n",
            "Building dependency tree       \n",
            "Reading state information... Done\n",
            "The following additional packages will be installed:\n",
            "  cuda-9-0 cuda-command-line-tools-9-0 cuda-core-9-0 cuda-cublas-9-0\n",
            "  cuda-cublas-dev-9-0 cuda-cudart-9-0 cuda-cudart-dev-9-0 cuda-cufft-9-0\n",
            "  cuda-cufft-dev-9-0 cuda-curand-9-0 cuda-curand-dev-9-0 cuda-cusolver-9-0\n",
            "  cuda-cusolver-dev-9-0 cuda-cusparse-9-0 cuda-cusparse-dev-9-0\n",
            "  cuda-demo-suite-9-0 cuda-documentation-9-0 cuda-driver-dev-9-0\n",
            "  cuda-libraries-9-0 cuda-libraries-dev-9-0 cuda-license-9-0\n",
            "  cuda-misc-headers-9-0 cuda-npp-9-0 cuda-npp-dev-9-0 cuda-nvgraph-9-0\n",
            "  cuda-nvgraph-dev-9-0 cuda-nvml-dev-9-0 cuda-nvrtc-9-0 cuda-nvrtc-dev-9-0\n",
            "  cuda-runtime-9-0 cuda-samples-9-0 cuda-toolkit-9-0 cuda-visual-tools-9-0\n",
            "The following NEW packages will be installed:\n",
            "  cuda cuda-9-0 cuda-command-line-tools-9-0 cuda-core-9-0 cuda-cublas-9-0\n",
            "  cuda-cublas-dev-9-0 cuda-cudart-9-0 cuda-cudart-dev-9-0 cuda-cufft-9-0\n",
            "  cuda-cufft-dev-9-0 cuda-curand-9-0 cuda-curand-dev-9-0 cuda-cusolver-9-0\n",
            "  cuda-cusolver-dev-9-0 cuda-cusparse-9-0 cuda-cusparse-dev-9-0\n",
            "  cuda-demo-suite-9-0 cuda-documentation-9-0 cuda-driver-dev-9-0\n",
            "  cuda-libraries-9-0 cuda-libraries-dev-9-0 cuda-license-9-0\n",
            "  cuda-misc-headers-9-0 cuda-npp-9-0 cuda-npp-dev-9-0 cuda-nvgraph-9-0\n",
            "  cuda-nvgraph-dev-9-0 cuda-nvml-dev-9-0 cuda-nvrtc-9-0 cuda-nvrtc-dev-9-0\n",
            "  cuda-runtime-9-0 cuda-samples-9-0 cuda-toolkit-9-0 cuda-visual-tools-9-0\n",
            "0 upgraded, 34 newly installed, 0 to remove and 29 not upgraded.\n",
            "Need to get 0 B/1,097 MB of archives.\n",
            "After this operation, 2,315 MB of additional disk space will be used.\n",
            "Get:1 file:/var/cuda-repo-9-0-local  cuda-license-9-0 9.0.176-1 [22.0 kB]\n",
            "Get:2 file:/var/cuda-repo-9-0-local  cuda-misc-headers-9-0 9.0.176-1 [684 kB]\n",
            "Get:3 file:/var/cuda-repo-9-0-local  cuda-core-9-0 9.0.176-1 [16.9 MB]\n",
            "Get:4 file:/var/cuda-repo-9-0-local  cuda-cudart-9-0 9.0.176-1 [106 kB]\n",
            "Get:5 file:/var/cuda-repo-9-0-local  cuda-driver-dev-9-0 9.0.176-1 [10.9 kB]\n",
            "Get:6 file:/var/cuda-repo-9-0-local  cuda-cudart-dev-9-0 9.0.176-1 [767 kB]\n",
            "Get:7 file:/var/cuda-repo-9-0-local  cuda-command-line-tools-9-0 9.0.176-1 [25.4 MB]\n",
            "Get:8 file:/var/cuda-repo-9-0-local  cuda-nvrtc-9-0 9.0.176-1 [6,348 kB]\n",
            "Get:9 file:/var/cuda-repo-9-0-local  cuda-nvrtc-dev-9-0 9.0.176-1 [9,334 B]\n",
            "Get:10 file:/var/cuda-repo-9-0-local  cuda-cusolver-9-0 9.0.176-1 [26.2 MB]\n",
            "Get:11 file:/var/cuda-repo-9-0-local  cuda-cusolver-dev-9-0 9.0.176-1 [5,317 kB]\n",
            "Get:12 file:/var/cuda-repo-9-0-local  cuda-cublas-9-0 9.0.176-1 [25.0 MB]\n",
            "Get:13 file:/var/cuda-repo-9-0-local  cuda-cublas-dev-9-0 9.0.176-1 [49.4 MB]\n",
            "Get:14 file:/var/cuda-repo-9-0-local  cuda-cufft-9-0 9.0.176-1 [84.1 MB]\n",
            "Get:15 file:/var/cuda-repo-9-0-local  cuda-cufft-dev-9-0 9.0.176-1 [73.7 MB]\n",
            "Get:16 file:/var/cuda-repo-9-0-local  cuda-curand-9-0 9.0.176-1 [38.8 MB]\n",
            "Get:17 file:/var/cuda-repo-9-0-local  cuda-curand-dev-9-0 9.0.176-1 [57.9 MB]\n",
            "Get:18 file:/var/cuda-repo-9-0-local  cuda-cusparse-9-0 9.0.176-1 [25.2 MB]\n",
            "Get:19 file:/var/cuda-repo-9-0-local  cuda-cusparse-dev-9-0 9.0.176-1 [25.3 MB]\n",
            "Get:20 file:/var/cuda-repo-9-0-local  cuda-npp-9-0 9.0.176-1 [46.6 MB]\n",
            "Get:21 file:/var/cuda-repo-9-0-local  cuda-npp-dev-9-0 9.0.176-1 [46.6 MB]\n",
            "Get:22 file:/var/cuda-repo-9-0-local  cuda-nvgraph-9-0 9.0.176-1 [6,081 kB]\n",
            "Get:23 file:/var/cuda-repo-9-0-local  cuda-nvgraph-dev-9-0 9.0.176-1 [5,658 kB]\n",
            "Get:24 file:/var/cuda-repo-9-0-local  cuda-samples-9-0 9.0.176-1 [75.9 MB]\n",
            "Get:25 file:/var/cuda-repo-9-0-local  cuda-documentation-9-0 9.0.176-1 [53.1 MB]\n",
            "Get:26 file:/var/cuda-repo-9-0-local  cuda-libraries-dev-9-0 9.0.176-1 [2,596 B]\n",
            "Get:27 file:/var/cuda-repo-9-0-local  cuda-nvml-dev-9-0 9.0.176-1 [47.6 kB]\n",
            "Get:28 file:/var/cuda-repo-9-0-local  cuda-visual-tools-9-0 9.0.176-1 [398 MB]\n",
            "Get:29 file:/var/cuda-repo-9-0-local  cuda-toolkit-9-0 9.0.176-1 [2,836 B]\n",
            "Get:30 file:/var/cuda-repo-9-0-local  cuda-libraries-9-0 9.0.176-1 [2,566 B]\n",
            "Get:31 file:/var/cuda-repo-9-0-local  cuda-runtime-9-0 9.0.176-1 [2,526 B]\n",
            "Get:32 file:/var/cuda-repo-9-0-local  cuda-demo-suite-9-0 9.0.176-1 [3,880 kB]\n",
            "Get:33 file:/var/cuda-repo-9-0-local  cuda-9-0 9.0.176-1 [2,552 B]\n",
            "Get:34 file:/var/cuda-repo-9-0-local  cuda 9.0.176-1 [2,504 B]\n",
            "Extracting templates from packages: 100%\n",
            "Selecting previously unselected package cuda-license-9-0.\n",
            "(Reading database ... 149816 files and directories currently installed.)\n",
            "Preparing to unpack .../00-cuda-license-9-0_9.0.176-1_amd64.deb ...\n",
            "Unpacking cuda-license-9-0 (9.0.176-1) ...\n",
            "Selecting previously unselected package cuda-misc-headers-9-0.\n",
            "Preparing to unpack .../01-cuda-misc-headers-9-0_9.0.176-1_amd64.deb ...\n",
            "Unpacking cuda-misc-headers-9-0 (9.0.176-1) ...\n",
            "Selecting previously unselected package cuda-core-9-0.\n",
            "Preparing to unpack .../02-cuda-core-9-0_9.0.176-1_amd64.deb ...\n",
            "Unpacking cuda-core-9-0 (9.0.176-1) ...\n",
            "Selecting previously unselected package cuda-cudart-9-0.\n",
            "Preparing to unpack .../03-cuda-cudart-9-0_9.0.176-1_amd64.deb ...\n",
            "Unpacking cuda-cudart-9-0 (9.0.176-1) ...\n",
            "Selecting previously unselected package cuda-driver-dev-9-0.\n",
            "Preparing to unpack .../04-cuda-driver-dev-9-0_9.0.176-1_amd64.deb ...\n",
            "Unpacking cuda-driver-dev-9-0 (9.0.176-1) ...\n",
            "Selecting previously unselected package cuda-cudart-dev-9-0.\n",
            "Preparing to unpack .../05-cuda-cudart-dev-9-0_9.0.176-1_amd64.deb ...\n",
            "Unpacking cuda-cudart-dev-9-0 (9.0.176-1) ...\n",
            "Selecting previously unselected package cuda-command-line-tools-9-0.\n",
            "Preparing to unpack .../06-cuda-command-line-tools-9-0_9.0.176-1_amd64.deb ...\n",
            "Unpacking cuda-command-line-tools-9-0 (9.0.176-1) ...\n",
            "Selecting previously unselected package cuda-nvrtc-9-0.\n",
            "Preparing to unpack .../07-cuda-nvrtc-9-0_9.0.176-1_amd64.deb ...\n",
            "Unpacking cuda-nvrtc-9-0 (9.0.176-1) ...\n",
            "Selecting previously unselected package cuda-nvrtc-dev-9-0.\n",
            "Preparing to unpack .../08-cuda-nvrtc-dev-9-0_9.0.176-1_amd64.deb ...\n",
            "Unpacking cuda-nvrtc-dev-9-0 (9.0.176-1) ...\n",
            "Selecting previously unselected package cuda-cusolver-9-0.\n",
            "Preparing to unpack .../09-cuda-cusolver-9-0_9.0.176-1_amd64.deb ...\n",
            "Unpacking cuda-cusolver-9-0 (9.0.176-1) ...\n",
            "Selecting previously unselected package cuda-cusolver-dev-9-0.\n",
            "Preparing to unpack .../10-cuda-cusolver-dev-9-0_9.0.176-1_amd64.deb ...\n",
            "Unpacking cuda-cusolver-dev-9-0 (9.0.176-1) ...\n",
            "Selecting previously unselected package cuda-cublas-9-0.\n",
            "Preparing to unpack .../11-cuda-cublas-9-0_9.0.176-1_amd64.deb ...\n",
            "Unpacking cuda-cublas-9-0 (9.0.176-1) ...\n",
            "Selecting previously unselected package cuda-cublas-dev-9-0.\n",
            "Preparing to unpack .../12-cuda-cublas-dev-9-0_9.0.176-1_amd64.deb ...\n",
            "Unpacking cuda-cublas-dev-9-0 (9.0.176-1) ...\n",
            "Selecting previously unselected package cuda-cufft-9-0.\n",
            "Preparing to unpack .../13-cuda-cufft-9-0_9.0.176-1_amd64.deb ...\n",
            "Unpacking cuda-cufft-9-0 (9.0.176-1) ...\n",
            "Selecting previously unselected package cuda-cufft-dev-9-0.\n",
            "Preparing to unpack .../14-cuda-cufft-dev-9-0_9.0.176-1_amd64.deb ...\n",
            "Unpacking cuda-cufft-dev-9-0 (9.0.176-1) ...\n",
            "Selecting previously unselected package cuda-curand-9-0.\n",
            "Preparing to unpack .../15-cuda-curand-9-0_9.0.176-1_amd64.deb ...\n",
            "Unpacking cuda-curand-9-0 (9.0.176-1) ...\n",
            "Selecting previously unselected package cuda-curand-dev-9-0.\n",
            "Preparing to unpack .../16-cuda-curand-dev-9-0_9.0.176-1_amd64.deb ...\n",
            "Unpacking cuda-curand-dev-9-0 (9.0.176-1) ...\n",
            "Selecting previously unselected package cuda-cusparse-9-0.\n",
            "Preparing to unpack .../17-cuda-cusparse-9-0_9.0.176-1_amd64.deb ...\n",
            "Unpacking cuda-cusparse-9-0 (9.0.176-1) ...\n",
            "Selecting previously unselected package cuda-cusparse-dev-9-0.\n",
            "Preparing to unpack .../18-cuda-cusparse-dev-9-0_9.0.176-1_amd64.deb ...\n",
            "Unpacking cuda-cusparse-dev-9-0 (9.0.176-1) ...\n",
            "Selecting previously unselected package cuda-npp-9-0.\n",
            "Preparing to unpack .../19-cuda-npp-9-0_9.0.176-1_amd64.deb ...\n",
            "Unpacking cuda-npp-9-0 (9.0.176-1) ...\n",
            "Selecting previously unselected package cuda-npp-dev-9-0.\n",
            "Preparing to unpack .../20-cuda-npp-dev-9-0_9.0.176-1_amd64.deb ...\n",
            "Unpacking cuda-npp-dev-9-0 (9.0.176-1) ...\n",
            "Selecting previously unselected package cuda-nvgraph-9-0.\n",
            "Preparing to unpack .../21-cuda-nvgraph-9-0_9.0.176-1_amd64.deb ...\n",
            "Unpacking cuda-nvgraph-9-0 (9.0.176-1) ...\n",
            "Selecting previously unselected package cuda-nvgraph-dev-9-0.\n",
            "Preparing to unpack .../22-cuda-nvgraph-dev-9-0_9.0.176-1_amd64.deb ...\n",
            "Unpacking cuda-nvgraph-dev-9-0 (9.0.176-1) ...\n",
            "Selecting previously unselected package cuda-samples-9-0.\n",
            "Preparing to unpack .../23-cuda-samples-9-0_9.0.176-1_amd64.deb ...\n",
            "Unpacking cuda-samples-9-0 (9.0.176-1) ...\n",
            "Selecting previously unselected package cuda-documentation-9-0.\n",
            "Preparing to unpack .../24-cuda-documentation-9-0_9.0.176-1_amd64.deb ...\n",
            "Unpacking cuda-documentation-9-0 (9.0.176-1) ...\n",
            "Selecting previously unselected package cuda-libraries-dev-9-0.\n",
            "Preparing to unpack .../25-cuda-libraries-dev-9-0_9.0.176-1_amd64.deb ...\n",
            "Unpacking cuda-libraries-dev-9-0 (9.0.176-1) ...\n",
            "Selecting previously unselected package cuda-nvml-dev-9-0.\n",
            "Preparing to unpack .../26-cuda-nvml-dev-9-0_9.0.176-1_amd64.deb ...\n",
            "Unpacking cuda-nvml-dev-9-0 (9.0.176-1) ...\n",
            "Selecting previously unselected package cuda-visual-tools-9-0.\n",
            "Preparing to unpack .../27-cuda-visual-tools-9-0_9.0.176-1_amd64.deb ...\n",
            "Unpacking cuda-visual-tools-9-0 (9.0.176-1) ...\n",
            "Selecting previously unselected package cuda-toolkit-9-0.\n",
            "Preparing to unpack .../28-cuda-toolkit-9-0_9.0.176-1_amd64.deb ...\n",
            "Unpacking cuda-toolkit-9-0 (9.0.176-1) ...\n",
            "Selecting previously unselected package cuda-libraries-9-0.\n",
            "Preparing to unpack .../29-cuda-libraries-9-0_9.0.176-1_amd64.deb ...\n",
            "Unpacking cuda-libraries-9-0 (9.0.176-1) ...\n",
            "Selecting previously unselected package cuda-runtime-9-0.\n",
            "Preparing to unpack .../30-cuda-runtime-9-0_9.0.176-1_amd64.deb ...\n",
            "Unpacking cuda-runtime-9-0 (9.0.176-1) ...\n",
            "Selecting previously unselected package cuda-demo-suite-9-0.\n",
            "Preparing to unpack .../31-cuda-demo-suite-9-0_9.0.176-1_amd64.deb ...\n",
            "Unpacking cuda-demo-suite-9-0 (9.0.176-1) ...\n",
            "Selecting previously unselected package cuda-9-0.\n",
            "Preparing to unpack .../32-cuda-9-0_9.0.176-1_amd64.deb ...\n",
            "Unpacking cuda-9-0 (9.0.176-1) ...\n",
            "Selecting previously unselected package cuda.\n",
            "Preparing to unpack .../33-cuda_9.0.176-1_amd64.deb ...\n",
            "Unpacking cuda (9.0.176-1) ...\n",
            "Setting up cuda-license-9-0 (9.0.176-1) ...\n",
            "*** LICENSE AGREEMENT ***\n",
            "By using this software you agree to fully comply with the terms and \n",
            "conditions of the EULA (End User License Agreement). The EULA is located\n",
            "at /usr/local/cuda-9.0/doc/EULA.txt. The EULA can also be found at\n",
            "http://docs.nvidia.com/cuda/eula/index.html. If you do not agree to the\n",
            "terms and conditions of the EULA, do not use the software.\n",
            "\n",
            "Setting up cuda-cusparse-9-0 (9.0.176-1) ...\n",
            "Setting up cuda-cudart-9-0 (9.0.176-1) ...\n",
            "Setting up cuda-nvrtc-9-0 (9.0.176-1) ...\n",
            "Setting up cuda-cusparse-dev-9-0 (9.0.176-1) ...\n",
            "Setting up cuda-cufft-9-0 (9.0.176-1) ...\n",
            "Setting up cuda-cusolver-9-0 (9.0.176-1) ...\n",
            "Setting up cuda-nvml-dev-9-0 (9.0.176-1) ...\n",
            "Setting up cuda-npp-9-0 (9.0.176-1) ...\n",
            "Setting up cuda-cusolver-dev-9-0 (9.0.176-1) ...\n",
            "Setting up cuda-misc-headers-9-0 (9.0.176-1) ...\n",
            "Setting up cuda-cublas-9-0 (9.0.176-1) ...\n",
            "Setting up cuda-nvrtc-dev-9-0 (9.0.176-1) ...\n",
            "Setting up cuda-driver-dev-9-0 (9.0.176-1) ...\n",
            "Setting up cuda-curand-9-0 (9.0.176-1) ...\n",
            "Setting up cuda-nvgraph-9-0 (9.0.176-1) ...\n",
            "Setting up cuda-core-9-0 (9.0.176-1) ...\n",
            "Setting up cuda-libraries-9-0 (9.0.176-1) ...\n",
            "Setting up cuda-runtime-9-0 (9.0.176-1) ...\n",
            "Setting up cuda-cudart-dev-9-0 (9.0.176-1) ...\n",
            "Setting up cuda-cufft-dev-9-0 (9.0.176-1) ...\n",
            "Setting up cuda-npp-dev-9-0 (9.0.176-1) ...\n",
            "Setting up cuda-curand-dev-9-0 (9.0.176-1) ...\n",
            "Setting up cuda-cublas-dev-9-0 (9.0.176-1) ...\n",
            "Setting up cuda-nvgraph-dev-9-0 (9.0.176-1) ...\n",
            "Setting up cuda-command-line-tools-9-0 (9.0.176-1) ...\n",
            "Setting up cuda-demo-suite-9-0 (9.0.176-1) ...\n",
            "Setting up cuda-visual-tools-9-0 (9.0.176-1) ...\n",
            "Setting up cuda-samples-9-0 (9.0.176-1) ...\n",
            "Setting up cuda-libraries-dev-9-0 (9.0.176-1) ...\n",
            "Setting up cuda-documentation-9-0 (9.0.176-1) ...\n",
            "Setting up cuda-toolkit-9-0 (9.0.176-1) ...\n",
            "Setting up cuda-9-0 (9.0.176-1) ...\n",
            "Setting up cuda (9.0.176-1) ...\n",
            "Processing triggers for libc-bin (2.27-3ubuntu1.4) ...\n",
            "/sbin/ldconfig.real: /usr/local/lib/python3.7/dist-packages/ideep4py/lib/libmkldnn.so.0 is not a symbolic link\n",
            "\n"
          ],
          "name": "stdout"
        }
      ]
    },
    {
      "cell_type": "code",
      "metadata": {
        "colab": {
          "base_uri": "https://localhost:8080/"
        },
        "id": "NT_aceLcay4s",
        "outputId": "5243b13f-afa5-4cc8-8220-8eeb705f4647"
      },
      "source": [
        "!ls /usr/lib/jvm/java-8-openjdk-amd64"
      ],
      "execution_count": 6,
      "outputs": [
        {
          "output_type": "stream",
          "text": [
            "ASSEMBLY_EXCEPTION  docs     jre  man\t   THIRD_PARTY_README\n",
            "bin\t\t    include  lib  src.zip\n"
          ],
          "name": "stdout"
        }
      ]
    },
    {
      "cell_type": "code",
      "metadata": {
        "id": "omEiOP0kcF5Q"
      },
      "source": [
        "!pip install -q findspark"
      ],
      "execution_count": 7,
      "outputs": []
    },
    {
      "cell_type": "code",
      "metadata": {
        "id": "1lBU4p8CbiPS"
      },
      "source": [
        "import os\r\n",
        "# Задаем окружение\r\n",
        "# Указываем переменные окружения для findspark\r\n",
        "os.environ[\"JAVA_HOME\"] = \"/usr/lib/jvm/java-8-openjdk-amd64\"\r\n",
        "os.environ[\"SPARK_HOME\"] = \"spark-2.4.7-bin-hadoop2.7\""
      ],
      "execution_count": 8,
      "outputs": []
    },
    {
      "cell_type": "code",
      "metadata": {
        "id": "i6UUnDKVbiSC"
      },
      "source": [
        "# Инциализируем pyspark из директории с библиотекой\r\n",
        "import findspark\r\n",
        "findspark.init() "
      ],
      "execution_count": 9,
      "outputs": []
    },
    {
      "cell_type": "code",
      "metadata": {
        "id": "PEXMbAMebiU_"
      },
      "source": [
        "# Запускаем Spark-сессию\r\n",
        "from pyspark.sql import SparkSession\r\n",
        "spark = SparkSession.builder.master('local[*]').getOrCreate()"
      ],
      "execution_count": 10,
      "outputs": []
    },
    {
      "cell_type": "code",
      "metadata": {
        "colab": {
          "base_uri": "https://localhost:8080/"
        },
        "id": "zguEkLY0biXu",
        "outputId": "bcc719bd-9dce-4a51-b3f4-aa8bf40e8931"
      },
      "source": [
        "# Подгружаем google-диск\r\n",
        "from google.colab import drive \r\n",
        "drive.mount('/content/drive/')\r\n"
      ],
      "execution_count": 11,
      "outputs": [
        {
          "output_type": "stream",
          "text": [
            "Mounted at /content/drive/\n"
          ],
          "name": "stdout"
        }
      ]
    },
    {
      "cell_type": "code",
      "metadata": {
        "colab": {
          "base_uri": "https://localhost:8080/",
          "height": 407
        },
        "id": "ggstrzwPbiaj",
        "outputId": "3fafcd86-a61d-4bbe-c1a6-67c53101ac36"
      },
      "source": [
        "import pandas as pd\r\n",
        "# Загружаем датасет с диска\r\n",
        "df = pd.read_csv('/content/drive/My Drive/datasets/test_magnit/data_classification_for_task.csv')\r\n",
        "display(df)"
      ],
      "execution_count": 15,
      "outputs": [
        {
          "output_type": "display_data",
          "data": {
            "text/html": [
              "<div>\n",
              "<style scoped>\n",
              "    .dataframe tbody tr th:only-of-type {\n",
              "        vertical-align: middle;\n",
              "    }\n",
              "\n",
              "    .dataframe tbody tr th {\n",
              "        vertical-align: top;\n",
              "    }\n",
              "\n",
              "    .dataframe thead th {\n",
              "        text-align: right;\n",
              "    }\n",
              "</style>\n",
              "<table border=\"1\" class=\"dataframe\">\n",
              "  <thead>\n",
              "    <tr style=\"text-align: right;\">\n",
              "      <th></th>\n",
              "      <th>AGE</th>\n",
              "      <th>GENDER</th>\n",
              "      <th>FEATURE_1</th>\n",
              "      <th>FEATURE_2</th>\n",
              "      <th>FEATURE_3</th>\n",
              "      <th>FEATURE_4</th>\n",
              "      <th>FEATURE_5</th>\n",
              "      <th>FEATURE_6</th>\n",
              "      <th>FEATURE_7</th>\n",
              "      <th>FEATURE_8</th>\n",
              "      <th>FEATURE_9</th>\n",
              "      <th>FEATURE_10</th>\n",
              "      <th>FEATURE_11</th>\n",
              "      <th>TARGET</th>\n",
              "    </tr>\n",
              "  </thead>\n",
              "  <tbody>\n",
              "    <tr>\n",
              "      <th>0</th>\n",
              "      <td>63</td>\n",
              "      <td>1</td>\n",
              "      <td>3</td>\n",
              "      <td>145</td>\n",
              "      <td>233</td>\n",
              "      <td>1</td>\n",
              "      <td>0</td>\n",
              "      <td>150</td>\n",
              "      <td>0</td>\n",
              "      <td>2.3</td>\n",
              "      <td>0</td>\n",
              "      <td>0</td>\n",
              "      <td>1</td>\n",
              "      <td>1</td>\n",
              "    </tr>\n",
              "    <tr>\n",
              "      <th>1</th>\n",
              "      <td>37</td>\n",
              "      <td>1</td>\n",
              "      <td>2</td>\n",
              "      <td>130</td>\n",
              "      <td>250</td>\n",
              "      <td>0</td>\n",
              "      <td>1</td>\n",
              "      <td>187</td>\n",
              "      <td>0</td>\n",
              "      <td>3.5</td>\n",
              "      <td>0</td>\n",
              "      <td>0</td>\n",
              "      <td>2</td>\n",
              "      <td>1</td>\n",
              "    </tr>\n",
              "    <tr>\n",
              "      <th>2</th>\n",
              "      <td>41</td>\n",
              "      <td>0</td>\n",
              "      <td>1</td>\n",
              "      <td>130</td>\n",
              "      <td>204</td>\n",
              "      <td>0</td>\n",
              "      <td>0</td>\n",
              "      <td>172</td>\n",
              "      <td>0</td>\n",
              "      <td>1.4</td>\n",
              "      <td>2</td>\n",
              "      <td>0</td>\n",
              "      <td>2</td>\n",
              "      <td>1</td>\n",
              "    </tr>\n",
              "    <tr>\n",
              "      <th>3</th>\n",
              "      <td>56</td>\n",
              "      <td>1</td>\n",
              "      <td>1</td>\n",
              "      <td>120</td>\n",
              "      <td>236</td>\n",
              "      <td>0</td>\n",
              "      <td>1</td>\n",
              "      <td>178</td>\n",
              "      <td>0</td>\n",
              "      <td>0.8</td>\n",
              "      <td>2</td>\n",
              "      <td>0</td>\n",
              "      <td>2</td>\n",
              "      <td>1</td>\n",
              "    </tr>\n",
              "    <tr>\n",
              "      <th>4</th>\n",
              "      <td>57</td>\n",
              "      <td>0</td>\n",
              "      <td>0</td>\n",
              "      <td>120</td>\n",
              "      <td>354</td>\n",
              "      <td>0</td>\n",
              "      <td>1</td>\n",
              "      <td>163</td>\n",
              "      <td>1</td>\n",
              "      <td>0.6</td>\n",
              "      <td>2</td>\n",
              "      <td>0</td>\n",
              "      <td>2</td>\n",
              "      <td>1</td>\n",
              "    </tr>\n",
              "    <tr>\n",
              "      <th>...</th>\n",
              "      <td>...</td>\n",
              "      <td>...</td>\n",
              "      <td>...</td>\n",
              "      <td>...</td>\n",
              "      <td>...</td>\n",
              "      <td>...</td>\n",
              "      <td>...</td>\n",
              "      <td>...</td>\n",
              "      <td>...</td>\n",
              "      <td>...</td>\n",
              "      <td>...</td>\n",
              "      <td>...</td>\n",
              "      <td>...</td>\n",
              "      <td>...</td>\n",
              "    </tr>\n",
              "    <tr>\n",
              "      <th>298</th>\n",
              "      <td>57</td>\n",
              "      <td>0</td>\n",
              "      <td>0</td>\n",
              "      <td>140</td>\n",
              "      <td>241</td>\n",
              "      <td>0</td>\n",
              "      <td>1</td>\n",
              "      <td>123</td>\n",
              "      <td>1</td>\n",
              "      <td>0.2</td>\n",
              "      <td>1</td>\n",
              "      <td>0</td>\n",
              "      <td>3</td>\n",
              "      <td>0</td>\n",
              "    </tr>\n",
              "    <tr>\n",
              "      <th>299</th>\n",
              "      <td>45</td>\n",
              "      <td>1</td>\n",
              "      <td>3</td>\n",
              "      <td>110</td>\n",
              "      <td>264</td>\n",
              "      <td>0</td>\n",
              "      <td>1</td>\n",
              "      <td>132</td>\n",
              "      <td>0</td>\n",
              "      <td>1.2</td>\n",
              "      <td>1</td>\n",
              "      <td>0</td>\n",
              "      <td>3</td>\n",
              "      <td>0</td>\n",
              "    </tr>\n",
              "    <tr>\n",
              "      <th>300</th>\n",
              "      <td>68</td>\n",
              "      <td>1</td>\n",
              "      <td>0</td>\n",
              "      <td>144</td>\n",
              "      <td>193</td>\n",
              "      <td>1</td>\n",
              "      <td>1</td>\n",
              "      <td>141</td>\n",
              "      <td>0</td>\n",
              "      <td>3.4</td>\n",
              "      <td>1</td>\n",
              "      <td>2</td>\n",
              "      <td>3</td>\n",
              "      <td>0</td>\n",
              "    </tr>\n",
              "    <tr>\n",
              "      <th>301</th>\n",
              "      <td>57</td>\n",
              "      <td>1</td>\n",
              "      <td>0</td>\n",
              "      <td>130</td>\n",
              "      <td>131</td>\n",
              "      <td>0</td>\n",
              "      <td>1</td>\n",
              "      <td>115</td>\n",
              "      <td>1</td>\n",
              "      <td>1.2</td>\n",
              "      <td>1</td>\n",
              "      <td>1</td>\n",
              "      <td>3</td>\n",
              "      <td>0</td>\n",
              "    </tr>\n",
              "    <tr>\n",
              "      <th>302</th>\n",
              "      <td>57</td>\n",
              "      <td>0</td>\n",
              "      <td>1</td>\n",
              "      <td>130</td>\n",
              "      <td>236</td>\n",
              "      <td>0</td>\n",
              "      <td>0</td>\n",
              "      <td>174</td>\n",
              "      <td>0</td>\n",
              "      <td>0.0</td>\n",
              "      <td>1</td>\n",
              "      <td>1</td>\n",
              "      <td>2</td>\n",
              "      <td>0</td>\n",
              "    </tr>\n",
              "  </tbody>\n",
              "</table>\n",
              "<p>303 rows × 14 columns</p>\n",
              "</div>"
            ],
            "text/plain": [
              "     AGE  GENDER  FEATURE_1  ...  FEATURE_10  FEATURE_11  TARGET\n",
              "0     63       1          3  ...           0           1       1\n",
              "1     37       1          2  ...           0           2       1\n",
              "2     41       0          1  ...           0           2       1\n",
              "3     56       1          1  ...           0           2       1\n",
              "4     57       0          0  ...           0           2       1\n",
              "..   ...     ...        ...  ...         ...         ...     ...\n",
              "298   57       0          0  ...           0           3       0\n",
              "299   45       1          3  ...           0           3       0\n",
              "300   68       1          0  ...           2           3       0\n",
              "301   57       1          0  ...           1           3       0\n",
              "302   57       0          1  ...           1           2       0\n",
              "\n",
              "[303 rows x 14 columns]"
            ]
          },
          "metadata": {
            "tags": []
          }
        }
      ]
    },
    {
      "cell_type": "code",
      "metadata": {
        "colab": {
          "base_uri": "https://localhost:8080/"
        },
        "id": "QRyoCTheay7m",
        "outputId": "261fe634-5ea1-4c70-c1cc-a4f4bef2af37"
      },
      "source": [
        "df.info()"
      ],
      "execution_count": 16,
      "outputs": [
        {
          "output_type": "stream",
          "text": [
            "<class 'pandas.core.frame.DataFrame'>\n",
            "RangeIndex: 303 entries, 0 to 302\n",
            "Data columns (total 14 columns):\n",
            " #   Column      Non-Null Count  Dtype  \n",
            "---  ------      --------------  -----  \n",
            " 0   AGE         303 non-null    int64  \n",
            " 1   GENDER      303 non-null    int64  \n",
            " 2   FEATURE_1   303 non-null    int64  \n",
            " 3   FEATURE_2   303 non-null    int64  \n",
            " 4   FEATURE_3   303 non-null    int64  \n",
            " 5   FEATURE_4   303 non-null    int64  \n",
            " 6   FEATURE_5   303 non-null    int64  \n",
            " 7   FEATURE_6   303 non-null    int64  \n",
            " 8   FEATURE_7   303 non-null    int64  \n",
            " 9   FEATURE_8   303 non-null    float64\n",
            " 10  FEATURE_9   303 non-null    int64  \n",
            " 11  FEATURE_10  303 non-null    int64  \n",
            " 12  FEATURE_11  303 non-null    int64  \n",
            " 13  TARGET      303 non-null    int64  \n",
            "dtypes: float64(1), int64(13)\n",
            "memory usage: 33.3 KB\n"
          ],
          "name": "stdout"
        }
      ]
    },
    {
      "cell_type": "code",
      "metadata": {
        "colab": {
          "base_uri": "https://localhost:8080/"
        },
        "id": "2nuY0gQGYR3e",
        "outputId": "078b7c3e-b523-4023-9856-59b63721b70a"
      },
      "source": [
        "# Преобразуем его в датафрейм spark\r\n",
        "data = spark.createDataFrame(df)\r\n",
        "data.show()"
      ],
      "execution_count": 17,
      "outputs": [
        {
          "output_type": "stream",
          "text": [
            "+---+------+---------+---------+---------+---------+---------+---------+---------+---------+---------+----------+----------+------+\n",
            "|AGE|GENDER|FEATURE_1|FEATURE_2|FEATURE_3|FEATURE_4|FEATURE_5|FEATURE_6|FEATURE_7|FEATURE_8|FEATURE_9|FEATURE_10|FEATURE_11|TARGET|\n",
            "+---+------+---------+---------+---------+---------+---------+---------+---------+---------+---------+----------+----------+------+\n",
            "| 63|     1|        3|      145|      233|        1|        0|      150|        0|      2.3|        0|         0|         1|     1|\n",
            "| 37|     1|        2|      130|      250|        0|        1|      187|        0|      3.5|        0|         0|         2|     1|\n",
            "| 41|     0|        1|      130|      204|        0|        0|      172|        0|      1.4|        2|         0|         2|     1|\n",
            "| 56|     1|        1|      120|      236|        0|        1|      178|        0|      0.8|        2|         0|         2|     1|\n",
            "| 57|     0|        0|      120|      354|        0|        1|      163|        1|      0.6|        2|         0|         2|     1|\n",
            "| 57|     1|        0|      140|      192|        0|        1|      148|        0|      0.4|        1|         0|         1|     1|\n",
            "| 56|     0|        1|      140|      294|        0|        0|      153|        0|      1.3|        1|         0|         2|     1|\n",
            "| 44|     1|        1|      120|      263|        0|        1|      173|        0|      0.0|        2|         0|         3|     1|\n",
            "| 52|     1|        2|      172|      199|        1|        1|      162|        0|      0.5|        2|         0|         3|     1|\n",
            "| 57|     1|        2|      150|      168|        0|        1|      174|        0|      1.6|        2|         0|         2|     1|\n",
            "| 54|     1|        0|      140|      239|        0|        1|      160|        0|      1.2|        2|         0|         2|     1|\n",
            "| 48|     0|        2|      130|      275|        0|        1|      139|        0|      0.2|        2|         0|         2|     1|\n",
            "| 49|     1|        1|      130|      266|        0|        1|      171|        0|      0.6|        2|         0|         2|     1|\n",
            "| 64|     1|        3|      110|      211|        0|        0|      144|        1|      1.8|        1|         0|         2|     1|\n",
            "| 58|     0|        3|      150|      283|        1|        0|      162|        0|      1.0|        2|         0|         2|     1|\n",
            "| 50|     0|        2|      120|      219|        0|        1|      158|        0|      1.6|        1|         0|         2|     1|\n",
            "| 58|     0|        2|      120|      340|        0|        1|      172|        0|      0.0|        2|         0|         2|     1|\n",
            "| 66|     0|        3|      150|      226|        0|        1|      114|        0|      2.6|        0|         0|         2|     1|\n",
            "| 43|     1|        0|      150|      247|        0|        1|      171|        0|      1.5|        2|         0|         2|     1|\n",
            "| 69|     0|        3|      140|      239|        0|        1|      151|        0|      1.8|        2|         2|         2|     1|\n",
            "+---+------+---------+---------+---------+---------+---------+---------+---------+---------+---------+----------+----------+------+\n",
            "only showing top 20 rows\n",
            "\n"
          ],
          "name": "stdout"
        }
      ]
    },
    {
      "cell_type": "code",
      "metadata": {
        "colab": {
          "base_uri": "https://localhost:8080/"
        },
        "id": "Z-kvbsyRYR6i",
        "outputId": "4a504a23-b023-44dd-a8e8-b454a3fda5d6"
      },
      "source": [
        "from pyspark.ml.feature import IndexToString, StringIndexer, VectorIndexer, VectorAssembler\r\n",
        "from pyspark.ml.evaluation import MulticlassClassificationEvaluator\r\n",
        "\r\n",
        "# Объединяем все числовые переменные в одну векторную колонку\r\n",
        "assembler = VectorAssembler(\r\n",
        "    inputCols=['AGE', 'GENDER', 'FEATURE_1', 'FEATURE_2', 'FEATURE_3', 'FEATURE_4', 'FEATURE_5', 'FEATURE_6', 'FEATURE_7', 'FEATURE_8', 'FEATURE_9', 'FEATURE_10', 'FEATURE_11'],\r\n",
        "    outputCol = 'Attributes') # создаем объект, преобразующий ряды и столбы в характеристические вектора\r\n",
        "output = assembler.transform(data) # преобразуем \r\n",
        "output"
      ],
      "execution_count": 19,
      "outputs": [
        {
          "output_type": "execute_result",
          "data": {
            "text/plain": [
              "DataFrame[AGE: bigint, GENDER: bigint, FEATURE_1: bigint, FEATURE_2: bigint, FEATURE_3: bigint, FEATURE_4: bigint, FEATURE_5: bigint, FEATURE_6: bigint, FEATURE_7: bigint, FEATURE_8: double, FEATURE_9: bigint, FEATURE_10: bigint, FEATURE_11: bigint, TARGET: bigint, Attributes: vector]"
            ]
          },
          "metadata": {
            "tags": []
          },
          "execution_count": 19
        }
      ]
    },
    {
      "cell_type": "code",
      "metadata": {
        "colab": {
          "base_uri": "https://localhost:8080/"
        },
        "id": "1UTrY4_9YR9b",
        "outputId": "7f9d57d0-c741-4382-a125-ed1230f5caff"
      },
      "source": [
        "# Выбираем X (созданная нами векторная колонка Attributes) и Y(колонка TARGET)\r\n",
        "finalized_data = output.select(\"Attributes\", \"TARGET\")\r\n",
        "finalized_data.show(truncate=False)"
      ],
      "execution_count": 20,
      "outputs": [
        {
          "output_type": "stream",
          "text": [
            "+------------------------------------------------------------+------+\n",
            "|Attributes                                                  |TARGET|\n",
            "+------------------------------------------------------------+------+\n",
            "|[63.0,1.0,3.0,145.0,233.0,1.0,0.0,150.0,0.0,2.3,0.0,0.0,1.0]|1     |\n",
            "|[37.0,1.0,2.0,130.0,250.0,0.0,1.0,187.0,0.0,3.5,0.0,0.0,2.0]|1     |\n",
            "|[41.0,0.0,1.0,130.0,204.0,0.0,0.0,172.0,0.0,1.4,2.0,0.0,2.0]|1     |\n",
            "|[56.0,1.0,1.0,120.0,236.0,0.0,1.0,178.0,0.0,0.8,2.0,0.0,2.0]|1     |\n",
            "|[57.0,0.0,0.0,120.0,354.0,0.0,1.0,163.0,1.0,0.6,2.0,0.0,2.0]|1     |\n",
            "|[57.0,1.0,0.0,140.0,192.0,0.0,1.0,148.0,0.0,0.4,1.0,0.0,1.0]|1     |\n",
            "|[56.0,0.0,1.0,140.0,294.0,0.0,0.0,153.0,0.0,1.3,1.0,0.0,2.0]|1     |\n",
            "|[44.0,1.0,1.0,120.0,263.0,0.0,1.0,173.0,0.0,0.0,2.0,0.0,3.0]|1     |\n",
            "|[52.0,1.0,2.0,172.0,199.0,1.0,1.0,162.0,0.0,0.5,2.0,0.0,3.0]|1     |\n",
            "|[57.0,1.0,2.0,150.0,168.0,0.0,1.0,174.0,0.0,1.6,2.0,0.0,2.0]|1     |\n",
            "|[54.0,1.0,0.0,140.0,239.0,0.0,1.0,160.0,0.0,1.2,2.0,0.0,2.0]|1     |\n",
            "|[48.0,0.0,2.0,130.0,275.0,0.0,1.0,139.0,0.0,0.2,2.0,0.0,2.0]|1     |\n",
            "|[49.0,1.0,1.0,130.0,266.0,0.0,1.0,171.0,0.0,0.6,2.0,0.0,2.0]|1     |\n",
            "|[64.0,1.0,3.0,110.0,211.0,0.0,0.0,144.0,1.0,1.8,1.0,0.0,2.0]|1     |\n",
            "|[58.0,0.0,3.0,150.0,283.0,1.0,0.0,162.0,0.0,1.0,2.0,0.0,2.0]|1     |\n",
            "|[50.0,0.0,2.0,120.0,219.0,0.0,1.0,158.0,0.0,1.6,1.0,0.0,2.0]|1     |\n",
            "|[58.0,0.0,2.0,120.0,340.0,0.0,1.0,172.0,0.0,0.0,2.0,0.0,2.0]|1     |\n",
            "|[66.0,0.0,3.0,150.0,226.0,0.0,1.0,114.0,0.0,2.6,0.0,0.0,2.0]|1     |\n",
            "|[43.0,1.0,0.0,150.0,247.0,0.0,1.0,171.0,0.0,1.5,2.0,0.0,2.0]|1     |\n",
            "|[69.0,0.0,3.0,140.0,239.0,0.0,1.0,151.0,0.0,1.8,2.0,2.0,2.0]|1     |\n",
            "+------------------------------------------------------------+------+\n",
            "only showing top 20 rows\n",
            "\n"
          ],
          "name": "stdout"
        }
      ]
    },
    {
      "cell_type": "code",
      "metadata": {
        "id": "c2q0y3cRYSAT"
      },
      "source": [
        "# Делим данные на train/test 80:20\r\n",
        "train_data, test_data = finalized_data.randomSplit([0.8,0.2])"
      ],
      "execution_count": 23,
      "outputs": []
    },
    {
      "cell_type": "code",
      "metadata": {
        "id": "bmFX9eD_Zw5U"
      },
      "source": [
        "# Импортируем метод RandomForestClassifier\r\n",
        "from pyspark.ml.classification import RandomForestClassifier \r\n",
        "\r\n",
        "# Указываем по каким параметрам будет классификация\r\n",
        "RandomForest = RandomForestClassifier(featuresCol = 'Attributes', labelCol = 'TARGET')\r\n",
        "\r\n",
        "# Запускаем обучение\r\n",
        "RandomForest1 = RandomForest.fit(train_data)"
      ],
      "execution_count": 26,
      "outputs": []
    },
    {
      "cell_type": "code",
      "metadata": {
        "colab": {
          "base_uri": "https://localhost:8080/"
        },
        "id": "WlLUTWD3ZxGC",
        "outputId": "46009fa8-48d6-48c6-bb75-1bdf316f9eaf"
      },
      "source": [
        "from pyspark.ml import Pipeline\r\n",
        "\r\n",
        "# Создаем пайплайн(оценщик)\r\n",
        "pipeline = Pipeline(stages=[RandomForest1])\r\n",
        "\r\n",
        "# Обучаем модель\r\n",
        "model = pipeline.fit(train_data)\r\n",
        "\r\n",
        "# Делаем предсказание тестовых данных\r\n",
        "predictions = model.transform(test_data)\r\n",
        "\r\n",
        "# Выведем первые 20 значений\r\n",
        "predictions.show(200, truncate=False)\r\n",
        "\r\n",
        "from pyspark.ml.evaluation import MulticlassClassificationEvaluator\r\n",
        "\r\n",
        "# Посчитаем точность модели\r\n",
        "evaluator = MulticlassClassificationEvaluator(\r\n",
        "    labelCol=\"TARGET\", predictionCol=\"prediction\", metricName='accuracy')\r\n",
        "accuracy = evaluator.evaluate(predictions)\r\n",
        "print(\"Точность = %g\" % accuracy)"
      ],
      "execution_count": 27,
      "outputs": [
        {
          "output_type": "stream",
          "text": [
            "+------------------------------------------------------------+------+---------------------------------------+-----------------------------------------+----------+\n",
            "|Attributes                                                  |TARGET|rawPrediction                          |probability                              |prediction|\n",
            "+------------------------------------------------------------+------+---------------------------------------+-----------------------------------------+----------+\n",
            "|(13,[0,1,3,4,7,10,12],[48.0,1.0,122.0,222.0,186.0,2.0,2.0]) |1     |[2.1593652425145495,17.84063475748545] |[0.10796826212572748,0.8920317378742725] |1.0       |\n",
            "|(13,[0,2,3,4,7,10],[53.0,2.0,128.0,216.0,115.0,2.0])        |1     |[4.541514936676227,15.458485063323774] |[0.22707574683381132,0.7729242531661887] |1.0       |\n",
            "|(13,[0,2,3,4,7,10,12],[54.0,2.0,108.0,267.0,167.0,2.0,2.0]) |1     |[0.9103520581504178,19.08964794184958] |[0.04551760290752089,0.9544823970924791] |1.0       |\n",
            "|(13,[0,3,4,6,7,10,12],[49.0,130.0,269.0,1.0,163.0,2.0,2.0]) |1     |[2.2156839238332307,17.784316076166768]|[0.11078419619166154,0.8892158038083384] |1.0       |\n",
            "|(13,[0,3,4,7,9,10,12],[53.0,130.0,264.0,143.0,0.4,1.0,2.0]) |1     |[3.511204194970371,16.488795805029632] |[0.17556020974851852,0.8244397902514814] |1.0       |\n",
            "|[37.0,1.0,2.0,130.0,250.0,0.0,1.0,187.0,0.0,3.5,0.0,0.0,2.0]|1     |[12.06203710677613,7.937962893223871]  |[0.6031018553388064,0.39689814466119355] |0.0       |\n",
            "|[40.0,1.0,3.0,140.0,199.0,0.0,1.0,178.0,1.0,1.4,2.0,0.0,3.0]|1     |[9.82957164601,10.170428353989998]     |[0.4914785823005,0.5085214176994999]     |1.0       |\n",
            "|[43.0,1.0,0.0,115.0,303.0,0.0,1.0,181.0,0.0,1.2,1.0,0.0,2.0]|1     |[4.841378057285986,15.158621942714017] |[0.24206890286429927,0.7579310971357007] |1.0       |\n",
            "|[44.0,0.0,2.0,118.0,242.0,0.0,1.0,149.0,0.0,0.3,1.0,1.0,2.0]|1     |[8.273840138107074,11.72615986189293]  |[0.4136920069053536,0.5863079930946463]  |1.0       |\n",
            "|[46.0,0.0,2.0,142.0,177.0,0.0,0.0,160.0,1.0,1.4,0.0,0.0,2.0]|1     |[6.075779397170195,13.924220602829806] |[0.3037889698585098,0.6962110301414903]  |1.0       |\n",
            "|[48.0,1.0,2.0,124.0,255.0,1.0,1.0,175.0,0.0,0.0,2.0,2.0,2.0]|1     |[4.499264874438259,15.500735125561743] |[0.22496324372191295,0.7750367562780871] |1.0       |\n",
            "|[50.0,1.0,2.0,129.0,196.0,0.0,1.0,163.0,0.0,0.0,2.0,0.0,2.0]|1     |[1.1447563372995817,18.855243662700417]|[0.057237816864979085,0.9427621831350208]|1.0       |\n",
            "|[51.0,0.0,2.0,130.0,256.0,0.0,0.0,149.0,0.0,0.5,2.0,0.0,2.0]|1     |[1.7275408934537422,18.272459106546258]|[0.08637704467268711,0.9136229553273129] |1.0       |\n",
            "|[51.0,1.0,2.0,110.0,175.0,0.0,1.0,123.0,0.0,0.6,2.0,0.0,2.0]|1     |[2.075111302162478,17.92488869783752]  |[0.10375556510812389,0.896244434891876]  |1.0       |\n",
            "|[51.0,1.0,2.0,125.0,245.0,1.0,0.0,166.0,0.0,2.4,1.0,0.0,2.0]|1     |[14.20719839709871,5.792801602901289]  |[0.7103599198549355,0.2896400801450644]  |0.0       |\n",
            "|[52.0,1.0,3.0,118.0,186.0,0.0,0.0,190.0,0.0,0.0,1.0,0.0,1.0]|1     |[2.3751170193320212,17.624882980667973]|[0.1187558509666011,0.881244149033399]   |1.0       |\n",
            "|[54.0,1.0,0.0,140.0,239.0,0.0,1.0,160.0,0.0,1.2,2.0,0.0,2.0]|1     |[4.671198545439806,15.328801454560192] |[0.2335599272719903,0.7664400727280096]  |1.0       |\n",
            "|[56.0,1.0,1.0,120.0,236.0,0.0,1.0,178.0,0.0,0.8,2.0,0.0,2.0]|1     |[1.8345415130002498,18.165458486999754]|[0.09172707565001248,0.9082729243499875] |1.0       |\n",
            "|[56.0,1.0,3.0,120.0,193.0,0.0,0.0,162.0,0.0,1.9,1.0,0.0,3.0]|1     |[11.597748065178152,8.402251934821846] |[0.5798874032589076,0.4201125967410923]  |0.0       |\n",
            "|[58.0,0.0,3.0,150.0,283.0,1.0,0.0,162.0,0.0,1.0,2.0,0.0,2.0]|1     |[2.8739323050639975,17.126067694936]   |[0.14369661525319988,0.8563033847468]    |1.0       |\n",
            "|[59.0,1.0,1.0,140.0,221.0,0.0,1.0,164.0,1.0,0.0,2.0,0.0,2.0]|1     |[3.2501747059818014,16.749825294018198]|[0.16250873529909007,0.8374912647009098] |1.0       |\n",
            "|[59.0,1.0,3.0,178.0,270.0,0.0,0.0,145.0,0.0,4.2,0.0,0.0,3.0]|1     |[17.137376864621448,2.8626231353785534]|[0.8568688432310724,0.14313115676892768] |0.0       |\n",
            "|[63.0,0.0,1.0,140.0,195.0,0.0,1.0,179.0,0.0,0.0,2.0,2.0,2.0]|1     |[5.074648262979542,14.92535173702046]  |[0.2537324131489771,0.746267586851023]   |1.0       |\n",
            "|[63.0,1.0,3.0,145.0,233.0,1.0,0.0,150.0,0.0,2.3,0.0,0.0,1.0]|1     |[13.941529383014204,6.0584706169857965]|[0.6970764691507102,0.3029235308492898]  |0.0       |\n",
            "|[65.0,0.0,2.0,140.0,417.0,1.0,0.0,157.0,0.0,0.8,2.0,1.0,2.0]|1     |[5.067762060432963,14.932237939567038] |[0.25338810302164816,0.746611896978352]  |1.0       |\n",
            "|[66.0,1.0,0.0,160.0,228.0,0.0,0.0,138.0,0.0,2.3,2.0,0.0,1.0]|1     |[14.823527037933818,5.176472962066183] |[0.741176351896691,0.25882364810330916]  |0.0       |\n",
            "|[67.0,0.0,0.0,106.0,223.0,0.0,1.0,142.0,0.0,0.3,2.0,2.0,2.0]|1     |[6.975823793065174,13.024176206934829] |[0.3487911896532586,0.6512088103467414]  |1.0       |\n",
            "|[67.0,0.0,2.0,115.0,564.0,0.0,0.0,160.0,0.0,1.6,1.0,0.0,3.0]|1     |[7.312850611904325,12.687149388095676] |[0.36564253059521623,0.6343574694047838] |1.0       |\n",
            "|[71.0,0.0,2.0,110.0,265.0,1.0,0.0,130.0,0.0,0.0,2.0,1.0,2.0]|1     |[5.957072527233817,14.042927472766184] |[0.2978536263616908,0.7021463736383092]  |1.0       |\n",
            "|(13,[0,1,3,4,7,10,12],[41.0,1.0,110.0,172.0,158.0,2.0,3.0]) |0     |[5.520949090482809,14.479050909517193] |[0.2760474545241404,0.7239525454758596]  |1.0       |\n",
            "|(13,[0,3,4,7,10,12],[61.0,130.0,330.0,169.0,2.0,2.0])       |0     |[1.5174657270171048,18.482534272982896]|[0.07587328635085525,0.9241267136491448] |1.0       |\n",
            "|[39.0,0.0,2.0,138.0,220.0,0.0,1.0,152.0,0.0,0.0,1.0,0.0,2.0]|1     |[1.922323365401968,18.07767663459803]  |[0.0961161682700984,0.9038838317299016]  |1.0       |\n",
            "|[43.0,1.0,0.0,120.0,177.0,0.0,0.0,120.0,1.0,2.5,1.0,0.0,3.0]|0     |[18.66197363411013,1.3380263658898706] |[0.9330986817055065,0.06690131829449353] |0.0       |\n",
            "|[44.0,1.0,0.0,112.0,290.0,0.0,0.0,153.0,0.0,0.0,2.0,1.0,2.0]|0     |[8.549557800405736,11.450442199594264] |[0.4274778900202868,0.5725221099797132]  |1.0       |\n",
            "|[46.0,1.0,0.0,140.0,311.0,0.0,1.0,120.0,1.0,1.8,1.0,2.0,3.0]|0     |[19.151696711927006,0.8483032880729965]|[0.9575848355963501,0.04241516440364982] |0.0       |\n",
            "|[48.0,1.0,0.0,130.0,256.0,1.0,0.0,150.0,1.0,0.0,2.0,2.0,3.0]|0     |[15.464243626743627,4.5357563732563735]|[0.7732121813371814,0.22678781866281866] |0.0       |\n",
            "|[51.0,1.0,0.0,140.0,299.0,0.0,1.0,173.0,1.0,1.6,2.0,0.0,3.0]|0     |[12.465251464854246,7.534748535145755] |[0.6232625732427123,0.3767374267572877]  |0.0       |\n",
            "|[54.0,1.0,0.0,110.0,206.0,0.0,0.0,108.0,1.0,0.0,1.0,1.0,2.0]|0     |[13.130599057804938,6.8694009421950595]|[0.656529952890247,0.34347004710975304]  |0.0       |\n",
            "|[54.0,1.0,0.0,120.0,188.0,0.0,1.0,113.0,0.0,1.4,1.0,1.0,3.0]|0     |[16.90566079030146,3.0943392096985405] |[0.845283039515073,0.15471696048492703]  |0.0       |\n",
            "|[55.0,0.0,0.0,180.0,327.0,0.0,2.0,117.0,1.0,3.4,1.0,0.0,2.0]|0     |[14.67712205195636,5.322877948043638]  |[0.733856102597818,0.2661438974021819]   |0.0       |\n",
            "|[56.0,0.0,0.0,134.0,409.0,0.0,0.0,150.0,1.0,1.9,1.0,2.0,3.0]|0     |[18.824700665351763,1.1752993346482365]|[0.9412350332675882,0.05876496673241183] |0.0       |\n",
            "|[57.0,1.0,0.0,110.0,335.0,0.0,1.0,143.0,1.0,3.0,1.0,1.0,3.0]|0     |[19.706741411799293,0.2932585882007105]|[0.9853370705899644,0.014662929410035521]|0.0       |\n",
            "|[58.0,0.0,0.0,130.0,197.0,0.0,1.0,131.0,0.0,0.6,1.0,0.0,2.0]|1     |[4.9009028286268235,15.09909717137318] |[0.24504514143134112,0.7549548585686588] |1.0       |\n",
            "|[58.0,1.0,0.0,128.0,216.0,0.0,0.0,131.0,1.0,2.2,1.0,3.0,3.0]|0     |[18.75849847826224,1.2415015217377614] |[0.937924923913112,0.06207507608688807]  |0.0       |\n",
            "|[58.0,1.0,0.0,128.0,259.0,0.0,0.0,130.0,1.0,3.0,1.0,2.0,3.0]|0     |[19.722784192547955,0.2772158074520474]|[0.9861392096273975,0.013860790372602367]|0.0       |\n",
            "|[59.0,1.0,2.0,126.0,218.0,1.0,1.0,134.0,0.0,2.2,1.0,1.0,1.0]|0     |[14.954590990720078,5.045409009279923] |[0.7477295495360039,0.25227045046399615] |0.0       |\n",
            "|[59.0,1.0,3.0,160.0,273.0,0.0,0.0,125.0,0.0,0.0,2.0,0.0,2.0]|0     |[3.9849121436205053,16.015087856379495]|[0.19924560718102527,0.8007543928189748] |1.0       |\n",
            "|[59.0,1.0,3.0,170.0,288.0,0.0,0.0,159.0,0.0,0.2,1.0,0.0,3.0]|0     |[6.85687601279247,13.143123987207531]  |[0.3428438006396235,0.6571561993603765]  |1.0       |\n",
            "|[60.0,1.0,0.0,125.0,258.0,0.0,0.0,141.0,1.0,2.8,1.0,1.0,3.0]|0     |[19.722784192547955,0.2772158074520474]|[0.9861392096273975,0.013860790372602367]|0.0       |\n",
            "|[60.0,1.0,0.0,130.0,253.0,0.0,1.0,144.0,1.0,1.4,2.0,1.0,3.0]|0     |[16.706186289932695,3.2938137100673073]|[0.8353093144966346,0.16469068550336532] |0.0       |\n",
            "|[61.0,1.0,0.0,148.0,203.0,0.0,1.0,161.0,0.0,0.0,2.0,1.0,3.0]|0     |[11.683045878804805,8.316954121195193] |[0.5841522939402403,0.4158477060597597]  |0.0       |\n",
            "|[61.0,1.0,3.0,134.0,234.0,0.0,1.0,145.0,0.0,2.6,1.0,2.0,2.0]|0     |[14.888154209110882,5.1118457908891175]|[0.7444077104555441,0.2555922895444559]  |0.0       |\n",
            "|[62.0,0.0,0.0,150.0,244.0,0.0,1.0,154.0,1.0,1.4,1.0,0.0,2.0]|0     |[7.878459562662046,12.121540437337954] |[0.3939229781331023,0.6060770218668977]  |1.0       |\n",
            "|[62.0,1.0,0.0,120.0,267.0,0.0,1.0,99.0,1.0,1.8,1.0,2.0,3.0] |0     |[19.151696711927006,0.8483032880729965]|[0.9575848355963501,0.04241516440364982] |0.0       |\n",
            "|[63.0,1.0,0.0,130.0,330.0,1.0,0.0,132.0,1.0,1.8,2.0,3.0,3.0]|0     |[17.501640835387242,2.4983591646127623]|[0.875082041769362,0.12491795823063809]  |0.0       |\n",
            "|[64.0,1.0,2.0,140.0,335.0,0.0,1.0,158.0,0.0,0.0,2.0,0.0,2.0]|0     |[1.4987759869701278,18.501224013029873]|[0.07493879934850639,0.9250612006514937] |1.0       |\n",
            "|[64.0,1.0,3.0,170.0,227.0,0.0,0.0,155.0,0.0,0.6,1.0,0.0,3.0]|1     |[6.136664851404838,13.863335148595164] |[0.3068332425702419,0.6931667574297582]  |1.0       |\n",
            "|[65.0,0.0,0.0,150.0,225.0,0.0,0.0,114.0,0.0,1.0,1.0,3.0,3.0]|0     |[16.080649231073366,3.919350768926632] |[0.8040324615536685,0.19596753844633163] |0.0       |\n",
            "|[66.0,0.0,0.0,178.0,228.0,1.0,1.0,165.0,1.0,1.0,1.0,2.0,3.0]|0     |[17.95193921627453,2.048060783725475]  |[0.8975969608137263,0.10240303918627373] |0.0       |\n",
            "|[66.0,0.0,2.0,146.0,278.0,0.0,0.0,152.0,0.0,0.0,1.0,1.0,2.0]|1     |[7.683234525686584,12.316765474313417] |[0.3841617262843292,0.6158382737156709]  |1.0       |\n",
            "|[67.0,1.0,0.0,100.0,299.0,0.0,0.0,125.0,1.0,0.9,1.0,2.0,2.0]|0     |[14.935357846375203,5.064642153624796] |[0.7467678923187602,0.25323210768123977] |0.0       |\n",
            "+------------------------------------------------------------+------+---------------------------------------+-----------------------------------------+----------+\n",
            "\n",
            "Точность = 0.786885\n"
          ],
          "name": "stdout"
        }
      ]
    },
    {
      "cell_type": "code",
      "metadata": {
        "id": "H5CCRj9paJEK"
      },
      "source": [
        ""
      ],
      "execution_count": null,
      "outputs": []
    }
  ]
}