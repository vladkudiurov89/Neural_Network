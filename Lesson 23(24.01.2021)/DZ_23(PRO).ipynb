{
  "nbformat": 4,
  "nbformat_minor": 0,
  "metadata": {
    "colab": {
      "name": "DZ-23(PRO).ipynb",
      "private_outputs": true,
      "provenance": []
    },
    "kernelspec": {
      "name": "python3",
      "display_name": "Python 3"
    },
    "accelerator": "GPU"
  },
  "cells": [
    {
      "cell_type": "code",
      "metadata": {
        "id": "DgWcd_0kg65L"
      },
      "source": [
        "import tensorflow as tf\r\n",
        "import matplotlib.pyplot as plt\r\n",
        "import numpy as np\r\n",
        "import datetime\r\n"
      ],
      "execution_count": null,
      "outputs": []
    },
    {
      "cell_type": "code",
      "metadata": {
        "id": "8CzEGbCjhsmg"
      },
      "source": [
        "# Пункт 1\r\n",
        "#Формируем входные данные\r\n",
        "x  = tf.random.normal(shape=[100, 3])\r\n",
        "y = tf.random.shuffle(tf.concat([tf.zeros(shape=[50, 1]),tf.ones(shape=[50, 1])], 0))\r\n",
        "\r\n",
        "#Записываем их в входной массив\r\n",
        "inputs = [x, y]"
      ],
      "execution_count": null,
      "outputs": []
    },
    {
      "cell_type": "code",
      "metadata": {
        "id": "pGBcZWR5hspQ"
      },
      "source": [
        "# Пункт 2\r\n",
        "class SecondModel(object):\r\n",
        "  def __init__(self):\r\n",
        "    self.W = tf.Variable(tf.random.normal(shape=[3, 1], stddev=0.3))\r\n",
        "    self.b = tf.Variable(tf.random.normal(shape=[1]))\r\n",
        "\r\n",
        "  def __call__(self, inputs):\r\n",
        "    self.x = inputs[0]\r\n",
        "    self.y = inputs[1]\r\n",
        "    return self.x @ self.W + self.y + self.b\r\n",
        "\r\n",
        "model = SecondModel()"
      ],
      "execution_count": null,
      "outputs": []
    },
    {
      "cell_type": "code",
      "metadata": {
        "id": "mcupZYs9hssC"
      },
      "source": [
        "# Пункт 3\r\n",
        "TRUE_W = tf.random.normal(shape=[3, 1], stddev=0.3)\r\n",
        "TRUE_b = tf.random.normal(shape=[1])\r\n",
        "\r\n",
        "noise = tf.random.normal(shape=[100, 1])\r\n",
        "outputs = x @ TRUE_W + y + noise\r\n",
        "print(f'TRUE_W: {TRUE_W}')\r\n",
        "print(f'\\nTRUE_b: {TRUE_b}')"
      ],
      "execution_count": null,
      "outputs": []
    },
    {
      "cell_type": "code",
      "metadata": {
        "id": "XHL7Vu5Ihsuw"
      },
      "source": [
        "# Пунк 4\r\n",
        "#Метод подсчета ошибки\r\n",
        "def loss(target_y, predicted_y):\r\n",
        "  return tf.reduce_mean(tf.abs(target_y - predicted_y))"
      ],
      "execution_count": null,
      "outputs": []
    },
    {
      "cell_type": "code",
      "metadata": {
        "id": "qhjh0kNGhsxU"
      },
      "source": [
        "# Пункт 5\r\n",
        "optimizer = tf.keras.optimizers.Adam(learning_rate=0.001)\r\n",
        "\r\n",
        "def train(model, inputs, outputs):\r\n",
        "  with tf.GradientTape() as tape:\r\n",
        "    current_loss = loss(outputs, model(inputs))\r\n",
        "    grads = tape.gradient(current_loss, [model.W, model.b])\r\n",
        "    optimizer.apply_gradients(zip(grads, [model.W, model.b]))"
      ],
      "execution_count": null,
      "outputs": []
    },
    {
      "cell_type": "code",
      "metadata": {
        "id": "vbcv46qAhsz9"
      },
      "source": [
        "# Пункт 6\r\n",
        "! rm -R /tmp/mylogs/eager"
      ],
      "execution_count": null,
      "outputs": []
    },
    {
      "cell_type": "code",
      "metadata": {
        "id": "adhb9iPYhs2j"
      },
      "source": [
        "!ls '/tmp/mylogs/eager'"
      ],
      "execution_count": null,
      "outputs": []
    },
    {
      "cell_type": "code",
      "metadata": {
        "id": "TVM4htPOmwjn"
      },
      "source": [
        "PATH = '/tmp/mylogs/eager/'\r\n",
        "\r\n",
        "current_time = datetime.datetime.now().strftime(\"%Y%m%d-%H%M%S\")\r\n",
        "loss_log_dir = PATH + current_time + '/data'\r\n",
        "loss_summary_writer = tf.summary.create_file_writer(loss_log_dir)\r\n",
        "\r\n",
        "model = SecondModel()\r\n",
        "\r\n",
        "with loss_summary_writer.as_default():\r\n",
        "\r\n",
        "  Ws = []\r\n",
        "  loss_model = []\r\n",
        "  epoch = 0\r\n",
        "  speed_prev = 0\r\n",
        "  #Добавляем обучение по эпохам\r\n",
        "  while epoch < 10000:\r\n",
        "    Ws.append(model.W.numpy().reshape(3))    \r\n",
        "    current_loss = loss(outputs, model(inputs))    \r\n",
        "    train(model, inputs, outputs)\r\n",
        "    print('Epoch:',epoch,'. Weights:',Ws[-1],'. Loss:',current_loss.numpy())\r\n",
        "    loss_model.append(current_loss)\r\n",
        "    tf.summary.scalar(\"current_loss\", current_loss, step=epoch)    \r\n",
        "    tf.summary.scalar(\"W1\", Ws[-1][0], step=epoch)    \r\n",
        "    tf.summary.scalar(\"W2\", Ws[-1][1], step=epoch)    \r\n",
        "    tf.summary.scalar(\"W3\", Ws[-1][2], step=epoch)    \r\n",
        "    epoch+=1\r\n",
        "    loss_summary_writer.flush()\r\n",
        "\r\n",
        "\r\n",
        "\r\n",
        "plt.plot(range(epoch), loss_model, 'r')\r\n",
        "plt.show()"
      ],
      "execution_count": null,
      "outputs": []
    },
    {
      "cell_type": "code",
      "metadata": {
        "id": "B7dVOAH6mwmo"
      },
      "source": [
        "# Пункт 7\r\n",
        "%load_ext tensorboard"
      ],
      "execution_count": null,
      "outputs": []
    },
    {
      "cell_type": "code",
      "metadata": {
        "id": "yI1FSMtb00LT"
      },
      "source": [
        "!ls /tmp/mylogs/eager"
      ],
      "execution_count": null,
      "outputs": []
    },
    {
      "cell_type": "code",
      "metadata": {
        "id": "Imr1_-uY00N8"
      },
      "source": [
        "%tensorboard --logdir '/tmp/mylogs/eager/'"
      ],
      "execution_count": null,
      "outputs": []
    },
    {
      "cell_type": "code",
      "metadata": {
        "id": "G6cjPHUn00Rg"
      },
      "source": [
        ""
      ],
      "execution_count": null,
      "outputs": []
    }
  ]
}