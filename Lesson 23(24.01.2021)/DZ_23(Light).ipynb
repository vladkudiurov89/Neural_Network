{
  "nbformat": 4,
  "nbformat_minor": 0,
  "metadata": {
    "colab": {
      "name": "DZ-23(Light).ipynb",
      "private_outputs": true,
      "provenance": []
    },
    "kernelspec": {
      "name": "python3",
      "display_name": "Python 3"
    },
    "accelerator": "GPU"
  },
  "cells": [
    {
      "cell_type": "code",
      "metadata": {
        "id": "8hXvgl-0OQtW"
      },
      "source": [
        "import tensorflow as tf\r\n",
        "import numpy as np\r\n",
        "import matplotlib.pyplot as plt\r\n",
        "import seaborn as sns\r\n",
        "import os\r\n",
        "import datetime\r\n",
        "\r\n",
        "sns.set()"
      ],
      "execution_count": null,
      "outputs": []
    },
    {
      "cell_type": "code",
      "metadata": {
        "id": "4z0ZNuZnOoL0"
      },
      "source": [
        "# Пункт 1\r\n",
        "# Создадим класс с вызовом функции косинуса\r\n",
        "class FirstModel:\r\n",
        "  def __init__(self):\r\n",
        "    self.a = tf.Variable(3.0)\r\n",
        "    self.b = tf.Variable(7.0)\r\n",
        "\r\n",
        "  def __call__(self, x):\r\n",
        "    return tf.cos(self.a * x + self.b)"
      ],
      "execution_count": null,
      "outputs": []
    },
    {
      "cell_type": "code",
      "metadata": {
        "id": "-HL98a8hOoO3"
      },
      "source": [
        "# Создаем датасет\r\n",
        "model = FirstModel()\r\n",
        "dset = tf.data.Dataset.from_tensor_slices(tf.random.normal(shape=(1000,)))\r\n",
        "share_dat = dset.batch(25)\r\n",
        "out_dat = dset.map(model).batch(25)\r\n",
        "print(share_dat)"
      ],
      "execution_count": null,
      "outputs": []
    },
    {
      "cell_type": "code",
      "metadata": {
        "id": "q5geOc0CRlD_"
      },
      "source": [
        "# Пункт 2\r\n",
        "TRUE_W = 4.0\r\n",
        "TRUE_b = 6.0\r\n",
        "num_examples = 1000\r\n",
        "\r\n",
        "inputs = tf.random.normal(shape=[num_examples])\r\n",
        "noise = tf.random.normal(shape=[num_examples])\r\n",
        "outputs = tf.cos(inputs * TRUE_W + TRUE_b * noise)\r\n",
        "\r\n",
        "# Функция ошибки\r\n",
        "def loss(target_y, pred_y):\r\n",
        "  return tf.reduce_mean(tf.square(target_y - pred_y))\r\n",
        "\r\n",
        "plt.figure(figsize=(20, 10))\r\n",
        "plt.scatter(inputs, outputs, color='r')\r\n",
        "plt.scatter(inputs, model(inputs), color='b')\r\n",
        "plt.show()\r\n",
        "\r\n",
        "print(f'\\nCurrent loss: {loss(model(inputs), outputs).numpy()}')"
      ],
      "execution_count": null,
      "outputs": []
    },
    {
      "cell_type": "code",
      "metadata": {
        "id": "BCaa4-yDOoRs"
      },
      "source": [
        "# Пункт 3\r\n",
        "# Функция обучения модели\r\n",
        "def train(model, inputs, outputs, learning_rate):\r\n",
        "  with tf.GradientTape() as t:\r\n",
        "    curr_loss = loss(outputs, model(inputs))\r\n",
        "    da, db = t.gradient(curr_loss, [model.a, model.b])\r\n",
        "    model.a.assign_sub(learning_rate * da)\r\n",
        "    model.b.assign_sub(learning_rate * db)\r\n"
      ],
      "execution_count": null,
      "outputs": []
    },
    {
      "cell_type": "code",
      "metadata": {
        "id": "Ky2p_IflOoUr"
      },
      "source": [
        "!rm '/tmp/early/'"
      ],
      "execution_count": null,
      "outputs": []
    },
    {
      "cell_type": "code",
      "metadata": {
        "id": "3D-xTYyTdNfE"
      },
      "source": [
        "tf.__version__"
      ],
      "execution_count": null,
      "outputs": []
    },
    {
      "cell_type": "code",
      "metadata": {
        "id": "Qe0XHsYJOoXx"
      },
      "source": [
        "PATH = '/tmp/early/'\r\n",
        "\r\n",
        "cur_time = datetime.datetime.now().strftime(\"%Y%m%d - %H%M%S\")\r\n",
        "loss_log_dir = PATH + cur_time + '/data'\r\n",
        "loss_sum_writter = tf.summary.create_file_writer(loss_log_dir)\r\n",
        "\r\n",
        "model = FirstModel()\r\n",
        "\r\n",
        "with loss_sum_writter.as_default():\r\n",
        "  Ws, bs = [], []\r\n",
        "  for epoch in range(1000):\r\n",
        "    Ws.append(model.a.numpy())\r\n",
        "    bs.append(model.b.numpy())\r\n",
        "    cur_loss = loss(outputs, model(inputs))\r\n",
        "    train(model, inputs, outputs, learning_rate=0.01)\r\n",
        "    print(f'Epoch: {epoch: 2d} a={Ws[-1] : 1.2f}, loss={cur_loss}')\r\n",
        "    tf.summary.scalar('Current loss', cur_loss, step=epoch)\r\n",
        "    tf.summary.scalar('a', Ws[-1], step=epoch)\r\n",
        "    tf.summary.scalar('b', bs[-1], step=epoch)\r\n",
        "    loss_sum_writter.flush()\r\n",
        "\r\n",
        "plt.figure(figsize=(16, 8))\r\n",
        "plt.plot(range(epoch+1), Ws, 'r', range(epoch+1), bs, 'g')\r\n",
        "plt.plot([TRUE_W]*epoch, 'r--', [TRUE_b]*epoch, 'b--')\r\n",
        "plt.legend(['a', 'b', 'True a', 'True b'])\r\n",
        "plt.show()"
      ],
      "execution_count": null,
      "outputs": []
    },
    {
      "cell_type": "code",
      "metadata": {
        "id": "ttT4fDB-OoaW"
      },
      "source": [
        "%load_ext tensorboard"
      ],
      "execution_count": null,
      "outputs": []
    },
    {
      "cell_type": "code",
      "metadata": {
        "id": "MOr2i2w2f2LV"
      },
      "source": [
        "!ls /tmp/early/"
      ],
      "execution_count": null,
      "outputs": []
    },
    {
      "cell_type": "code",
      "metadata": {
        "id": "A83W1J1Tf2Oj"
      },
      "source": [
        "%tensorboard --logdir /tmp/early/"
      ],
      "execution_count": null,
      "outputs": []
    },
    {
      "cell_type": "code",
      "metadata": {
        "id": "BxY2ku4Ef2Rt"
      },
      "source": [
        ""
      ],
      "execution_count": null,
      "outputs": []
    }
  ]
}