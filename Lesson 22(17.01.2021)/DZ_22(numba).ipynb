{
  "nbformat": 4,
  "nbformat_minor": 0,
  "metadata": {
    "colab": {
      "name": "DZ-22(numba)",
      "private_outputs": true,
      "provenance": []
    },
    "kernelspec": {
      "name": "python3",
      "display_name": "Python 3"
    },
    "accelerator": "GPU"
  },
  "cells": [
    {
      "cell_type": "code",
      "metadata": {
        "id": "atoztFyWwgMK"
      },
      "source": [
        "# Загрузим библиотеки\r\n",
        "import time\r\n",
        "import random"
      ],
      "execution_count": null,
      "outputs": []
    },
    {
      "cell_type": "code",
      "metadata": {
        "id": "qqGrEicKxvWU"
      },
      "source": [
        "# Функция поиска минимального значения\r\n",
        "def min_search(arr) -> int:\r\n",
        "\tm = arr[0]\r\n",
        "\tn = 0\r\n",
        "\tfor i in range(len(arr)):\r\n",
        "\t\tif arr[i] < m:\r\n",
        "\t\t\tm = arr[i]\r\n",
        "\t\t\tn = i\r\n",
        "\treturn n"
      ],
      "execution_count": null,
      "outputs": []
    },
    {
      "cell_type": "code",
      "metadata": {
        "id": "3A-SbYOLxvfx"
      },
      "source": [
        "arr =  random.sample(range(1, 500), 40)\r\n",
        "arr"
      ],
      "execution_count": null,
      "outputs": []
    },
    {
      "cell_type": "code",
      "metadata": {
        "id": "P2x3wAk_xvnu"
      },
      "source": [
        "#Используем чистый python\r\n",
        "cur_time = time.time()\r\n",
        "%timeit min_search(arr)\r\n",
        "print('time: ', time.time()-cur_time)"
      ],
      "execution_count": null,
      "outputs": []
    },
    {
      "cell_type": "code",
      "metadata": {
        "id": "zva2DIdWztGZ"
      },
      "source": [
        "# декоратор numba, который будет оптимизировать наш код\r\n",
        "from numba import jit \r\n",
        "\r\n",
        "# Используем Numba декоратор с включенным компилятором\r\n",
        "@jit(nopython=False)\r\n",
        "def nb_min_search(arr) -> int:\r\n",
        "\tm = arr[0]\r\n",
        "\tn = 0\r\n",
        "\tfor i in range(len(arr)):\r\n",
        "\t\tif arr[i] < m:\r\n",
        "\t\t\tm = arr[i]\r\n",
        "\t\t\tn = i\r\n",
        "\treturn n"
      ],
      "execution_count": null,
      "outputs": []
    },
    {
      "cell_type": "code",
      "metadata": {
        "id": "z5ayrQNJ0HLI"
      },
      "source": [
        "#Numba + Nopython режим\r\n",
        "cur_time = time.time()\r\n",
        "%timeit nb_min_search(arr)\r\n",
        "print('time: ', time.time()-cur_time)"
      ],
      "execution_count": null,
      "outputs": []
    }
  ]
}