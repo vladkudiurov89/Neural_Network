{
  "nbformat": 4,
  "nbformat_minor": 0,
  "metadata": {
    "colab": {
      "name": "DZ-4(PRO).ipynb",
      "provenance": [],
      "collapsed_sections": [],
      "machine_shape": "hm"
    },
    "kernelspec": {
      "name": "python3",
      "display_name": "Python 3"
    },
    "accelerator": "GPU"
  },
  "cells": [
    {
      "cell_type": "code",
      "metadata": {
        "id": "k2fmazxjtmfz"
      },
      "source": [
        "from google.colab import files # Для работы с файлами \n",
        "import numpy as np # Для работы с данными \n",
        "import pandas as pd # Для работы с таблицами\n",
        "import matplotlib.pyplot as plt # Для вывода графиков\n",
        "import os # Для работы с файлами\n",
        "%matplotlib inline\n",
        "\n",
        "from tensorflow.keras import utils # Для работы с категориальными данными\n",
        "from tensorflow.keras.models import Sequential # Полносвязная модель\n",
        "from tensorflow.keras.layers import Dense, Dropout, SpatialDropout1D, BatchNormalization, Embedding, Flatten, Dropout, Conv1D# Слои для сети\n",
        "from tensorflow.python.keras.optimizers import Adam, RMSprop\n",
        "from tensorflow.keras.optimizers import Adam, Adadelta # Алгоритмы оптимизации, для настройки скорости обучения\n",
        "from tensorflow.keras.preprocessing.text import Tokenizer # Методы для работы с текстами и преобразования их в последовательности\n",
        "from tensorflow.keras.preprocessing.sequence import pad_sequences # Метод для работы с последовательностями\n",
        "\n",
        "from sklearn.preprocessing import LabelEncoder # Метод кодирования тестовых лейблов\n",
        "from sklearn.model_selection import train_test_split # Для разделения выборки на тестовую и обучающую\n",
        "from google.colab import drive # Для работы с Google Drive\n",
        "import time # Импортируем библиотеку time\n",
        "\n",
        "import pandas as pd\n",
        "import numpy as np\n",
        "\n",
        "from tensorflow.keras.layers import GlobalMaxPooling1D, Bidirectional , LSTM, Input, MaxPooling1D\n",
        "from tensorflow.keras.models import Model"
      ],
      "execution_count": 1,
      "outputs": []
    },
    {
      "cell_type": "code",
      "metadata": {
        "id": "wVCc6okAtmi-",
        "outputId": "4dabb27f-c651-4540-a27d-a51bca5db9d1",
        "colab": {
          "base_uri": "https://localhost:8080/",
          "height": 35
        }
      },
      "source": [
        "from google.colab import drive\n",
        "drive.mount('/content/drive')"
      ],
      "execution_count": 2,
      "outputs": [
        {
          "output_type": "stream",
          "text": [
            "Drive already mounted at /content/drive; to attempt to forcibly remount, call drive.mount(\"/content/drive\", force_remount=True).\n"
          ],
          "name": "stdout"
        }
      ]
    },
    {
      "cell_type": "code",
      "metadata": {
        "id": "tBMZBatYzeHZ"
      },
      "source": [
        "!rm -R /content/texts # Проверяем наличие папки texts. Если есть, удаляем ее\n"
      ],
      "execution_count": 3,
      "outputs": []
    },
    {
      "cell_type": "code",
      "metadata": {
        "id": "VlxKIypZ1pkH"
      },
      "source": [
        "# Указываем путь к базе в Google Drive, создаем папку texts и извлекаем туда базу\n",
        "!unzip -q '/content/drive/My Drive/datasets/texts/Тексты писателей.zip' -d '/content/texts'"
      ],
      "execution_count": 4,
      "outputs": []
    },
    {
      "cell_type": "code",
      "metadata": {
        "id": "zx0BAcjy1pm4",
        "outputId": "938c2340-3023-43e6-c4c4-6c481b99d866",
        "colab": {
          "base_uri": "https://localhost:8080/",
          "height": 329
        }
      },
      "source": [
        "# Запускаем все необходимые функции\n",
        "\n",
        "def readText(fileName): # Объявляем функции для чтения файла. На вход отправляем путь к файлу\n",
        "  f = open(fileName, 'r')        # Задаем открытие нужного файла в режиме чтения\n",
        "  text = f.read()                # Читаем текст\n",
        "  text = text.replace(\"\\n\", \" \") # Переносы строки переводим в пробелы\n",
        "  \n",
        "  return text                    # Возвращаем текст файла\n",
        "\n",
        "className = [\"О. Генри\", \"Стругацкие\", \"Булгаков\", \"Саймак\", \"Фрай\", \"Брэдберри\"] # Объявляем интересующие нас классы\n",
        "nClasses = len(className) # Считаем количество классов\n",
        "\n",
        "# Формирование обучающей выборки по листу индексов слов\n",
        "# (разделение на короткие векторы)\n",
        "def getSetFromIndexes(wordIndexes, xLen, step): # функция принимает последовательность индексов, размер окна, шаг окна\n",
        "  xSample = [] # Объявляем переменную для векторов\n",
        "  wordsLen = len(wordIndexes) # Считаем количество слов\n",
        "  index = 0 # Задаем начальный индекс \n",
        "\n",
        "  while (index + xLen <= wordsLen):# Идём по всей длине вектора индексов\n",
        "    xSample.append(wordIndexes[index:index+xLen]) # \"Откусываем\" векторы длины xLen\n",
        "    index += step # Смещаеммся вперёд на step\n",
        "    \n",
        "  return xSample\n",
        "\n",
        "# Формирование обучающей и проверочной выборки\n",
        "# Из двух листов индексов от двух классов\n",
        "def createSetsMultiClasses(wordIndexes, xLen, step): # Функция принимает последовательность индексов, размер окна, шаг окна\n",
        "\n",
        "  # Для каждого из 6 классов\n",
        "  # Создаём обучающую/проверочную выборку из индексов\n",
        "  nClasses = len(wordIndexes) # Задаем количество классов выборки\n",
        "  classesXSamples = []        # Здесь будет список размером \"кол-во классов*кол-во окон в тексте*длину окна (например, 6 по 1341*1000)\"\n",
        "  for wI in wordIndexes:      # Для каждого текста выборки из последовательности индексов\n",
        "    classesXSamples.append(getSetFromIndexes(wI, xLen, step)) # Добавляем в список очередной текст индексов, разбитый на \"кол-во окон*длину окна\" \n",
        "\n",
        "  # Формируем один общий xSamples\n",
        "  xSamples = [] # Здесь будет список размером \"суммарное кол-во окон во всех текстах*длину окна (например, 15779*1000)\"\n",
        "  ySamples = [] # Здесь будет список размером \"суммарное кол-во окон во всех текстах*вектор длиной 6\"\n",
        "  \n",
        "  for t in range(nClasses): # В диапазоне кол-ва классов(6)\n",
        "    xT = classesXSamples[t] # Берем очередной текст вида \"кол-во окон в тексте*длину окна\"(например, 1341*1000)\n",
        "    for i in range(len(xT)): # И каждое его окно\n",
        "      xSamples.append(xT[i]) # Добавляем в общий список выборки\n",
        "      ySamples.append(utils.to_categorical(t, nClasses)) # Добавляем соответствующий вектор класса\n",
        "\n",
        "  xSamples = np.array(xSamples) # Переводим в массив numpy для подачи в нейронку\n",
        "  ySamples = np.array(ySamples) # Переводим в массив numpy для подачи в нейронку\n",
        "  \n",
        "  return (xSamples, ySamples) # Функция возвращает выборку и соответствующие векторы классов\n",
        "\n",
        "# Создаем функцию подготовки данных\n",
        "def creat_train_data(maxWordsCount = 15000, xLen = 1000, step = 100):\n",
        "    tokenizer = Tokenizer(num_words=maxWordsCount)\n",
        "    tokenizer.fit_on_texts(trainText) # \"Скармливаем\" наши тексты, т.е. даём в обработку методу, который соберет словарь частотности\n",
        "\n",
        "    # Преобразовываем текст в последовательность индексов согласно частотному словарю\n",
        "    trainWordIndexes = tokenizer.texts_to_sequences(trainText) # Обучающие тесты в индексы\n",
        "    testWordIndexes = tokenizer.texts_to_sequences(testText)  # Проверочные тесты в индексы\n",
        "\n",
        "    #Формируем обучающую и тестовую выборку\n",
        "    xTrain, yTrain = createSetsMultiClasses(trainWordIndexes, xLen, step) #извлекаем обучающую выборку\n",
        "    xTest, yTest = createSetsMultiClasses(testWordIndexes, xLen, step)    #извлекаем тестовую выборку\n",
        "\n",
        "    # Преобразовываем полученные выборки из последовательности индексов в матрицы нулей и единиц по принципу Bag of Words\n",
        "    xTrain01 = tokenizer.sequences_to_matrix(xTrain.tolist()) # Подаем xTrain в виде списка, чтобы метод успешно сработал\n",
        "    xTest01 = tokenizer.sequences_to_matrix(xTest.tolist())   # Подаем xTest в виде списка, чтобы метод успешно сработал\n",
        "\n",
        "    return xTrain, xTrain01, yTrain, xTest, xTest01, yTest\n",
        "\n",
        "#Загружаем обучающие тексты\n",
        "\n",
        "trainText = [] #Формируем обучающие тексты\n",
        "testText = [] #Формируем тестовые тексты\n",
        "\n",
        "#Формирование необходимо произвести следующим образом \n",
        "#Класс каждого i-ого эллемента в обучающей выборке должен соответствовать \n",
        "#классу каждого i-ого эллемента в тестовой выборке\n",
        "\n",
        "for i in className: #Проходим по каждому классу\n",
        "  for j in os.listdir('texts/'): #Проходим по каждому файлу в папке с текстами #\n",
        "    if i in j: #Проверяем, содержит ли файл j в названии имя класса i\n",
        "      \n",
        "      if 'Обучающая' in j: #Если в имени найденного класса есть строка \"Обучающая\" \n",
        "        trainText.append(readText('texts/' + j)) #добавляем в обучающую выборку\n",
        "        print(j, 'добавлен в обучающую выборку') #Выводим информацию\n",
        "      if 'Тестовая' in j: #Если в имени найденного класса есть строка \"Тестовая\"\n",
        "        testText.append(readText('texts/' + j)) #добавляем в обучающую выборку\n",
        "        print(j, 'добавлен в тестовую выборку') #Выводим информацию\n",
        "  print()"
      ],
      "execution_count": 5,
      "outputs": [
        {
          "output_type": "stream",
          "text": [
            "(О. Генри) Обучающая_50 вместе.txt добавлен в обучающую выборку\n",
            "(О. Генри) Тестовая_20 вместе.txt добавлен в тестовую выборку\n",
            "\n",
            "(Стругацкие) Обучающая_5 вместе.txt добавлен в обучающую выборку\n",
            "(Стругацкие) Тестовая_2 вместе.txt добавлен в тестовую выборку\n",
            "\n",
            "(Булгаков) Обучающая_5 вместе.txt добавлен в обучающую выборку\n",
            "(Булгаков) Тестовая_2 вместе.txt добавлен в тестовую выборку\n",
            "\n",
            "(Клиффорд_Саймак) Тестовая_2 вместе.txt добавлен в тестовую выборку\n",
            "(Клиффорд_Саймак) Обучающая_5 вместе.txt добавлен в обучающую выборку\n",
            "\n",
            "(Макс Фрай) Тестовая_2 вместе.txt добавлен в тестовую выборку\n",
            "(Макс Фрай) Обучающая_5 вместе.txt добавлен в обучающую выборку\n",
            "\n",
            "(Рэй Брэдберри) Тестовая_8 вместе.txt добавлен в тестовую выборку\n",
            "(Рэй Брэдберри) Обучающая_22 вместе.txt добавлен в обучающую выборку\n",
            "\n"
          ],
          "name": "stdout"
        }
      ]
    },
    {
      "cell_type": "code",
      "metadata": {
        "id": "cZjjAIjX1ppx"
      },
      "source": [
        "# Создаем функцию подготовки данных\n",
        "def creat_train_data(maxWordsCount = 15000, xLen = 1000, step = 100):\n",
        "    tokenizer = Tokenizer(num_words=maxWordsCount)\n",
        "    tokenizer.fit_on_texts(trainText) # \"Скармливаем\" наши тексты, т.е. даём в обработку методу, который соберет словарь частотности\n",
        "\n",
        "    # Преобразовываем текст в последовательность индексов согласно частотному словарю\n",
        "    trainWordIndexes = tokenizer.texts_to_sequences(trainText) # Обучающие тесты в индексы\n",
        "    testWordIndexes = tokenizer.texts_to_sequences(testText)  # Проверочные тесты в индексы\n",
        "\n",
        "    #Формируем обучающую и тестовую выборку\n",
        "    xTrain, yTrain = createSetsMultiClasses(trainWordIndexes, xLen, step) #извлекаем обучающую выборку\n",
        "    xTest, yTest = createSetsMultiClasses(testWordIndexes, xLen, step)    #извлекаем тестовую выборку\n",
        "\n",
        "    # Преобразовываем полученные выборки из последовательности индексов в матрицы нулей и единиц по принципу Bag of Words\n",
        "    xTrain01 = tokenizer.sequences_to_matrix(xTrain.tolist()) # Подаем xTrain в виде списка, чтобы метод успешно сработал\n",
        "    xTest01 = tokenizer.sequences_to_matrix(xTest.tolist())   # Подаем xTest в виде списка, чтобы метод успешно сработал\n",
        "\n",
        "    return xTrain, xTrain01, yTrain, xTest, xTest01, yTest"
      ],
      "execution_count": 6,
      "outputs": []
    },
    {
      "cell_type": "code",
      "metadata": {
        "id": "jjxxNq1Q1psm"
      },
      "source": [
        "_, xTrain01, yTrain, _, xTest01, yTest = creat_train_data(maxWordsCount = 15000, xLen = 1000, step = 100)"
      ],
      "execution_count": 7,
      "outputs": []
    },
    {
      "cell_type": "code",
      "metadata": {
        "id": "LdTiufSv6wR_",
        "outputId": "3135f2e7-a316-48d1-dcd4-7356e0ce2e2d",
        "colab": {
          "base_uri": "https://localhost:8080/",
          "height": 87
        }
      },
      "source": [
        "maxWordsCount = 15000 # Определяем максимальное количество слов/индексов, учитываемое при обучении текстов\n",
        "\n",
        "# Указываем что нет фильтрации\n",
        "tokenizer = Tokenizer(num_words=maxWordsCount, filters = '') \n",
        "tokenizer.fit_on_texts(trainText) # \"Скармливаем\" наши тексты, т.е. даём в обработку методу, который соберет словарь частотности\n",
        "items = list(tokenizer.word_index.items()) # Вытаскиваем индексы слов для просмотра\n",
        "\n",
        "# Преобразовываем текст в последовательность индексов согласно частотному словарю\n",
        "trainWordIndexes = tokenizer.texts_to_sequences(trainText) # Обучающие тесты в индексы\n",
        "testWordIndexes = tokenizer.texts_to_sequences(testText)  # Проверочные тесты в индексы\n",
        "\n",
        "#Задаём базовые параметры\n",
        "xLen = 1000 # Длина отрезка текста, по которой анализируем, в словах\n",
        "step = 100  # Шаг разбиения исходного текста на обучающие векторы\n",
        "\n",
        "#Формируем обучающую и тестовую выборку\n",
        "xTrain, yTrain = createSetsMultiClasses(trainWordIndexes, xLen, step) #извлекаем обучающую выборку\n",
        "xTest, yTest = createSetsMultiClasses(testWordIndexes, xLen, step)    #извлекаем тестовую выборку\n",
        "\n",
        "# Преобразовываем полученные выборки из последовательности индексов в матрицы нулей и единиц по принципу Bag of Words\n",
        "xTrain01 = tokenizer.sequences_to_matrix(xTrain.tolist()) # Подаем xTrain в виде списка, чтобы метод успешно сработал\n",
        "xTest01 = tokenizer.sequences_to_matrix(xTest.tolist())   # Подаем xTest в виде списка, чтобы метод успешно сработал\n",
        "\n",
        "# Выводим формы масивов\n",
        "print(xTrain01.shape)\n",
        "print(yTrain.shape)\n",
        "print(xTest01.shape)\n",
        "print(yTest.shape)"
      ],
      "execution_count": 8,
      "outputs": [
        {
          "output_type": "stream",
          "text": [
            "(13531, 15000)\n",
            "(13531, 6)\n",
            "(4819, 15000)\n",
            "(4819, 6)\n"
          ],
          "name": "stdout"
        }
      ]
    },
    {
      "cell_type": "code",
      "metadata": {
        "id": "hVu1W_rt6wUw"
      },
      "source": [
        "tokenizer.word_index"
      ],
      "execution_count": null,
      "outputs": []
    },
    {
      "cell_type": "code",
      "metadata": {
        "id": "ut4zdG0Y6wXw",
        "outputId": "0e103b1a-983f-4a16-b6d5-2264e6ff7514",
        "colab": {
          "base_uri": "https://localhost:8080/",
          "height": 87
        }
      },
      "source": [
        "#Задаём базовые параметры\n",
        "xLen = 1000 # Длина отрезка текста, по которой анализируем, в словах\n",
        "step = 100  # Шаг разбиения исходного текста на обучающие векторы\n",
        "\n",
        "#Формируем обучающую и тестовую выборку\n",
        "xTrain, yTrain = createSetsMultiClasses(trainWordIndexes, xLen, step) #извлекаем обучающую выборку\n",
        "xTest, yTest = createSetsMultiClasses(testWordIndexes, xLen, step)    #извлекаем тестовую выборку\n",
        "print(xTrain.shape)\n",
        "print(yTrain.shape)\n",
        "print(xTest.shape)\n",
        "print(yTest.shape)"
      ],
      "execution_count": 10,
      "outputs": [
        {
          "output_type": "stream",
          "text": [
            "(13531, 1000)\n",
            "(13531, 6)\n",
            "(4819, 1000)\n",
            "(4819, 6)\n"
          ],
          "name": "stdout"
        }
      ]
    },
    {
      "cell_type": "code",
      "metadata": {
        "id": "_wFSDHJn6waj",
        "outputId": "459c6ba3-979a-460d-8fb6-2ba378a933ce",
        "colab": {
          "base_uri": "https://localhost:8080/",
          "height": 121
        }
      },
      "source": [
        "# Преобразовываем полученные выборки из последовательности индексов в матрицы нулей и единиц по принципу Bag of Words\n",
        "xTrain01 = tokenizer.sequences_to_matrix(xTrain.tolist()) # Подаем xTrain в виде списка, чтобы метод успешно сработал\n",
        "xTest01 = tokenizer.sequences_to_matrix(xTest.tolist())   # Подаем xTest в виде списка, чтобы метод успешно сработал\n",
        "\n",
        "print(xTrain01.shape)       # Размер обучающей выборки, сформированной по Bag of Words\n",
        "print(xTrain01[0][0:100])   # Фрагмент набора слов в виде Bag of Words"
      ],
      "execution_count": 11,
      "outputs": [
        {
          "output_type": "stream",
          "text": [
            "(13531, 15000)\n",
            "[0. 1. 0. 1. 1. 1. 1. 1. 1. 1. 1. 1. 1. 1. 1. 1. 1. 1. 1. 1. 1. 1. 0. 1.\n",
            " 0. 0. 1. 1. 1. 1. 1. 1. 1. 1. 1. 1. 1. 1. 1. 1. 1. 1. 1. 1. 1. 1. 1. 0.\n",
            " 1. 1. 1. 1. 1. 1. 0. 1. 0. 0. 0. 1. 1. 1. 1. 1. 1. 1. 1. 0. 1. 0. 0. 1.\n",
            " 1. 1. 1. 0. 1. 0. 1. 1. 1. 1. 1. 1. 1. 0. 0. 1. 1. 0. 1. 0. 1. 0. 1. 0.\n",
            " 0. 1. 1. 0.]\n"
          ],
          "name": "stdout"
        }
      ]
    },
    {
      "cell_type": "code",
      "metadata": {
        "id": "b6hl6X078UOS",
        "outputId": "2c131883-3ec8-4f4c-b095-309ef6a496c9",
        "colab": {
          "base_uri": "https://localhost:8080/",
          "height": 55
        }
      },
      "source": [
        "for i in range(100):\n",
        "  print(int(i in xTrain[0]),end=' ')"
      ],
      "execution_count": 12,
      "outputs": [
        {
          "output_type": "stream",
          "text": [
            "0 1 0 1 1 1 1 1 1 1 1 1 1 1 1 1 1 1 1 1 1 1 0 1 0 0 1 1 1 1 1 1 1 1 1 1 1 1 1 1 1 1 1 1 1 1 1 0 1 1 1 1 1 1 0 1 0 0 0 1 1 1 1 1 1 1 1 0 1 0 0 1 1 1 1 0 1 0 1 1 1 1 1 1 1 0 0 1 1 0 1 0 1 0 1 0 0 1 1 0 "
          ],
          "name": "stdout"
        }
      ]
    },
    {
      "cell_type": "code",
      "metadata": {
        "id": "pfoIJngv-CRo",
        "outputId": "0b1ea986-6e46-4d6a-b95d-a957ddb72e66",
        "colab": {
          "base_uri": "https://localhost:8080/",
          "height": 1000
        }
      },
      "source": [
        "# Полносвязная модель\n",
        "\n",
        "model = Sequential()\n",
        "model.add(Dense(200, input_dim=maxWordsCount, activation=\"relu\"))\n",
        "model.add(Dropout(0.2))\n",
        "\n",
        "model.add(Dense(6, activation='sigmoid'))\n",
        "\n",
        "model.compile(optimizer=Adam(lr=0.0001), \n",
        "              loss='categorical_crossentropy', \n",
        "              metrics=['accuracy'])\n",
        "\n",
        "history = model.fit(xTrain01, \n",
        "                      yTrain, \n",
        "                      epochs=45,\n",
        "                      batch_size=8,\n",
        "                      validation_data=(xTest01, yTest))\n",
        "\n",
        "plt.plot(history.history['accuracy'], \n",
        "         label='Доля верных ответов на обучающем наборе')\n",
        "plt.plot(history.history['val_accuracy'], \n",
        "         label='Доля верных ответов на проверочном наборе')\n",
        "plt.xlabel('Эпоха обучения')\n",
        "plt.ylabel('Доля верных ответов')\n",
        "plt.legend()\n",
        "plt.show()"
      ],
      "execution_count": 14,
      "outputs": [
        {
          "output_type": "stream",
          "text": [
            "Epoch 1/45\n",
            "1692/1692 [==============================] - 5s 3ms/step - loss: 0.1157 - accuracy: 0.9722 - val_loss: 0.2819 - val_accuracy: 0.9276\n",
            "Epoch 2/45\n",
            "1692/1692 [==============================] - 5s 3ms/step - loss: 0.0012 - accuracy: 1.0000 - val_loss: 0.2422 - val_accuracy: 0.9305\n",
            "Epoch 3/45\n",
            "1692/1692 [==============================] - 5s 3ms/step - loss: 3.3904e-04 - accuracy: 1.0000 - val_loss: 0.2147 - val_accuracy: 0.9346\n",
            "Epoch 4/45\n",
            "1692/1692 [==============================] - 5s 3ms/step - loss: 1.2380e-04 - accuracy: 1.0000 - val_loss: 0.2094 - val_accuracy: 0.9299\n",
            "Epoch 5/45\n",
            "1692/1692 [==============================] - 5s 3ms/step - loss: 4.6635e-05 - accuracy: 1.0000 - val_loss: 0.1871 - val_accuracy: 0.9361\n",
            "Epoch 6/45\n",
            "1692/1692 [==============================] - 5s 3ms/step - loss: 1.8858e-05 - accuracy: 1.0000 - val_loss: 0.1870 - val_accuracy: 0.9338\n",
            "Epoch 7/45\n",
            "1692/1692 [==============================] - 5s 3ms/step - loss: 9.1603e-06 - accuracy: 1.0000 - val_loss: 0.1813 - val_accuracy: 0.9367\n",
            "Epoch 8/45\n",
            "1692/1692 [==============================] - 5s 3ms/step - loss: 3.4344e-06 - accuracy: 1.0000 - val_loss: 0.1822 - val_accuracy: 0.9332\n",
            "Epoch 9/45\n",
            "1692/1692 [==============================] - 5s 3ms/step - loss: 1.7426e-06 - accuracy: 1.0000 - val_loss: 0.1815 - val_accuracy: 0.9336\n",
            "Epoch 10/45\n",
            "1692/1692 [==============================] - 5s 3ms/step - loss: 9.7108e-07 - accuracy: 1.0000 - val_loss: 0.1807 - val_accuracy: 0.9348\n",
            "Epoch 11/45\n",
            "1692/1692 [==============================] - 5s 3ms/step - loss: 4.4889e-07 - accuracy: 1.0000 - val_loss: 0.1600 - val_accuracy: 0.9413\n",
            "Epoch 12/45\n",
            "1692/1692 [==============================] - 5s 3ms/step - loss: 2.4175e-07 - accuracy: 1.0000 - val_loss: 0.1702 - val_accuracy: 0.9371\n",
            "Epoch 13/45\n",
            "1692/1692 [==============================] - 5s 3ms/step - loss: 1.8692e-07 - accuracy: 1.0000 - val_loss: 0.1675 - val_accuracy: 0.9394\n",
            "Epoch 14/45\n",
            "1692/1692 [==============================] - 5s 3ms/step - loss: 1.5307e-07 - accuracy: 1.0000 - val_loss: 0.1676 - val_accuracy: 0.9400\n",
            "Epoch 15/45\n",
            "1692/1692 [==============================] - 5s 3ms/step - loss: 1.5999e-07 - accuracy: 1.0000 - val_loss: 0.1638 - val_accuracy: 0.9419\n",
            "Epoch 16/45\n",
            "1692/1692 [==============================] - 5s 3ms/step - loss: 1.4348e-07 - accuracy: 1.0000 - val_loss: 0.1489 - val_accuracy: 0.9469\n",
            "Epoch 17/45\n",
            "1692/1692 [==============================] - 5s 3ms/step - loss: 1.4134e-07 - accuracy: 1.0000 - val_loss: 0.2597 - val_accuracy: 0.9045\n",
            "Epoch 18/45\n",
            "1692/1692 [==============================] - 5s 3ms/step - loss: 1.3639e-07 - accuracy: 1.0000 - val_loss: 0.1489 - val_accuracy: 0.9481\n",
            "Epoch 19/45\n",
            "1692/1692 [==============================] - 5s 3ms/step - loss: 1.2527e-07 - accuracy: 1.0000 - val_loss: 0.1654 - val_accuracy: 0.9423\n",
            "Epoch 20/45\n",
            "1692/1692 [==============================] - 6s 3ms/step - loss: 1.2459e-07 - accuracy: 1.0000 - val_loss: 0.1452 - val_accuracy: 0.9504\n",
            "Epoch 21/45\n",
            "1692/1692 [==============================] - 6s 4ms/step - loss: 1.2773e-07 - accuracy: 1.0000 - val_loss: 0.1529 - val_accuracy: 0.9465\n",
            "Epoch 22/45\n",
            "1692/1692 [==============================] - 5s 3ms/step - loss: 1.2227e-07 - accuracy: 1.0000 - val_loss: 0.1508 - val_accuracy: 0.9492\n",
            "Epoch 23/45\n",
            "1692/1692 [==============================] - 5s 3ms/step - loss: 1.3040e-07 - accuracy: 1.0000 - val_loss: 0.1426 - val_accuracy: 0.9552\n",
            "Epoch 24/45\n",
            "1692/1692 [==============================] - 5s 3ms/step - loss: 1.2308e-07 - accuracy: 1.0000 - val_loss: 0.1674 - val_accuracy: 0.9404\n",
            "Epoch 25/45\n",
            "1692/1692 [==============================] - 5s 3ms/step - loss: 1.2314e-07 - accuracy: 1.0000 - val_loss: 0.1550 - val_accuracy: 0.9469\n",
            "Epoch 26/45\n",
            "1692/1692 [==============================] - 5s 3ms/step - loss: 1.2198e-07 - accuracy: 1.0000 - val_loss: 0.1537 - val_accuracy: 0.9483\n",
            "Epoch 27/45\n",
            "1692/1692 [==============================] - 5s 3ms/step - loss: 1.2080e-07 - accuracy: 1.0000 - val_loss: 0.1523 - val_accuracy: 0.9492\n",
            "Epoch 28/45\n",
            "1692/1692 [==============================] - 5s 3ms/step - loss: 1.2074e-07 - accuracy: 1.0000 - val_loss: 0.1563 - val_accuracy: 0.9469\n",
            "Epoch 29/45\n",
            "1692/1692 [==============================] - 5s 3ms/step - loss: 1.2079e-07 - accuracy: 1.0000 - val_loss: 0.1564 - val_accuracy: 0.9465\n",
            "Epoch 30/45\n",
            "1692/1692 [==============================] - 5s 3ms/step - loss: 1.2143e-07 - accuracy: 1.0000 - val_loss: 0.1662 - val_accuracy: 0.9415\n",
            "Epoch 31/45\n",
            "1692/1692 [==============================] - 5s 3ms/step - loss: 1.2196e-07 - accuracy: 1.0000 - val_loss: 0.1605 - val_accuracy: 0.9456\n",
            "Epoch 32/45\n",
            "1692/1692 [==============================] - 5s 3ms/step - loss: 1.2054e-07 - accuracy: 1.0000 - val_loss: 0.1567 - val_accuracy: 0.9465\n",
            "Epoch 33/45\n",
            "1692/1692 [==============================] - 5s 3ms/step - loss: 1.2111e-07 - accuracy: 1.0000 - val_loss: 0.1679 - val_accuracy: 0.9429\n",
            "Epoch 34/45\n",
            "1692/1692 [==============================] - 5s 3ms/step - loss: 1.2012e-07 - accuracy: 1.0000 - val_loss: 0.1678 - val_accuracy: 0.9442\n",
            "Epoch 35/45\n",
            "1692/1692 [==============================] - 5s 3ms/step - loss: 1.2090e-07 - accuracy: 1.0000 - val_loss: 0.1655 - val_accuracy: 0.9438\n",
            "Epoch 36/45\n",
            "1692/1692 [==============================] - 5s 3ms/step - loss: 1.2024e-07 - accuracy: 1.0000 - val_loss: 0.1582 - val_accuracy: 0.9460\n",
            "Epoch 37/45\n",
            "1692/1692 [==============================] - 5s 3ms/step - loss: 1.2037e-07 - accuracy: 1.0000 - val_loss: 0.1656 - val_accuracy: 0.9436\n",
            "Epoch 38/45\n",
            "1692/1692 [==============================] - 5s 3ms/step - loss: 1.2018e-07 - accuracy: 1.0000 - val_loss: 0.1605 - val_accuracy: 0.9450\n",
            "Epoch 39/45\n",
            "1692/1692 [==============================] - 5s 3ms/step - loss: 1.1988e-07 - accuracy: 1.0000 - val_loss: 0.1631 - val_accuracy: 0.9452\n",
            "Epoch 40/45\n",
            "1692/1692 [==============================] - 5s 3ms/step - loss: 1.1974e-07 - accuracy: 1.0000 - val_loss: 0.1701 - val_accuracy: 0.9425\n",
            "Epoch 41/45\n",
            "1692/1692 [==============================] - 5s 3ms/step - loss: 1.2023e-07 - accuracy: 1.0000 - val_loss: 0.1683 - val_accuracy: 0.9429\n",
            "Epoch 42/45\n",
            "1692/1692 [==============================] - 5s 3ms/step - loss: 1.1966e-07 - accuracy: 1.0000 - val_loss: 0.1621 - val_accuracy: 0.9450\n",
            "Epoch 43/45\n",
            "1692/1692 [==============================] - 5s 3ms/step - loss: 1.1984e-07 - accuracy: 1.0000 - val_loss: 0.1631 - val_accuracy: 0.9454\n",
            "Epoch 44/45\n",
            "1692/1692 [==============================] - 5s 3ms/step - loss: 1.2025e-07 - accuracy: 1.0000 - val_loss: 0.1792 - val_accuracy: 0.9359\n",
            "Epoch 45/45\n",
            "1692/1692 [==============================] - 5s 3ms/step - loss: 1.1957e-07 - accuracy: 1.0000 - val_loss: 0.1767 - val_accuracy: 0.9377\n"
          ],
          "name": "stdout"
        },
        {
          "output_type": "display_data",
          "data": {
            "image/png": "[encoded data removed]",
            "text/plain": [
              "<Figure size 432x288 with 1 Axes>"
            ]
          },
          "metadata": {
            "tags": [],
            "needs_background": "light"
          }
        }
      ]
    },
    {
      "cell_type": "code",
      "metadata": {
        "id": "EkfnwYPN2IOM",
        "outputId": "10e182f0-5211-46e7-f587-0e343d26a486",
        "colab": {
          "base_uri": "https://localhost:8080/",
          "height": 799
        }
      },
      "source": [
        "# Embedding + Conv1D модель\n",
        "\n",
        "model = Sequential()\n",
        "model.add(Embedding(maxWordsCount, 200, input_length = xLen))\n",
        "\n",
        "model.add(Conv1D(256, 5, activation='relu'))\n",
        "model.add(MaxPooling1D(5))\n",
        "model.add(Dropout(0.2))\n",
        "model.add(BatchNormalization())\n",
        "\n",
        "model.add(Conv1D(128, 5, activation='relu'))\n",
        "model.add(MaxPooling1D(5))\n",
        "model.add(Dropout(0.2))\n",
        "model.add(BatchNormalization())\n",
        "\n",
        "model.add(Flatten())\n",
        "model.add(Dense(128, activation='relu'))\n",
        "model.add(Dense(6, activation='sigmoid'))\n",
        "model.compile(loss='categorical_crossentropy', optimizer='rmsprop',metrics=['accuracy'])\n",
        "\n",
        "history = model.fit(xTrain, \n",
        "                      yTrain, \n",
        "                      epochs=15,\n",
        "                      batch_size=32,\n",
        "                      validation_data=(xTest, yTest))\n",
        "\n",
        "plt.plot(history.history['accuracy'], \n",
        "         label='Доля верных ответов на обучающем наборе')\n",
        "plt.plot(history.history['val_accuracy'], \n",
        "         label='Доля верных ответов на проверочном наборе')\n",
        "plt.xlabel('Эпоха обучения')\n",
        "plt.ylabel('Доля верных ответов')\n",
        "plt.legend()\n",
        "plt.show()\n"
      ],
      "execution_count": 50,
      "outputs": [
        {
          "output_type": "stream",
          "text": [
            "Epoch 1/15\n",
            "423/423 [==============================] - 16s 38ms/step - loss: 0.2124 - accuracy: 0.9217 - val_loss: 5.8525 - val_accuracy: 0.3731\n",
            "Epoch 2/15\n",
            "423/423 [==============================] - 16s 37ms/step - loss: 0.0273 - accuracy: 0.9942 - val_loss: 1.3096 - val_accuracy: 0.8303\n",
            "Epoch 3/15\n",
            "423/423 [==============================] - 16s 37ms/step - loss: 0.0310 - accuracy: 0.9939 - val_loss: 4.8848 - val_accuracy: 0.6037\n",
            "Epoch 4/15\n",
            "423/423 [==============================] - 16s 37ms/step - loss: 0.0297 - accuracy: 0.9958 - val_loss: 2.0264 - val_accuracy: 0.8041\n",
            "Epoch 5/15\n",
            "423/423 [==============================] - 16s 37ms/step - loss: 0.0318 - accuracy: 0.9959 - val_loss: 3.2985 - val_accuracy: 0.7253\n",
            "Epoch 6/15\n",
            "423/423 [==============================] - 16s 37ms/step - loss: 0.0184 - accuracy: 0.9974 - val_loss: 3.3785 - val_accuracy: 0.7111\n",
            "Epoch 7/15\n",
            "423/423 [==============================] - 16s 37ms/step - loss: 0.0217 - accuracy: 0.9970 - val_loss: 2.1341 - val_accuracy: 0.8083\n",
            "Epoch 8/15\n",
            "423/423 [==============================] - 16s 38ms/step - loss: 0.0191 - accuracy: 0.9971 - val_loss: 2.9725 - val_accuracy: 0.7562\n",
            "Epoch 9/15\n",
            "423/423 [==============================] - 16s 37ms/step - loss: 0.0173 - accuracy: 0.9976 - val_loss: 2.4831 - val_accuracy: 0.7861\n",
            "Epoch 10/15\n",
            "423/423 [==============================] - 16s 37ms/step - loss: 0.0130 - accuracy: 0.9979 - val_loss: 2.1547 - val_accuracy: 0.8213\n",
            "Epoch 11/15\n",
            "423/423 [==============================] - 16s 37ms/step - loss: 0.0174 - accuracy: 0.9979 - val_loss: 1.7966 - val_accuracy: 0.8506\n",
            "Epoch 12/15\n",
            "423/423 [==============================] - 16s 37ms/step - loss: 0.0152 - accuracy: 0.9984 - val_loss: 1.9193 - val_accuracy: 0.8388\n",
            "Epoch 13/15\n",
            "423/423 [==============================] - 16s 37ms/step - loss: 0.0122 - accuracy: 0.9984 - val_loss: 2.3165 - val_accuracy: 0.8164\n",
            "Epoch 14/15\n",
            "423/423 [==============================] - 16s 37ms/step - loss: 0.0183 - accuracy: 0.9980 - val_loss: 2.3761 - val_accuracy: 0.8261\n",
            "Epoch 15/15\n",
            "423/423 [==============================] - 16s 37ms/step - loss: 0.0105 - accuracy: 0.9986 - val_loss: 1.8005 - val_accuracy: 0.8514\n"
          ],
          "name": "stdout"
        },
        {
          "output_type": "display_data",
          "data": {
            "image/png": "[encoded data removed]",
            "text/plain": [
              "<Figure size 432x288 with 1 Axes>"
            ]
          },
          "metadata": {
            "tags": [],
            "needs_background": "light"
          }
        }
      ]
    },
    {
      "cell_type": "code",
      "metadata": {
        "id": "Hb-OoRyydJiw",
        "outputId": "9e5a013f-c6b2-4307-a5e3-a9dc39132497",
        "colab": {
          "base_uri": "https://localhost:8080/",
          "height": 533
        }
      },
      "source": [
        "from keras.utils import plot_model\n",
        "import sklearn\n",
        "from sklearn.metrics import precision_recall_fscore_support as score\n",
        "\n",
        "plot_model(modele, show_shapes=True, show_layer_names=True)\n",
        "\n"
      ],
      "execution_count": 51,
      "outputs": [
        {
          "output_type": "execute_result",
          "data": {
            "image/png": "[encoded data removed]",
            "text/plain": [
              "<IPython.core.display.Image object>"
            ]
          },
          "metadata": {
            "tags": []
          },
          "execution_count": 51
        }
      ]
    },
    {
      "cell_type": "code",
      "metadata": {
        "id": "JXVPyZa9dPIx",
        "outputId": "4e763a1c-3c30-4dbc-e5ef-7cbde9d78f97",
        "colab": {
          "base_uri": "https://localhost:8080/",
          "height": 384
        }
      },
      "source": [
        "predicted=model.predict(xTest)\n",
        "precision, recall, fscore, support = score(yTest, predicted.round())\n",
        "\n",
        "print('precision: {}'.format(precision))\n",
        "print('recall: {}'.format(recall))\n",
        "print('fscore: {}'.format(fscore))\n",
        "print('support: {}'.format(support))\n",
        "print(sklearn.metrics.classification_report(yTest, predicted.round()))\n"
      ],
      "execution_count": 56,
      "outputs": [
        {
          "output_type": "stream",
          "text": [
            "precision: [0.75545852 0.96124031 0.9875     0.7120743  0.8973384  0.99300699]\n",
            "recall: [0.99425287 0.31273644 0.84132055 0.64788732 0.94086379 0.80773606]\n",
            "fscore: [0.85856079 0.47193149 0.90856814 0.67846608 0.91858579 0.89084065]\n",
            "support: [ 348  793  939  355 1505  879]\n",
            "              precision    recall  f1-score   support\n",
            "\n",
            "           0       0.76      0.99      0.86       348\n",
            "           1       0.96      0.31      0.47       793\n",
            "           2       0.99      0.84      0.91       939\n",
            "           3       0.71      0.65      0.68       355\n",
            "           4       0.90      0.94      0.92      1505\n",
            "           5       0.99      0.81      0.89       879\n",
            "\n",
            "   micro avg       0.91      0.78      0.84      4819\n",
            "   macro avg       0.88      0.76      0.79      4819\n",
            "weighted avg       0.92      0.78      0.82      4819\n",
            " samples avg       0.77      0.78      0.77      4819\n",
            "\n"
          ],
          "name": "stdout"
        },
        {
          "output_type": "stream",
          "text": [
            "/usr/local/lib/python3.6/dist-packages/sklearn/metrics/_classification.py:1272: UndefinedMetricWarning: Precision and F-score are ill-defined and being set to 0.0 in samples with no predicted labels. Use `zero_division` parameter to control this behavior.\n",
            "  _warn_prf(average, modifier, msg_start, len(result))\n"
          ],
          "name": "stderr"
        }
      ]
    },
    {
      "cell_type": "code",
      "metadata": {
        "id": "V72yOaoF8ahe"
      },
      "source": [
        ""
      ],
      "execution_count": null,
      "outputs": []
    }
  ]
}