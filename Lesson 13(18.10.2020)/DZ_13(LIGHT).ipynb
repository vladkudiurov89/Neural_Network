{
  "nbformat": 4,
  "nbformat_minor": 0,
  "metadata": {
    "colab": {
      "name": "DZ-13(LIGHT).ipynb",
      "provenance": [],
      "collapsed_sections": [],
      "machine_shape": "hm"
    },
    "kernelspec": {
      "name": "python3",
      "display_name": "Python 3"
    },
    "accelerator": "GPU"
  },
  "cells": [
    {
      "cell_type": "code",
      "metadata": {
        "id": "VyFpXBiH5UVe"
      },
      "source": [
        "from google.colab import files \n",
        "import numpy as np \n",
        "\n",
        "from tensorflow.keras.models import Model, load_model, Sequential\n",
        "from tensorflow.keras.layers import Dense, Embedding, LSTM, Input \n",
        "from tensorflow.keras.optimizers import RMSprop, Adadelta \n",
        "from tensorflow.keras.preprocessing.sequence import pad_sequences \n",
        "from tensorflow.keras.preprocessing.text import Tokenizer \n",
        "from tensorflow.keras import utils \n",
        "from tensorflow.keras.utils import plot_model \n",
        "\n",
        "import yaml "
      ],
      "execution_count": 1,
      "outputs": []
    },
    {
      "cell_type": "code",
      "metadata": {
        "id": "gtIEoTlJ5a09",
        "outputId": "1dc55d3d-0012-4214-eb71-02d02daaaf81",
        "colab": {
          "base_uri": "https://localhost:8080/"
        }
      },
      "source": [
        "from google.colab import drive\n",
        "drive.mount('/content/drive')"
      ],
      "execution_count": 2,
      "outputs": [
        {
          "output_type": "stream",
          "text": [
            "Drive already mounted at /content/drive; to attempt to forcibly remount, call drive.mount(\"/content/drive\", force_remount=True).\n"
          ],
          "name": "stdout"
        }
      ]
    },
    {
      "cell_type": "code",
      "metadata": {
        "id": "A6Nf_8zA5a3r",
        "outputId": "9834e834-5e94-4c23-b766-1a333f1a5c0c",
        "colab": {
          "base_uri": "https://localhost:8080/"
        }
      },
      "source": [
        "# Открываем файл с диалогами\n",
        "\n",
        "corpus = open('/content/drive/My Drive/datasets/texts/Диалоги(рассказы).yml', 'r') # открываем файл с диалогами в режиме чтения\n",
        "document = yaml.safe_load(corpus) # загружаем файл *глоссарий\n",
        "conversations = document['разговоры'] # загружаем диалоги из файла и заносим в conversations \n",
        "print('Количество пар вопрос-ответ : {}'.format(len(conversations)))\n",
        "print('Пример диалога : {}'.format(conversations[125]))"
      ],
      "execution_count": 3,
      "outputs": [
        {
          "output_type": "stream",
          "text": [
            "Количество пар вопрос-ответ : 11905\n",
            "Пример диалога : ['Кто будете?', 'Колхозник.']\n"
          ],
          "name": "stdout"
        }
      ]
    },
    {
      "cell_type": "code",
      "metadata": {
        "id": "sK7KN1xD5a6f",
        "outputId": "10614414-40ce-40c8-a951-4d2c0597b6bc",
        "colab": {
          "base_uri": "https://localhost:8080/"
        }
      },
      "source": [
        "# Разбираем вопросы-ответы с проставлением тегов ответам\n",
        "\n",
        "# Собираем вопросы и ответы в списки\n",
        "# здесь будет список вопросов\n",
        "questions = list() \n",
        "# здесь будет список ответов\n",
        "answers = list() \n",
        "\n",
        "\n",
        "for con in conversations:\n",
        "  if len(con) > 2 : \n",
        "    questions.append(con[0]) \n",
        "    replies = con[1:] \n",
        "    ans = '' \n",
        "    for rep in replies: \n",
        "      ans += ' ' + rep \n",
        "    answers.append(ans) \n",
        "  elif len(con)> 1: \n",
        "    questions.append(con[0]) \n",
        "    answers.append(con[1])\n",
        "\n",
        "# Очищаем строки с неопределенным типов ответов\n",
        "answersCleaned = list()\n",
        "for i in range(len(answers)):\n",
        "  if type(answers[i]) == str:\n",
        "    answersCleaned.append(answers[i])\n",
        "  else:\n",
        "    questions.pop(i) \n",
        "\n",
        "# Сделаем теги-метки для начала и конца ответов\n",
        "answers = list()\n",
        "for i in range(len(answersCleaned)):\n",
        "  answers.append( '<START> ' + answersCleaned[i] + ' <END>' )\n",
        "\n",
        "# Выведем обновленные данные на экран\n",
        "print('Вопрос : {}'.format(questions[200]))\n",
        "print('Ответ : {}'.format(answers[200]))"
      ],
      "execution_count": 4,
      "outputs": [
        {
          "output_type": "stream",
          "text": [
            "Вопрос : Около сотни...\n",
            "Ответ : <START> Точнее! <END>\n"
          ],
          "name": "stdout"
        }
      ]
    },
    {
      "cell_type": "code",
      "metadata": {
        "id": "NdkZlVIu7OlE",
        "outputId": "adb78f32-c591-4da8-fa97-f75561eedaad",
        "colab": {
          "base_uri": "https://localhost:8080/"
        }
      },
      "source": [
        "# Подключаем керасовский токенизатор и собираем словарь индексов\n",
        "\n",
        "tokenizer = Tokenizer()\n",
        "tokenizer.fit_on_texts(questions + answers)\n",
        "vocabularyItems = list(tokenizer.word_index.items())\n",
        "vocabularySize = len(vocabularyItems)+1\n",
        "print( 'Фрагмент словаря : {}'.format(vocabularyItems[:50]))\n",
        "print( 'Размер словаря : {}'.format(vocabularySize))"
      ],
      "execution_count": 5,
      "outputs": [
        {
          "output_type": "stream",
          "text": [
            "Фрагмент словаря : [('start', 1), ('end', 2), ('что', 3), ('не', 4), ('я', 5), ('а', 6), ('ты', 7), ('это', 8), ('да', 9), ('в', 10), ('нет', 11), ('как', 12), ('и', 13), ('вы', 14), ('ну', 15), ('с', 16), ('на', 17), ('же', 18), ('так', 19), ('он', 20), ('у', 21), ('кто', 22), ('где', 23), ('все', 24), ('мы', 25), ('то', 26), ('мне', 27), ('тебя', 28), ('меня', 29), ('здесь', 30), ('еще', 31), ('почему', 32), ('о', 33), ('там', 34), ('тебе', 35), ('есть', 36), ('его', 37), ('за', 38), ('куда', 39), ('вот', 40), ('ничего', 41), ('вас', 42), ('знаю', 43), ('чем', 44), ('но', 45), ('она', 46), ('они', 47), ('ли', 48), ('чего', 49), ('вам', 50)]\n",
            "Размер словаря : 15104\n"
          ],
          "name": "stdout"
        }
      ]
    },
    {
      "cell_type": "code",
      "metadata": {
        "id": "xR7rwV5b7Ony",
        "outputId": "0eb982e4-16e5-4cab-d566-bd9addee4db2",
        "colab": {
          "base_uri": "https://localhost:8080/"
        }
      },
      "source": [
        "# Устанавливаем закодированные входные данные(вопросы)\n",
        "\n",
        "tokenizedQuestions = tokenizer.texts_to_sequences(questions) \n",
        "maxLenQuestions = max([ len(x) for x in tokenizedQuestions]) \n",
        "# Делаем последовательности одной длины, заполняя нулями более короткие вопросы\n",
        "paddedQuestions = pad_sequences(tokenizedQuestions, maxlen=maxLenQuestions, padding='post')\n",
        "\n",
        "encoderForInput = np.array(paddedQuestions)\n",
        "print('Пример оригинального вопроса на вход : {}'.format(questions[100])) \n",
        "print('Пример кодированного вопроса на вход : {}'.format(encoderForInput[100])) \n",
        "print('Размеры закодированного массива вопросов на вход : {}'.format(encoderForInput.shape)) \n",
        "print('Установленная длина вопросов на вход : {}'.format(maxLenQuestions)) "
      ],
      "execution_count": 6,
      "outputs": [
        {
          "output_type": "stream",
          "text": [
            "Пример оригинального вопроса на вход : Какая же мораль?\n",
            "Пример кодированного вопроса на вход : [ 170   18 5709    0    0    0    0    0    0    0    0]\n",
            "Размеры закодированного массива вопросов на вход : (11900, 11)\n",
            "Установленная длина вопросов на вход : 11\n"
          ],
          "name": "stdout"
        }
      ]
    },
    {
      "cell_type": "code",
      "metadata": {
        "id": "X8KPY3Ac7Oqx",
        "outputId": "fdff88f1-d55f-450e-cb57-c38a8ee18baf",
        "colab": {
          "base_uri": "https://localhost:8080/"
        }
      },
      "source": [
        "# Устанавливаем раскодированные входные данные(ответы)\n",
        "\n",
        "tokenizedAnswers = tokenizer.texts_to_sequences(answers)\n",
        "maxLenAnswers = max([len(x) for x in tokenizedAnswers])\n",
        "paddedAnswers = pad_sequences(tokenizedAnswers, maxlen=maxLenAnswers, padding='post')\n",
        "\n",
        "decoderForInput = np.array(paddedAnswers)\n",
        "print('Пример оригинального ответа на вход: {}'.format(answers[100])) \n",
        "print('Пример раскодированного ответа на вход : {}'.format(decoderForInput[100][:30])) \n",
        "print('Размеры раскодированного массива ответов на вход : {}'.format(decoderForInput.shape)) \n",
        "print('Установленная длина ответов на вход : {}'.format(maxLenAnswers))"
      ],
      "execution_count": 7,
      "outputs": [
        {
          "output_type": "stream",
          "text": [
            "Пример оригинального ответа на вход: <START> Никакой. Так просто вспомнилось. <END>\n",
            "Пример раскодированного ответа на вход : [    1   673    19    93 10558     2     0     0     0     0     0     0\n",
            "     0]\n",
            "Размеры раскодированного массива ответов на вход : (11900, 13)\n",
            "Установленная длина ответов на вход : 13\n"
          ],
          "name": "stdout"
        }
      ]
    },
    {
      "cell_type": "code",
      "metadata": {
        "id": "qH1wg3fF7OtS",
        "outputId": "9354b67b-f0e3-4b60-ee35-04cc93251bb7",
        "colab": {
          "base_uri": "https://localhost:8080/"
        }
      },
      "source": [
        "# Раскодированные выходные данные(ответы)\n",
        "\n",
        "tokenizedAnswers = tokenizer.texts_to_sequences(answers)\n",
        "for i in range(len(tokenizedAnswers)) : \n",
        "  tokenizedAnswers[i] = tokenizedAnswers[i][1:]\n",
        "paddedAnswers = pad_sequences(tokenizedAnswers, maxlen=maxLenAnswers , padding='post')\n",
        "\n",
        "oneHotAnswers = utils.to_categorical(paddedAnswers, vocabularySize)\n",
        "decoderForOutput = np.array(oneHotAnswers)\n",
        "print('Пример раскодированного ответа на вход : {}'.format(decoderForInput[100][:21]))  \n",
        "print('Пример раскодированного ответа на выход : {}'.format(decoderForOutput[100][4][:21])) \n",
        "print('Размеры раскодированного массива ответов на выход : {}'.format(decoderForOutput.shape))\n",
        "print('Установленная длина вопросов на выход : {}'.format(maxLenAnswers)) "
      ],
      "execution_count": 8,
      "outputs": [
        {
          "output_type": "stream",
          "text": [
            "Пример раскодированного ответа на вход : [    1   673    19    93 10558     2     0     0     0     0     0     0\n",
            "     0]\n",
            "Пример раскодированного ответа на выход : [0. 0. 1. 0. 0. 0. 0. 0. 0. 0. 0. 0. 0. 0. 0. 0. 0. 0. 0. 0. 0.]\n",
            "Размеры раскодированного массива ответов на выход : (11900, 13, 15104)\n",
            "Установленная длина вопросов на выход : 13\n"
          ],
          "name": "stdout"
        }
      ]
    },
    {
      "cell_type": "code",
      "metadata": {
        "id": "cQpvKqZM7Ov_"
      },
      "source": [
        "# Первый входной слой, кодер, выходной слой\n",
        "encoderInputs = Input(shape=(11, ))\n",
        "encoderEmbedding = Embedding(vocabularySize, 200,  mask_zero=True) (encoderInputs)\n",
        "encoderOutputs, state_h , state_c = LSTM(200, return_state=True)(encoderEmbedding)\n",
        "encoderStates = [state_h, state_c]"
      ],
      "execution_count": 9,
      "outputs": []
    },
    {
      "cell_type": "code",
      "metadata": {
        "id": "m3ygUif47_J6"
      },
      "source": [
        "# Второй входной слой, декодер, выходной слой\n",
        "decoderInputs = Input(shape=(13, ))\n",
        "decoderEmbedding = Embedding(vocabularySize, 200, mask_zero=True) (decoderInputs) \n",
        "decoderLSTM = LSTM(200, return_state=True, return_sequences=True)\n",
        "decoderOutputs , _ , _ = decoderLSTM (decoderEmbedding, initial_state=encoderStates)\n",
        "decoderDense = Dense(vocabularySize, activation='softmax') \n",
        "output = decoderDense (decoderOutputs)"
      ],
      "execution_count": 10,
      "outputs": []
    },
    {
      "cell_type": "code",
      "metadata": {
        "id": "9mERCBH87_NA",
        "outputId": "7fc0c66f-a3fa-4e53-f159-ecc8116eda8a",
        "colab": {
          "base_uri": "https://localhost:8080/",
          "height": 967
        }
      },
      "source": [
        "# Собираем тренировочную модель нейросети\n",
        "model = Model([encoderInputs, decoderInputs], output)\n",
        "model.compile(optimizer=RMSprop(), loss='categorical_crossentropy')\n",
        "print(model.summary()) \n",
        "plot_model(model, to_file='model.png', show_shapes=True)"
      ],
      "execution_count": 11,
      "outputs": [
        {
          "output_type": "stream",
          "text": [
            "Model: \"functional_1\"\n",
            "__________________________________________________________________________________________________\n",
            "Layer (type)                    Output Shape         Param #     Connected to                     \n",
            "==================================================================================================\n",
            "input_1 (InputLayer)            [(None, 11)]         0                                            \n",
            "__________________________________________________________________________________________________\n",
            "input_2 (InputLayer)            [(None, 13)]         0                                            \n",
            "__________________________________________________________________________________________________\n",
            "embedding (Embedding)           (None, 11, 200)      3020800     input_1[0][0]                    \n",
            "__________________________________________________________________________________________________\n",
            "embedding_1 (Embedding)         (None, 13, 200)      3020800     input_2[0][0]                    \n",
            "__________________________________________________________________________________________________\n",
            "lstm (LSTM)                     [(None, 200), (None, 320800      embedding[0][0]                  \n",
            "__________________________________________________________________________________________________\n",
            "lstm_1 (LSTM)                   [(None, 13, 200), (N 320800      embedding_1[0][0]                \n",
            "                                                                 lstm[0][1]                       \n",
            "                                                                 lstm[0][2]                       \n",
            "__________________________________________________________________________________________________\n",
            "dense (Dense)                   (None, 13, 15104)    3035904     lstm_1[0][0]                     \n",
            "==================================================================================================\n",
            "Total params: 9,719,104\n",
            "Trainable params: 9,719,104\n",
            "Non-trainable params: 0\n",
            "__________________________________________________________________________________________________\n",
            "None\n"
          ],
          "name": "stdout"
        },
        {
          "output_type": "execute_result",
          "data": {
            "image/png": "[encoded data removed]",
            "text/plain": [
              "<IPython.core.display.Image object>"
            ]
          },
          "metadata": {
            "tags": []
          },
          "execution_count": 11
        }
      ]
    },
    {
      "cell_type": "markdown",
      "metadata": {
        "id": "4-anRv_QNzng"
      },
      "source": [
        "20 Epochs"
      ]
    },
    {
      "cell_type": "code",
      "metadata": {
        "id": "EhY20ALT7_P7",
        "outputId": "d3b8a394-999e-49d7-a600-aac950aac009",
        "colab": {
          "base_uri": "https://localhost:8080/"
        }
      },
      "source": [
        "# Запустим обучение и сохраним модель\n",
        "model.fit([encoderForInput , decoderForInput], decoderForOutput, batch_size=50, epochs=20) \n",
        "# model.save( '/content/drive/My Drive/Models/model_20epochs(rms).h5' )"
      ],
      "execution_count": 12,
      "outputs": [
        {
          "output_type": "stream",
          "text": [
            "Epoch 1/20\n",
            "238/238 [==============================] - 10s 41ms/step - loss: 2.2171\n",
            "Epoch 2/20\n",
            "238/238 [==============================] - 10s 41ms/step - loss: 1.9766\n",
            "Epoch 3/20\n",
            "238/238 [==============================] - 10s 41ms/step - loss: 1.9268\n",
            "Epoch 4/20\n",
            "238/238 [==============================] - 10s 41ms/step - loss: 1.8886\n",
            "Epoch 5/20\n",
            "238/238 [==============================] - 10s 41ms/step - loss: 1.8540\n",
            "Epoch 6/20\n",
            "238/238 [==============================] - 10s 41ms/step - loss: 1.8213\n",
            "Epoch 7/20\n",
            "238/238 [==============================] - 10s 42ms/step - loss: 1.7906\n",
            "Epoch 8/20\n",
            "238/238 [==============================] - 10s 41ms/step - loss: 1.7602\n",
            "Epoch 9/20\n",
            "238/238 [==============================] - 10s 41ms/step - loss: 1.7295\n",
            "Epoch 10/20\n",
            "238/238 [==============================] - 10s 41ms/step - loss: 1.6963\n",
            "Epoch 11/20\n",
            "238/238 [==============================] - 10s 41ms/step - loss: 1.6628\n",
            "Epoch 12/20\n",
            "238/238 [==============================] - 10s 41ms/step - loss: 1.6274\n",
            "Epoch 13/20\n",
            "238/238 [==============================] - 10s 41ms/step - loss: 1.5921\n",
            "Epoch 14/20\n",
            "238/238 [==============================] - 10s 41ms/step - loss: 1.5573\n",
            "Epoch 15/20\n",
            "238/238 [==============================] - 10s 41ms/step - loss: 1.5227\n",
            "Epoch 16/20\n",
            "238/238 [==============================] - 10s 41ms/step - loss: 1.4908\n",
            "Epoch 17/20\n",
            "238/238 [==============================] - 10s 41ms/step - loss: 1.4573\n",
            "Epoch 18/20\n",
            "238/238 [==============================] - 10s 41ms/step - loss: 1.4238\n",
            "Epoch 19/20\n",
            "238/238 [==============================] - 10s 41ms/step - loss: 1.3932\n",
            "Epoch 20/20\n",
            "238/238 [==============================] - 10s 41ms/step - loss: 1.3653\n"
          ],
          "name": "stdout"
        },
        {
          "output_type": "execute_result",
          "data": {
            "text/plain": [
              "<tensorflow.python.keras.callbacks.History at 0x7f640e59e898>"
            ]
          },
          "metadata": {
            "tags": []
          },
          "execution_count": 12
        }
      ]
    },
    {
      "cell_type": "code",
      "metadata": {
        "id": "YuAg6A6G7_TC",
        "outputId": "aa4560a3-d757-415d-c196-d1e7370ba0c2",
        "colab": {
          "base_uri": "https://localhost:8080/",
          "height": 515
        }
      },
      "source": [
        "# Создаем рабочую модель для вывода ответов на запросы пользователя\n",
        "\n",
        "def makeInferenceModels():\n",
        "  encoderModel = Model(encoderInputs, encoderStates) \n",
        "  decoderStateInput_h = Input(shape=(200 ,)) \n",
        "  decoderStateInput_c = Input(shape=(200 ,)) \n",
        "  decoderStatesInputs = [decoderStateInput_h, decoderStateInput_c]\n",
        "  decoderOutputs, state_h, state_c = decoderLSTM(decoderEmbedding, initial_state=decoderStatesInputs)\n",
        "  decoderStates = [state_h, state_c] \n",
        "  decoderOutputs = decoderDense(decoderOutputs)\n",
        "  decoderModel = Model([decoderInputs] + decoderStatesInputs, [decoderOutputs] + decoderStates)\n",
        "  return encoderModel , decoderModel\n",
        "\n",
        "\n",
        "# Создадим функцию, которая преобразует вопрос пользователя в последовательность индексов\n",
        "def strToTokens(sentence: str): \n",
        "  words = sentence.lower().split()\n",
        "  tokensList = list()\n",
        "  for word in words:\n",
        "    tokensList.append(tokenizer.word_index[word])\n",
        "  return pad_sequences([tokensList], maxlen=maxLenQuestions , padding='post')\n",
        "\n",
        "# Устанавливаем окончательные настройки и запускаем модель\n",
        "encModel, decModel = makeInferenceModels()\n",
        "for _ in range(6):\n",
        "  statesValues = encModel.predict(strToTokens(input( 'Задайте вопрос : ' )))\n",
        "  emptyTargetSeq = np.zeros((1, 1))    \n",
        "  emptyTargetSeq[0, 0] = tokenizer.word_index['start']\n",
        "  stopCondition = False \n",
        "  decodedTranslation = ''\n",
        "  while not stopCondition :\n",
        "    decOutputs , h , c = decModel.predict([emptyTargetSeq] + statesValues)\n",
        "    \n",
        "    sampledWordIndex = np.argmax(decOutputs, axis=-1) \n",
        "    sampledWord = None \n",
        "    for word , index in tokenizer.word_index.items():\n",
        "      if sampledWordIndex == index: \n",
        "        decodedTranslation += ' {}'.format(word) \n",
        "        sampledWord = word \n",
        "\n",
        "    if sampledWord == 'end' or len(decodedTranslation.split()) > maxLenAnswers:\n",
        "      stopCondition = True \n",
        "\n",
        "    emptyTargetSeq = np.zeros((1, 1)) \n",
        "    emptyTargetSeq[0, 0] = sampledWordIndex \n",
        "    statesValues = [h, c] \n",
        "  \n",
        "  print(decodedTranslation[:-3]) \n",
        "  # 20 эпох не удачные и не точные ответы"
      ],
      "execution_count": 14,
      "outputs": [
        {
          "output_type": "stream",
          "text": [
            "Задайте вопрос : привет\n",
            "WARNING:tensorflow:Model was constructed with shape (None, 13) for input Tensor(\"input_2:0\", shape=(None, 13), dtype=float32), but it was called on an input with incompatible shape (None, 1).\n",
            " что нибудь на ней \n",
            "Задайте вопрос : на крыше\n",
            " да да да да да \n",
            "Задайте вопрос : танцуешь\n",
            " нет \n",
            "Задайте вопрос : поешь\n"
          ],
          "name": "stdout"
        },
        {
          "output_type": "error",
          "ename": "KeyError",
          "evalue": "ignored",
          "traceback": [
            "\u001b[0;31m---------------------------------------------------------------------------\u001b[0m",
            "\u001b[0;31mKeyError\u001b[0m                                  Traceback (most recent call last)",
            "\u001b[0;32m<ipython-input-14-0fe35442f57c>\u001b[0m in \u001b[0;36m<module>\u001b[0;34m()\u001b[0m\n\u001b[1;32m     24\u001b[0m \u001b[0mencModel\u001b[0m\u001b[0;34m,\u001b[0m \u001b[0mdecModel\u001b[0m \u001b[0;34m=\u001b[0m \u001b[0mmakeInferenceModels\u001b[0m\u001b[0;34m(\u001b[0m\u001b[0;34m)\u001b[0m\u001b[0;34m\u001b[0m\u001b[0;34m\u001b[0m\u001b[0m\n\u001b[1;32m     25\u001b[0m \u001b[0;32mfor\u001b[0m \u001b[0m_\u001b[0m \u001b[0;32min\u001b[0m \u001b[0mrange\u001b[0m\u001b[0;34m(\u001b[0m\u001b[0;36m6\u001b[0m\u001b[0;34m)\u001b[0m\u001b[0;34m:\u001b[0m\u001b[0;34m\u001b[0m\u001b[0;34m\u001b[0m\u001b[0m\n\u001b[0;32m---> 26\u001b[0;31m   \u001b[0mstatesValues\u001b[0m \u001b[0;34m=\u001b[0m \u001b[0mencModel\u001b[0m\u001b[0;34m.\u001b[0m\u001b[0mpredict\u001b[0m\u001b[0;34m(\u001b[0m\u001b[0mstrToTokens\u001b[0m\u001b[0;34m(\u001b[0m\u001b[0minput\u001b[0m\u001b[0;34m(\u001b[0m \u001b[0;34m'Задайте вопрос : '\u001b[0m \u001b[0;34m)\u001b[0m\u001b[0;34m)\u001b[0m\u001b[0;34m)\u001b[0m\u001b[0;34m\u001b[0m\u001b[0;34m\u001b[0m\u001b[0m\n\u001b[0m\u001b[1;32m     27\u001b[0m   \u001b[0memptyTargetSeq\u001b[0m \u001b[0;34m=\u001b[0m \u001b[0mnp\u001b[0m\u001b[0;34m.\u001b[0m\u001b[0mzeros\u001b[0m\u001b[0;34m(\u001b[0m\u001b[0;34m(\u001b[0m\u001b[0;36m1\u001b[0m\u001b[0;34m,\u001b[0m \u001b[0;36m1\u001b[0m\u001b[0;34m)\u001b[0m\u001b[0;34m)\u001b[0m\u001b[0;34m\u001b[0m\u001b[0;34m\u001b[0m\u001b[0m\n\u001b[1;32m     28\u001b[0m   \u001b[0memptyTargetSeq\u001b[0m\u001b[0;34m[\u001b[0m\u001b[0;36m0\u001b[0m\u001b[0;34m,\u001b[0m \u001b[0;36m0\u001b[0m\u001b[0;34m]\u001b[0m \u001b[0;34m=\u001b[0m \u001b[0mtokenizer\u001b[0m\u001b[0;34m.\u001b[0m\u001b[0mword_index\u001b[0m\u001b[0;34m[\u001b[0m\u001b[0;34m'start'\u001b[0m\u001b[0;34m]\u001b[0m\u001b[0;34m\u001b[0m\u001b[0;34m\u001b[0m\u001b[0m\n",
            "\u001b[0;32m<ipython-input-14-0fe35442f57c>\u001b[0m in \u001b[0;36mstrToTokens\u001b[0;34m(sentence)\u001b[0m\n\u001b[1;32m     18\u001b[0m   \u001b[0mtokensList\u001b[0m \u001b[0;34m=\u001b[0m \u001b[0mlist\u001b[0m\u001b[0;34m(\u001b[0m\u001b[0;34m)\u001b[0m\u001b[0;34m\u001b[0m\u001b[0;34m\u001b[0m\u001b[0m\n\u001b[1;32m     19\u001b[0m   \u001b[0;32mfor\u001b[0m \u001b[0mword\u001b[0m \u001b[0;32min\u001b[0m \u001b[0mwords\u001b[0m\u001b[0;34m:\u001b[0m\u001b[0;34m\u001b[0m\u001b[0;34m\u001b[0m\u001b[0m\n\u001b[0;32m---> 20\u001b[0;31m     \u001b[0mtokensList\u001b[0m\u001b[0;34m.\u001b[0m\u001b[0mappend\u001b[0m\u001b[0;34m(\u001b[0m\u001b[0mtokenizer\u001b[0m\u001b[0;34m.\u001b[0m\u001b[0mword_index\u001b[0m\u001b[0;34m[\u001b[0m\u001b[0mword\u001b[0m\u001b[0;34m]\u001b[0m\u001b[0;34m)\u001b[0m\u001b[0;34m\u001b[0m\u001b[0;34m\u001b[0m\u001b[0m\n\u001b[0m\u001b[1;32m     21\u001b[0m   \u001b[0;32mreturn\u001b[0m \u001b[0mpad_sequences\u001b[0m\u001b[0;34m(\u001b[0m\u001b[0;34m[\u001b[0m\u001b[0mtokensList\u001b[0m\u001b[0;34m]\u001b[0m\u001b[0;34m,\u001b[0m \u001b[0mmaxlen\u001b[0m\u001b[0;34m=\u001b[0m\u001b[0mmaxLenQuestions\u001b[0m \u001b[0;34m,\u001b[0m \u001b[0mpadding\u001b[0m\u001b[0;34m=\u001b[0m\u001b[0;34m'post'\u001b[0m\u001b[0;34m)\u001b[0m\u001b[0;34m\u001b[0m\u001b[0;34m\u001b[0m\u001b[0m\n\u001b[1;32m     22\u001b[0m \u001b[0;34m\u001b[0m\u001b[0m\n",
            "\u001b[0;31mKeyError\u001b[0m: 'поешь'"
          ]
        }
      ]
    },
    {
      "cell_type": "markdown",
      "metadata": {
        "id": "cs6EeK_1Pi02"
      },
      "source": [
        "30 ЭПОХ\n"
      ]
    },
    {
      "cell_type": "code",
      "metadata": {
        "id": "pZbc7D-WPCVB",
        "outputId": "59c89f7c-d15a-4c88-88d3-70fb4b1db346",
        "colab": {
          "base_uri": "https://localhost:8080/"
        }
      },
      "source": [
        "# Запустим обучение и сохраним модель\n",
        "model.fit([encoderForInput , decoderForInput], decoderForOutput, batch_size=50, epochs=30) \n",
        "# model.save( '/content/drive/My Drive/Models/model_30epochs(rms).h5' )"
      ],
      "execution_count": 15,
      "outputs": [
        {
          "output_type": "stream",
          "text": [
            "Epoch 1/30\n",
            "238/238 [==============================] - 10s 41ms/step - loss: 1.3355\n",
            "Epoch 2/30\n",
            "238/238 [==============================] - 10s 41ms/step - loss: 1.3073\n",
            "Epoch 3/30\n",
            "238/238 [==============================] - 10s 41ms/step - loss: 1.2804\n",
            "Epoch 4/30\n",
            "238/238 [==============================] - 10s 41ms/step - loss: 1.2512\n",
            "Epoch 5/30\n",
            "238/238 [==============================] - 10s 41ms/step - loss: 1.2230\n",
            "Epoch 6/30\n",
            "238/238 [==============================] - 10s 41ms/step - loss: 1.1962\n",
            "Epoch 7/30\n",
            "238/238 [==============================] - 10s 41ms/step - loss: 1.1703\n",
            "Epoch 8/30\n",
            "238/238 [==============================] - 10s 41ms/step - loss: 1.1446\n",
            "Epoch 9/30\n",
            "238/238 [==============================] - 10s 41ms/step - loss: 1.1211\n",
            "Epoch 10/30\n",
            "238/238 [==============================] - 10s 41ms/step - loss: 1.0994\n",
            "Epoch 11/30\n",
            "238/238 [==============================] - 10s 41ms/step - loss: 1.0777\n",
            "Epoch 12/30\n",
            "238/238 [==============================] - 10s 41ms/step - loss: 1.0585\n",
            "Epoch 13/30\n",
            "238/238 [==============================] - 10s 42ms/step - loss: 1.0402\n",
            "Epoch 14/30\n",
            "238/238 [==============================] - 10s 43ms/step - loss: 1.0216\n",
            "Epoch 15/30\n",
            "238/238 [==============================] - 10s 41ms/step - loss: 1.0071\n",
            "Epoch 16/30\n",
            "238/238 [==============================] - 10s 41ms/step - loss: 0.9927\n",
            "Epoch 17/30\n",
            "238/238 [==============================] - 10s 41ms/step - loss: 0.9800\n",
            "Epoch 18/30\n",
            "238/238 [==============================] - 10s 41ms/step - loss: 0.9686\n",
            "Epoch 19/30\n",
            "238/238 [==============================] - 10s 41ms/step - loss: 0.9589\n",
            "Epoch 20/30\n",
            "238/238 [==============================] - 10s 41ms/step - loss: 0.9497\n",
            "Epoch 21/30\n",
            "238/238 [==============================] - 10s 41ms/step - loss: 0.9392\n",
            "Epoch 22/30\n",
            "238/238 [==============================] - 10s 41ms/step - loss: 0.9282\n",
            "Epoch 23/30\n",
            "238/238 [==============================] - 10s 41ms/step - loss: 0.9174\n",
            "Epoch 24/30\n",
            "238/238 [==============================] - 10s 41ms/step - loss: 0.9080\n",
            "Epoch 25/30\n",
            "238/238 [==============================] - 10s 41ms/step - loss: 0.9023\n",
            "Epoch 26/30\n",
            "238/238 [==============================] - 10s 41ms/step - loss: 0.8964\n",
            "Epoch 27/30\n",
            "238/238 [==============================] - 10s 41ms/step - loss: 0.8913\n",
            "Epoch 28/30\n",
            "238/238 [==============================] - 10s 41ms/step - loss: 0.8872\n",
            "Epoch 29/30\n",
            "238/238 [==============================] - 10s 41ms/step - loss: 0.8833\n",
            "Epoch 30/30\n",
            "238/238 [==============================] - 10s 41ms/step - loss: 0.8788\n"
          ],
          "name": "stdout"
        },
        {
          "output_type": "execute_result",
          "data": {
            "text/plain": [
              "<tensorflow.python.keras.callbacks.History at 0x7f638a4dd710>"
            ]
          },
          "metadata": {
            "tags": []
          },
          "execution_count": 15
        }
      ]
    },
    {
      "cell_type": "code",
      "metadata": {
        "id": "Ir-FRz7APCX4",
        "outputId": "14467591-bee3-422b-8c3e-3dfebfb543f3",
        "colab": {
          "base_uri": "https://localhost:8080/",
          "height": 550
        }
      },
      "source": [
        "# Создаем рабочую модель для вывода ответов на запросы пользователя\n",
        "\n",
        "def makeInferenceModels():\n",
        "  encoderModel = Model(encoderInputs, encoderStates) \n",
        "  decoderStateInput_h = Input(shape=(200 ,)) \n",
        "  decoderStateInput_c = Input(shape=(200 ,)) \n",
        "  decoderStatesInputs = [decoderStateInput_h, decoderStateInput_c]\n",
        "  decoderOutputs, state_h, state_c = decoderLSTM(decoderEmbedding, initial_state=decoderStatesInputs)\n",
        "  decoderStates = [state_h, state_c] \n",
        "  decoderOutputs = decoderDense(decoderOutputs)\n",
        "  decoderModel = Model([decoderInputs] + decoderStatesInputs, [decoderOutputs] + decoderStates)\n",
        "  return encoderModel , decoderModel\n",
        "\n",
        "\n",
        "# Создадим функцию, которая преобразует вопрос пользователя в последовательность индексов\n",
        "def strToTokens(sentence: str): \n",
        "  words = sentence.lower().split()\n",
        "  tokensList = list()\n",
        "  for word in words:\n",
        "    tokensList.append(tokenizer.word_index[word])\n",
        "  return pad_sequences([tokensList], maxlen=maxLenQuestions , padding='post')\n",
        "\n",
        "# Устанавливаем окончательные настройки и запускаем модель\n",
        "encModel, decModel = makeInferenceModels()\n",
        "for _ in range(6):\n",
        "  statesValues = encModel.predict(strToTokens(input( 'Задайте вопрос : ' )))\n",
        "  emptyTargetSeq = np.zeros((1, 1))    \n",
        "  emptyTargetSeq[0, 0] = tokenizer.word_index['start']\n",
        "  stopCondition = False \n",
        "  decodedTranslation = ''\n",
        "  while not stopCondition :\n",
        "    decOutputs , h , c = decModel.predict([emptyTargetSeq] + statesValues)\n",
        "    \n",
        "    sampledWordIndex = np.argmax(decOutputs, axis=-1) \n",
        "    sampledWord = None \n",
        "    for word , index in tokenizer.word_index.items():\n",
        "      if sampledWordIndex == index: \n",
        "        decodedTranslation += ' {}'.format(word) \n",
        "        sampledWord = word \n",
        "\n",
        "    if sampledWord == 'end' or len(decodedTranslation.split()) > maxLenAnswers:\n",
        "      stopCondition = True \n",
        "\n",
        "    emptyTargetSeq = np.zeros((1, 1)) \n",
        "    emptyTargetSeq[0, 0] = sampledWordIndex \n",
        "    statesValues = [h, c] \n",
        "  \n",
        "  print(decodedTranslation[:-3]) \n",
        "  # 30 эпох немного лучше чем 20,но еще не предел"
      ],
      "execution_count": 16,
      "outputs": [
        {
          "output_type": "stream",
          "text": [
            "Задайте вопрос : Привет\n",
            "WARNING:tensorflow:Model was constructed with shape (None, 13) for input Tensor(\"input_2:0\", shape=(None, 13), dtype=float32), but it was called on an input with incompatible shape (None, 1).\n",
            " привет тебя зовут ты \n",
            "Задайте вопрос : Вася\n",
            " да \n",
            "Задайте вопрос : а тебя как\n",
            " сейчас так \n",
            "Задайте вопрос : просто\n",
            " а \n",
            "Задайте вопрос : первая буква алфавита\n"
          ],
          "name": "stdout"
        },
        {
          "output_type": "error",
          "ename": "KeyError",
          "evalue": "ignored",
          "traceback": [
            "\u001b[0;31m---------------------------------------------------------------------------\u001b[0m",
            "\u001b[0;31mKeyError\u001b[0m                                  Traceback (most recent call last)",
            "\u001b[0;32m<ipython-input-16-06755919de44>\u001b[0m in \u001b[0;36m<module>\u001b[0;34m()\u001b[0m\n\u001b[1;32m     24\u001b[0m \u001b[0mencModel\u001b[0m\u001b[0;34m,\u001b[0m \u001b[0mdecModel\u001b[0m \u001b[0;34m=\u001b[0m \u001b[0mmakeInferenceModels\u001b[0m\u001b[0;34m(\u001b[0m\u001b[0;34m)\u001b[0m\u001b[0;34m\u001b[0m\u001b[0;34m\u001b[0m\u001b[0m\n\u001b[1;32m     25\u001b[0m \u001b[0;32mfor\u001b[0m \u001b[0m_\u001b[0m \u001b[0;32min\u001b[0m \u001b[0mrange\u001b[0m\u001b[0;34m(\u001b[0m\u001b[0;36m6\u001b[0m\u001b[0;34m)\u001b[0m\u001b[0;34m:\u001b[0m\u001b[0;34m\u001b[0m\u001b[0;34m\u001b[0m\u001b[0m\n\u001b[0;32m---> 26\u001b[0;31m   \u001b[0mstatesValues\u001b[0m \u001b[0;34m=\u001b[0m \u001b[0mencModel\u001b[0m\u001b[0;34m.\u001b[0m\u001b[0mpredict\u001b[0m\u001b[0;34m(\u001b[0m\u001b[0mstrToTokens\u001b[0m\u001b[0;34m(\u001b[0m\u001b[0minput\u001b[0m\u001b[0;34m(\u001b[0m \u001b[0;34m'Задайте вопрос : '\u001b[0m \u001b[0;34m)\u001b[0m\u001b[0;34m)\u001b[0m\u001b[0;34m)\u001b[0m\u001b[0;34m\u001b[0m\u001b[0;34m\u001b[0m\u001b[0m\n\u001b[0m\u001b[1;32m     27\u001b[0m   \u001b[0memptyTargetSeq\u001b[0m \u001b[0;34m=\u001b[0m \u001b[0mnp\u001b[0m\u001b[0;34m.\u001b[0m\u001b[0mzeros\u001b[0m\u001b[0;34m(\u001b[0m\u001b[0;34m(\u001b[0m\u001b[0;36m1\u001b[0m\u001b[0;34m,\u001b[0m \u001b[0;36m1\u001b[0m\u001b[0;34m)\u001b[0m\u001b[0;34m)\u001b[0m\u001b[0;34m\u001b[0m\u001b[0;34m\u001b[0m\u001b[0m\n\u001b[1;32m     28\u001b[0m   \u001b[0memptyTargetSeq\u001b[0m\u001b[0;34m[\u001b[0m\u001b[0;36m0\u001b[0m\u001b[0;34m,\u001b[0m \u001b[0;36m0\u001b[0m\u001b[0;34m]\u001b[0m \u001b[0;34m=\u001b[0m \u001b[0mtokenizer\u001b[0m\u001b[0;34m.\u001b[0m\u001b[0mword_index\u001b[0m\u001b[0;34m[\u001b[0m\u001b[0;34m'start'\u001b[0m\u001b[0;34m]\u001b[0m\u001b[0;34m\u001b[0m\u001b[0;34m\u001b[0m\u001b[0m\n",
            "\u001b[0;32m<ipython-input-16-06755919de44>\u001b[0m in \u001b[0;36mstrToTokens\u001b[0;34m(sentence)\u001b[0m\n\u001b[1;32m     18\u001b[0m   \u001b[0mtokensList\u001b[0m \u001b[0;34m=\u001b[0m \u001b[0mlist\u001b[0m\u001b[0;34m(\u001b[0m\u001b[0;34m)\u001b[0m\u001b[0;34m\u001b[0m\u001b[0;34m\u001b[0m\u001b[0m\n\u001b[1;32m     19\u001b[0m   \u001b[0;32mfor\u001b[0m \u001b[0mword\u001b[0m \u001b[0;32min\u001b[0m \u001b[0mwords\u001b[0m\u001b[0;34m:\u001b[0m\u001b[0;34m\u001b[0m\u001b[0;34m\u001b[0m\u001b[0m\n\u001b[0;32m---> 20\u001b[0;31m     \u001b[0mtokensList\u001b[0m\u001b[0;34m.\u001b[0m\u001b[0mappend\u001b[0m\u001b[0;34m(\u001b[0m\u001b[0mtokenizer\u001b[0m\u001b[0;34m.\u001b[0m\u001b[0mword_index\u001b[0m\u001b[0;34m[\u001b[0m\u001b[0mword\u001b[0m\u001b[0;34m]\u001b[0m\u001b[0;34m)\u001b[0m\u001b[0;34m\u001b[0m\u001b[0;34m\u001b[0m\u001b[0m\n\u001b[0m\u001b[1;32m     21\u001b[0m   \u001b[0;32mreturn\u001b[0m \u001b[0mpad_sequences\u001b[0m\u001b[0;34m(\u001b[0m\u001b[0;34m[\u001b[0m\u001b[0mtokensList\u001b[0m\u001b[0;34m]\u001b[0m\u001b[0;34m,\u001b[0m \u001b[0mmaxlen\u001b[0m\u001b[0;34m=\u001b[0m\u001b[0mmaxLenQuestions\u001b[0m \u001b[0;34m,\u001b[0m \u001b[0mpadding\u001b[0m\u001b[0;34m=\u001b[0m\u001b[0;34m'post'\u001b[0m\u001b[0;34m)\u001b[0m\u001b[0;34m\u001b[0m\u001b[0;34m\u001b[0m\u001b[0m\n\u001b[1;32m     22\u001b[0m \u001b[0;34m\u001b[0m\u001b[0m\n",
            "\u001b[0;31mKeyError\u001b[0m: 'алфавита'"
          ]
        }
      ]
    },
    {
      "cell_type": "markdown",
      "metadata": {
        "id": "REYwxFqkQzIb"
      },
      "source": [
        "50 ЭПОХ"
      ]
    },
    {
      "cell_type": "code",
      "metadata": {
        "id": "h3ZIvnXBPCb9",
        "outputId": "de1b37c3-2240-48f2-db18-d1b7a78d3fe3",
        "colab": {
          "base_uri": "https://localhost:8080/"
        }
      },
      "source": [
        "# Запустим обучение и сохраним модель\n",
        "model.fit([encoderForInput , decoderForInput], decoderForOutput, batch_size=50, epochs=50) \n",
        "# model.save( '/content/drive/My Drive/Models/model_50epochs(rms).h5' )"
      ],
      "execution_count": 17,
      "outputs": [
        {
          "output_type": "stream",
          "text": [
            "Epoch 1/50\n",
            "238/238 [==============================] - 10s 41ms/step - loss: 0.8743\n",
            "Epoch 2/50\n",
            "238/238 [==============================] - 10s 42ms/step - loss: 0.8704\n",
            "Epoch 3/50\n",
            "238/238 [==============================] - 10s 41ms/step - loss: 0.8657\n",
            "Epoch 4/50\n",
            "238/238 [==============================] - 10s 42ms/step - loss: 0.8617\n",
            "Epoch 5/50\n",
            "238/238 [==============================] - 10s 43ms/step - loss: 0.8572\n",
            "Epoch 6/50\n",
            "238/238 [==============================] - 10s 41ms/step - loss: 0.8534\n",
            "Epoch 7/50\n",
            "238/238 [==============================] - 10s 41ms/step - loss: 0.8498\n",
            "Epoch 8/50\n",
            "238/238 [==============================] - 10s 41ms/step - loss: 0.8459\n",
            "Epoch 9/50\n",
            "238/238 [==============================] - 10s 41ms/step - loss: 0.8417\n",
            "Epoch 10/50\n",
            "238/238 [==============================] - 10s 41ms/step - loss: 0.8379\n",
            "Epoch 11/50\n",
            "238/238 [==============================] - 10s 41ms/step - loss: 0.8340\n",
            "Epoch 12/50\n",
            "238/238 [==============================] - 10s 41ms/step - loss: 0.8305\n",
            "Epoch 13/50\n",
            "238/238 [==============================] - 10s 41ms/step - loss: 0.8276\n",
            "Epoch 14/50\n",
            "238/238 [==============================] - 10s 41ms/step - loss: 0.8245\n",
            "Epoch 15/50\n",
            "238/238 [==============================] - 10s 41ms/step - loss: 0.8209\n",
            "Epoch 16/50\n",
            "238/238 [==============================] - 10s 41ms/step - loss: 0.8180\n",
            "Epoch 17/50\n",
            "238/238 [==============================] - 10s 41ms/step - loss: 0.8149\n",
            "Epoch 18/50\n",
            "238/238 [==============================] - 10s 41ms/step - loss: 0.8120\n",
            "Epoch 19/50\n",
            "238/238 [==============================] - 10s 41ms/step - loss: 0.8093\n",
            "Epoch 20/50\n",
            "238/238 [==============================] - 10s 41ms/step - loss: 0.8075\n",
            "Epoch 21/50\n",
            "238/238 [==============================] - 10s 41ms/step - loss: 0.8051\n",
            "Epoch 22/50\n",
            "238/238 [==============================] - 10s 41ms/step - loss: 0.8026\n",
            "Epoch 23/50\n",
            "238/238 [==============================] - 10s 41ms/step - loss: 0.8011\n",
            "Epoch 24/50\n",
            "238/238 [==============================] - 10s 41ms/step - loss: 0.7989\n",
            "Epoch 25/50\n",
            "238/238 [==============================] - 10s 41ms/step - loss: 0.7981\n",
            "Epoch 26/50\n",
            "238/238 [==============================] - 10s 41ms/step - loss: 0.7963\n",
            "Epoch 27/50\n",
            "238/238 [==============================] - 10s 41ms/step - loss: 0.7946\n",
            "Epoch 28/50\n",
            "238/238 [==============================] - 10s 41ms/step - loss: 0.7937\n",
            "Epoch 29/50\n",
            "238/238 [==============================] - 10s 41ms/step - loss: 0.7922\n",
            "Epoch 30/50\n",
            "238/238 [==============================] - 10s 41ms/step - loss: 0.7914\n",
            "Epoch 31/50\n",
            "238/238 [==============================] - 10s 41ms/step - loss: 0.7900\n",
            "Epoch 32/50\n",
            "238/238 [==============================] - 10s 42ms/step - loss: 0.7891\n",
            "Epoch 33/50\n",
            "238/238 [==============================] - 10s 42ms/step - loss: 0.7878\n",
            "Epoch 34/50\n",
            "238/238 [==============================] - 10s 41ms/step - loss: 0.7867\n",
            "Epoch 35/50\n",
            "238/238 [==============================] - 10s 42ms/step - loss: 0.7856\n",
            "Epoch 36/50\n",
            "238/238 [==============================] - 10s 42ms/step - loss: 0.7842\n",
            "Epoch 37/50\n",
            "238/238 [==============================] - 10s 42ms/step - loss: 0.7832\n",
            "Epoch 38/50\n",
            "238/238 [==============================] - 10s 41ms/step - loss: 0.7813\n",
            "Epoch 39/50\n",
            "238/238 [==============================] - 10s 41ms/step - loss: 0.7798\n",
            "Epoch 40/50\n",
            "238/238 [==============================] - 10s 41ms/step - loss: 0.7795\n",
            "Epoch 41/50\n",
            "238/238 [==============================] - 10s 41ms/step - loss: 0.7777\n",
            "Epoch 42/50\n",
            "238/238 [==============================] - 10s 42ms/step - loss: 0.7762\n",
            "Epoch 43/50\n",
            "238/238 [==============================] - 10s 42ms/step - loss: 0.7750\n",
            "Epoch 44/50\n",
            "238/238 [==============================] - 10s 41ms/step - loss: 0.7745\n",
            "Epoch 45/50\n",
            "238/238 [==============================] - 10s 41ms/step - loss: 0.7733\n",
            "Epoch 46/50\n",
            "238/238 [==============================] - 10s 41ms/step - loss: 0.7725\n",
            "Epoch 47/50\n",
            "238/238 [==============================] - 10s 41ms/step - loss: 0.7708\n",
            "Epoch 48/50\n",
            "238/238 [==============================] - 10s 41ms/step - loss: 0.7704\n",
            "Epoch 49/50\n",
            "238/238 [==============================] - 10s 41ms/step - loss: 0.7696\n",
            "Epoch 50/50\n",
            "238/238 [==============================] - 10s 41ms/step - loss: 0.7680\n"
          ],
          "name": "stdout"
        },
        {
          "output_type": "execute_result",
          "data": {
            "text/plain": [
              "<tensorflow.python.keras.callbacks.History at 0x7f638a2b97f0>"
            ]
          },
          "metadata": {
            "tags": []
          },
          "execution_count": 17
        }
      ]
    },
    {
      "cell_type": "code",
      "metadata": {
        "id": "R4dOb6TcRPKe",
        "outputId": "b1a3de43-e4b4-47ec-846d-e7c2402955e1",
        "colab": {
          "base_uri": "https://localhost:8080/",
          "height": 481
        }
      },
      "source": [
        "# Создаем рабочую модель для вывода ответов на запросы пользователя\n",
        "\n",
        "def makeInferenceModels():\n",
        "  encoderModel = Model(encoderInputs, encoderStates) \n",
        "  decoderStateInput_h = Input(shape=(200 ,)) \n",
        "  decoderStateInput_c = Input(shape=(200 ,)) \n",
        "  decoderStatesInputs = [decoderStateInput_h, decoderStateInput_c]\n",
        "  decoderOutputs, state_h, state_c = decoderLSTM(decoderEmbedding, initial_state=decoderStatesInputs)\n",
        "  decoderStates = [state_h, state_c] \n",
        "  decoderOutputs = decoderDense(decoderOutputs)\n",
        "  decoderModel = Model([decoderInputs] + decoderStatesInputs, [decoderOutputs] + decoderStates)\n",
        "  return encoderModel , decoderModel\n",
        "\n",
        "\n",
        "# Создадим функцию, которая преобразует вопрос пользователя в последовательность индексов\n",
        "def strToTokens(sentence: str): \n",
        "  words = sentence.lower().split()\n",
        "  tokensList = list()\n",
        "  for word in words:\n",
        "    tokensList.append(tokenizer.word_index[word])\n",
        "  return pad_sequences([tokensList], maxlen=maxLenQuestions , padding='post')\n",
        "\n",
        "# Устанавливаем окончательные настройки и запускаем модель\n",
        "encModel, decModel = makeInferenceModels()\n",
        "for _ in range(6):\n",
        "  statesValues = encModel.predict(strToTokens(input( 'Задайте вопрос : ' )))\n",
        "  emptyTargetSeq = np.zeros((1, 1))    \n",
        "  emptyTargetSeq[0, 0] = tokenizer.word_index['start']\n",
        "  stopCondition = False \n",
        "  decodedTranslation = ''\n",
        "  while not stopCondition :\n",
        "    decOutputs , h , c = decModel.predict([emptyTargetSeq] + statesValues)\n",
        "    \n",
        "    sampledWordIndex = np.argmax(decOutputs, axis=-1) \n",
        "    sampledWord = None \n",
        "    for word , index in tokenizer.word_index.items():\n",
        "      if sampledWordIndex == index: \n",
        "        decodedTranslation += ' {}'.format(word) \n",
        "        sampledWord = word \n",
        "\n",
        "    if sampledWord == 'end' or len(decodedTranslation.split()) > maxLenAnswers:\n",
        "      stopCondition = True \n",
        "\n",
        "    emptyTargetSeq = np.zeros((1, 1)) \n",
        "    emptyTargetSeq[0, 0] = sampledWordIndex \n",
        "    statesValues = [h, c] \n",
        "  \n",
        "  print(decodedTranslation[:-3]) \n",
        "  # 50 эпох похоже на заклинание"
      ],
      "execution_count": 19,
      "outputs": [
        {
          "output_type": "stream",
          "text": [
            "Задайте вопрос : Привет\n",
            "WARNING:tensorflow:Model was constructed with shape (None, 13) for input Tensor(\"input_2:0\", shape=(None, 13), dtype=float32), but it was called on an input with incompatible shape (None, 1).\n",
            " как вас ты на же что нибудь вам да \n",
            "Задайте вопрос : мне да а тебе\n",
            " мне нет \n",
            "Задайте вопрос : жесткий ты\n"
          ],
          "name": "stdout"
        },
        {
          "output_type": "error",
          "ename": "KeyError",
          "evalue": "ignored",
          "traceback": [
            "\u001b[0;31m---------------------------------------------------------------------------\u001b[0m",
            "\u001b[0;31mKeyError\u001b[0m                                  Traceback (most recent call last)",
            "\u001b[0;32m<ipython-input-19-ebfd042d5db9>\u001b[0m in \u001b[0;36m<module>\u001b[0;34m()\u001b[0m\n\u001b[1;32m     24\u001b[0m \u001b[0mencModel\u001b[0m\u001b[0;34m,\u001b[0m \u001b[0mdecModel\u001b[0m \u001b[0;34m=\u001b[0m \u001b[0mmakeInferenceModels\u001b[0m\u001b[0;34m(\u001b[0m\u001b[0;34m)\u001b[0m\u001b[0;34m\u001b[0m\u001b[0;34m\u001b[0m\u001b[0m\n\u001b[1;32m     25\u001b[0m \u001b[0;32mfor\u001b[0m \u001b[0m_\u001b[0m \u001b[0;32min\u001b[0m \u001b[0mrange\u001b[0m\u001b[0;34m(\u001b[0m\u001b[0;36m6\u001b[0m\u001b[0;34m)\u001b[0m\u001b[0;34m:\u001b[0m\u001b[0;34m\u001b[0m\u001b[0;34m\u001b[0m\u001b[0m\n\u001b[0;32m---> 26\u001b[0;31m   \u001b[0mstatesValues\u001b[0m \u001b[0;34m=\u001b[0m \u001b[0mencModel\u001b[0m\u001b[0;34m.\u001b[0m\u001b[0mpredict\u001b[0m\u001b[0;34m(\u001b[0m\u001b[0mstrToTokens\u001b[0m\u001b[0;34m(\u001b[0m\u001b[0minput\u001b[0m\u001b[0;34m(\u001b[0m \u001b[0;34m'Задайте вопрос : '\u001b[0m \u001b[0;34m)\u001b[0m\u001b[0;34m)\u001b[0m\u001b[0;34m)\u001b[0m\u001b[0;34m\u001b[0m\u001b[0;34m\u001b[0m\u001b[0m\n\u001b[0m\u001b[1;32m     27\u001b[0m   \u001b[0memptyTargetSeq\u001b[0m \u001b[0;34m=\u001b[0m \u001b[0mnp\u001b[0m\u001b[0;34m.\u001b[0m\u001b[0mzeros\u001b[0m\u001b[0;34m(\u001b[0m\u001b[0;34m(\u001b[0m\u001b[0;36m1\u001b[0m\u001b[0;34m,\u001b[0m \u001b[0;36m1\u001b[0m\u001b[0;34m)\u001b[0m\u001b[0;34m)\u001b[0m\u001b[0;34m\u001b[0m\u001b[0;34m\u001b[0m\u001b[0m\n\u001b[1;32m     28\u001b[0m   \u001b[0memptyTargetSeq\u001b[0m\u001b[0;34m[\u001b[0m\u001b[0;36m0\u001b[0m\u001b[0;34m,\u001b[0m \u001b[0;36m0\u001b[0m\u001b[0;34m]\u001b[0m \u001b[0;34m=\u001b[0m \u001b[0mtokenizer\u001b[0m\u001b[0;34m.\u001b[0m\u001b[0mword_index\u001b[0m\u001b[0;34m[\u001b[0m\u001b[0;34m'start'\u001b[0m\u001b[0;34m]\u001b[0m\u001b[0;34m\u001b[0m\u001b[0;34m\u001b[0m\u001b[0m\n",
            "\u001b[0;32m<ipython-input-19-ebfd042d5db9>\u001b[0m in \u001b[0;36mstrToTokens\u001b[0;34m(sentence)\u001b[0m\n\u001b[1;32m     18\u001b[0m   \u001b[0mtokensList\u001b[0m \u001b[0;34m=\u001b[0m \u001b[0mlist\u001b[0m\u001b[0;34m(\u001b[0m\u001b[0;34m)\u001b[0m\u001b[0;34m\u001b[0m\u001b[0;34m\u001b[0m\u001b[0m\n\u001b[1;32m     19\u001b[0m   \u001b[0;32mfor\u001b[0m \u001b[0mword\u001b[0m \u001b[0;32min\u001b[0m \u001b[0mwords\u001b[0m\u001b[0;34m:\u001b[0m\u001b[0;34m\u001b[0m\u001b[0;34m\u001b[0m\u001b[0m\n\u001b[0;32m---> 20\u001b[0;31m     \u001b[0mtokensList\u001b[0m\u001b[0;34m.\u001b[0m\u001b[0mappend\u001b[0m\u001b[0;34m(\u001b[0m\u001b[0mtokenizer\u001b[0m\u001b[0;34m.\u001b[0m\u001b[0mword_index\u001b[0m\u001b[0;34m[\u001b[0m\u001b[0mword\u001b[0m\u001b[0;34m]\u001b[0m\u001b[0;34m)\u001b[0m\u001b[0;34m\u001b[0m\u001b[0;34m\u001b[0m\u001b[0m\n\u001b[0m\u001b[1;32m     21\u001b[0m   \u001b[0;32mreturn\u001b[0m \u001b[0mpad_sequences\u001b[0m\u001b[0;34m(\u001b[0m\u001b[0;34m[\u001b[0m\u001b[0mtokensList\u001b[0m\u001b[0;34m]\u001b[0m\u001b[0;34m,\u001b[0m \u001b[0mmaxlen\u001b[0m\u001b[0;34m=\u001b[0m\u001b[0mmaxLenQuestions\u001b[0m \u001b[0;34m,\u001b[0m \u001b[0mpadding\u001b[0m\u001b[0;34m=\u001b[0m\u001b[0;34m'post'\u001b[0m\u001b[0;34m)\u001b[0m\u001b[0;34m\u001b[0m\u001b[0;34m\u001b[0m\u001b[0m\n\u001b[1;32m     22\u001b[0m \u001b[0;34m\u001b[0m\u001b[0m\n",
            "\u001b[0;31mKeyError\u001b[0m: 'жесткий'"
          ]
        }
      ]
    },
    {
      "cell_type": "markdown",
      "metadata": {
        "id": "ywTPEGdYRQdA"
      },
      "source": [
        "100 ЭПОХ"
      ]
    },
    {
      "cell_type": "code",
      "metadata": {
        "id": "9B3BFMoTRVcF",
        "outputId": "dc05f47a-5efa-4c10-d292-442ab62fb32a",
        "colab": {
          "base_uri": "https://localhost:8080/"
        }
      },
      "source": [
        "# Запустим обучение и сохраним модель\n",
        "model.fit([encoderForInput , decoderForInput], decoderForOutput, batch_size=50, epochs=100) \n",
        "# model.save( '/content/drive/My Drive/Models/model_100epochs(rms).h5' )"
      ],
      "execution_count": 20,
      "outputs": [
        {
          "output_type": "stream",
          "text": [
            "Epoch 1/100\n",
            "238/238 [==============================] - 10s 41ms/step - loss: 0.7664\n",
            "Epoch 2/100\n",
            "238/238 [==============================] - 10s 42ms/step - loss: 0.7655\n",
            "Epoch 3/100\n",
            "238/238 [==============================] - 10s 42ms/step - loss: 0.7648\n",
            "Epoch 4/100\n",
            "238/238 [==============================] - 10s 42ms/step - loss: 0.7639\n",
            "Epoch 5/100\n",
            "238/238 [==============================] - 10s 42ms/step - loss: 0.7630\n",
            "Epoch 6/100\n",
            "238/238 [==============================] - 10s 42ms/step - loss: 0.7620\n",
            "Epoch 7/100\n",
            "238/238 [==============================] - 10s 41ms/step - loss: 0.7614\n",
            "Epoch 8/100\n",
            "238/238 [==============================] - 10s 41ms/step - loss: 0.7606\n",
            "Epoch 9/100\n",
            "238/238 [==============================] - 10s 41ms/step - loss: 0.7596\n",
            "Epoch 10/100\n",
            "238/238 [==============================] - 10s 41ms/step - loss: 0.7587\n",
            "Epoch 11/100\n",
            "238/238 [==============================] - 10s 42ms/step - loss: 0.7578\n",
            "Epoch 12/100\n",
            "238/238 [==============================] - 10s 41ms/step - loss: 0.7571\n",
            "Epoch 13/100\n",
            "238/238 [==============================] - 10s 41ms/step - loss: 0.7557\n",
            "Epoch 14/100\n",
            "238/238 [==============================] - 10s 41ms/step - loss: 0.7552\n",
            "Epoch 15/100\n",
            "238/238 [==============================] - 10s 42ms/step - loss: 0.7544\n",
            "Epoch 16/100\n",
            "238/238 [==============================] - 10s 42ms/step - loss: 0.7542\n",
            "Epoch 17/100\n",
            "238/238 [==============================] - 10s 41ms/step - loss: 0.7532\n",
            "Epoch 18/100\n",
            "238/238 [==============================] - 10s 41ms/step - loss: 0.7520\n",
            "Epoch 19/100\n",
            "238/238 [==============================] - 10s 42ms/step - loss: 0.7519\n",
            "Epoch 20/100\n",
            "238/238 [==============================] - 10s 41ms/step - loss: 0.7510\n",
            "Epoch 21/100\n",
            "238/238 [==============================] - 10s 41ms/step - loss: 0.7499\n",
            "Epoch 22/100\n",
            "238/238 [==============================] - 10s 41ms/step - loss: 0.7491\n",
            "Epoch 23/100\n",
            "238/238 [==============================] - 10s 41ms/step - loss: 0.7488\n",
            "Epoch 24/100\n",
            "238/238 [==============================] - 10s 41ms/step - loss: 0.7479\n",
            "Epoch 25/100\n",
            "238/238 [==============================] - 10s 42ms/step - loss: 0.7469\n",
            "Epoch 26/100\n",
            "238/238 [==============================] - 10s 41ms/step - loss: 0.7457\n",
            "Epoch 27/100\n",
            "238/238 [==============================] - 10s 41ms/step - loss: 0.7459\n",
            "Epoch 28/100\n",
            "238/238 [==============================] - 10s 41ms/step - loss: 0.7451\n",
            "Epoch 29/100\n",
            "238/238 [==============================] - 10s 41ms/step - loss: 0.7443\n",
            "Epoch 30/100\n",
            "238/238 [==============================] - 10s 41ms/step - loss: 0.7438\n",
            "Epoch 31/100\n",
            "238/238 [==============================] - 10s 41ms/step - loss: 0.7431\n",
            "Epoch 32/100\n",
            "238/238 [==============================] - 10s 42ms/step - loss: 0.7420\n",
            "Epoch 33/100\n",
            "238/238 [==============================] - 10s 41ms/step - loss: 0.7418\n",
            "Epoch 34/100\n",
            "238/238 [==============================] - 10s 41ms/step - loss: 0.7412\n",
            "Epoch 35/100\n",
            "238/238 [==============================] - 10s 42ms/step - loss: 0.7403\n",
            "Epoch 36/100\n",
            "238/238 [==============================] - 10s 41ms/step - loss: 0.7395\n",
            "Epoch 37/100\n",
            "238/238 [==============================] - 10s 42ms/step - loss: 0.7383\n",
            "Epoch 38/100\n",
            "238/238 [==============================] - 10s 42ms/step - loss: 0.7387\n",
            "Epoch 39/100\n",
            "238/238 [==============================] - 10s 41ms/step - loss: 0.7379\n",
            "Epoch 40/100\n",
            "238/238 [==============================] - 10s 41ms/step - loss: 0.7370\n",
            "Epoch 41/100\n",
            "238/238 [==============================] - 10s 42ms/step - loss: 0.7373\n",
            "Epoch 42/100\n",
            "238/238 [==============================] - 10s 42ms/step - loss: 0.7368\n",
            "Epoch 43/100\n",
            "238/238 [==============================] - 10s 41ms/step - loss: 0.7356\n",
            "Epoch 44/100\n",
            "238/238 [==============================] - 10s 41ms/step - loss: 0.7356\n",
            "Epoch 45/100\n",
            "238/238 [==============================] - 10s 41ms/step - loss: 0.7354\n",
            "Epoch 46/100\n",
            "238/238 [==============================] - 10s 42ms/step - loss: 0.7348\n",
            "Epoch 47/100\n",
            "238/238 [==============================] - 10s 43ms/step - loss: 0.7345\n",
            "Epoch 48/100\n",
            "238/238 [==============================] - 10s 42ms/step - loss: 0.7337\n",
            "Epoch 49/100\n",
            "238/238 [==============================] - 10s 42ms/step - loss: 0.7328\n",
            "Epoch 50/100\n",
            "238/238 [==============================] - 10s 41ms/step - loss: 0.7323\n",
            "Epoch 51/100\n",
            "238/238 [==============================] - 10s 41ms/step - loss: 0.7329\n",
            "Epoch 52/100\n",
            "238/238 [==============================] - 10s 41ms/step - loss: 0.7323\n",
            "Epoch 53/100\n",
            "238/238 [==============================] - 10s 41ms/step - loss: 0.7313\n",
            "Epoch 54/100\n",
            "238/238 [==============================] - 10s 41ms/step - loss: 0.7306\n",
            "Epoch 55/100\n",
            "238/238 [==============================] - 10s 41ms/step - loss: 0.7309\n",
            "Epoch 56/100\n",
            "238/238 [==============================] - 10s 41ms/step - loss: 0.7298\n",
            "Epoch 57/100\n",
            "238/238 [==============================] - 10s 41ms/step - loss: 0.7295\n",
            "Epoch 58/100\n",
            "238/238 [==============================] - 10s 42ms/step - loss: 0.7288\n",
            "Epoch 59/100\n",
            "238/238 [==============================] - 10s 42ms/step - loss: 0.7292\n",
            "Epoch 60/100\n",
            "238/238 [==============================] - 10s 42ms/step - loss: 0.7287\n",
            "Epoch 61/100\n",
            "238/238 [==============================] - 10s 41ms/step - loss: 0.7283\n",
            "Epoch 62/100\n",
            "238/238 [==============================] - 10s 41ms/step - loss: 0.7274\n",
            "Epoch 63/100\n",
            "238/238 [==============================] - 10s 41ms/step - loss: 0.7267\n",
            "Epoch 64/100\n",
            "238/238 [==============================] - 10s 41ms/step - loss: 0.7265\n",
            "Epoch 65/100\n",
            "238/238 [==============================] - 10s 41ms/step - loss: 0.7256\n",
            "Epoch 66/100\n",
            "238/238 [==============================] - 10s 41ms/step - loss: 0.7252\n",
            "Epoch 67/100\n",
            "238/238 [==============================] - 10s 41ms/step - loss: 0.7251\n",
            "Epoch 68/100\n",
            "238/238 [==============================] - 10s 41ms/step - loss: 0.7243\n",
            "Epoch 69/100\n",
            "238/238 [==============================] - 10s 41ms/step - loss: 0.7246\n",
            "Epoch 70/100\n",
            "238/238 [==============================] - 10s 42ms/step - loss: 0.7242\n",
            "Epoch 71/100\n",
            "238/238 [==============================] - 10s 42ms/step - loss: 0.7239\n",
            "Epoch 72/100\n",
            "238/238 [==============================] - 10s 42ms/step - loss: 0.7232\n",
            "Epoch 73/100\n",
            "238/238 [==============================] - 10s 42ms/step - loss: 0.7225\n",
            "Epoch 74/100\n",
            "238/238 [==============================] - 10s 41ms/step - loss: 0.7226\n",
            "Epoch 75/100\n",
            "238/238 [==============================] - 10s 41ms/step - loss: 0.7217\n",
            "Epoch 76/100\n",
            "238/238 [==============================] - 10s 41ms/step - loss: 0.7215\n",
            "Epoch 77/100\n",
            "238/238 [==============================] - 10s 42ms/step - loss: 0.7214\n",
            "Epoch 78/100\n",
            "238/238 [==============================] - 10s 42ms/step - loss: 0.7215\n",
            "Epoch 79/100\n",
            "238/238 [==============================] - 10s 42ms/step - loss: 0.7204\n",
            "Epoch 80/100\n",
            "238/238 [==============================] - 10s 41ms/step - loss: 0.7198\n",
            "Epoch 81/100\n",
            "238/238 [==============================] - 10s 42ms/step - loss: 0.7196\n",
            "Epoch 82/100\n",
            "238/238 [==============================] - 10s 41ms/step - loss: 0.7193\n",
            "Epoch 83/100\n",
            "238/238 [==============================] - 10s 41ms/step - loss: 0.7192\n",
            "Epoch 84/100\n",
            "238/238 [==============================] - 10s 41ms/step - loss: 0.7183\n",
            "Epoch 85/100\n",
            "238/238 [==============================] - 10s 41ms/step - loss: 0.7183\n",
            "Epoch 86/100\n",
            "238/238 [==============================] - 10s 41ms/step - loss: 0.7181\n",
            "Epoch 87/100\n",
            "238/238 [==============================] - 10s 41ms/step - loss: 0.7171\n",
            "Epoch 88/100\n",
            "238/238 [==============================] - 10s 42ms/step - loss: 0.7174\n",
            "Epoch 89/100\n",
            "238/238 [==============================] - 10s 41ms/step - loss: 0.7177\n",
            "Epoch 90/100\n",
            "238/238 [==============================] - 10s 41ms/step - loss: 0.7174\n",
            "Epoch 91/100\n",
            "238/238 [==============================] - 10s 42ms/step - loss: 0.7162\n",
            "Epoch 92/100\n",
            "238/238 [==============================] - 10s 42ms/step - loss: 0.7162\n",
            "Epoch 93/100\n",
            "238/238 [==============================] - 10s 41ms/step - loss: 0.7160\n",
            "Epoch 94/100\n",
            "238/238 [==============================] - 10s 41ms/step - loss: 0.7155\n",
            "Epoch 95/100\n",
            "238/238 [==============================] - 10s 41ms/step - loss: 0.7149\n",
            "Epoch 96/100\n",
            "238/238 [==============================] - 10s 41ms/step - loss: 0.7148\n",
            "Epoch 97/100\n",
            "238/238 [==============================] - 10s 41ms/step - loss: 0.7152\n",
            "Epoch 98/100\n",
            "238/238 [==============================] - 10s 41ms/step - loss: 0.7141\n",
            "Epoch 99/100\n",
            "238/238 [==============================] - 10s 42ms/step - loss: 0.7143\n",
            "Epoch 100/100\n",
            "238/238 [==============================] - 10s 41ms/step - loss: 0.7132\n"
          ],
          "name": "stdout"
        },
        {
          "output_type": "execute_result",
          "data": {
            "text/plain": [
              "<tensorflow.python.keras.callbacks.History at 0x7f638a293748>"
            ]
          },
          "metadata": {
            "tags": []
          },
          "execution_count": 20
        }
      ]
    },
    {
      "cell_type": "code",
      "metadata": {
        "id": "PbCEnlNkRbbe",
        "outputId": "b89d8fca-8142-4fc2-98b3-1b5b20ed933b",
        "colab": {
          "base_uri": "https://localhost:8080/",
          "height": 533
        }
      },
      "source": [
        "# Создаем рабочую модель для вывода ответов на запросы пользователя\n",
        "\n",
        "def makeInferenceModels():\n",
        "  encoderModel = Model(encoderInputs, encoderStates) \n",
        "  decoderStateInput_h = Input(shape=(200 ,)) \n",
        "  decoderStateInput_c = Input(shape=(200 ,)) \n",
        "  decoderStatesInputs = [decoderStateInput_h, decoderStateInput_c]\n",
        "  decoderOutputs, state_h, state_c = decoderLSTM(decoderEmbedding, initial_state=decoderStatesInputs)\n",
        "  decoderStates = [state_h, state_c] \n",
        "  decoderOutputs = decoderDense(decoderOutputs)\n",
        "  decoderModel = Model([decoderInputs] + decoderStatesInputs, [decoderOutputs] + decoderStates)\n",
        "  return encoderModel , decoderModel\n",
        "\n",
        "\n",
        "# Создадим функцию, которая преобразует вопрос пользователя в последовательность индексов\n",
        "def strToTokens(sentence: str): \n",
        "  words = sentence.lower().split()\n",
        "  tokensList = list()\n",
        "  for word in words:\n",
        "    tokensList.append(tokenizer.word_index[word])\n",
        "  return pad_sequences([tokensList], maxlen=maxLenQuestions , padding='post')\n",
        "\n",
        "# Устанавливаем окончательные настройки и запускаем модель\n",
        "encModel, decModel = makeInferenceModels()\n",
        "for _ in range(6):\n",
        "  statesValues = encModel.predict(strToTokens(input( 'Задайте вопрос : ' )))\n",
        "  emptyTargetSeq = np.zeros((1, 1))    \n",
        "  emptyTargetSeq[0, 0] = tokenizer.word_index['start']\n",
        "  stopCondition = False \n",
        "  decodedTranslation = ''\n",
        "  while not stopCondition :\n",
        "    decOutputs , h , c = decModel.predict([emptyTargetSeq] + statesValues)\n",
        "    \n",
        "    sampledWordIndex = np.argmax(decOutputs, axis=-1) \n",
        "    sampledWord = None \n",
        "    for word , index in tokenizer.word_index.items():\n",
        "      if sampledWordIndex == index: \n",
        "        decodedTranslation += ' {}'.format(word) \n",
        "        sampledWord = word \n",
        "\n",
        "    if sampledWord == 'end' or len(decodedTranslation.split()) > maxLenAnswers:\n",
        "      stopCondition = True \n",
        "\n",
        "    emptyTargetSeq = np.zeros((1, 1)) \n",
        "    emptyTargetSeq[0, 0] = sampledWordIndex \n",
        "    statesValues = [h, c] \n",
        "  \n",
        "  print(decodedTranslation[:-3]) \n",
        "  # 100 эпох слабый словарный запас"
      ],
      "execution_count": 22,
      "outputs": [
        {
          "output_type": "stream",
          "text": [
            "Задайте вопрос : Привет\n",
            "WARNING:tensorflow:Model was constructed with shape (None, 13) for input Tensor(\"input_2:0\", shape=(None, 13), dtype=float32), but it was called on an input with incompatible shape (None, 1).\n",
            "WARNING:tensorflow:5 out of the last 22 calls to <function Model.make_predict_function.<locals>.predict_function at 0x7f63901452f0> triggered tf.function retracing. Tracing is expensive and the excessive number of tracings could be due to (1) creating @tf.function repeatedly in a loop, (2) passing tensors with different shapes, (3) passing Python objects instead of tensors. For (1), please define your @tf.function outside of the loop. For (2), @tf.function has experimental_relax_shapes=True option that relaxes argument shapes that can avoid unnecessary retracing. For (3), please refer to https://www.tensorflow.org/tutorials/customization/performance#python_or_tensor_args and https://www.tensorflow.org/api_docs/python/tf/function for  more details.\n",
            " что ты здесь делаешь \n",
            "Задайте вопрос : ищу шляпу\n",
            " сколько мы ты с хочешь я это не \n",
            "Задайте вопрос : пьешь\n",
            " не за что \n",
            "Задайте вопрос : красавчик\n"
          ],
          "name": "stdout"
        },
        {
          "output_type": "error",
          "ename": "KeyError",
          "evalue": "ignored",
          "traceback": [
            "\u001b[0;31m---------------------------------------------------------------------------\u001b[0m",
            "\u001b[0;31mKeyError\u001b[0m                                  Traceback (most recent call last)",
            "\u001b[0;32m<ipython-input-22-4fdd8b214836>\u001b[0m in \u001b[0;36m<module>\u001b[0;34m()\u001b[0m\n\u001b[1;32m     24\u001b[0m \u001b[0mencModel\u001b[0m\u001b[0;34m,\u001b[0m \u001b[0mdecModel\u001b[0m \u001b[0;34m=\u001b[0m \u001b[0mmakeInferenceModels\u001b[0m\u001b[0;34m(\u001b[0m\u001b[0;34m)\u001b[0m\u001b[0;34m\u001b[0m\u001b[0;34m\u001b[0m\u001b[0m\n\u001b[1;32m     25\u001b[0m \u001b[0;32mfor\u001b[0m \u001b[0m_\u001b[0m \u001b[0;32min\u001b[0m \u001b[0mrange\u001b[0m\u001b[0;34m(\u001b[0m\u001b[0;36m6\u001b[0m\u001b[0;34m)\u001b[0m\u001b[0;34m:\u001b[0m\u001b[0;34m\u001b[0m\u001b[0;34m\u001b[0m\u001b[0m\n\u001b[0;32m---> 26\u001b[0;31m   \u001b[0mstatesValues\u001b[0m \u001b[0;34m=\u001b[0m \u001b[0mencModel\u001b[0m\u001b[0;34m.\u001b[0m\u001b[0mpredict\u001b[0m\u001b[0;34m(\u001b[0m\u001b[0mstrToTokens\u001b[0m\u001b[0;34m(\u001b[0m\u001b[0minput\u001b[0m\u001b[0;34m(\u001b[0m \u001b[0;34m'Задайте вопрос : '\u001b[0m \u001b[0;34m)\u001b[0m\u001b[0;34m)\u001b[0m\u001b[0;34m)\u001b[0m\u001b[0;34m\u001b[0m\u001b[0;34m\u001b[0m\u001b[0m\n\u001b[0m\u001b[1;32m     27\u001b[0m   \u001b[0memptyTargetSeq\u001b[0m \u001b[0;34m=\u001b[0m \u001b[0mnp\u001b[0m\u001b[0;34m.\u001b[0m\u001b[0mzeros\u001b[0m\u001b[0;34m(\u001b[0m\u001b[0;34m(\u001b[0m\u001b[0;36m1\u001b[0m\u001b[0;34m,\u001b[0m \u001b[0;36m1\u001b[0m\u001b[0;34m)\u001b[0m\u001b[0;34m)\u001b[0m\u001b[0;34m\u001b[0m\u001b[0;34m\u001b[0m\u001b[0m\n\u001b[1;32m     28\u001b[0m   \u001b[0memptyTargetSeq\u001b[0m\u001b[0;34m[\u001b[0m\u001b[0;36m0\u001b[0m\u001b[0;34m,\u001b[0m \u001b[0;36m0\u001b[0m\u001b[0;34m]\u001b[0m \u001b[0;34m=\u001b[0m \u001b[0mtokenizer\u001b[0m\u001b[0;34m.\u001b[0m\u001b[0mword_index\u001b[0m\u001b[0;34m[\u001b[0m\u001b[0;34m'start'\u001b[0m\u001b[0;34m]\u001b[0m\u001b[0;34m\u001b[0m\u001b[0;34m\u001b[0m\u001b[0m\n",
            "\u001b[0;32m<ipython-input-22-4fdd8b214836>\u001b[0m in \u001b[0;36mstrToTokens\u001b[0;34m(sentence)\u001b[0m\n\u001b[1;32m     18\u001b[0m   \u001b[0mtokensList\u001b[0m \u001b[0;34m=\u001b[0m \u001b[0mlist\u001b[0m\u001b[0;34m(\u001b[0m\u001b[0;34m)\u001b[0m\u001b[0;34m\u001b[0m\u001b[0;34m\u001b[0m\u001b[0m\n\u001b[1;32m     19\u001b[0m   \u001b[0;32mfor\u001b[0m \u001b[0mword\u001b[0m \u001b[0;32min\u001b[0m \u001b[0mwords\u001b[0m\u001b[0;34m:\u001b[0m\u001b[0;34m\u001b[0m\u001b[0;34m\u001b[0m\u001b[0m\n\u001b[0;32m---> 20\u001b[0;31m     \u001b[0mtokensList\u001b[0m\u001b[0;34m.\u001b[0m\u001b[0mappend\u001b[0m\u001b[0;34m(\u001b[0m\u001b[0mtokenizer\u001b[0m\u001b[0;34m.\u001b[0m\u001b[0mword_index\u001b[0m\u001b[0;34m[\u001b[0m\u001b[0mword\u001b[0m\u001b[0;34m]\u001b[0m\u001b[0;34m)\u001b[0m\u001b[0;34m\u001b[0m\u001b[0;34m\u001b[0m\u001b[0m\n\u001b[0m\u001b[1;32m     21\u001b[0m   \u001b[0;32mreturn\u001b[0m \u001b[0mpad_sequences\u001b[0m\u001b[0;34m(\u001b[0m\u001b[0;34m[\u001b[0m\u001b[0mtokensList\u001b[0m\u001b[0;34m]\u001b[0m\u001b[0;34m,\u001b[0m \u001b[0mmaxlen\u001b[0m\u001b[0;34m=\u001b[0m\u001b[0mmaxLenQuestions\u001b[0m \u001b[0;34m,\u001b[0m \u001b[0mpadding\u001b[0m\u001b[0;34m=\u001b[0m\u001b[0;34m'post'\u001b[0m\u001b[0;34m)\u001b[0m\u001b[0;34m\u001b[0m\u001b[0;34m\u001b[0m\u001b[0m\n\u001b[1;32m     22\u001b[0m \u001b[0;34m\u001b[0m\u001b[0m\n",
            "\u001b[0;31mKeyError\u001b[0m: 'красавчик'"
          ]
        }
      ]
    },
    {
      "cell_type": "code",
      "metadata": {
        "id": "jzgvCO1vJhaO"
      },
      "source": [
        ""
      ],
      "execution_count": null,
      "outputs": []
    },
    {
      "cell_type": "code",
      "metadata": {
        "id": "YjKeQSoPHI5f"
      },
      "source": [
        ""
      ],
      "execution_count": null,
      "outputs": []
    }
  ]
}