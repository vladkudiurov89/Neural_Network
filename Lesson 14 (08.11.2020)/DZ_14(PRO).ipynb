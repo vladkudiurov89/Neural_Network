{
  "nbformat": 4,
  "nbformat_minor": 0,
  "metadata": {
    "colab": {
      "name": "DZ-14(PRO).ipynb",
      "provenance": [],
      "machine_shape": "hm"
    },
    "kernelspec": {
      "name": "python3",
      "display_name": "Python 3"
    },
    "accelerator": "GPU"
  },
  "cells": [
    {
      "cell_type": "code",
      "metadata": {
        "colab": {
          "base_uri": "https://localhost:8080/"
        },
        "id": "qJPIranb31oE",
        "outputId": "ed945a2b-d7e2-4757-8047-c763e10c48d8"
      },
      "source": [
        " # установка лемматизатора pymorphy2\r\n",
        "!pip install pymorphy2"
      ],
      "execution_count": 8,
      "outputs": [
        {
          "output_type": "stream",
          "text": [
            "Requirement already satisfied: pymorphy2 in /usr/local/lib/python3.6/dist-packages (0.9.1)\n",
            "Requirement already satisfied: dawg-python>=0.7.1 in /usr/local/lib/python3.6/dist-packages (from pymorphy2) (0.7.2)\n",
            "Requirement already satisfied: docopt>=0.6 in /usr/local/lib/python3.6/dist-packages (from pymorphy2) (0.6.2)\n",
            "Requirement already satisfied: pymorphy2-dicts-ru<3.0,>=2.4 in /usr/local/lib/python3.6/dist-packages (from pymorphy2) (2.4.417127.4579844)\n"
          ],
          "name": "stdout"
        }
      ]
    },
    {
      "cell_type": "code",
      "metadata": {
        "id": "9-B_-Bbs35ux"
      },
      "source": [
        "import numpy as np # Библиотека для работы с массивами данных\r\n",
        "from tensorflow.keras.models import Model, load_model # Импортируем модель, метод загрузки предобученной сети \r\n",
        "import re # Импортируем для работы со строками\r\n",
        "from tensorflow.keras.preprocessing.text import Tokenizer # Методы для работы с текстами и преобразования их в последовательности\r\n",
        "# Импортируем слои для сеток\r\n",
        "from tensorflow.keras.layers import Dense, Embedding, Input, concatenate, Activation, MaxPooling1D, Conv1D \r\n",
        "from tensorflow.keras.layers import BatchNormalization, Dropout, Conv2DTranspose, Lambda, LSTM, Flatten, GlobalAveragePooling1D\r\n",
        "from tensorflow.keras import backend as K # Импортируем для подсчета dice_coef\r\n",
        "from tensorflow.keras.optimizers import Adam, Adadelta # Импортируем оптимизаторы \r\n",
        "from tensorflow.keras import utils # Импортируем для работы с категориальными данными \r\n",
        "from google.colab import files # Импортируем для работы с файлами\r\n",
        "import matplotlib.pyplot as plt # Импортируем для отрисовки графиков\r\n",
        "from gensim.models import word2vec # Импортируем gensim \r\n",
        "import os # Импортируем для работы с файловой системой\r\n",
        "import pandas as pd # И мпортируем для работы с DataFrame\r\n",
        "import pymorphy2 # Импортируем для работы с леммами\r\n",
        "import time # Импортируем для подсчета времени\r\n",
        "import seaborn as sns\r\n",
        "sns.set()\r\n",
        "import random\r\n",
        "from sys import getsizeof"
      ],
      "execution_count": 9,
      "outputs": []
    },
    {
      "cell_type": "code",
      "metadata": {
        "colab": {
          "base_uri": "https://localhost:8080/"
        },
        "id": "s_e7oIeC35xa",
        "outputId": "eed215e1-15cc-41ce-b56e-2f86b508e0f4"
      },
      "source": [
        "# Подключаем диск\r\n",
        "from google.colab import files\r\n",
        "from google.colab import drive\r\n",
        "drive.mount('/content/drive')"
      ],
      "execution_count": 10,
      "outputs": [
        {
          "output_type": "stream",
          "text": [
            "Drive already mounted at /content/drive; to attempt to forcibly remount, call drive.mount(\"/content/drive\", force_remount=True).\n"
          ],
          "name": "stdout"
        }
      ]
    },
    {
      "cell_type": "code",
      "metadata": {
        "id": "eJtOsUfH5Bf0"
      },
      "source": [
        "# Чтение файла текста из файла, очитска от знаков препинания\r\n",
        "def readText(fileName):\r\n",
        "  f = open(fileName, 'r') #Открываем наш файл для чтения и считываем из него данные \r\n",
        "  text = f.read() #Записываем прочитанный текст в переменную \r\n",
        "  # Определяем символы для удаления\r\n",
        "  delSymbols = ['\\n', \"\\t\", \"\\ufeff\", \".\", \"_\", \"-\", \",\", \"!\", \"?\", \"–\", \"(\", \")\", \"«\", \"»\", \"№\", \";\"]\r\n",
        "\r\n",
        "  for dS in delSymbols: # Каждый символ в списке символов для удаления\r\n",
        "    text = text.replace(dS, \" \") # Удаляем, заменяя на пробел\r\n",
        "\r\n",
        "  # Ищем шаблоны и символы в строке и меняем на указанную подстроку\r\n",
        "  text = re.sub(\"[.]\", \" \", text) \r\n",
        "  text = re.sub(\":\", \" \", text)\r\n",
        "  text = re.sub(\"<\", \" <\", text)\r\n",
        "  text = re.sub(\">\", \"> \", text)\r\n",
        "\r\n",
        "  # Метод split разделит текст по пробелам (а их может быть несколько после удаления символов)\r\n",
        "  # При помощи метода join запишем все разделенные слова снова в строку\r\n",
        "  text = ' '.join(text.split()) \r\n",
        "\r\n",
        "  text = text.lower() # Переводим текст в нижний регистр\r\n",
        "  return text # Возвращаем тексты\r\n",
        "\r\n",
        "# Преобразование исходного текста в список из слов в нормальной форме \r\n",
        "def text2Words(text):\r\n",
        "  morph = pymorphy2.MorphAnalyzer() # Создаем экземпляр класса MorphAnalyzer\r\n",
        "  words = text.split(' ') # Разделяем текст на пробелы\r\n",
        "  words = [morph.parse(word)[0].normal_form for word in words] #Переводим каждое слово в нормалную форму  \r\n",
        "  return words # Возвращаем слова\r\n",
        "\r\n",
        "# Собираем список индексов и dummy encoded вектора\r\n",
        "def get01XSamples(tok_agreem, tags_index):\r\n",
        "  tags01 = [] # Список для тегов\r\n",
        "  indexes = [] # Здесь будут лежать индексы\r\n",
        " \r\n",
        "  for agreement in tok_agreem: # Проходимся по каждому договору-списку\r\n",
        "    tag_place = [0, 0, 0, 0, 0, 0] # Создаем вектор [0,0,0,0,0,0]\r\n",
        "    for ex in agreement: # Проходимся по каждому слову договора\r\n",
        "        if ex in tags_index: # Смотрим, если индекс оказался нашим тегом\r\n",
        "          place = np.argwhere(tags_index==ex) # Записываем под каким местом лежит этот тег в своем списке\r\n",
        "          if len(place)!=0: # Проверяем, чтобы тег действительно был\r\n",
        "            if place[0][0]<6: # Первые шесть тегов в списке - открывающие\r\n",
        "              tag_place[place[0][0]] = 1    # Поэтому ставим 1\r\n",
        "            else: \r\n",
        "              tag_place[place[0][0] - 6] = 0  # Остальные теги закрывающие, так что меняем на ноль\r\n",
        "        else:          \r\n",
        "          tags01.append(tag_place.copy()) # Расширяем наш список с каждой итерацией. Получаем в конце длинный список из всех тегов в одном \r\n",
        "          indexes.append(ex) # Докидываем индекс слова в список индексов\r\n",
        "\r\n",
        "  return indexes, tags01\r\n",
        "\r\n",
        "# Получение списка слов из индексов\r\n",
        "def reverseIndex(clean_voc, x):\r\n",
        "  reverse_word_map = dict(map(reversed, clean_voc.items())) # Берем пары значений всего словаря и размечаем наоборот, т.е. value:key\r\n",
        "  words = [reverse_word_map.get(letter) for letter in x] # Вытаскиваем по каждому ключу в список\r\n",
        "  return words # Возвращаем полученный текст\r\n",
        "\r\n",
        "# Формируем выборку из индексов\r\n",
        "def getSetFromIndexes(wordIndexes, xLen, step): \r\n",
        "  xBatch = [] # Лист для фрагментов текста\r\n",
        "  wordsLen = len(wordIndexes) # Определяем длину текста\r\n",
        "  index = 0 # Задаем стартовый индекс\r\n",
        "  \r\n",
        "  while (index + xLen <= wordsLen): # Пока сумма индекса с длинной фрагмента меньше или равна числу слов в выборке\r\n",
        "    xBatch.append(wordIndexes[index:index+xLen]) # Добавляем X в лист фразментов текста\r\n",
        "    index += step # Сдвигаемся на step\r\n",
        "\r\n",
        "  return xBatch # Лист для фрагментов текста\r\n",
        "\r\n",
        "# Создаем выборки\r\n",
        "def getSets(model, senI, tagI):\r\n",
        "  xVector = [] # Здесь будет лежать embedding представление каждого из индексов\r\n",
        "  tmp = [] # Временный список\r\n",
        "  for text in senI: # Проходимся по каждому тексту-списку\r\n",
        "    tmp=[]\r\n",
        "    for word in text: # Проходимся по каждому слову в тексте-списке\r\n",
        "      tmp.append(model[word]) \r\n",
        "\r\n",
        "    xVector.append(tmp)\r\n",
        "\r\n",
        "  return np.array(xVector), np.array(tagI)\r\n",
        "\r\n",
        "def dice_coef(y_true, y_pred):\r\n",
        "    return K.mean(y_true*y_pred + (1 - y_true)*(1 - y_pred))\r\n",
        "\r\n",
        " # Функция, выводящая точность распознавания каждой категории отдельно\r\n",
        "def recognizeSet(tagI, pred, length, value):\r\n",
        "  total=0\r\n",
        "  tags = ['S1', 'S2', 'S3', 'S4', 'S5', 'S6']\r\n",
        "  for j in range(6): # общее количество тегов\r\n",
        "    correct=0\r\n",
        "    for i in range(len(tagI)): # проходимся по каждому списку списка тегов\r\n",
        "      for k in range(length): # проходимся по каждому тегу\r\n",
        "        if tagI[i][k][j]==(pred[i][k][j]>value).astype(int): # если соответствующие индексы совпадают, значит сеть распознала верно\r\n",
        "          correct+=1 \r\n",
        "    print(\"Сеть распознала категорию '%s' на %.2f%%\" % (tags[j], 100*correct/(len(tagI)*length)))\r\n",
        "    total += 100 * correct / (len(tagI)*length)\r\n",
        "  print(\"Cредняя точность %.2f%%\" % (total/6))   "
      ],
      "execution_count": 11,
      "outputs": []
    },
    {
      "cell_type": "code",
      "metadata": {
        "colab": {
          "base_uri": "https://localhost:8080/"
        },
        "id": "VMXVqKys30u9",
        "outputId": "e1e90e6d-db7f-4877-fb92-4aa9cd7e1b1e"
      },
      "source": [
        "directory = '/content/drive/My Drive/datasets/texts/Договора1000/'\r\n",
        "agreements = [] # Список, в который запишем все наши договоры\r\n",
        "for filename in os.listdir(directory): # Проходим по всем файлам в директории договоров\r\n",
        "    txt = readText(directory + filename) # Читаем текст договора\r\n",
        "    if txt != '': # Если текст не пустой\r\n",
        "        agreements.append(readText(directory + filename))\r\n",
        "words = [] # Здесь будут храниться все договора в виде списка слов\r\n",
        "curTime = time.time() # Засечем текущее время\r\n",
        "for i in range(len(agreements)): # Проходимся по всем договорам\r\n",
        "    words.append(text2Words(agreements[i])) # Преобразуем очередной договор в список слов и добавляем в words\r\n",
        "print('На преобразование ушло:', round(time.time() - curTime, 2), 'с.')\r\n",
        "\r\n",
        "random.shuffle(words)\r\n",
        "wordsToTest = words[-30:] # Возьмем 30 текстов для финальной проверки обученной нейронной сети \r\n",
        "words = words[:-30] \r\n",
        "\r\n",
        "tokenizer = Tokenizer(lower=True, filters='', char_level=False)\r\n",
        "\r\n",
        "tokenizer.fit_on_texts(words) # \"Скармливаем\" наши тексты, т.е. даём в обработку методу, который соберет словарь частотности\r\n",
        "clean_voc = {} \r\n",
        "\r\n",
        "for item in tokenizer.word_index.items(): #Преобразуем полученный список \r\n",
        "    clean_voc[item[0]] = item[1]\r\n",
        "\r\n",
        "tok_agreem = tokenizer.texts_to_sequences(words)\r\n",
        "\r\n",
        "tags_index = ['<s' + str(i) + '>' for i in range(1, 7)] # Получаем список открывающих тегов\r\n",
        "closetags = ['</s' + str(i) + '>' for i in range(1, 7)] # Получаем список закрывающих тегов\r\n",
        "tags_index.extend(closetags) # Объединяем все теги\r\n",
        "\r\n",
        "tags_index = np.array([clean_voc[i] for i in tags_index]) # Получаем из словаря частотности индексы всех тегов\r\n",
        "print('Индексы тегов:', tags_index)\r\n",
        "\r\n",
        "xData, yData = get01XSamples(tok_agreem, tags_index) # Распознаем теги и создаем список с ними, с индексами\r\n",
        "decoded_text = reverseIndex(clean_voc, xData) # Для создания списков с embedding-ами сначала преобразуем список индексов обратно в слова\r\n",
        "\r\n",
        "xLen = 256 # Длина окна\r\n",
        "step = 30 # Шаг \r\n",
        "embeddingSize = 300\r\n",
        "\r\n",
        "xTrain = getSetFromIndexes(decoded_text, xLen, step) # Последовательность из xLen слов\r\n",
        "yTrain = getSetFromIndexes(yData, xLen, step) # Последовательность из xLen-тегов"
      ],
      "execution_count": 12,
      "outputs": [
        {
          "output_type": "stream",
          "text": [
            "На преобразование ушло: 283.09 с.\n",
            "Индексы тегов: [ 12 393  26  29 132 265  14 398  30  38 143 280]\n"
          ],
          "name": "stdout"
        }
      ]
    },
    {
      "cell_type": "code",
      "metadata": {
        "colab": {
          "base_uri": "https://localhost:8080/"
        },
        "id": "H9jnX8qt4_JB",
        "outputId": "6387e2c7-70bb-423f-e559-fba19044baa2"
      },
      "source": [
        "# Проверка что число открывающихся тэгов равно числу закрывающихся.\r\n",
        "counts = {}\r\n",
        "for con in tok_agreem:\r\n",
        "    for i in con:\r\n",
        "        if i in tags_index:\r\n",
        "            tag = tokenizer.index_word[i]\r\n",
        "            if tag in counts.keys():\r\n",
        "                counts[tag] += 1\r\n",
        "            else:\r\n",
        "                counts[tag] = 1\r\n",
        "\r\n",
        "for i in range(1, 7):\r\n",
        "    print (\"<s%d>: %d, </s%d>: %d\" % (i, counts['<s%d>' % i], i , counts['</s%d>' % i]))"
      ],
      "execution_count": 13,
      "outputs": [
        {
          "output_type": "stream",
          "text": [
            "<s1>: 8631, </s1>: 7946\n",
            "<s2>: 367, </s2>: 360\n",
            "<s3>: 4175, </s3>: 3855\n",
            "<s4>: 3896, </s4>: 3471\n",
            "<s5>: 1227, </s5>: 1099\n",
            "<s6>: 618, </s6>: 570\n"
          ],
          "name": "stdout"
        }
      ]
    },
    {
      "cell_type": "code",
      "metadata": {
        "id": "Z-JyZ1YH4_MH"
      },
      "source": [
        "# Функция для создания PSPnet-сети\r\n",
        "def create_PSPNet(conv_size = 64, num_classes = 6, input_shape = (30, 300)):\r\n",
        "\r\n",
        "    # У кераса нет Conv1DTranspose, так что прописываем вручную. Нужен для разворота после maxpooling\r\n",
        "    def Conv1DTranspose(input_tensor, filters, kernel_size=1, strides=2, padding='same'):\r\n",
        "        \"\"\"\r\n",
        "        input_tensor: входной тензор (batch_size, time_steps, dims)\r\n",
        "        filters: int, output dimension, выходной тензор будет иметь размер (batch_size, time_steps, filters)\r\n",
        "        kernel_size: размер ядра свертки \r\n",
        "        strides: int, шаг ядра\r\n",
        "        padding: 'same' | действительный\r\n",
        "        \"\"\"\r\n",
        "        x = Lambda(lambda x: K.expand_dims(x, axis=2))(input_tensor)\r\n",
        "        x = Conv2DTranspose(filters=filters, kernel_size=(kernel_size, 1), strides=(strides, 1), padding=padding)(x)\r\n",
        "        x = Lambda(lambda x: K.squeeze(x, axis=2))(x)\r\n",
        "        return x\r\n",
        "        \r\n",
        "    img_input = Input(input_shape)\r\n",
        "\r\n",
        "    # Block 1\r\n",
        "    x = Conv1D(conv_size, 3, padding='same')(img_input)\r\n",
        "    x = BatchNormalization()(x)\r\n",
        "    x = Activation('relu')(x)\r\n",
        "    \r\n",
        "    x = Conv1D(conv_size, 3, padding='same')(x)\r\n",
        "    x = BatchNormalization()(x)\r\n",
        "    x = Activation('relu')(x)\r\n",
        "\r\n",
        "    x_mp_2 = MaxPooling1D(2)(x)\r\n",
        "    x_mp_4 = MaxPooling1D(4)(x)\r\n",
        "    x_mp_8 = MaxPooling1D(8)(x)\r\n",
        "    x_mp_16 = MaxPooling1D(16)(x)\r\n",
        "    x_mp_32 = MaxPooling1D(32)(x)\r\n",
        "\r\n",
        "    x_mp_2 = Conv1D(conv_size, 3, padding='same', activation='relu')(x_mp_2)\r\n",
        "    x_mp_2 = Dropout(0.5)(x_mp_2)\r\n",
        "\r\n",
        "    x_mp_4 = Conv1D(conv_size, 3, padding='same', activation='relu')(x_mp_4)\r\n",
        "    x_mp_4 = Dropout(0.5)(x_mp_4)\r\n",
        "\r\n",
        "    x_mp_8 = Conv1D(conv_size, 3, padding='same', activation='relu')(x_mp_8)\r\n",
        "    x_mp_8 = Dropout(0.5)(x_mp_8)\r\n",
        "\r\n",
        "    x_mp_16 = Conv1D(conv_size, 3, padding='same', activation='relu')(x_mp_16)\r\n",
        "    x_mp_16 = Dropout(0.5)(x_mp_16)\r\n",
        "\r\n",
        "    x_mp_32 = Conv1D(conv_size, 3, padding='same', activation='relu')(x_mp_32)\r\n",
        "    x_mp_32 = Dropout(0.5)(x_mp_32) \r\n",
        "\r\n",
        "    x_mp_2 = Conv1DTranspose(x_mp_2,conv_size, 2)\r\n",
        "    x_mp_2 = Activation('relu')(x_mp_2)\r\n",
        "\r\n",
        "    x_mp_4 = Conv1DTranspose(x_mp_4,conv_size, 4, strides=4)\r\n",
        "    x_mp_4 = Activation('relu')(x_mp_4)\r\n",
        "\r\n",
        "    x_mp_8 = Conv1DTranspose(x_mp_8,conv_size, 8, strides=8)\r\n",
        "    x_mp_8 = Activation('relu')(x_mp_8)\r\n",
        "\r\n",
        "    x_mp_16 = Conv1DTranspose(x_mp_16,conv_size, 16, strides=16)\r\n",
        "    x_mp_16 = Activation('relu')(x_mp_16)\r\n",
        "\r\n",
        "    x_mp_32 = Conv1DTranspose(x_mp_32,conv_size, 32, strides=32)\r\n",
        "    x_mp_32 = Activation('relu')(x_mp_32)\r\n",
        "\r\n",
        "\r\n",
        "    fin = concatenate([img_input, x_mp_2, x_mp_4, x_mp_8, x_mp_16, x_mp_32])    \r\n",
        "    fin = Conv1D(conv_size, 3, padding='same')(fin)\r\n",
        "    fin = BatchNormalization()(fin)\r\n",
        "    fin = Activation('relu')(fin)\r\n",
        "    fin = Conv1D(conv_size, 3, padding='same')(fin)\r\n",
        "    fin = BatchNormalization()(fin)\r\n",
        "    fin = Activation('relu')(fin)\r\n",
        "\r\n",
        "    fin = Conv1D(num_classes, 3, activation='sigmoid', padding='same')(fin)\r\n",
        "\r\n",
        "    model = Model(img_input, fin)\r\n",
        "    model.compile(optimizer=Adadelta(lr=0.001),\r\n",
        "                  loss='categorical_crossentropy',\r\n",
        "                  metrics=[dice_coef])\r\n",
        "    \r\n",
        "    return model"
      ],
      "execution_count": 14,
      "outputs": []
    },
    {
      "cell_type": "code",
      "metadata": {
        "colab": {
          "base_uri": "https://localhost:8080/"
        },
        "id": "inSm2Dvw4_PR",
        "outputId": "2322bf8b-61a0-441d-f7e5-90be7cbad9b9"
      },
      "source": [
        "xLen = 256 # Длина окна\r\n",
        "step = 30 # Шаг \r\n",
        "embeddingSize = 300\r\n",
        "# pageSize = xLen\r\n",
        "num_classes = 6\r\n",
        "vocSize = len(tokenizer.index_word.items()) + 1\r\n",
        "print(vocSize)\r\n",
        "\r\n",
        "x_train = np.array(getSetFromIndexes(xData, xLen, step))\r\n",
        "y_train = np.array(getSetFromIndexes(yData, xLen, step))\r\n",
        "x_train.shape, y_train.shape"
      ],
      "execution_count": 15,
      "outputs": [
        {
          "output_type": "stream",
          "text": [
            "9006\n"
          ],
          "name": "stdout"
        },
        {
          "output_type": "execute_result",
          "data": {
            "text/plain": [
              "((27731, 256), (27731, 256, 6))"
            ]
          },
          "metadata": {
            "tags": []
          },
          "execution_count": 15
        }
      ]
    },
    {
      "cell_type": "code",
      "metadata": {
        "colab": {
          "base_uri": "https://localhost:8080/"
        },
        "id": "Qt9xtpkG4_SF",
        "outputId": "f4699b7c-b3ed-4667-ad3a-04e1af55fc52"
      },
      "source": [
        "inp = Input(shape=(xLen))\r\n",
        "x = Embedding(vocSize, embeddingSize)(inp)\r\n",
        "out = create_PSPNet(conv_size=256, input_shape=(xLen, embeddingSize))(x)\r\n",
        "\r\n",
        "model = Model(inp, out)\r\n",
        "model.compile(optimizer=Adam(0.0025), loss='binary_crossentropy', metrics=[dice_coef])\r\n",
        "model.summary()"
      ],
      "execution_count": 16,
      "outputs": [
        {
          "output_type": "stream",
          "text": [
            "Model: \"model_1\"\n",
            "_________________________________________________________________\n",
            "Layer (type)                 Output Shape              Param #   \n",
            "=================================================================\n",
            "input_1 (InputLayer)         [(None, 256)]             0         \n",
            "_________________________________________________________________\n",
            "embedding (Embedding)        (None, 256, 300)          2701800   \n",
            "_________________________________________________________________\n",
            "model (Functional)           (None, 256, 6)            6895622   \n",
            "=================================================================\n",
            "Total params: 9,597,422\n",
            "Trainable params: 9,595,374\n",
            "Non-trainable params: 2,048\n",
            "_________________________________________________________________\n"
          ],
          "name": "stdout"
        }
      ]
    },
    {
      "cell_type": "code",
      "metadata": {
        "colab": {
          "base_uri": "https://localhost:8080/",
          "height": 805
        },
        "id": "B_2JENCs51ld",
        "outputId": "2ed6bba5-334e-4658-cca0-0ea2432bfb04"
      },
      "source": [
        "history = model.fit(x_train, y_train, epochs=15, batch_size=5, validation_split=0.1)\r\n",
        "\r\n",
        "plt.plot(history.history['dice_coef'], \r\n",
        "         label='Доля верных ответов на обучающем наборе')\r\n",
        "plt.plot(history.history['val_dice_coef'], \r\n",
        "         label='Доля верных ответов на проверочном наборе')\r\n",
        "plt.xlabel('Эпоха обучения')\r\n",
        "plt.ylabel('Доля верных ответов')\r\n",
        "plt.legend()\r\n",
        "plt.show()"
      ],
      "execution_count": 17,
      "outputs": [
        {
          "output_type": "stream",
          "text": [
            "Epoch 1/15\n",
            "4992/4992 [==============================] - 144s 28ms/step - loss: 0.3071 - dice_coef: 0.8138 - val_loss: 0.3136 - val_dice_coef: 0.8388\n",
            "Epoch 2/15\n",
            "4992/4992 [==============================] - 135s 27ms/step - loss: 0.1651 - dice_coef: 0.9022 - val_loss: 0.3470 - val_dice_coef: 0.8811\n",
            "Epoch 3/15\n",
            "4992/4992 [==============================] - 135s 27ms/step - loss: 0.1015 - dice_coef: 0.9413 - val_loss: 0.3764 - val_dice_coef: 0.8704\n",
            "Epoch 4/15\n",
            "4992/4992 [==============================] - 135s 27ms/step - loss: 0.0697 - dice_coef: 0.9604 - val_loss: 0.4548 - val_dice_coef: 0.8771\n",
            "Epoch 5/15\n",
            "4992/4992 [==============================] - 137s 27ms/step - loss: 0.0519 - dice_coef: 0.9709 - val_loss: 0.5069 - val_dice_coef: 0.8892\n",
            "Epoch 6/15\n",
            "4992/4992 [==============================] - 136s 27ms/step - loss: 0.0407 - dice_coef: 0.9773 - val_loss: 0.5200 - val_dice_coef: 0.8801\n",
            "Epoch 7/15\n",
            "4992/4992 [==============================] - 137s 27ms/step - loss: 0.0340 - dice_coef: 0.9810 - val_loss: 0.5687 - val_dice_coef: 0.8803\n",
            "Epoch 8/15\n",
            "4992/4992 [==============================] - 136s 27ms/step - loss: 0.0289 - dice_coef: 0.9840 - val_loss: 0.5518 - val_dice_coef: 0.8838\n",
            "Epoch 9/15\n",
            "4992/4992 [==============================] - 136s 27ms/step - loss: 0.0249 - dice_coef: 0.9861 - val_loss: 0.6594 - val_dice_coef: 0.8904\n",
            "Epoch 10/15\n",
            "4992/4992 [==============================] - 138s 28ms/step - loss: 0.0220 - dice_coef: 0.9878 - val_loss: 0.6207 - val_dice_coef: 0.8898\n",
            "Epoch 11/15\n",
            "4992/4992 [==============================] - 137s 27ms/step - loss: 0.0203 - dice_coef: 0.9887 - val_loss: 0.6706 - val_dice_coef: 0.8894\n",
            "Epoch 12/15\n",
            "4992/4992 [==============================] - 137s 28ms/step - loss: 0.0180 - dice_coef: 0.9899 - val_loss: 0.7381 - val_dice_coef: 0.8903\n",
            "Epoch 13/15\n",
            "4992/4992 [==============================] - 136s 27ms/step - loss: 0.0170 - dice_coef: 0.9906 - val_loss: 0.7969 - val_dice_coef: 0.8897\n",
            "Epoch 14/15\n",
            "4992/4992 [==============================] - 136s 27ms/step - loss: 0.0149 - dice_coef: 0.9917 - val_loss: 0.8227 - val_dice_coef: 0.8922\n",
            "Epoch 15/15\n",
            "4992/4992 [==============================] - 136s 27ms/step - loss: 0.0138 - dice_coef: 0.9923 - val_loss: 0.8333 - val_dice_coef: 0.8916\n"
          ],
          "name": "stdout"
        },
        {
          "output_type": "display_data",
          "data": {
            "image/png": "[encoded data removed]",
            "text/plain": [
              "<Figure size 432x288 with 1 Axes>"
            ]
          },
          "metadata": {
            "tags": []
          }
        }
      ]
    },
    {
      "cell_type": "code",
      "metadata": {
        "colab": {
          "base_uri": "https://localhost:8080/"
        },
        "id": "3aeCAGK06EaL",
        "outputId": "92307331-3626-4132-ee18-3add9f246991"
      },
      "source": [
        "# Подготовим тестовые данные:\r\n",
        "tok_agreem2 = tokenizer.texts_to_sequences(wordsToTest)\r\n",
        "\r\n",
        "xData2, yData2 = get01XSamples(tok_agreem2, tags_index)\r\n",
        "x_test = np.array(getSetFromIndexes(xData2, xLen, step))\r\n",
        "y_test = np.array(getSetFromIndexes(yData2, xLen, step))\r\n",
        "x_test.shape, y_test.shape"
      ],
      "execution_count": 18,
      "outputs": [
        {
          "output_type": "execute_result",
          "data": {
            "text/plain": [
              "((924, 256), (924, 256, 6))"
            ]
          },
          "metadata": {
            "tags": []
          },
          "execution_count": 18
        }
      ]
    },
    {
      "cell_type": "code",
      "metadata": {
        "colab": {
          "base_uri": "https://localhost:8080/"
        },
        "id": "dpv8KUru6Ed3",
        "outputId": "8e079ae2-bf2a-42c6-a82d-ad5645427ce0"
      },
      "source": [
        "score = model.evaluate(x_test, y_test)\r\n",
        "score"
      ],
      "execution_count": 19,
      "outputs": [
        {
          "output_type": "stream",
          "text": [
            "29/29 [==============================] - 1s 17ms/step - loss: 0.6512 - dice_coef: 0.9036\n"
          ],
          "name": "stdout"
        },
        {
          "output_type": "execute_result",
          "data": {
            "text/plain": [
              "[0.651188313961029, 0.9036383032798767]"
            ]
          },
          "metadata": {
            "tags": []
          },
          "execution_count": 19
        }
      ]
    },
    {
      "cell_type": "code",
      "metadata": {
        "colab": {
          "base_uri": "https://localhost:8080/"
        },
        "id": "Qddwe1b36G4o",
        "outputId": "717f820f-49f2-4fc3-df7e-d295b78c1c84"
      },
      "source": [
        "pred = model.predict(x_test)\r\n",
        "recognizeSet(y_test, pred, xLen, 0.5)"
      ],
      "execution_count": 20,
      "outputs": [
        {
          "output_type": "stream",
          "text": [
            "Сеть распознала категорию 'S1' на 76.29%\n",
            "Сеть распознала категорию 'S2' на 99.22%\n",
            "Сеть распознала категорию 'S3' на 87.13%\n",
            "Сеть распознала категорию 'S4' на 88.08%\n",
            "Сеть распознала категорию 'S5' на 95.71%\n",
            "Сеть распознала категорию 'S6' на 97.17%\n",
            "Cредняя точность 90.60%\n"
          ],
          "name": "stdout"
        }
      ]
    }
  ]
}