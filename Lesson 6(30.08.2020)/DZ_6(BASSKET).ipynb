{
  "nbformat": 4,
  "nbformat_minor": 0,
  "metadata": {
    "colab": {
      "name": "DZ-6(BASSKET).ipynb",
      "provenance": []
    },
    "kernelspec": {
      "name": "python3",
      "display_name": "Python 3"
    }
  },
  "cells": [
    {
      "cell_type": "code",
      "metadata": {
        "id": "vQWvs7-cztSB"
      },
      "source": [
        "from tensorflow.keras.optimizers import Adam, RMSprop\n",
        "from tensorflow.keras.models import Sequential, Model\n",
        "from tensorflow.keras.layers import concatenate, Input, Dense, Dropout, BatchNormalization, Flatten, Conv1D, Conv2D, LSTM\n",
        "import re\n",
        "from tensorflow.keras.preprocessing.text import Tokenizer\n",
        "from tensorflow.keras.callbacks import LambdaCallback\n",
        "from sklearn import preprocessing\n",
        "from sklearn.model_selection import train_test_split\n",
        "\n",
        "import pandas as pd\n",
        "from google.colab import files\n",
        "from tensorflow.keras import utils\n",
        "import numpy as np\n",
        "from tensorflow.keras.preprocessing.sequence import pad_sequences\n",
        "from sklearn.preprocessing import StandardScaler\n",
        "import matplotlib.pyplot as plt\n",
        "%matplotlib inline"
      ],
      "execution_count": 1,
      "outputs": []
    },
    {
      "cell_type": "code",
      "metadata": {
        "id": "k73jmmxX1Yin",
        "outputId": "0a44a9c8-df46-4835-9633-62ed6d3656e4",
        "colab": {
          "base_uri": "https://localhost:8080/"
        }
      },
      "source": [
        "from google.colab import drive\n",
        "drive.mount('/content/drive')"
      ],
      "execution_count": 3,
      "outputs": [
        {
          "output_type": "stream",
          "text": [
            "Mounted at /content/drive\n"
          ],
          "name": "stdout"
        }
      ]
    },
    {
      "cell_type": "code",
      "metadata": {
        "id": "oJElVCXu1Yl5",
        "outputId": "40898d40-6529-4cfa-eae4-be11313e6395",
        "colab": {
          "base_uri": "https://localhost:8080/",
          "height": 373
        }
      },
      "source": [
        "df = pd.read_csv('/content/drive/My Drive/datasets/date_csv/basketball.csv', encoding= 'cp1251', sep=';', header=0, index_col=0) #Загружаем данные с google диска и создаем dataframe\n",
        "print(df.shape)\n",
        "df.head(10)"
      ],
      "execution_count": 5,
      "outputs": [
        {
          "output_type": "stream",
          "text": [
            "(52450, 9)\n"
          ],
          "name": "stdout"
        },
        {
          "output_type": "execute_result",
          "data": {
            "text/html": [
              "<div>\n",
              "<style scoped>\n",
              "    .dataframe tbody tr th:only-of-type {\n",
              "        vertical-align: middle;\n",
              "    }\n",
              "\n",
              "    .dataframe tbody tr th {\n",
              "        vertical-align: top;\n",
              "    }\n",
              "\n",
              "    .dataframe thead th {\n",
              "        text-align: right;\n",
              "    }\n",
              "</style>\n",
              "<table border=\"1\" class=\"dataframe\">\n",
              "  <thead>\n",
              "    <tr style=\"text-align: right;\">\n",
              "      <th></th>\n",
              "      <th>TOTAL</th>\n",
              "      <th>info</th>\n",
              "      <th>Ком. 1</th>\n",
              "      <th>Ком. 2</th>\n",
              "      <th>Минута</th>\n",
              "      <th>Общая минута</th>\n",
              "      <th>Секунда</th>\n",
              "      <th>fcount</th>\n",
              "      <th>ftime</th>\n",
              "    </tr>\n",
              "  </thead>\n",
              "  <tbody>\n",
              "    <tr>\n",
              "      <th>0</th>\n",
              "      <td>98,5</td>\n",
              "      <td>4081445 Новая Зеландия. Женщины. WBC. Регулярн...</td>\n",
              "      <td>2</td>\n",
              "      <td>0.0</td>\n",
              "      <td>1</td>\n",
              "      <td>1.0</td>\n",
              "      <td>30</td>\n",
              "      <td>81</td>\n",
              "      <td>90.0</td>\n",
              "    </tr>\n",
              "    <tr>\n",
              "      <th>1</th>\n",
              "      <td>100,5</td>\n",
              "      <td>4081445 Новая Зеландия. Женщины. WBC. Регулярн...</td>\n",
              "      <td>2</td>\n",
              "      <td>2.0</td>\n",
              "      <td>1</td>\n",
              "      <td>1.0</td>\n",
              "      <td>45</td>\n",
              "      <td>81</td>\n",
              "      <td>105.0</td>\n",
              "    </tr>\n",
              "    <tr>\n",
              "      <th>2</th>\n",
              "      <td>99,5</td>\n",
              "      <td>4081445 Новая Зеландия. Женщины. WBC. Регулярн...</td>\n",
              "      <td>2</td>\n",
              "      <td>2.0</td>\n",
              "      <td>2</td>\n",
              "      <td>2.0</td>\n",
              "      <td>0</td>\n",
              "      <td>81</td>\n",
              "      <td>120.0</td>\n",
              "    </tr>\n",
              "    <tr>\n",
              "      <th>3</th>\n",
              "      <td>98,5</td>\n",
              "      <td>4081445 Новая Зеландия. Женщины. WBC. Регулярн...</td>\n",
              "      <td>2</td>\n",
              "      <td>2.0</td>\n",
              "      <td>2</td>\n",
              "      <td>2.0</td>\n",
              "      <td>30</td>\n",
              "      <td>81</td>\n",
              "      <td>150.0</td>\n",
              "    </tr>\n",
              "    <tr>\n",
              "      <th>4</th>\n",
              "      <td>95,5</td>\n",
              "      <td>4081445 Новая Зеландия. Женщины. WBC. Регулярн...</td>\n",
              "      <td>2</td>\n",
              "      <td>2.0</td>\n",
              "      <td>3</td>\n",
              "      <td>3.0</td>\n",
              "      <td>0</td>\n",
              "      <td>81</td>\n",
              "      <td>180.0</td>\n",
              "    </tr>\n",
              "    <tr>\n",
              "      <th>5</th>\n",
              "      <td>91,5</td>\n",
              "      <td>4081445 Новая Зеландия. Женщины. WBC. Регулярн...</td>\n",
              "      <td>2</td>\n",
              "      <td>2.0</td>\n",
              "      <td>4</td>\n",
              "      <td>4.0</td>\n",
              "      <td>0</td>\n",
              "      <td>81</td>\n",
              "      <td>240.0</td>\n",
              "    </tr>\n",
              "    <tr>\n",
              "      <th>6</th>\n",
              "      <td>93,5</td>\n",
              "      <td>4081445 Новая Зеландия. Женщины. WBC. Регулярн...</td>\n",
              "      <td>4</td>\n",
              "      <td>4.0</td>\n",
              "      <td>4</td>\n",
              "      <td>4.0</td>\n",
              "      <td>30</td>\n",
              "      <td>81</td>\n",
              "      <td>270.0</td>\n",
              "    </tr>\n",
              "    <tr>\n",
              "      <th>7</th>\n",
              "      <td>90,5</td>\n",
              "      <td>4081445 Новая Зеландия. Женщины. WBC. Регулярн...</td>\n",
              "      <td>4</td>\n",
              "      <td>4.0</td>\n",
              "      <td>6</td>\n",
              "      <td>6.0</td>\n",
              "      <td>0</td>\n",
              "      <td>81</td>\n",
              "      <td>360.0</td>\n",
              "    </tr>\n",
              "    <tr>\n",
              "      <th>8</th>\n",
              "      <td>91,5</td>\n",
              "      <td>4081445 Новая Зеландия. Женщины. WBC. Регулярн...</td>\n",
              "      <td>5</td>\n",
              "      <td>4.0</td>\n",
              "      <td>6</td>\n",
              "      <td>6.0</td>\n",
              "      <td>0</td>\n",
              "      <td>81</td>\n",
              "      <td>360.0</td>\n",
              "    </tr>\n",
              "    <tr>\n",
              "      <th>9</th>\n",
              "      <td>92,5</td>\n",
              "      <td>4081445 Новая Зеландия. Женщины. WBC. Регулярн...</td>\n",
              "      <td>5</td>\n",
              "      <td>5.0</td>\n",
              "      <td>6</td>\n",
              "      <td>6.0</td>\n",
              "      <td>0</td>\n",
              "      <td>81</td>\n",
              "      <td>360.0</td>\n",
              "    </tr>\n",
              "  </tbody>\n",
              "</table>\n",
              "</div>"
            ],
            "text/plain": [
              "   TOTAL                                               info  ...  fcount  ftime\n",
              "0   98,5  4081445 Новая Зеландия. Женщины. WBC. Регулярн...  ...      81   90.0\n",
              "1  100,5  4081445 Новая Зеландия. Женщины. WBC. Регулярн...  ...      81  105.0\n",
              "2   99,5  4081445 Новая Зеландия. Женщины. WBC. Регулярн...  ...      81  120.0\n",
              "3   98,5  4081445 Новая Зеландия. Женщины. WBC. Регулярн...  ...      81  150.0\n",
              "4   95,5  4081445 Новая Зеландия. Женщины. WBC. Регулярн...  ...      81  180.0\n",
              "5   91,5  4081445 Новая Зеландия. Женщины. WBC. Регулярн...  ...      81  240.0\n",
              "6   93,5  4081445 Новая Зеландия. Женщины. WBC. Регулярн...  ...      81  270.0\n",
              "7   90,5  4081445 Новая Зеландия. Женщины. WBC. Регулярн...  ...      81  360.0\n",
              "8   91,5  4081445 Новая Зеландия. Женщины. WBC. Регулярн...  ...      81  360.0\n",
              "9   92,5  4081445 Новая Зеландия. Женщины. WBC. Регулярн...  ...      81  360.0\n",
              "\n",
              "[10 rows x 9 columns]"
            ]
          },
          "metadata": {
            "tags": []
          },
          "execution_count": 5
        }
      ]
    },
    {
      "cell_type": "code",
      "metadata": {
        "id": "XPlaeylE1Yos"
      },
      "source": [
        "#Выбираем часть датафрейма под тестовую выборку(20%)\n",
        "df_test = df.iloc[::5,:]"
      ],
      "execution_count": 13,
      "outputs": []
    },
    {
      "cell_type": "code",
      "metadata": {
        "id": "tcrqrR_61Yrx"
      },
      "source": [
        "#Из общего датафрейма исключаем тестовую, остается обучающая выборка\n",
        "df_train = df[~df.index.isin(df_test.index)] "
      ],
      "execution_count": 14,
      "outputs": []
    },
    {
      "cell_type": "code",
      "metadata": {
        "id": "c70Dgyjx5jTm"
      },
      "source": [
        "XTrainInfo = (df_train['info']) #Обучающая выборка текстовых данных\n",
        "XTestInfo = (df_test['info']) #Тестовая выборка текстовых данных"
      ],
      "execution_count": 15,
      "outputs": []
    },
    {
      "cell_type": "code",
      "metadata": {
        "id": "QFlhhjSe5jW3"
      },
      "source": [
        "x_train = np.array(df_train[['Ком. 1', 'Ком. 2', 'ftime']].astype('int')) #Обучающая выборка числовых данных\n",
        "y_train = np.array(df_train['fcount'].astype('int')) #Результат (количество очков) обучающей выборки"
      ],
      "execution_count": 16,
      "outputs": []
    },
    {
      "cell_type": "code",
      "metadata": {
        "id": "PQnxeXeB5jaA"
      },
      "source": [
        "y_test = np.array(df_test['fcount'].astype('int')) #Результат (количество очков) тестовой выборки"
      ],
      "execution_count": 17,
      "outputs": []
    },
    {
      "cell_type": "code",
      "metadata": {
        "id": "kaRZr07E5rwx"
      },
      "source": [
        "#Нормируем данные обучающей выборки\n",
        "team1_train = preprocessing.scale(df_train['Ком. 1'])\n",
        "team2_train = preprocessing.scale(df_train['Ком. 2'])\n",
        "time_train = preprocessing.scale(df_train['ftime'])"
      ],
      "execution_count": 18,
      "outputs": []
    },
    {
      "cell_type": "code",
      "metadata": {
        "id": "RKp_c63h5r3K"
      },
      "source": [
        "#Создаем обучающую выборку из нормированных данных\n",
        "x1_train = np.hstack((team1_train.reshape(-1,1), team2_train.reshape(-1,1), time_train.reshape(-1,1)))"
      ],
      "execution_count": 19,
      "outputs": []
    },
    {
      "cell_type": "code",
      "metadata": {
        "id": "yQnlcveV5r6G"
      },
      "source": [
        "#Нормируем данные тестовой выборки\n",
        "team1_test = preprocessing.scale(df_test['Ком. 1'])\n",
        "team2_test = preprocessing.scale(df_test['Ком. 2'])\n",
        "time_test = preprocessing.scale(df_test['ftime'])"
      ],
      "execution_count": 20,
      "outputs": []
    },
    {
      "cell_type": "code",
      "metadata": {
        "id": "tcZbelvu5r9S"
      },
      "source": [
        "#Создаем тестовую выборку из нормированных данных\n",
        "x1_test = np.hstack((team1_test.reshape(-1,1), team2_test.reshape(-1,1), time_test.reshape(-1,1)))"
      ],
      "execution_count": 22,
      "outputs": []
    },
    {
      "cell_type": "code",
      "metadata": {
        "id": "CkfHBVBU5sAU",
        "outputId": "a25cc939-66a9-4280-ac30-5dc88f37da06",
        "colab": {
          "base_uri": "https://localhost:8080/"
        }
      },
      "source": [
        "#Нормируем выход сети - результат игры\n",
        "yScaler = StandardScaler() #Делаем нормировщик с нормальным распределением\n",
        "yScaler.fit(y_train.reshape(-1,1)) #Обучаем на результатах игры (на обучающей выборке)\n",
        "y1_train = yScaler.transform(y_train.reshape(-1,1)) #Нормируем результат игры\n",
        "\n",
        "#Выводим размер и два примера для сравнения ненормированных данных и нормированных\n",
        "print(y1_train.shape)\n",
        "print(y_train[0])\n",
        "print(y1_train[0])"
      ],
      "execution_count": 23,
      "outputs": [
        {
          "output_type": "stream",
          "text": [
            "(41960, 1)\n",
            "81\n",
            "[-2.8376027]\n"
          ],
          "name": "stdout"
        }
      ]
    },
    {
      "cell_type": "code",
      "metadata": {
        "id": "r45asRIS6JpD"
      },
      "source": [
        "#Нормируем результат игры на тестовой выборке\n",
        "y1_test = yScaler.transform(y_test.reshape(-1,1)) #Нормируем результат игры"
      ],
      "execution_count": 24,
      "outputs": []
    },
    {
      "cell_type": "code",
      "metadata": {
        "id": "ZIpmeocg6JsC",
        "outputId": "c6b1437e-30fa-45cb-e1f7-58a3f3982c25",
        "colab": {
          "base_uri": "https://localhost:8080/"
        }
      },
      "source": [
        "#Преобразовываем текстовые данные в числовые/векторные\n",
        "\n",
        "maxWordsCount = 100 #Определяем максимальное количество слов/индексов, учитываемое при обучении текстов\n",
        "\n",
        "tokenizer = Tokenizer(num_words=maxWordsCount, \n",
        "                      filters='!\"#$%&()*+,-–—./:;<=>?@[\\\\]^_`{|}~\\t\\n\\xa0', \n",
        "                      lower=True, \n",
        "                      split=' ', \n",
        "                      oov_token='unknown', \n",
        "                      char_level=False)\n",
        "\n",
        "tokenizer.fit_on_texts(XTrainInfo) #\"скармливаем\" наши тексты, т.е даём в обработку методу, который соберет словарь частотности\n",
        "items = list(tokenizer.word_index.items())  #Вытаскиваем индексы слов для просмотра\n",
        "print(len(items))"
      ],
      "execution_count": 27,
      "outputs": [
        {
          "output_type": "stream",
          "text": [
            "1531\n"
          ],
          "name": "stdout"
        }
      ]
    },
    {
      "cell_type": "code",
      "metadata": {
        "id": "RaYOV-nz6P0B"
      },
      "source": [
        "#Переводим в индексы обучающую и тестовую выборки\n",
        "XTrainInfoIndexes = tokenizer.texts_to_sequences(XTrainInfo)\n",
        "XTestInfoIndexes = tokenizer.texts_to_sequences(XTestInfo)"
      ],
      "execution_count": 28,
      "outputs": []
    },
    {
      "cell_type": "code",
      "metadata": {
        "id": "1ewyUyS36P3B",
        "outputId": "c4088b1b-2787-4c0b-da8b-62a010c4db60",
        "colab": {
          "base_uri": "https://localhost:8080/"
        }
      },
      "source": [
        "#Преобразовываем обучающую выборку из последовательности индексов в матрицы нулей и единиц по принципу Bag of Words\n",
        "x_train01 = tokenizer.sequences_to_matrix(XTrainInfoIndexes) #Подаем XTrainInfoIndexes в виде списка чтобы метод успешно сработал\n",
        "print(x_train01.shape)                                       #Размер обучающей выборки, сформированной по Bag of Words\n",
        "print(x_train01[500][0:20])   \n",
        "print(len(x_train01[500]))"
      ],
      "execution_count": 29,
      "outputs": [
        {
          "output_type": "stream",
          "text": [
            "(41960, 100)\n",
            "[0. 1. 1. 0. 0. 0. 0. 0. 0. 0. 0. 0. 0. 0. 0. 0. 0. 0. 0. 0.]\n",
            "100\n"
          ],
          "name": "stdout"
        }
      ]
    },
    {
      "cell_type": "code",
      "metadata": {
        "id": "gSFR-bNb6P5_",
        "outputId": "99f7312c-27fc-4327-cb3c-09b3ca05779b",
        "colab": {
          "base_uri": "https://localhost:8080/"
        }
      },
      "source": [
        "#Преобразовываем тестовую выборку из последовательности индексов в матрицы нулей и единиц по принципу Bag of Words\n",
        "x_test01 = tokenizer.sequences_to_matrix(XTestInfoIndexes) #Подаем XTestInfoIndexes в виде списка чтобы метод успешно сработал\n",
        "print(x_test01.shape)                                       #Размер обучающей выборки, сформированной по Bag of Words\n",
        "print(x_test01[500][0:20])   \n",
        "print(len(x_test01[500]))"
      ],
      "execution_count": 30,
      "outputs": [
        {
          "output_type": "stream",
          "text": [
            "(10490, 100)\n",
            "[0. 1. 1. 0. 0. 0. 0. 0. 0. 0. 0. 0. 0. 0. 0. 0. 0. 0. 0. 0.]\n",
            "100\n"
          ],
          "name": "stdout"
        }
      ]
    },
    {
      "cell_type": "code",
      "metadata": {
        "id": "PYZ_2N0Y6P8W"
      },
      "source": [
        "def on_train_begin(logs):\n",
        "  global losses\n",
        "  global val_losses\n",
        "  losses = []\n",
        "  val_losses = []\n",
        "  global start\n",
        "  global mae\n",
        "  global best_mae\n",
        "  start = datetime.datetime.now()\n",
        "  print(\"Время начала:\",start)\n",
        "  mae = 0\n",
        "  best_mae = sys.maxsize\n",
        "\n",
        "def on_epoch_begin(epoch,logs):\n",
        "  global epoch_start\n",
        "  epoch_start = datetime.datetime.now()\n",
        "  print(\"Шаг обучения:\",round(K.eval(model.optimizer.lr),5))\n",
        "\n",
        "def on_epoch_end(epoch,logs):\n",
        "  clear_output(wait=True)\n",
        "\n",
        "  prediction = model.predict([xTrainScaled[valMask],xTrainC01[valMask]])\n",
        "  prediction_inverse = yScaler.inverse_transform(prediction).flatten()\n",
        "  y_inverse = yScaler.inverse_transform([yTrainScaled[valMask]]).flatten()\n",
        "  delta = prediction_inverse - y_inverse\n",
        "  absDelta = abs(delta)\n",
        "  print(\"Эпоха: \",epoch,\", \",\"реальный модуль ошибки: \",round(sum(absDelta) / (1e+6 * len(absDelta)),3),sep=\"\")\n",
        "\n",
        "  losses.append(list(logs.values())[0])\n",
        "  val_losses.append(list(logs.values())[1])\n",
        "  if (len(losses) > 1):\n",
        "    n = np.arange(0,len(losses))\n",
        "    plt.figure()\n",
        "    plt.plot(n,losses,label=\"Средний модуль ошибки на обучающем наборе данных\")\n",
        "    plt.plot(n,val_losses,label=\"Средний модуль ошибки на проверочном наборе данных\")\n",
        "    plt.xlabel(\"Эпоха обучения\")\n",
        "    plt.ylabel(\"Средний модуль ошибки\")\n",
        "    plt.legend()\n",
        "    plt.show()\n",
        "\n",
        "  yy = yTrainScaled[valMask]\n",
        "  plt.scatter(yy,prediction)\n",
        "  plt.xlabel(\"Правильные значения\")\n",
        "  plt.ylabel(\"Предсказания\")\n",
        "  plt.axis(\"equal\")\n",
        "  plt.xlim(plt.xlim())\n",
        "  plt.ylim(plt.ylim())\n",
        "  plt.plot([-1000,5000],[-1000,5000])\n",
        "  plt.show()\n",
        "  \n",
        "  delta_1 = prediction - yy\n",
        "  absDelta_1 = abs(delta_1)\n",
        "  plt.hist(absDelta_1.flatten(),bins=np.linspace(0,0.5,25),ec=\"black\")\n",
        "  plt.xlabel(\"Средний модуль ошибки\")\n",
        "  plt.ylabel(\"Количество\")\n",
        "  plt.show()\n",
        "\n",
        "  cur_time = datetime.datetime.now()\n",
        "  train_time = cur_time - start\n",
        "  epoch_time = cur_time - epoch_start\n",
        "  avg_time = (train_time / (epoch + 1))\n",
        "  left_epochs = (epochs - (epoch + 1))\n",
        "  left_time = avg_time * left_epochs\n",
        "  print(\"Время обучения на эпохе: \",epoch_time,\", \",\"суммарное время обучения: \",train_time,\" ,\",\"осталось до конца: \",left_time,sep=\"\")\n",
        "\n",
        "  if epoch > 3:\n",
        "    if ((val_losses[epoch - 3] + val_losses[epoch - 2] + val_losses[epoch - 1] + val_losses[epoch]) > 1e-3):\n",
        "        model.optimizer.lr.assign(K.eval(model.optimizer.lr) * 0.9)\n",
        "        print('Шаг обучения был изменён по причине: \"Пила\"')\n",
        "        print(\"Новый шаг обучения:\",round(K.eval(model.optimizer.lr),5))\n",
        "    if ((val_losses[epoch - 3] + val_losses[epoch - 2] + val_losses[epoch - 1] + val_losses[epoch]) < 1e-3):\n",
        "      model.optimizer.lr.assign(K.eval(model.optimizer.lr) * 0.9)\n",
        "      print('Шаг обучения был изменён по причине: \"Плато\"')\n",
        "      print(\"Новый шаг обучения:\",round(K.eval(model.optimizer.lr),5))\n",
        "\n",
        "  best_mae = val_losses[0]\n",
        "  if (list(logs.values())[1] < best_mae):\n",
        "    model.save_weights(\"best_mae.h5\")\n",
        "    best_mae = list(logs.values())[1]\n",
        "    print(\"Значение весов обновлено, найдено лучшее значение\")"
      ],
      "execution_count": 31,
      "outputs": []
    },
    {
      "cell_type": "code",
      "metadata": {
        "id": "95FqV9Fd6ok5"
      },
      "source": [
        "def on_epoch_end_01(epoch, logs):\n",
        "  pred_1 = model01_1.predict([x1_train[valMask], x_train01[valMask]]) #Получаем выход сети на проверочной выборке\n",
        "  predUnscaled = yScaler.inverse_transform(pred_1).flatten() #Делаем обратное нормирование выхода к изначальным значениям результатов игры\n",
        "  yTestUnscaled = yScaler.inverse_transform(y1_train[valMask]).flatten() #Делаем такое же обратное нормирование yTrain к базовым результатам\n",
        "  delta = predUnscaled - yTestUnscaled #Считаем разность предсказанных и правильных результатов игр\n",
        "  absDelta = abs(delta) #Берем модуль отклонения\n",
        "  print('Эпоха', epoch, 'модуль ошибки', round(sum(absDelta) / len(absDelta),)) #Выводим усредненную ошибку, очков\n",
        "\n",
        "#Коллбэки\n",
        "pltMae = LambdaCallback(on_epoch_end=on_epoch_end_01)"
      ],
      "execution_count": 35,
      "outputs": []
    },
    {
      "cell_type": "code",
      "metadata": {
        "id": "f-SrQ1AE6on1"
      },
      "source": [
        "splitVal = 0.2 #Процент, который выделяем в проверочную выборку\n",
        "valMask = np.random.sample(x1_train.shape[0]) < splitVal #Создаём маску True-False для создания проверочной выборки"
      ],
      "execution_count": 36,
      "outputs": []
    },
    {
      "cell_type": "code",
      "metadata": {
        "id": "JLNIHFcn6orG",
        "outputId": "b3560dc5-9fcd-488c-bd9c-feb0a720bd48",
        "colab": {
          "base_uri": "https://localhost:8080/",
          "height": 1000
        }
      },
      "source": [
        "input1 = Input((x1_train.shape[1],))\n",
        "input2 = Input((x_train01.shape[1],))\n",
        "\n",
        "x1 = Dense(500, activation=\"relu\")(input1)\n",
        "x2 = Dense(50, activation=\"relu\")(input2)\n",
        "\n",
        "x = concatenate([x1, x2])\n",
        "\n",
        "x = Dense(200, activation='relu')(x)\n",
        "x = Dense(100, activation='relu')(x)\n",
        "x = Dense(1, activation='linear')(x)\n",
        "\n",
        "model01_1 = Model((input1, input2), x)\n",
        "\n",
        "model01_1.compile(optimizer='adam', loss='mae')\n",
        "\n",
        "history = model01_1.fit([x1_train[~valMask], x_train01[~valMask]], y1_train[~valMask],\n",
        "                    epochs=100,\n",
        "                    batch_size=700,\n",
        "                    validation_data=([x1_train[valMask], x_train01[valMask]], y1_train[valMask]),\n",
        "                    verbose=0,\n",
        "                    callbacks=[pltMae])\n",
        "\n",
        "#Проверяем результаты, уже не на проверочной, а на тестовой выборке\n",
        "pred = model01_1.predict([x1_test, x_test01]) #Получаем выход сети на тестовой выборке\n",
        "predUnscaled = yScaler.inverse_transform(pred).flatten() #Делаем обратное нормирование выхода к изначальным значениям результатов игры\n",
        "# yTestUnscaled = yScaler.inverse_transform(y1_test).flatten() #Делаем такое же обратное нормирование yTest к базовым результатам\n",
        "# delta = predUnscaled - yTrainUnscaled #Считаем разность предсказания и правильных результатов\n",
        "delta = predUnscaled - y_test\n",
        "absDelta = abs(delta) #Берем модуль отклонения\n",
        "print('модуль ошибки', round(sum(absDelta) / len(absDelta),)) #Выводим усредненную ошибку, очков\n",
        "\n",
        "#Выводим графики ошибки\n",
        "plt.plot(history.history['loss'],\n",
        "         label='Средняя абсолютная ошибка на обучающей выборке')\n",
        "plt.plot(history.history['val_loss'],\n",
        "         label='Средняя абсолютная ошибка на проверочной выборке')\n",
        "plt.xlabel('Эпоха обучения')\n",
        "plt.ylabel('Средняя абсолютная ошибка')\n",
        "plt.legend()\n",
        "plt.show()"
      ],
      "execution_count": 37,
      "outputs": [
        {
          "output_type": "stream",
          "text": [
            "Эпоха 0 модуль ошибки 10.0\n",
            "Эпоха 1 модуль ошибки 9.0\n",
            "Эпоха 2 модуль ошибки 8.0\n",
            "Эпоха 3 модуль ошибки 8.0\n",
            "Эпоха 4 модуль ошибки 7.0\n",
            "Эпоха 5 модуль ошибки 7.0\n",
            "Эпоха 6 модуль ошибки 6.0\n",
            "Эпоха 7 модуль ошибки 6.0\n",
            "Эпоха 8 модуль ошибки 6.0\n",
            "Эпоха 9 модуль ошибки 6.0\n",
            "Эпоха 10 модуль ошибки 6.0\n",
            "Эпоха 11 модуль ошибки 5.0\n",
            "Эпоха 12 модуль ошибки 6.0\n",
            "Эпоха 13 модуль ошибки 6.0\n",
            "Эпоха 14 модуль ошибки 5.0\n",
            "Эпоха 15 модуль ошибки 5.0\n",
            "Эпоха 16 модуль ошибки 5.0\n",
            "Эпоха 17 модуль ошибки 5.0\n",
            "Эпоха 18 модуль ошибки 5.0\n",
            "Эпоха 19 модуль ошибки 5.0\n",
            "Эпоха 20 модуль ошибки 5.0\n",
            "Эпоха 21 модуль ошибки 5.0\n",
            "Эпоха 22 модуль ошибки 5.0\n",
            "Эпоха 23 модуль ошибки 4.0\n",
            "Эпоха 24 модуль ошибки 4.0\n",
            "Эпоха 25 модуль ошибки 4.0\n",
            "Эпоха 26 модуль ошибки 4.0\n",
            "Эпоха 27 модуль ошибки 4.0\n",
            "Эпоха 28 модуль ошибки 4.0\n",
            "Эпоха 29 модуль ошибки 4.0\n",
            "Эпоха 30 модуль ошибки 4.0\n",
            "Эпоха 31 модуль ошибки 4.0\n",
            "Эпоха 32 модуль ошибки 4.0\n",
            "Эпоха 33 модуль ошибки 5.0\n",
            "Эпоха 34 модуль ошибки 4.0\n",
            "Эпоха 35 модуль ошибки 4.0\n",
            "Эпоха 36 модуль ошибки 4.0\n",
            "Эпоха 37 модуль ошибки 4.0\n",
            "Эпоха 38 модуль ошибки 4.0\n",
            "Эпоха 39 модуль ошибки 4.0\n",
            "Эпоха 40 модуль ошибки 4.0\n",
            "Эпоха 41 модуль ошибки 4.0\n",
            "Эпоха 42 модуль ошибки 4.0\n",
            "Эпоха 43 модуль ошибки 4.0\n",
            "Эпоха 44 модуль ошибки 4.0\n",
            "Эпоха 45 модуль ошибки 4.0\n",
            "Эпоха 46 модуль ошибки 4.0\n",
            "Эпоха 47 модуль ошибки 4.0\n",
            "Эпоха 48 модуль ошибки 4.0\n",
            "Эпоха 49 модуль ошибки 4.0\n",
            "Эпоха 50 модуль ошибки 4.0\n",
            "Эпоха 51 модуль ошибки 4.0\n",
            "Эпоха 52 модуль ошибки 4.0\n",
            "Эпоха 53 модуль ошибки 4.0\n",
            "Эпоха 54 модуль ошибки 4.0\n",
            "Эпоха 55 модуль ошибки 3.0\n",
            "Эпоха 56 модуль ошибки 4.0\n",
            "Эпоха 57 модуль ошибки 3.0\n",
            "Эпоха 58 модуль ошибки 3.0\n",
            "Эпоха 59 модуль ошибки 3.0\n",
            "Эпоха 60 модуль ошибки 3.0\n",
            "Эпоха 61 модуль ошибки 3.0\n",
            "Эпоха 62 модуль ошибки 3.0\n",
            "Эпоха 63 модуль ошибки 4.0\n",
            "Эпоха 64 модуль ошибки 3.0\n",
            "Эпоха 65 модуль ошибки 3.0\n",
            "Эпоха 66 модуль ошибки 3.0\n",
            "Эпоха 67 модуль ошибки 3.0\n",
            "Эпоха 68 модуль ошибки 4.0\n",
            "Эпоха 69 модуль ошибки 3.0\n",
            "Эпоха 70 модуль ошибки 3.0\n",
            "Эпоха 71 модуль ошибки 4.0\n",
            "Эпоха 72 модуль ошибки 3.0\n",
            "Эпоха 73 модуль ошибки 3.0\n",
            "Эпоха 74 модуль ошибки 3.0\n",
            "Эпоха 75 модуль ошибки 3.0\n",
            "Эпоха 76 модуль ошибки 3.0\n",
            "Эпоха 77 модуль ошибки 3.0\n",
            "Эпоха 78 модуль ошибки 3.0\n",
            "Эпоха 79 модуль ошибки 3.0\n",
            "Эпоха 80 модуль ошибки 3.0\n",
            "Эпоха 81 модуль ошибки 3.0\n",
            "Эпоха 82 модуль ошибки 3.0\n",
            "Эпоха 83 модуль ошибки 3.0\n",
            "Эпоха 84 модуль ошибки 3.0\n",
            "Эпоха 85 модуль ошибки 3.0\n",
            "Эпоха 86 модуль ошибки 3.0\n",
            "Эпоха 87 модуль ошибки 4.0\n",
            "Эпоха 88 модуль ошибки 4.0\n",
            "Эпоха 89 модуль ошибки 3.0\n",
            "Эпоха 90 модуль ошибки 3.0\n",
            "Эпоха 91 модуль ошибки 3.0\n",
            "Эпоха 92 модуль ошибки 3.0\n",
            "Эпоха 93 модуль ошибки 3.0\n",
            "Эпоха 94 модуль ошибки 3.0\n",
            "Эпоха 95 модуль ошибки 3.0\n",
            "Эпоха 96 модуль ошибки 3.0\n",
            "Эпоха 97 модуль ошибки 3.0\n",
            "Эпоха 98 модуль ошибки 3.0\n",
            "Эпоха 99 модуль ошибки 3.0\n",
            "модуль ошибки 3.0\n"
          ],
          "name": "stdout"
        },
        {
          "output_type": "display_data",
          "data": {
            "image/png": "[encoded data removed]",
            "text/plain": [
              "<Figure size 432x288 with 1 Axes>"
            ]
          },
          "metadata": {
            "tags": [],
            "needs_background": "light"
          }
        }
      ]
    }
  ]
}