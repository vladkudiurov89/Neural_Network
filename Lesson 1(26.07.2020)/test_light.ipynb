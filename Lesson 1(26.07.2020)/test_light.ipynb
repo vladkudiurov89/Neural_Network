{
  "nbformat": 4,
  "nbformat_minor": 0,
  "metadata": {
    "colab": {
      "name": "test_light.ipynb",
      "provenance": [],
      "collapsed_sections": []
    },
    "kernelspec": {
      "name": "python3",
      "display_name": "Python 3"
    },
    "accelerator": "GPU"
  },
  "cells": [
    {
      "cell_type": "code",
      "metadata": {
        "id": "50nq5gB4yn0n",
        "colab_type": "code",
        "colab": {}
      },
      "source": [
        "import numpy as np\n",
        "import tensorflow as tf\n",
        "import matplotlib.pyplot as plt\n",
        "from tensorflow.keras.datasets import mnist\n",
        "from tensorflow.keras.models import Sequential\n",
        "from tensorflow.keras.layers import Dense\n",
        "from tensorflow.keras.optimizers import Adam\n",
        "from keras.utils import np_utils\n",
        "from tensorflow.keras.preprocessing import image\n",
        "from PIL import Image\n",
        "import pandas as pd\n",
        "import seaborn as sns\n",
        "import matplotlib.pyplot as plt\n",
        "%matplotlib inline\n"
      ],
      "execution_count": null,
      "outputs": []
    },
    {
      "cell_type": "code",
      "metadata": {
        "id": "1ZtpBe-fzFji",
        "colab_type": "code",
        "colab": {}
      },
      "source": [
        "# Downloads MNIST\n",
        "(x_train_mnist, y_train_mnist), (x_test_mnist, y_test_mnist) = mnist.load_data()\n",
        "\n",
        "# Меняем формат входных картинок с 28*28 на 784\n",
        "x_train = x_train_mnist.reshape(60000, 784)\n",
        "x_test = x_test_mnist.reshape(10000, 784)\n",
        "\n",
        "# Нормализуем данные\n",
        "x_train = x_train.astype('float32')  # преобразовываем x_train в тип float (цифры с плавающей точкой)\n",
        "x_train = x_train / 255  # делим на 255, чтобы диапазон был от 0 до 1\n",
        "x_test = x_test.astype('float32')  # преобразовываем x_test в тип float (цифры с плавающей точкой)\n",
        "x_test = x_test / 255  # делим на 255, чтобы диапазон был от 0 до 1\n",
        "\n",
        "# Преобразуем в вектор one_hot_coding\n",
        "y_train = np_utils.to_categorical(y_train_mnist, 10)\n",
        "y_test = np_utils.to_categorical(y_test_mnist, 10)"
      ],
      "execution_count": null,
      "outputs": []
    },
    {
      "cell_type": "code",
      "metadata": {
        "id": "55WhzsuKzZPJ",
        "colab_type": "code",
        "colab": {
          "base_uri": "https://localhost:8080/",
          "height": 87
        },
        "outputId": "cb311d04-ad83-463d-ebdf-8cc7963a016e"
      },
      "source": [
        "print(x_train.shape)\n",
        "print(y_train.shape)\n",
        "print(x_test.shape)\n",
        "print(y_test.shape)"
      ],
      "execution_count": null,
      "outputs": [
        {
          "output_type": "stream",
          "text": [
            "(60000, 784)\n",
            "(60000, 10)\n",
            "(10000, 784)\n",
            "(10000, 10)\n"
          ],
          "name": "stdout"
        }
      ]
    },
    {
      "cell_type": "code",
      "metadata": {
        "id": "7z81JIME_9D7",
        "colab_type": "code",
        "colab": {
          "base_uri": "https://localhost:8080/",
          "height": 401
        },
        "outputId": "9803ffc3-c3ee-4fa1-babb-71956d6cf84c"
      },
      "source": [
        "test_model = Sequential()\n",
        "test_model.add(Dense(800, input_dim=784, activation='relu'))\n",
        "test_model.add(Dense(10, activation='softmax'))\n",
        "\n",
        "test_model.compile(loss='categorical_crossentropy', optimizer='adam', metrics=['accuracy'])\n",
        "\n",
        "test_model.fit(x_train, y_train, batch_size=128, epochs=10, verbose=1, validation_split=0.2)\n"
      ],
      "execution_count": null,
      "outputs": [
        {
          "output_type": "stream",
          "text": [
            "Epoch 1/10\n",
            "375/375 [==============================] - 2s 5ms/step - loss: 0.2712 - accuracy: 0.9229 - val_loss: 0.1377 - val_accuracy: 0.9610\n",
            "Epoch 2/10\n",
            "375/375 [==============================] - 2s 4ms/step - loss: 0.1082 - accuracy: 0.9679 - val_loss: 0.1010 - val_accuracy: 0.9694\n",
            "Epoch 3/10\n",
            "375/375 [==============================] - 2s 5ms/step - loss: 0.0675 - accuracy: 0.9798 - val_loss: 0.0847 - val_accuracy: 0.9746\n",
            "Epoch 4/10\n",
            "375/375 [==============================] - 2s 4ms/step - loss: 0.0465 - accuracy: 0.9866 - val_loss: 0.0799 - val_accuracy: 0.9753\n",
            "Epoch 5/10\n",
            "375/375 [==============================] - 2s 4ms/step - loss: 0.0330 - accuracy: 0.9909 - val_loss: 0.0827 - val_accuracy: 0.9744\n",
            "Epoch 6/10\n",
            "375/375 [==============================] - 2s 4ms/step - loss: 0.0238 - accuracy: 0.9934 - val_loss: 0.0787 - val_accuracy: 0.9761\n",
            "Epoch 7/10\n",
            "375/375 [==============================] - 2s 4ms/step - loss: 0.0165 - accuracy: 0.9962 - val_loss: 0.0786 - val_accuracy: 0.9780\n",
            "Epoch 8/10\n",
            "375/375 [==============================] - 2s 4ms/step - loss: 0.0122 - accuracy: 0.9970 - val_loss: 0.0812 - val_accuracy: 0.9771\n",
            "Epoch 9/10\n",
            "375/375 [==============================] - 2s 4ms/step - loss: 0.0081 - accuracy: 0.9986 - val_loss: 0.0783 - val_accuracy: 0.9777\n",
            "Epoch 10/10\n",
            "375/375 [==============================] - 2s 4ms/step - loss: 0.0064 - accuracy: 0.9988 - val_loss: 0.0822 - val_accuracy: 0.9784\n"
          ],
          "name": "stdout"
        },
        {
          "output_type": "execute_result",
          "data": {
            "text/plain": [
              "<tensorflow.python.keras.callbacks.History at 0x7fb4684fda90>"
            ]
          },
          "metadata": {
            "tags": []
          },
          "execution_count": 32
        }
      ]
    },
    {
      "cell_type": "code",
      "metadata": {
        "id": "ZEFGrO6xFS8H",
        "colab_type": "code",
        "colab": {
          "base_uri": "https://localhost:8080/",
          "height": 52
        },
        "outputId": "51f60b55-e669-4e83-901a-f8f69afddc9c"
      },
      "source": [
        "test_model.evaluate(x_test, y_test)[1]"
      ],
      "execution_count": null,
      "outputs": [
        {
          "output_type": "stream",
          "text": [
            "313/313 [==============================] - 1s 3ms/step - loss: 0.0730 - accuracy: 0.9788\n"
          ],
          "name": "stdout"
        },
        {
          "output_type": "execute_result",
          "data": {
            "text/plain": [
              "0.9787999987602234"
            ]
          },
          "metadata": {
            "tags": []
          },
          "execution_count": 33
        }
      ]
    },
    {
      "cell_type": "code",
      "metadata": {
        "id": "zW9TfMYi4lCg",
        "colab_type": "code",
        "colab": {
          "base_uri": "https://localhost:8080/",
          "height": 35
        },
        "outputId": "b47a4601-2eb6-47d4-b770-b38a5bc1a584"
      },
      "source": [
        "data = [[800, 'relu', 128, round(test_model.evaluate(x_test, y_test, verbose=0)[1], 3)]]\n",
        "data"
      ],
      "execution_count": null,
      "outputs": [
        {
          "output_type": "execute_result",
          "data": {
            "text/plain": [
              "[[800, 'relu', 128, 0.979]]"
            ]
          },
          "metadata": {
            "tags": []
          },
          "execution_count": 34
        }
      ]
    },
    {
      "cell_type": "code",
      "metadata": {
        "id": "IiPA5gNLzkN8",
        "colab_type": "code",
        "colab": {
          "base_uri": "https://localhost:8080/",
          "height": 1000
        },
        "outputId": "455015ce-6bba-4681-997b-e44ee6c7a78f"
      },
      "source": [
        "# Part 1\n",
        "\n",
        "num = [10, 100, 5000] \n",
        "\n",
        "for i in num:\n",
        "  model = Sequential()\n",
        "  model.add(Dense(i, input_dim=784, activation='relu'))\n",
        "  model.add(Dense(10, activation='softmax'))\n",
        "\n",
        "  model.compile(loss='categorical_crossentropy', optimizer='adam', metrics=['accuracy'])\n",
        "\n",
        "  model.fit(x_train, y_train, batch_size=128, epochs=10, verbose=1, validation_split=0.2)\n",
        "\n",
        "  data = data + [i, 'relu', 128, round(model.evaluate(x_test, y_test, verbose=0)[1], 3)]\n"
      ],
      "execution_count": null,
      "outputs": [
        {
          "output_type": "stream",
          "text": [
            "Epoch 1/10\n",
            "375/375 [==============================] - 1s 4ms/step - loss: 0.8508 - accuracy: 0.7582 - val_loss: 0.4291 - val_accuracy: 0.8848\n",
            "Epoch 2/10\n",
            "375/375 [==============================] - 1s 4ms/step - loss: 0.3856 - accuracy: 0.8934 - val_loss: 0.3232 - val_accuracy: 0.9103\n",
            "Epoch 3/10\n",
            "375/375 [==============================] - 1s 4ms/step - loss: 0.3254 - accuracy: 0.9083 - val_loss: 0.2934 - val_accuracy: 0.9171\n",
            "Epoch 4/10\n",
            "375/375 [==============================] - 1s 4ms/step - loss: 0.2997 - accuracy: 0.9152 - val_loss: 0.2784 - val_accuracy: 0.9227\n",
            "Epoch 5/10\n",
            "375/375 [==============================] - 1s 4ms/step - loss: 0.2855 - accuracy: 0.9195 - val_loss: 0.2691 - val_accuracy: 0.9241\n",
            "Epoch 6/10\n",
            "375/375 [==============================] - 1s 4ms/step - loss: 0.2760 - accuracy: 0.9230 - val_loss: 0.2610 - val_accuracy: 0.9265\n",
            "Epoch 7/10\n",
            "375/375 [==============================] - 1s 4ms/step - loss: 0.2680 - accuracy: 0.9247 - val_loss: 0.2591 - val_accuracy: 0.9269\n",
            "Epoch 8/10\n",
            "375/375 [==============================] - 1s 4ms/step - loss: 0.2612 - accuracy: 0.9254 - val_loss: 0.2593 - val_accuracy: 0.9268\n",
            "Epoch 9/10\n",
            "375/375 [==============================] - 1s 4ms/step - loss: 0.2572 - accuracy: 0.9271 - val_loss: 0.2576 - val_accuracy: 0.9280\n",
            "Epoch 10/10\n",
            "375/375 [==============================] - 1s 4ms/step - loss: 0.2537 - accuracy: 0.9279 - val_loss: 0.2509 - val_accuracy: 0.9296\n",
            "Epoch 1/10\n",
            "375/375 [==============================] - 1s 4ms/step - loss: 0.4169 - accuracy: 0.8861 - val_loss: 0.2178 - val_accuracy: 0.9408\n",
            "Epoch 2/10\n",
            "375/375 [==============================] - 1s 4ms/step - loss: 0.1911 - accuracy: 0.9449 - val_loss: 0.1632 - val_accuracy: 0.9532\n",
            "Epoch 3/10\n",
            "375/375 [==============================] - 1s 4ms/step - loss: 0.1425 - accuracy: 0.9592 - val_loss: 0.1390 - val_accuracy: 0.9588\n",
            "Epoch 4/10\n",
            "375/375 [==============================] - 1s 4ms/step - loss: 0.1136 - accuracy: 0.9679 - val_loss: 0.1180 - val_accuracy: 0.9664\n",
            "Epoch 5/10\n",
            "375/375 [==============================] - 1s 4ms/step - loss: 0.0939 - accuracy: 0.9730 - val_loss: 0.1112 - val_accuracy: 0.9673\n",
            "Epoch 6/10\n",
            "375/375 [==============================] - 1s 4ms/step - loss: 0.0794 - accuracy: 0.9770 - val_loss: 0.1043 - val_accuracy: 0.9689\n",
            "Epoch 7/10\n",
            "375/375 [==============================] - 1s 4ms/step - loss: 0.0675 - accuracy: 0.9806 - val_loss: 0.1004 - val_accuracy: 0.9712\n",
            "Epoch 8/10\n",
            "375/375 [==============================] - 1s 4ms/step - loss: 0.0585 - accuracy: 0.9833 - val_loss: 0.0951 - val_accuracy: 0.9726\n",
            "Epoch 9/10\n",
            "375/375 [==============================] - 1s 4ms/step - loss: 0.0502 - accuracy: 0.9854 - val_loss: 0.0924 - val_accuracy: 0.9723\n",
            "Epoch 10/10\n",
            "375/375 [==============================] - 1s 4ms/step - loss: 0.0439 - accuracy: 0.9878 - val_loss: 0.0942 - val_accuracy: 0.9727\n",
            "Epoch 1/10\n",
            "375/375 [==============================] - 3s 7ms/step - loss: 0.2111 - accuracy: 0.9371 - val_loss: 0.1150 - val_accuracy: 0.9652\n",
            "Epoch 2/10\n",
            "375/375 [==============================] - 3s 7ms/step - loss: 0.0815 - accuracy: 0.9753 - val_loss: 0.0873 - val_accuracy: 0.9729\n",
            "Epoch 3/10\n",
            "375/375 [==============================] - 3s 7ms/step - loss: 0.0478 - accuracy: 0.9851 - val_loss: 0.0809 - val_accuracy: 0.9746\n",
            "Epoch 4/10\n",
            "375/375 [==============================] - 3s 7ms/step - loss: 0.0319 - accuracy: 0.9897 - val_loss: 0.0915 - val_accuracy: 0.9749\n",
            "Epoch 5/10\n",
            "375/375 [==============================] - 3s 7ms/step - loss: 0.0204 - accuracy: 0.9941 - val_loss: 0.0806 - val_accuracy: 0.9790\n",
            "Epoch 6/10\n",
            "375/375 [==============================] - 3s 7ms/step - loss: 0.0170 - accuracy: 0.9944 - val_loss: 0.0817 - val_accuracy: 0.9770\n",
            "Epoch 7/10\n",
            "375/375 [==============================] - 3s 7ms/step - loss: 0.0143 - accuracy: 0.9955 - val_loss: 0.0842 - val_accuracy: 0.9796\n",
            "Epoch 8/10\n",
            "375/375 [==============================] - 3s 7ms/step - loss: 0.0136 - accuracy: 0.9955 - val_loss: 0.0905 - val_accuracy: 0.9790\n",
            "Epoch 9/10\n",
            "375/375 [==============================] - 3s 7ms/step - loss: 0.0104 - accuracy: 0.9968 - val_loss: 0.0934 - val_accuracy: 0.9797\n",
            "Epoch 10/10\n",
            "375/375 [==============================] - 3s 7ms/step - loss: 0.0072 - accuracy: 0.9979 - val_loss: 0.0922 - val_accuracy: 0.9807\n"
          ],
          "name": "stdout"
        }
      ]
    },
    {
      "cell_type": "code",
      "metadata": {
        "id": "7wQDjXywHHo2",
        "colab_type": "code",
        "colab": {
          "base_uri": "https://localhost:8080/",
          "height": 384
        },
        "outputId": "27ba2aef-dd07-4e69-8477-b2148f875dcc"
      },
      "source": [
        "# Part 2\n",
        "sec_model = Sequential()\n",
        "sec_model.add(Dense(800, input_dim=784, activation='linear'))\n",
        "sec_model.add(Dense(10, activation='softmax'))\n",
        "\n",
        "sec_model.compile(loss='categorical_crossentropy', optimizer='adam', metrics=['accuracy'])\n",
        "\n",
        "sec_model.fit(x_train, y_train, batch_size=128, epochs=10, verbose=1, validation_split=0.2)\n",
        "\n",
        "data = data + [[800, 'linear', 128, round(sec_model.evaluate(x_test, y_test, verbose=0)[1], 3)]] "
      ],
      "execution_count": null,
      "outputs": [
        {
          "output_type": "stream",
          "text": [
            "Epoch 1/10\n",
            "375/375 [==============================] - 2s 5ms/step - loss: 0.3750 - accuracy: 0.8934 - val_loss: 0.2869 - val_accuracy: 0.9197\n",
            "Epoch 2/10\n",
            "375/375 [==============================] - 2s 4ms/step - loss: 0.3111 - accuracy: 0.9126 - val_loss: 0.2786 - val_accuracy: 0.9220\n",
            "Epoch 3/10\n",
            "375/375 [==============================] - 2s 4ms/step - loss: 0.2961 - accuracy: 0.9168 - val_loss: 0.2782 - val_accuracy: 0.9234\n",
            "Epoch 4/10\n",
            "375/375 [==============================] - 2s 4ms/step - loss: 0.2868 - accuracy: 0.9207 - val_loss: 0.2903 - val_accuracy: 0.9200\n",
            "Epoch 5/10\n",
            "375/375 [==============================] - 2s 4ms/step - loss: 0.2842 - accuracy: 0.9187 - val_loss: 0.2864 - val_accuracy: 0.9196\n",
            "Epoch 6/10\n",
            "375/375 [==============================] - 2s 4ms/step - loss: 0.2775 - accuracy: 0.9214 - val_loss: 0.2934 - val_accuracy: 0.9198\n",
            "Epoch 7/10\n",
            "375/375 [==============================] - 2s 4ms/step - loss: 0.2766 - accuracy: 0.9226 - val_loss: 0.2939 - val_accuracy: 0.9204\n",
            "Epoch 8/10\n",
            "375/375 [==============================] - 2s 4ms/step - loss: 0.2733 - accuracy: 0.9234 - val_loss: 0.2906 - val_accuracy: 0.9175\n",
            "Epoch 9/10\n",
            "375/375 [==============================] - 2s 4ms/step - loss: 0.2714 - accuracy: 0.9233 - val_loss: 0.2799 - val_accuracy: 0.9260\n",
            "Epoch 10/10\n",
            "375/375 [==============================] - 2s 4ms/step - loss: 0.2673 - accuracy: 0.9248 - val_loss: 0.2947 - val_accuracy: 0.9200\n"
          ],
          "name": "stdout"
        }
      ]
    },
    {
      "cell_type": "code",
      "metadata": {
        "id": "LWpxs8AHJq00",
        "colab_type": "code",
        "colab": {
          "base_uri": "https://localhost:8080/",
          "height": 1000
        },
        "outputId": "4d1a8db0-54d5-4e69-a86c-0b1a85bb35c2"
      },
      "source": [
        "list_with_batch = [1, 10, 100, 60000]\n",
        "\n",
        "for i in list_with_batch:\n",
        "  model_nn = Sequential()\n",
        "  model_nn.add(Dense(800, input_dim=784, activation='relu'))\n",
        "  model_nn.add(Dense(10, activation='softmax'))\n",
        "\n",
        "  model_nn.compile(loss='categorical_crossentropy', optimizer='adam', metrics=['accuracy'])\n",
        "\n",
        "  model_nn.fit(x_train, y_train, batch_size=i, epochs=10, verbose=1, validation_split=0.2)\n",
        "\n",
        "  data = data + [[800, 'relu', round(model_nn.evaluate(x_test, y_test, verbose=0)[1], 3)]]\n",
        "\n"
      ],
      "execution_count": null,
      "outputs": [
        {
          "output_type": "stream",
          "text": [
            "Epoch 1/10\n",
            "47989/48000 [============================>.] - ETA: 0s - loss: 0.2536 - accuracy: 0.9326WARNING:tensorflow:Callbacks method `on_test_batch_end` is slow compared to the batch time (batch time: 0.0020s vs `on_test_batch_end` time: 0.0045s). Check your callbacks.\n",
            "48000/48000 [==============================] - 147s 3ms/step - loss: 0.2538 - accuracy: 0.9326 - val_loss: 0.2187 - val_accuracy: 0.9523\n",
            "Epoch 2/10\n",
            "48000/48000 [==============================] - 144s 3ms/step - loss: 0.1737 - accuracy: 0.9642 - val_loss: 0.1925 - val_accuracy: 0.9657\n",
            "Epoch 3/10\n",
            "48000/48000 [==============================] - 145s 3ms/step - loss: 0.1480 - accuracy: 0.9730 - val_loss: 0.2448 - val_accuracy: 0.9638\n",
            "Epoch 4/10\n",
            "48000/48000 [==============================] - 145s 3ms/step - loss: 0.1303 - accuracy: 0.9773 - val_loss: 0.2856 - val_accuracy: 0.9662\n",
            "Epoch 5/10\n",
            "48000/48000 [==============================] - 147s 3ms/step - loss: 0.1181 - accuracy: 0.9810 - val_loss: 0.2960 - val_accuracy: 0.9669\n",
            "Epoch 6/10\n",
            "48000/48000 [==============================] - 144s 3ms/step - loss: 0.1157 - accuracy: 0.9835 - val_loss: 0.3715 - val_accuracy: 0.9678\n",
            "Epoch 7/10\n",
            "48000/48000 [==============================] - 145s 3ms/step - loss: 0.1008 - accuracy: 0.9857 - val_loss: 0.3128 - val_accuracy: 0.9720\n",
            "Epoch 8/10\n",
            "48000/48000 [==============================] - 145s 3ms/step - loss: 0.0917 - accuracy: 0.9878 - val_loss: 0.3576 - val_accuracy: 0.9712\n",
            "Epoch 9/10\n",
            "48000/48000 [==============================] - 144s 3ms/step - loss: 0.0841 - accuracy: 0.9889 - val_loss: 0.3770 - val_accuracy: 0.9749\n",
            "Epoch 10/10\n",
            "48000/48000 [==============================] - 145s 3ms/step - loss: 0.0826 - accuracy: 0.9893 - val_loss: 0.4029 - val_accuracy: 0.9736\n",
            "Epoch 1/10\n",
            "4799/4800 [============================>.] - ETA: 0s - loss: 0.1926 - accuracy: 0.9417WARNING:tensorflow:Callbacks method `on_test_batch_end` is slow compared to the batch time (batch time: 0.0019s vs `on_test_batch_end` time: 0.0029s). Check your callbacks.\n",
            "4800/4800 [==============================] - 17s 4ms/step - loss: 0.1926 - accuracy: 0.9417 - val_loss: 0.1135 - val_accuracy: 0.9675\n",
            "Epoch 2/10\n",
            "4800/4800 [==============================] - 17s 4ms/step - loss: 0.0838 - accuracy: 0.9741 - val_loss: 0.1029 - val_accuracy: 0.9716\n",
            "Epoch 3/10\n",
            "4800/4800 [==============================] - 18s 4ms/step - loss: 0.0590 - accuracy: 0.9815 - val_loss: 0.0892 - val_accuracy: 0.9769\n",
            "Epoch 4/10\n",
            "4800/4800 [==============================] - 18s 4ms/step - loss: 0.0427 - accuracy: 0.9863 - val_loss: 0.0936 - val_accuracy: 0.9761\n",
            "Epoch 5/10\n",
            "4800/4800 [==============================] - 18s 4ms/step - loss: 0.0367 - accuracy: 0.9887 - val_loss: 0.1193 - val_accuracy: 0.9736\n",
            "Epoch 6/10\n",
            "4800/4800 [==============================] - 17s 4ms/step - loss: 0.0291 - accuracy: 0.9907 - val_loss: 0.1079 - val_accuracy: 0.9749\n",
            "Epoch 7/10\n",
            "4800/4800 [==============================] - 18s 4ms/step - loss: 0.0250 - accuracy: 0.9927 - val_loss: 0.1307 - val_accuracy: 0.9737\n",
            "Epoch 8/10\n",
            "4800/4800 [==============================] - 18s 4ms/step - loss: 0.0234 - accuracy: 0.9928 - val_loss: 0.1274 - val_accuracy: 0.9762\n",
            "Epoch 9/10\n",
            "4800/4800 [==============================] - 17s 4ms/step - loss: 0.0210 - accuracy: 0.9931 - val_loss: 0.1396 - val_accuracy: 0.9778\n",
            "Epoch 10/10\n",
            "4800/4800 [==============================] - 17s 4ms/step - loss: 0.0190 - accuracy: 0.9948 - val_loss: 0.1251 - val_accuracy: 0.9804\n",
            "Epoch 1/10\n",
            "480/480 [==============================] - 2s 4ms/step - loss: 0.2584 - accuracy: 0.9264 - val_loss: 0.1334 - val_accuracy: 0.9604\n",
            "Epoch 2/10\n",
            "480/480 [==============================] - 2s 4ms/step - loss: 0.1016 - accuracy: 0.9699 - val_loss: 0.1006 - val_accuracy: 0.9698\n",
            "Epoch 3/10\n",
            "480/480 [==============================] - 2s 4ms/step - loss: 0.0645 - accuracy: 0.9806 - val_loss: 0.0835 - val_accuracy: 0.9722\n",
            "Epoch 4/10\n",
            "480/480 [==============================] - 2s 4ms/step - loss: 0.0440 - accuracy: 0.9866 - val_loss: 0.0788 - val_accuracy: 0.9758\n",
            "Epoch 5/10\n",
            "480/480 [==============================] - 2s 4ms/step - loss: 0.0314 - accuracy: 0.9905 - val_loss: 0.0809 - val_accuracy: 0.9758\n",
            "Epoch 6/10\n",
            "480/480 [==============================] - 2s 4ms/step - loss: 0.0224 - accuracy: 0.9944 - val_loss: 0.0749 - val_accuracy: 0.9785\n",
            "Epoch 7/10\n",
            "480/480 [==============================] - 2s 4ms/step - loss: 0.0163 - accuracy: 0.9956 - val_loss: 0.0813 - val_accuracy: 0.9765\n",
            "Epoch 8/10\n",
            "480/480 [==============================] - 2s 4ms/step - loss: 0.0112 - accuracy: 0.9972 - val_loss: 0.0803 - val_accuracy: 0.9780\n",
            "Epoch 9/10\n",
            "480/480 [==============================] - 2s 4ms/step - loss: 0.0075 - accuracy: 0.9985 - val_loss: 0.0770 - val_accuracy: 0.9796\n",
            "Epoch 10/10\n",
            "480/480 [==============================] - 2s 4ms/step - loss: 0.0072 - accuracy: 0.9983 - val_loss: 0.0851 - val_accuracy: 0.9773\n",
            "Epoch 1/10\n",
            "1/1 [==============================] - 0s 180ms/step - loss: 2.3958 - accuracy: 0.1088 - val_loss: 1.9988 - val_accuracy: 0.4682\n",
            "Epoch 2/10\n",
            "1/1 [==============================] - 0s 93ms/step - loss: 2.0054 - accuracy: 0.4666 - val_loss: 1.6833 - val_accuracy: 0.6408\n",
            "Epoch 3/10\n",
            "1/1 [==============================] - 0s 93ms/step - loss: 1.6964 - accuracy: 0.6249 - val_loss: 1.4110 - val_accuracy: 0.7247\n",
            "Epoch 4/10\n",
            "1/1 [==============================] - 0s 88ms/step - loss: 1.4302 - accuracy: 0.7057 - val_loss: 1.1795 - val_accuracy: 0.7856\n",
            "Epoch 5/10\n",
            "1/1 [==============================] - 0s 81ms/step - loss: 1.2042 - accuracy: 0.7646 - val_loss: 0.9928 - val_accuracy: 0.8192\n",
            "Epoch 6/10\n",
            "1/1 [==============================] - 0s 84ms/step - loss: 1.0220 - accuracy: 0.8013 - val_loss: 0.8487 - val_accuracy: 0.8365\n",
            "Epoch 7/10\n",
            "1/1 [==============================] - 0s 79ms/step - loss: 0.8813 - accuracy: 0.8191 - val_loss: 0.7383 - val_accuracy: 0.8438\n",
            "Epoch 8/10\n",
            "1/1 [==============================] - 0s 81ms/step - loss: 0.7731 - accuracy: 0.8296 - val_loss: 0.6518 - val_accuracy: 0.8500\n",
            "Epoch 9/10\n",
            "1/1 [==============================] - 0s 79ms/step - loss: 0.6876 - accuracy: 0.8384 - val_loss: 0.5836 - val_accuracy: 0.8570\n",
            "Epoch 10/10\n",
            "1/1 [==============================] - 0s 76ms/step - loss: 0.6196 - accuracy: 0.8453 - val_loss: 0.5306 - val_accuracy: 0.8628\n"
          ],
          "name": "stdout"
        }
      ]
    },
    {
      "cell_type": "code",
      "metadata": {
        "id": "fHFyvdb0dv_8",
        "colab_type": "code",
        "colab": {}
      },
      "source": [
        "df = pd.DataFrame(data, columns=['1', '2', '3', '4'])"
      ],
      "execution_count": null,
      "outputs": []
    }
  ]
}