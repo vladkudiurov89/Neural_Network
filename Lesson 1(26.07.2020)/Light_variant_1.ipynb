{
  "nbformat": 4,
  "nbformat_minor": 0,
  "metadata": {
    "colab": {
      "name": "Light_variant_1.ipynb",
      "provenance": [],
      "collapsed_sections": [],
      "authorship_tag": "ABX9TyMb6YKCcLk+gRTQ/wTA6ZCt",
      "include_colab_link": true
    },
    "kernelspec": {
      "name": "python3",
      "display_name": "Python 3"
    }
  },
  "cells": [
    {
      "cell_type": "markdown",
      "metadata": {
        "id": "view-in-github",
        "colab_type": "text"
      },
      "source": [
        "<a href=\"https://colab.research.google.com/github/vladkudiurov89/Neural_Network/blob/master/Lesson%201(26.07.2020)/Light_variant_1.ipynb\" target=\"_parent\"><img src=\"https://colab.research.google.com/assets/colab-badge.svg\" alt=\"Open In Colab\"/></a>"
      ]
    },
    {
      "cell_type": "code",
      "metadata": {
        "id": "3PIJf8JYcgRZ",
        "colab_type": "code",
        "colab": {}
      },
      "source": [
        "import numpy as np\n",
        "import tensorflow as tf\n",
        "import matplotlib.pyplot as plt\n",
        "from tensorflow.keras.datasets import mnist \n",
        "from tensorflow.keras.models import Sequential \n",
        "from tensorflow.keras.layers import Dense\n",
        "from tensorflow.keras.optimizers import Adam \n",
        "from keras.utils import np_utils\n",
        "from tensorflow.keras.preprocessing import image\n",
        "from PIL import Image\n",
        "%matplotlib inline "
      ],
      "execution_count": 27,
      "outputs": []
    },
    {
      "cell_type": "code",
      "metadata": {
        "id": "QeEo7jJrtC1y",
        "colab_type": "code",
        "colab": {}
      },
      "source": [
        "# Dowload MNIST\n",
        "(x_train_mnist, y_train_mnist), (x_test_mnist, y_test_mnist) = mnist.load_data()"
      ],
      "execution_count": 60,
      "outputs": []
    },
    {
      "cell_type": "code",
      "metadata": {
        "id": "pEdd6bAOtQKl",
        "colab_type": "code",
        "colab": {}
      },
      "source": [
        "# Normalize and convert date\n",
        "x_train = x_train_mnist.reshape(60000, 784)\n",
        "x_test = x_test_mnist.reshape(10000, 784)\n",
        "y_train = np_utils.to_categorical(y_train_mnist, 10)\n",
        "y_test = np_utils.to_categorical(y_test_mnist, 10)\n",
        "x_train = x_train.reshape([-1, 28*28]) / 255.\n",
        "x_test = x_test.reshape([-1, 28*28]) / 255."
      ],
      "execution_count": null,
      "outputs": []
    },
    {
      "cell_type": "code",
      "metadata": {
        "id": "J9kazZg4uTLX",
        "colab_type": "code",
        "colab": {}
      },
      "source": [
        "# Create Neural Network\n",
        "def create_model_nn():\n",
        "  model = Sequential()\n",
        "  model.add(Dense(800, input_dim=784,  activation='relu'))\n",
        "  model.add(Dense(400,  activation='relu'))\n",
        "  model.add(Dense(10, activation=\"softmax\"))\n",
        "  return model"
      ],
      "execution_count": 65,
      "outputs": []
    },
    {
      "cell_type": "code",
      "metadata": {
        "id": "WxEFHKPM0PU7",
        "colab_type": "code",
        "colab": {
          "base_uri": "https://localhost:8080/",
          "height": 575
        },
        "outputId": "dcf2af60-5b54-4c7c-98b5-b4f4a7e6beba"
      },
      "source": [
        "# Training Neural Network\n",
        "nn_model = create_model_nn()\n",
        "nn_model.compile(loss=\"categorical_crossentropy\", optimizer=\"adam\", metrics=[\"accuracy\"])\n",
        "nn_model.fit(x_train, y_train, batch_size=128, epochs=15, verbose=1, validation_data=(x_test, y_test))\n",
        "# print(nn_model.summary())"
      ],
      "execution_count": 66,
      "outputs": [
        {
          "output_type": "stream",
          "text": [
            "Epoch 1/15\n",
            "469/469 [==============================] - 10s 21ms/step - loss: 0.7629 - accuracy: 0.7767 - val_loss: 0.3546 - val_accuracy: 0.8978\n",
            "Epoch 2/15\n",
            "469/469 [==============================] - 9s 19ms/step - loss: 0.3344 - accuracy: 0.9021 - val_loss: 0.3110 - val_accuracy: 0.9090\n",
            "Epoch 3/15\n",
            "469/469 [==============================] - 9s 20ms/step - loss: 0.2782 - accuracy: 0.9183 - val_loss: 0.2674 - val_accuracy: 0.9201\n",
            "Epoch 4/15\n",
            "469/469 [==============================] - 9s 20ms/step - loss: 0.2361 - accuracy: 0.9305 - val_loss: 0.2107 - val_accuracy: 0.9372\n",
            "Epoch 5/15\n",
            "469/469 [==============================] - 10s 21ms/step - loss: 0.1981 - accuracy: 0.9418 - val_loss: 0.1895 - val_accuracy: 0.9434\n",
            "Epoch 6/15\n",
            "469/469 [==============================] - 10s 21ms/step - loss: 0.1679 - accuracy: 0.9508 - val_loss: 0.1602 - val_accuracy: 0.9516\n",
            "Epoch 7/15\n",
            "469/469 [==============================] - 10s 21ms/step - loss: 0.1448 - accuracy: 0.9579 - val_loss: 0.1488 - val_accuracy: 0.9562\n",
            "Epoch 8/15\n",
            "469/469 [==============================] - 9s 20ms/step - loss: 0.1265 - accuracy: 0.9625 - val_loss: 0.1232 - val_accuracy: 0.9621\n",
            "Epoch 9/15\n",
            "469/469 [==============================] - 10s 21ms/step - loss: 0.1116 - accuracy: 0.9672 - val_loss: 0.1105 - val_accuracy: 0.9658\n",
            "Epoch 10/15\n",
            "469/469 [==============================] - 9s 20ms/step - loss: 0.0981 - accuracy: 0.9707 - val_loss: 0.1083 - val_accuracy: 0.9661\n",
            "Epoch 11/15\n",
            "469/469 [==============================] - 9s 20ms/step - loss: 0.0865 - accuracy: 0.9743 - val_loss: 0.1000 - val_accuracy: 0.9689\n",
            "Epoch 12/15\n",
            "469/469 [==============================] - 10s 20ms/step - loss: 0.0769 - accuracy: 0.9768 - val_loss: 0.0973 - val_accuracy: 0.9688\n",
            "Epoch 13/15\n",
            "469/469 [==============================] - 9s 20ms/step - loss: 0.0686 - accuracy: 0.9796 - val_loss: 0.0882 - val_accuracy: 0.9721\n",
            "Epoch 14/15\n",
            "469/469 [==============================] - 9s 19ms/step - loss: 0.0620 - accuracy: 0.9812 - val_loss: 0.0822 - val_accuracy: 0.9737\n",
            "Epoch 15/15\n",
            "469/469 [==============================] - 10s 21ms/step - loss: 0.0568 - accuracy: 0.9827 - val_loss: 0.0801 - val_accuracy: 0.9744\n"
          ],
          "name": "stdout"
        },
        {
          "output_type": "execute_result",
          "data": {
            "text/plain": [
              "<tensorflow.python.keras.callbacks.History at 0x7f2f4131d128>"
            ]
          },
          "metadata": {
            "tags": []
          },
          "execution_count": 66
        }
      ]
    },
    {
      "cell_type": "code",
      "metadata": {
        "id": "c_8TcwY482QT",
        "colab_type": "code",
        "colab": {}
      },
      "source": [
        "# Save and dowload Model\n",
        "# nn_model.save_weights('model.h5')\n",
        "# nn_model.load_weights('mode.h5')"
      ],
      "execution_count": 72,
      "outputs": []
    },
    {
      "cell_type": "code",
      "metadata": {
        "id": "zc8Aj7UH28BG",
        "colab_type": "code",
        "colab": {
          "base_uri": "https://localhost:8080/",
          "height": 283
        },
        "outputId": "ade20303-5740-4c1e-caf7-503a814d1d36"
      },
      "source": [
        "# Test Image from MNIST\n",
        "n_test = 18\n",
        "plt.imshow(Image.fromarray(x_test_mnist[n_test]).convert('RGBA'))\n",
        "plt.show()\n",
        "x_test[n_test].shape"
      ],
      "execution_count": 102,
      "outputs": [
        {
          "output_type": "display_data",
          "data": {
            "image/png": "[encoded data removed]",
            "text/plain": [
              "<Figure size 432x288 with 1 Axes>"
            ]
          },
          "metadata": {
            "tags": [],
            "needs_background": "light"
          }
        },
        {
          "output_type": "execute_result",
          "data": {
            "text/plain": [
              "(784,)"
            ]
          },
          "metadata": {
            "tags": []
          },
          "execution_count": 102
        }
      ]
    },
    {
      "cell_type": "code",
      "metadata": {
        "id": "rh1bO7YY6hyk",
        "colab_type": "code",
        "colab": {}
      },
      "source": [
        "# Normalize Image\n",
        "x = x_test[n_test]\n",
        "x = np.expand_dims(x, axis=0)\n",
        "x_pred = nn_model.predict(x)"
      ],
      "execution_count": 103,
      "outputs": []
    },
    {
      "cell_type": "code",
      "metadata": {
        "id": "obBm-Ago_fRU",
        "colab_type": "code",
        "colab": {
          "base_uri": "https://localhost:8080/",
          "height": 52
        },
        "outputId": "6b1b2b88-8f7a-4f79-dafb-1f5f0d98eb3e"
      },
      "source": [
        "# Result Model\n",
        "prediction = np.argmax(x_pred)\n",
        "print(f'Predict Image Number: {prediction}')\n",
        "print(f'Valid Image Number: {y_test_mnist[n_test]}')"
      ],
      "execution_count": 104,
      "outputs": [
        {
          "output_type": "stream",
          "text": [
            "Predict Image Number: 3\n",
            "Valid Image Number: 3\n"
          ],
          "name": "stdout"
        }
      ]
    }
  ]
}