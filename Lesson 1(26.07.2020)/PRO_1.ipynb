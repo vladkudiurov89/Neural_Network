{
  "nbformat": 4,
  "nbformat_minor": 0,
  "metadata": {
    "colab": {
      "name": "PRO-1.ipynb",
      "provenance": [],
      "collapsed_sections": []
    },
    "kernelspec": {
      "name": "python3",
      "display_name": "Python 3"
    }
  },
  "cells": [
    {
      "cell_type": "code",
      "metadata": {
        "id": "ZRL1UkrIcqja",
        "colab_type": "code",
        "colab": {}
      },
      "source": [
        "from tensorflow.keras.datasets import mnist\n",
        "from tensorflow.keras.models import Sequential\n",
        "from tensorflow.keras.layers import Dense\n",
        "from tensorflow.keras.optimizers import Adam\n",
        "from tensorflow.keras import utils\n",
        "from tensorflow.keras.preprocessing import image\n",
        "import numpy as np\n",
        "import pandas as pd\n",
        "import pylab\n",
        "from mpl_toolkits.mplot3d import Axes3D\n",
        "from google.colab import files\n",
        "import matplotlib.pyplot as plt\n",
        "from PIL import Image\n",
        "\n",
        "%matplotlib inline"
      ],
      "execution_count": 1,
      "outputs": []
    },
    {
      "cell_type": "code",
      "metadata": {
        "id": "n9-DWzl6nnlJ",
        "colab_type": "code",
        "colab": {
          "base_uri": "https://localhost:8080/",
          "height": 121
        },
        "outputId": "adb0a03c-02cd-4d65-aac9-761686e94f40"
      },
      "source": [
        "# Dowload MNIST\n",
        "(x_train_mnist, y_train_mnist), (x_test_mnist, y_test_mnist) = mnist.load_data()\n",
        "\n",
        "x_train = x_train_mnist.reshape(60000, 784)\n",
        "x_test = x_test_mnist.reshape(10000, 784)\n",
        "y_train = utils.to_categorical(y_train_mnist, 10)\n",
        "y_test = utils.to_categorical(y_test_mnist, 10)\n",
        "x_train = x_train.reshape([-1, 28*28]) / 255.\n",
        "x_test = x_test.reshape([-1, 28*28]) / 255.\n",
        "\n",
        "print(x_train.shape)\n",
        "print(y_train.shape)\n",
        "print(x_test.shape)\n",
        "print(y_test.shape)"
      ],
      "execution_count": 2,
      "outputs": [
        {
          "output_type": "stream",
          "text": [
            "Downloading data from https://storage.googleapis.com/tensorflow/tf-keras-datasets/mnist.npz\n",
            "11493376/11490434 [==============================] - 0s 0us/step\n",
            "(60000, 784)\n",
            "(60000, 10)\n",
            "(10000, 784)\n",
            "(10000, 10)\n"
          ],
          "name": "stdout"
        }
      ]
    },
    {
      "cell_type": "code",
      "metadata": {
        "id": "7cs9krXgjNXS",
        "colab_type": "code",
        "colab": {
          "base_uri": "https://localhost:8080/",
          "height": 124
        },
        "outputId": "23302805-a230-4234-b4e9-ee61a9b1141c"
      },
      "source": [
        "from google.colab import drive\n",
        "drive.mount('/content/gdrive', force_remount=True)"
      ],
      "execution_count": 3,
      "outputs": [
        {
          "output_type": "stream",
          "text": [
            "Go to this URL in a browser: https://accounts.google.com/o/oauth2/auth?client_id=947318989803-6bn6qk8qdgf4n4g3pfee6491hc0brc4i.apps.googleusercontent.com&redirect_uri=urn%3aietf%3awg%3aoauth%3a2.0%3aoob&scope=email%20https%3a%2f%2fwww.googleapis.com%2fauth%2fdocs.test%20https%3a%2f%2fwww.googleapis.com%2fauth%2fdrive%20https%3a%2f%2fwww.googleapis.com%2fauth%2fdrive.photos.readonly%20https%3a%2f%2fwww.googleapis.com%2fauth%2fpeopleapi.readonly&response_type=code\n",
            "\n",
            "Enter your authorization code:\n",
            "··········\n",
            "Mounted at /content/gdrive\n"
          ],
          "name": "stdout"
        }
      ]
    },
    {
      "cell_type": "code",
      "metadata": {
        "id": "5KFEGXXrjqRN",
        "colab_type": "code",
        "colab": {
          "base_uri": "https://localhost:8080/",
          "height": 69
        },
        "outputId": "e5e4b46a-af13-4fc7-c62f-a86fe17af4c2"
      },
      "source": [
        "ls! /content/gdrive/'My Drive'/val_image/"
      ],
      "execution_count": null,
      "outputs": [
        {
          "output_type": "stream",
          "text": [
            "ls: cannot access '!': No such file or directory\n",
            "'/content/gdrive/My Drive/val_image/':\n",
            "0.jpg  1.jpg  8.jpg  9.jpeg  test7.jpg\n"
          ],
          "name": "stdout"
        }
      ]
    },
    {
      "cell_type": "code",
      "metadata": {
        "id": "FHcePKsHg56l",
        "colab_type": "code",
        "colab": {
          "base_uri": "https://localhost:8080/",
          "height": 265
        },
        "outputId": "604389c3-af33-40d1-b3ef-06a5f2f688e7"
      },
      "source": [
        "# num = image.load_img('/content/gdrive/My Drive/val_image/1.jpg', target_size=(28, 28), color_mode='grayscale')\n",
        "# plt.imshow(num.convert('RGBA'))\n",
        "# plt.show()\n",
        "\n",
        "num = image.load_img('/content/gdrive/My Drive/val_image/8.jpg', target_size=(28, 28), color_mode='grayscale')\n",
        "plt.imshow(num.convert('RGBA'))\n",
        "plt.show()"
      ],
      "execution_count": 15,
      "outputs": [
        {
          "output_type": "display_data",
          "data": {
            "image/png": "[encoded data removed]",
            "text/plain": [
              "<Figure size 432x288 with 1 Axes>"
            ]
          },
          "metadata": {
            "tags": [],
            "needs_background": "light"
          }
        }
      ]
    },
    {
      "cell_type": "code",
      "metadata": {
        "id": "P09qhdvFl1Ld",
        "colab_type": "code",
        "colab": {}
      },
      "source": [
        "def create_model():\n",
        "  model = Sequential()\n",
        "  model.add(Dense(800, input_dim=784, activation='relu'))\n",
        "  model.add(Dense(10, activation='softmax'))\n",
        "  return model"
      ],
      "execution_count": 16,
      "outputs": []
    },
    {
      "cell_type": "code",
      "metadata": {
        "id": "N93N8iLFkoQ8",
        "colab_type": "code",
        "colab": {}
      },
      "source": [
        "num = image.img_to_array(num)\n",
        "num = num.reshape(1, 784)\n",
        "num = num.astype('float32')\n",
        "num = 1 - num/255."
      ],
      "execution_count": 17,
      "outputs": []
    },
    {
      "cell_type": "code",
      "metadata": {
        "id": "_2e7qM85moDA",
        "colab_type": "code",
        "colab": {
          "base_uri": "https://localhost:8080/",
          "height": 555
        },
        "outputId": "3ace15b5-0128-459b-d1e1-b157180413b7"
      },
      "source": [
        "set_model = create_model()\n",
        "set_model.compile(loss='categorical_crossentropy', optimizer='adam', metrics=['accuracy'])\n",
        "set_model.fit(x_train, y_train, batch_size=64, epochs=15, verbose=1, validation_split=0.2)\n"
      ],
      "execution_count": 18,
      "outputs": [
        {
          "output_type": "stream",
          "text": [
            "Epoch 1/15\n",
            "750/750 [==============================] - 6s 8ms/step - loss: 0.2382 - accuracy: 0.9306 - val_loss: 0.1127 - val_accuracy: 0.9670\n",
            "Epoch 2/15\n",
            "750/750 [==============================] - 6s 8ms/step - loss: 0.0925 - accuracy: 0.9731 - val_loss: 0.1043 - val_accuracy: 0.9665\n",
            "Epoch 3/15\n",
            "750/750 [==============================] - 6s 8ms/step - loss: 0.0587 - accuracy: 0.9827 - val_loss: 0.0868 - val_accuracy: 0.9731\n",
            "Epoch 4/15\n",
            "750/750 [==============================] - 6s 8ms/step - loss: 0.0385 - accuracy: 0.9879 - val_loss: 0.0775 - val_accuracy: 0.9766\n",
            "Epoch 5/15\n",
            "750/750 [==============================] - 6s 8ms/step - loss: 0.0280 - accuracy: 0.9919 - val_loss: 0.0764 - val_accuracy: 0.9770\n",
            "Epoch 6/15\n",
            "750/750 [==============================] - 6s 8ms/step - loss: 0.0209 - accuracy: 0.9937 - val_loss: 0.0807 - val_accuracy: 0.9775\n",
            "Epoch 7/15\n",
            "750/750 [==============================] - 6s 8ms/step - loss: 0.0166 - accuracy: 0.9946 - val_loss: 0.0787 - val_accuracy: 0.9787\n",
            "Epoch 8/15\n",
            "750/750 [==============================] - 6s 8ms/step - loss: 0.0122 - accuracy: 0.9964 - val_loss: 0.0867 - val_accuracy: 0.9786\n",
            "Epoch 9/15\n",
            "750/750 [==============================] - 6s 8ms/step - loss: 0.0107 - accuracy: 0.9965 - val_loss: 0.0804 - val_accuracy: 0.9803\n",
            "Epoch 10/15\n",
            "750/750 [==============================] - 6s 8ms/step - loss: 0.0100 - accuracy: 0.9968 - val_loss: 0.0880 - val_accuracy: 0.9788\n",
            "Epoch 11/15\n",
            "750/750 [==============================] - 6s 8ms/step - loss: 0.0117 - accuracy: 0.9961 - val_loss: 0.0896 - val_accuracy: 0.9785\n",
            "Epoch 12/15\n",
            "750/750 [==============================] - 6s 8ms/step - loss: 0.0060 - accuracy: 0.9982 - val_loss: 0.0928 - val_accuracy: 0.9789\n",
            "Epoch 13/15\n",
            "750/750 [==============================] - 6s 8ms/step - loss: 0.0075 - accuracy: 0.9974 - val_loss: 0.1078 - val_accuracy: 0.9786\n",
            "Epoch 14/15\n",
            "750/750 [==============================] - 6s 8ms/step - loss: 0.0078 - accuracy: 0.9976 - val_loss: 0.1031 - val_accuracy: 0.9776\n",
            "Epoch 15/15\n",
            "750/750 [==============================] - 6s 8ms/step - loss: 0.0052 - accuracy: 0.9985 - val_loss: 0.1012 - val_accuracy: 0.9799\n"
          ],
          "name": "stdout"
        },
        {
          "output_type": "execute_result",
          "data": {
            "text/plain": [
              "<tensorflow.python.keras.callbacks.History at 0x7f4137526668>"
            ]
          },
          "metadata": {
            "tags": []
          },
          "execution_count": 18
        }
      ]
    },
    {
      "cell_type": "code",
      "metadata": {
        "id": "I-cfFEygovaq",
        "colab_type": "code",
        "colab": {
          "base_uri": "https://localhost:8080/",
          "height": 69
        },
        "outputId": "52bf12ca-87af-4a54-a117-f31719b2a360"
      },
      "source": [
        "pred_num = set_model.predict(num)\n",
        "pred = np.argmax(pred_num)\n",
        "print(pred_num)\n",
        "print(pred)"
      ],
      "execution_count": 19,
      "outputs": [
        {
          "output_type": "stream",
          "text": [
            "[[4.8884227e-11 2.4133189e-07 6.4315296e-05 1.0974858e-07 6.1660472e-09\n",
            "  1.5160240e-01 3.1076800e-03 2.7969958e-07 8.4521681e-01 8.1637745e-06]]\n",
            "8\n"
          ],
          "name": "stdout"
        }
      ]
    },
    {
      "cell_type": "code",
      "metadata": {
        "id": "7hbFXdaoqs9l",
        "colab_type": "code",
        "colab": {
          "base_uri": "https://localhost:8080/",
          "height": 265
        },
        "outputId": "70a0a352-fb98-48e1-90a1-5c73cf4092af"
      },
      "source": [
        "num_1 = image.load_img('/content/gdrive/My Drive/val_image/9.jpeg', target_size=(28, 28), color_mode='grayscale')\n",
        "plt.imshow(num_1.convert('RGBA'))\n",
        "plt.show()"
      ],
      "execution_count": 20,
      "outputs": [
        {
          "output_type": "display_data",
          "data": {
            "image/png": "[encoded data removed]",
            "text/plain": [
              "<Figure size 432x288 with 1 Axes>"
            ]
          },
          "metadata": {
            "tags": [],
            "needs_background": "light"
          }
        }
      ]
    },
    {
      "cell_type": "code",
      "metadata": {
        "id": "fC-VxSjxq48P",
        "colab_type": "code",
        "colab": {
          "base_uri": "https://localhost:8080/",
          "height": 1000
        },
        "outputId": "469227b9-4c57-49af-db06-a61417e8e463"
      },
      "source": [
        "num_1 = image.img_to_array(num_1)\n",
        "num_1 = num_1.reshape(1, 784)\n",
        "print(num_1)\n",
        "num_1 = np.where(num_1 > 100, 255, num_1)\n",
        "num_1"
      ],
      "execution_count": 23,
      "outputs": [
        {
          "output_type": "stream",
          "text": [
            "[[255. 255. 255. 255. 255. 255. 255. 255. 255. 255. 255. 255. 255. 255.\n",
            "  255. 255. 255. 255. 255. 255. 255. 255. 255. 255. 255. 255. 255. 255.\n",
            "  255. 255. 255. 255. 255. 255. 255. 255. 255. 255. 255. 255. 255. 255.\n",
            "  255. 255. 255. 255. 255. 255. 255. 255. 255. 255. 255. 255. 255. 255.\n",
            "  255. 255. 255. 255. 255. 255. 255. 255. 255. 255. 255. 255. 255. 255.\n",
            "  255. 255. 255. 255. 255. 255. 255. 255. 255. 255. 255. 255. 255. 255.\n",
            "  255. 255. 255. 255. 255. 255. 255. 255. 255. 255. 255. 255. 255. 255.\n",
            "  255. 255. 255. 255. 255. 255. 255. 255. 255. 255. 255. 255. 255. 255.\n",
            "  255. 255. 255. 255. 255. 255. 255. 255. 255. 255. 255. 255. 255. 255.\n",
            "  255. 255. 255. 255. 255. 255. 255. 255. 255. 255. 255. 255. 255. 255.\n",
            "  255. 255. 255. 255. 255. 255. 255. 255. 255. 255. 255. 255. 255. 255.\n",
            "  255. 255. 255. 255. 255. 255. 255. 255. 255. 255. 255. 255. 255. 255.\n",
            "  255. 255. 255. 255. 255. 255. 255. 255. 255. 255. 255. 255. 255.  14.\n",
            "    2.   2.   9.  23.  72. 255. 255. 255. 255. 255. 255. 255. 255. 255.\n",
            "  255. 255. 255. 255. 255. 255. 255. 255. 255. 255. 255.  13.   2.  12.\n",
            "  255. 255. 255.  91.  16.  16. 255. 255. 255. 255. 255. 255. 255. 255.\n",
            "  255. 255. 255. 255. 255. 255. 255. 255. 255. 255.   9.   2. 255. 255.\n",
            "  255. 255. 255. 255.  29.   2. 255. 255. 255. 255. 255. 255. 255. 255.\n",
            "  255. 255. 255. 255. 255. 255. 255.  95.  20.   2.   2. 255. 255. 255.\n",
            "  255. 255. 255. 255.   2.   2.  31. 255. 255. 255. 255. 255. 255. 255.\n",
            "  255. 255. 255. 255. 255. 255.  26.   2.   2.   2. 255. 255. 255. 255.\n",
            "  255. 255.  61.   2.   2.   2. 255. 255. 255. 255. 255. 255. 255. 255.\n",
            "  255. 255. 255. 255. 255.  14.   2.   2.  82. 255. 255. 255. 255. 255.\n",
            "  255.  44.   2.   2.   2.   2. 255. 255. 255. 255. 255. 255. 255. 255.\n",
            "  255. 255. 255. 255. 255.   2.   2.  57. 255. 255. 255. 255. 255. 255.\n",
            "    6.   2.   2.   2.   2.  11. 255. 255. 255. 255. 255. 255. 255. 255.\n",
            "  255. 255. 255. 255. 255.   2.   2.   6.  22.  22.  12.   2.   2.   2.\n",
            "    2.  10.  76.   2.   2. 255. 255. 255. 255. 255. 255. 255. 255. 255.\n",
            "  255. 255. 255. 255. 255.  19.   2.   2.   2.   2.   2.   2.  15.  61.\n",
            "  255. 255.  32.   2.  69. 255. 255. 255. 255. 255. 255. 255. 255. 255.\n",
            "  255. 255. 255. 255. 255. 255. 255.  92.  89.  99. 255. 255. 255. 255.\n",
            "  255. 255.   2.  25. 255. 255. 255. 255. 255. 255. 255. 255. 255. 255.\n",
            "  255. 255. 255. 255. 255. 255. 255. 255. 255. 255. 255. 255. 255. 255.\n",
            "  255.   6.   2. 255. 255. 255. 255. 255. 255. 255. 255. 255. 255. 255.\n",
            "  255. 255. 255. 255. 255. 255. 255. 255. 255. 255. 255. 255. 255. 255.\n",
            "   84.   2.  73. 255. 255. 255. 255. 255. 255. 255. 255. 255. 255. 255.\n",
            "  255. 255. 255. 255. 255. 255. 255. 255. 255. 255. 255. 255. 255.  98.\n",
            "    2.   2. 255. 255. 255. 255. 255. 255. 255. 255. 255. 255. 255. 255.\n",
            "  255. 255. 255. 255. 255. 255. 255. 255. 255. 255. 255. 255. 255.   2.\n",
            "    2. 255. 255. 255. 255. 255. 255. 255. 255. 255. 255. 255. 255. 255.\n",
            "  255. 255. 255. 255. 255. 255. 255. 255. 255. 255. 255. 255.   7.   2.\n",
            "  255. 255. 255. 255. 255. 255. 255. 255. 255. 255. 255. 255. 255. 255.\n",
            "  255. 255. 255. 255. 255. 255. 255. 255. 255. 255. 255.  30.   2.  39.\n",
            "  255. 255. 255. 255. 255. 255. 255. 255. 255. 255. 255. 255. 255. 255.\n",
            "  255. 255. 255. 255. 255. 255. 255. 255. 255. 255.  64.   2.  23. 255.\n",
            "  255. 255. 255. 255. 255. 255. 255. 255. 255. 255. 255. 255. 255. 255.\n",
            "  255. 255. 255. 255. 255. 255. 255. 255. 255.  47.   2. 255. 255. 255.\n",
            "  255. 255. 255. 255. 255. 255. 255. 255. 255. 255. 255. 255. 255. 255.\n",
            "  255. 255. 255. 255. 255. 255. 255. 255.   2.  21. 255. 255. 255. 255.\n",
            "  255. 255. 255. 255. 255. 255. 255. 255. 255. 255. 255. 255. 255. 255.\n",
            "  255. 255. 255. 255. 255. 255. 255.  34.  25. 255. 255. 255. 255. 255.\n",
            "  255. 255. 255. 255. 255. 255. 255. 255. 255. 255. 255. 255. 255. 255.\n",
            "  255. 255. 255. 255. 255.  94.   2. 255. 255. 255. 255. 255. 255. 255.\n",
            "  255. 255. 255. 255. 255. 255. 255. 255. 255. 255. 255. 255. 255. 255.\n",
            "  255. 255. 255. 255. 255. 255. 255. 255. 255. 255. 255. 255. 255. 255.\n",
            "  255. 255. 255. 255. 255. 255. 255. 255. 255. 255. 255. 255. 255. 255.]]\n"
          ],
          "name": "stdout"
        },
        {
          "output_type": "execute_result",
          "data": {
            "text/plain": [
              "array([[255., 255., 255., 255., 255., 255., 255., 255., 255., 255., 255.,\n",
              "        255., 255., 255., 255., 255., 255., 255., 255., 255., 255., 255.,\n",
              "        255., 255., 255., 255., 255., 255., 255., 255., 255., 255., 255.,\n",
              "        255., 255., 255., 255., 255., 255., 255., 255., 255., 255., 255.,\n",
              "        255., 255., 255., 255., 255., 255., 255., 255., 255., 255., 255.,\n",
              "        255., 255., 255., 255., 255., 255., 255., 255., 255., 255., 255.,\n",
              "        255., 255., 255., 255., 255., 255., 255., 255., 255., 255., 255.,\n",
              "        255., 255., 255., 255., 255., 255., 255., 255., 255., 255., 255.,\n",
              "        255., 255., 255., 255., 255., 255., 255., 255., 255., 255., 255.,\n",
              "        255., 255., 255., 255., 255., 255., 255., 255., 255., 255., 255.,\n",
              "        255., 255., 255., 255., 255., 255., 255., 255., 255., 255., 255.,\n",
              "        255., 255., 255., 255., 255., 255., 255., 255., 255., 255., 255.,\n",
              "        255., 255., 255., 255., 255., 255., 255., 255., 255., 255., 255.,\n",
              "        255., 255., 255., 255., 255., 255., 255., 255., 255., 255., 255.,\n",
              "        255., 255., 255., 255., 255., 255., 255., 255., 255., 255., 255.,\n",
              "        255., 255., 255., 255., 255., 255., 255., 255., 255., 255., 255.,\n",
              "        255., 255., 255., 255., 255.,  14.,   2.,   2.,   9.,  23.,  72.,\n",
              "        255., 255., 255., 255., 255., 255., 255., 255., 255., 255., 255.,\n",
              "        255., 255., 255., 255., 255., 255., 255., 255., 255.,  13.,   2.,\n",
              "         12., 255., 255., 255.,  91.,  16.,  16., 255., 255., 255., 255.,\n",
              "        255., 255., 255., 255., 255., 255., 255., 255., 255., 255., 255.,\n",
              "        255., 255., 255.,   9.,   2., 255., 255., 255., 255., 255., 255.,\n",
              "         29.,   2., 255., 255., 255., 255., 255., 255., 255., 255., 255.,\n",
              "        255., 255., 255., 255., 255., 255.,  95.,  20.,   2.,   2., 255.,\n",
              "        255., 255., 255., 255., 255., 255.,   2.,   2.,  31., 255., 255.,\n",
              "        255., 255., 255., 255., 255., 255., 255., 255., 255., 255., 255.,\n",
              "         26.,   2.,   2.,   2., 255., 255., 255., 255., 255., 255.,  61.,\n",
              "          2.,   2.,   2., 255., 255., 255., 255., 255., 255., 255., 255.,\n",
              "        255., 255., 255., 255., 255.,  14.,   2.,   2.,  82., 255., 255.,\n",
              "        255., 255., 255., 255.,  44.,   2.,   2.,   2.,   2., 255., 255.,\n",
              "        255., 255., 255., 255., 255., 255., 255., 255., 255., 255., 255.,\n",
              "          2.,   2.,  57., 255., 255., 255., 255., 255., 255.,   6.,   2.,\n",
              "          2.,   2.,   2.,  11., 255., 255., 255., 255., 255., 255., 255.,\n",
              "        255., 255., 255., 255., 255., 255.,   2.,   2.,   6.,  22.,  22.,\n",
              "         12.,   2.,   2.,   2.,   2.,  10.,  76.,   2.,   2., 255., 255.,\n",
              "        255., 255., 255., 255., 255., 255., 255., 255., 255., 255., 255.,\n",
              "        255.,  19.,   2.,   2.,   2.,   2.,   2.,   2.,  15.,  61., 255.,\n",
              "        255.,  32.,   2.,  69., 255., 255., 255., 255., 255., 255., 255.,\n",
              "        255., 255., 255., 255., 255., 255., 255., 255., 255.,  92.,  89.,\n",
              "         99., 255., 255., 255., 255., 255., 255.,   2.,  25., 255., 255.,\n",
              "        255., 255., 255., 255., 255., 255., 255., 255., 255., 255., 255.,\n",
              "        255., 255., 255., 255., 255., 255., 255., 255., 255., 255., 255.,\n",
              "        255.,   6.,   2., 255., 255., 255., 255., 255., 255., 255., 255.,\n",
              "        255., 255., 255., 255., 255., 255., 255., 255., 255., 255., 255.,\n",
              "        255., 255., 255., 255., 255., 255.,  84.,   2.,  73., 255., 255.,\n",
              "        255., 255., 255., 255., 255., 255., 255., 255., 255., 255., 255.,\n",
              "        255., 255., 255., 255., 255., 255., 255., 255., 255., 255., 255.,\n",
              "         98.,   2.,   2., 255., 255., 255., 255., 255., 255., 255., 255.,\n",
              "        255., 255., 255., 255., 255., 255., 255., 255., 255., 255., 255.,\n",
              "        255., 255., 255., 255., 255., 255.,   2.,   2., 255., 255., 255.,\n",
              "        255., 255., 255., 255., 255., 255., 255., 255., 255., 255., 255.,\n",
              "        255., 255., 255., 255., 255., 255., 255., 255., 255., 255., 255.,\n",
              "          7.,   2., 255., 255., 255., 255., 255., 255., 255., 255., 255.,\n",
              "        255., 255., 255., 255., 255., 255., 255., 255., 255., 255., 255.,\n",
              "        255., 255., 255., 255., 255.,  30.,   2.,  39., 255., 255., 255.,\n",
              "        255., 255., 255., 255., 255., 255., 255., 255., 255., 255., 255.,\n",
              "        255., 255., 255., 255., 255., 255., 255., 255., 255., 255.,  64.,\n",
              "          2.,  23., 255., 255., 255., 255., 255., 255., 255., 255., 255.,\n",
              "        255., 255., 255., 255., 255., 255., 255., 255., 255., 255., 255.,\n",
              "        255., 255., 255., 255.,  47.,   2., 255., 255., 255., 255., 255.,\n",
              "        255., 255., 255., 255., 255., 255., 255., 255., 255., 255., 255.,\n",
              "        255., 255., 255., 255., 255., 255., 255., 255., 255.,   2.,  21.,\n",
              "        255., 255., 255., 255., 255., 255., 255., 255., 255., 255., 255.,\n",
              "        255., 255., 255., 255., 255., 255., 255., 255., 255., 255., 255.,\n",
              "        255., 255., 255.,  34.,  25., 255., 255., 255., 255., 255., 255.,\n",
              "        255., 255., 255., 255., 255., 255., 255., 255., 255., 255., 255.,\n",
              "        255., 255., 255., 255., 255., 255., 255.,  94.,   2., 255., 255.,\n",
              "        255., 255., 255., 255., 255., 255., 255., 255., 255., 255., 255.,\n",
              "        255., 255., 255., 255., 255., 255., 255., 255., 255., 255., 255.,\n",
              "        255., 255., 255., 255., 255., 255., 255., 255., 255., 255., 255.,\n",
              "        255., 255., 255., 255., 255., 255., 255., 255., 255., 255., 255.,\n",
              "        255., 255., 255.]], dtype=float32)"
            ]
          },
          "metadata": {
            "tags": []
          },
          "execution_count": 23
        }
      ]
    },
    {
      "cell_type": "code",
      "metadata": {
        "id": "JAd98UdZ2OQP",
        "colab_type": "code",
        "colab": {
          "base_uri": "https://localhost:8080/",
          "height": 265
        },
        "outputId": "19b1fbf2-c820-4b36-ac7b-b3efc18268a7"
      },
      "source": [
        "plt.imshow(Image.fromarray(num_1.reshape(28, 28)).convert('RGBA'))\n",
        "plt.show()"
      ],
      "execution_count": 25,
      "outputs": [
        {
          "output_type": "display_data",
          "data": {
            "image/png": "[encoded data removed]",
            "text/plain": [
              "<Figure size 432x288 with 1 Axes>"
            ]
          },
          "metadata": {
            "tags": [],
            "needs_background": "light"
          }
        }
      ]
    },
    {
      "cell_type": "code",
      "metadata": {
        "id": "ej2i-yBu24aD",
        "colab_type": "code",
        "colab": {}
      },
      "source": [
        "num_1 = num_1.astype('float32')\n",
        "num_1 = 1 - num_1/255\n"
      ],
      "execution_count": 26,
      "outputs": []
    },
    {
      "cell_type": "code",
      "metadata": {
        "id": "Ez-UkBhMc2kY",
        "colab_type": "code",
        "colab": {
          "base_uri": "https://localhost:8080/",
          "height": 69
        },
        "outputId": "d9663981-ea80-46c5-d3c1-6a017bd3ee2e"
      },
      "source": [
        "pred_num_1 = set_model.predict(num_1)\n",
        "pred_1 = np.argmax(pred_num_1)\n",
        "print(pred_num_1)\n",
        "print(pred_1)"
      ],
      "execution_count": 27,
      "outputs": [
        {
          "output_type": "stream",
          "text": [
            "[[1.6981168e-19 1.2528923e-18 2.3899515e-15 3.1554373e-13 6.9093282e-08\n",
            "  1.1825679e-19 4.2122667e-20 8.1540612e-08 1.6953046e-15 9.9999988e-01]]\n",
            "9\n"
          ],
          "name": "stdout"
        }
      ]
    }
  ]
}