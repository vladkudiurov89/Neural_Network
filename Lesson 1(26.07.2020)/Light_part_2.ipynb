{
  "nbformat": 4,
  "nbformat_minor": 0,
  "metadata": {
    "colab": {
      "name": "Untitled4.ipynb",
      "provenance": [],
      "collapsed_sections": []
    },
    "kernelspec": {
      "name": "python3",
      "display_name": "Python 3"
    },
    "accelerator": "GPU"
  },
  "cells": [
    {
      "cell_type": "code",
      "metadata": {
        "id": "50nq5gB4yn0n",
        "colab_type": "code",
        "colab": {
          "base_uri": "https://localhost:8080/",
          "height": 72
        },
        "outputId": "56602a45-2f6f-4b09-b5e2-1e3579e0401a"
      },
      "source": [
        "import os\n",
        "\n",
        "os.environ['TF_CPP_MIN_LOG_LEVEL'] = '3'\n",
        "\n",
        "import numpy as np\n",
        "import tensorflow as tf\n",
        "import matplotlib.pyplot as plt\n",
        "from tensorflow.keras.datasets import mnist\n",
        "from tensorflow.keras.models import Sequential\n",
        "from tensorflow.keras.layers import Dense\n",
        "from tensorflow.keras.optimizers import Adam\n",
        "from keras.utils import np_utils\n",
        "from tensorflow.keras.preprocessing import image\n",
        "from PIL import Image\n",
        "import pandas as pd\n",
        "import seaborn as sns\n",
        "import matplotlib.pyplot as plt\n",
        "%matplotlib inline\n"
      ],
      "execution_count": 8,
      "outputs": [
        {
          "output_type": "stream",
          "text": [
            "/usr/local/lib/python3.6/dist-packages/statsmodels/tools/_testing.py:19: FutureWarning: pandas.util.testing is deprecated. Use the functions in the public API at pandas.testing instead.\n",
            "  import pandas.util.testing as tm\n"
          ],
          "name": "stderr"
        }
      ]
    },
    {
      "cell_type": "code",
      "metadata": {
        "id": "1ZtpBe-fzFji",
        "colab_type": "code",
        "colab": {
          "base_uri": "https://localhost:8080/",
          "height": 52
        },
        "outputId": "a736af7c-4958-4d37-cf2c-c29d28bc5899"
      },
      "source": [
        "# Downloads MNIST\n",
        "(x_train_mnist, y_train_mnist), (x_test_mnist, y_test_mnist) = mnist.load_data()\n",
        "\n",
        "# Меняем формат входных картинок с 28*28 на 784\n",
        "x_train = x_train_mnist.reshape(60000, 784)\n",
        "x_test = x_test_mnist.reshape(10000, 784)\n",
        "\n",
        "# Нормализуем данные\n",
        "x_train = x_train.astype('float32')  # преобразовываем x_train в тип float (цифры с плавающей точкой)\n",
        "x_train = x_train / 255  # делим на 255, чтобы диапазон был от 0 до 1\n",
        "x_test = x_test.astype('float32')  # преобразовываем x_test в тип float (цифры с плавающей точкой)\n",
        "x_test = x_test / 255  # делим на 255, чтобы диапазон был от 0 до 1\n",
        "\n",
        "# Преобразуем в вектор one_hot_coding\n",
        "y_train = np_utils.to_categorical(y_train_mnist, 10)\n",
        "y_test = np_utils.to_categorical(y_test_mnist, 10)"
      ],
      "execution_count": 9,
      "outputs": [
        {
          "output_type": "stream",
          "text": [
            "Downloading data from https://storage.googleapis.com/tensorflow/tf-keras-datasets/mnist.npz\n",
            "11493376/11490434 [==============================] - 0s 0us/step\n"
          ],
          "name": "stdout"
        }
      ]
    },
    {
      "cell_type": "code",
      "metadata": {
        "id": "55WhzsuKzZPJ",
        "colab_type": "code",
        "colab": {
          "base_uri": "https://localhost:8080/",
          "height": 87
        },
        "outputId": "464345e4-251f-4e3d-9d67-159b9de93e94"
      },
      "source": [
        "print(x_train.shape)\n",
        "print(y_train.shape)\n",
        "print(x_test.shape)\n",
        "print(y_test.shape)"
      ],
      "execution_count": 10,
      "outputs": [
        {
          "output_type": "stream",
          "text": [
            "(60000, 784)\n",
            "(60000, 10)\n",
            "(10000, 784)\n",
            "(10000, 10)\n"
          ],
          "name": "stdout"
        }
      ]
    },
    {
      "cell_type": "code",
      "metadata": {
        "id": "IiPA5gNLzkN8",
        "colab_type": "code",
        "colab": {
          "base_uri": "https://localhost:8080/",
          "height": 1000
        },
        "outputId": "ca29046e-81fa-4014-ffe3-72007d0476fe"
      },
      "source": [
        "class MyFirstModel:\n",
        "    def __init__(self, x_train, x_test, y_train, y_test):\n",
        "        self.x_train = x_train\n",
        "        self.x_test = x_test\n",
        "        self.y_train = y_train\n",
        "        self.y_test = y_test\n",
        "\n",
        "    def get_compile(self):\n",
        "        self.model = Sequential()\n",
        "        # Добавляем полносвязный слой на 800 нейронов с relu-активацией\n",
        "        self.model.add(Dense(800, input_dim=784, activation='relu'))\n",
        "        # Добавляем полносвязный слой на 10 нейронов с softmax-активацией\n",
        "        self.model.add(Dense(10, activation='softmax'))\n",
        "        # Компилируем модель\n",
        "        self.model.compile(loss='categorical_crossentropy', optimizer='adam', metrics=['accuracy'])\n",
        "        print('Model compiled')\n",
        "\n",
        "    def get_summary(self):\n",
        "        print(self.model.summary())\n",
        "\n",
        "    def get_fit(self, out_mod):\n",
        "        self.model.fit(x_train, y_train, batch_size=128, epochs=20, verbose=1, validation_split=0.2)\n",
        "        self.model.save('test')\n",
        "\n",
        "    def get_evaluate(self, num):\n",
        "        print(round(self.model.evaluate(x_test, y_test)[num], 3))\n",
        "\n",
        "\n",
        "mod = MyFirstModel(x_train, x_test, y_train, y_test)\n",
        "mod.get_compile()\n",
        "mod.get_summary()\n",
        "mod.get_fit('test')\n",
        "mod.get_evaluate(0)"
      ],
      "execution_count": 11,
      "outputs": [
        {
          "output_type": "stream",
          "text": [
            "Model compiled\n",
            "Model: \"sequential\"\n",
            "_________________________________________________________________\n",
            "Layer (type)                 Output Shape              Param #   \n",
            "=================================================================\n",
            "dense (Dense)                (None, 800)               628000    \n",
            "_________________________________________________________________\n",
            "dense_1 (Dense)              (None, 10)                8010      \n",
            "=================================================================\n",
            "Total params: 636,010\n",
            "Trainable params: 636,010\n",
            "Non-trainable params: 0\n",
            "_________________________________________________________________\n",
            "None\n",
            "Epoch 1/20\n",
            "375/375 [==============================] - 2s 5ms/step - loss: 0.2717 - accuracy: 0.9224 - val_loss: 0.1507 - val_accuracy: 0.9571\n",
            "Epoch 2/20\n",
            "375/375 [==============================] - 2s 4ms/step - loss: 0.1090 - accuracy: 0.9681 - val_loss: 0.1056 - val_accuracy: 0.9686\n",
            "Epoch 3/20\n",
            "375/375 [==============================] - 2s 4ms/step - loss: 0.0685 - accuracy: 0.9801 - val_loss: 0.0931 - val_accuracy: 0.9720\n",
            "Epoch 4/20\n",
            "375/375 [==============================] - 2s 4ms/step - loss: 0.0484 - accuracy: 0.9858 - val_loss: 0.0792 - val_accuracy: 0.9766\n",
            "Epoch 5/20\n",
            "375/375 [==============================] - 2s 4ms/step - loss: 0.0330 - accuracy: 0.9907 - val_loss: 0.0842 - val_accuracy: 0.9742\n",
            "Epoch 6/20\n",
            "375/375 [==============================] - 2s 4ms/step - loss: 0.0230 - accuracy: 0.9937 - val_loss: 0.0839 - val_accuracy: 0.9755\n",
            "Epoch 7/20\n",
            "375/375 [==============================] - 2s 4ms/step - loss: 0.0172 - accuracy: 0.9956 - val_loss: 0.0735 - val_accuracy: 0.9788\n",
            "Epoch 8/20\n",
            "375/375 [==============================] - 2s 4ms/step - loss: 0.0116 - accuracy: 0.9975 - val_loss: 0.0742 - val_accuracy: 0.9793\n",
            "Epoch 9/20\n",
            "375/375 [==============================] - 2s 4ms/step - loss: 0.0090 - accuracy: 0.9980 - val_loss: 0.0818 - val_accuracy: 0.9777\n",
            "Epoch 10/20\n",
            "375/375 [==============================] - 2s 4ms/step - loss: 0.0072 - accuracy: 0.9985 - val_loss: 0.0776 - val_accuracy: 0.9789\n",
            "Epoch 11/20\n",
            "375/375 [==============================] - 2s 4ms/step - loss: 0.0080 - accuracy: 0.9977 - val_loss: 0.0809 - val_accuracy: 0.9791\n",
            "Epoch 12/20\n",
            "375/375 [==============================] - 2s 4ms/step - loss: 0.0064 - accuracy: 0.9986 - val_loss: 0.0915 - val_accuracy: 0.9772\n",
            "Epoch 13/20\n",
            "375/375 [==============================] - 2s 4ms/step - loss: 0.0103 - accuracy: 0.9969 - val_loss: 0.0823 - val_accuracy: 0.9796\n",
            "Epoch 14/20\n",
            "375/375 [==============================] - 2s 4ms/step - loss: 0.0039 - accuracy: 0.9992 - val_loss: 0.0866 - val_accuracy: 0.9797\n",
            "Epoch 15/20\n",
            "375/375 [==============================] - 2s 4ms/step - loss: 0.0042 - accuracy: 0.9990 - val_loss: 0.0834 - val_accuracy: 0.9804\n",
            "Epoch 16/20\n",
            "375/375 [==============================] - 2s 4ms/step - loss: 0.0093 - accuracy: 0.9967 - val_loss: 0.0849 - val_accuracy: 0.9807\n",
            "Epoch 17/20\n",
            "375/375 [==============================] - 2s 4ms/step - loss: 0.0039 - accuracy: 0.9991 - val_loss: 0.0820 - val_accuracy: 0.9818\n",
            "Epoch 18/20\n",
            "375/375 [==============================] - 2s 4ms/step - loss: 7.6562e-04 - accuracy: 1.0000 - val_loss: 0.0822 - val_accuracy: 0.9815\n",
            "Epoch 19/20\n",
            "375/375 [==============================] - 2s 4ms/step - loss: 4.5229e-04 - accuracy: 1.0000 - val_loss: 0.0830 - val_accuracy: 0.9824\n",
            "Epoch 20/20\n",
            "375/375 [==============================] - 2s 4ms/step - loss: 3.1825e-04 - accuracy: 1.0000 - val_loss: 0.0834 - val_accuracy: 0.9825\n",
            "WARNING:tensorflow:From /usr/local/lib/python3.6/dist-packages/tensorflow/python/training/tracking/tracking.py:111: Model.state_updates (from tensorflow.python.keras.engine.training) is deprecated and will be removed in a future version.\n",
            "Instructions for updating:\n",
            "This property should not be used in TensorFlow 2.0, as updates are applied automatically.\n",
            "WARNING:tensorflow:From /usr/local/lib/python3.6/dist-packages/tensorflow/python/training/tracking/tracking.py:111: Layer.updates (from tensorflow.python.keras.engine.base_layer) is deprecated and will be removed in a future version.\n",
            "Instructions for updating:\n",
            "This property should not be used in TensorFlow 2.0, as updates are applied automatically.\n",
            "INFO:tensorflow:Assets written to: test/assets\n",
            "313/313 [==============================] - 1s 3ms/step - loss: 0.0701 - accuracy: 0.9839\n",
            "0.07\n"
          ],
          "name": "stdout"
        }
      ]
    },
    {
      "cell_type": "code",
      "metadata": {
        "id": "y3m5W8i2zrbU",
        "colab_type": "code",
        "colab": {
          "base_uri": "https://localhost:8080/",
          "height": 1000
        },
        "outputId": "822b6bf4-7bb8-4382-ce69-41e5b2ea8f49"
      },
      "source": [
        "mod = MyFirstModel(x_train, x_test, y_train, y_test)\n",
        "mod.get_compile()\n",
        "mod.get_summary()\n",
        "mod.get_fit('test')\n",
        "mod.get_evaluate(0)"
      ],
      "execution_count": 12,
      "outputs": [
        {
          "output_type": "stream",
          "text": [
            "Model compiled\n",
            "Model: \"sequential_1\"\n",
            "_________________________________________________________________\n",
            "Layer (type)                 Output Shape              Param #   \n",
            "=================================================================\n",
            "dense_2 (Dense)              (None, 800)               628000    \n",
            "_________________________________________________________________\n",
            "dense_3 (Dense)              (None, 10)                8010      \n",
            "=================================================================\n",
            "Total params: 636,010\n",
            "Trainable params: 636,010\n",
            "Non-trainable params: 0\n",
            "_________________________________________________________________\n",
            "None\n",
            "Epoch 1/20\n",
            "375/375 [==============================] - 2s 5ms/step - loss: 0.2703 - accuracy: 0.9232 - val_loss: 0.1539 - val_accuracy: 0.9556\n",
            "Epoch 2/20\n",
            "375/375 [==============================] - 2s 4ms/step - loss: 0.1102 - accuracy: 0.9678 - val_loss: 0.1055 - val_accuracy: 0.9689\n",
            "Epoch 3/20\n",
            "375/375 [==============================] - 2s 4ms/step - loss: 0.0715 - accuracy: 0.9786 - val_loss: 0.0884 - val_accuracy: 0.9745\n",
            "Epoch 4/20\n",
            "375/375 [==============================] - 2s 4ms/step - loss: 0.0491 - accuracy: 0.9862 - val_loss: 0.0737 - val_accuracy: 0.9775\n",
            "Epoch 5/20\n",
            "375/375 [==============================] - 2s 4ms/step - loss: 0.0338 - accuracy: 0.9904 - val_loss: 0.0826 - val_accuracy: 0.9767\n",
            "Epoch 6/20\n",
            "375/375 [==============================] - 2s 4ms/step - loss: 0.0260 - accuracy: 0.9928 - val_loss: 0.0763 - val_accuracy: 0.9772\n",
            "Epoch 7/20\n",
            "375/375 [==============================] - 2s 4ms/step - loss: 0.0179 - accuracy: 0.9953 - val_loss: 0.0694 - val_accuracy: 0.9793\n",
            "Epoch 8/20\n",
            "375/375 [==============================] - 2s 4ms/step - loss: 0.0129 - accuracy: 0.9967 - val_loss: 0.0760 - val_accuracy: 0.9792\n",
            "Epoch 9/20\n",
            "375/375 [==============================] - 2s 4ms/step - loss: 0.0112 - accuracy: 0.9973 - val_loss: 0.0803 - val_accuracy: 0.9786\n",
            "Epoch 10/20\n",
            "375/375 [==============================] - 2s 4ms/step - loss: 0.0074 - accuracy: 0.9986 - val_loss: 0.0834 - val_accuracy: 0.9779\n",
            "Epoch 11/20\n",
            "375/375 [==============================] - 2s 4ms/step - loss: 0.0070 - accuracy: 0.9984 - val_loss: 0.0788 - val_accuracy: 0.9794\n",
            "Epoch 12/20\n",
            "375/375 [==============================] - 2s 4ms/step - loss: 0.0068 - accuracy: 0.9983 - val_loss: 0.0900 - val_accuracy: 0.9772\n",
            "Epoch 13/20\n",
            "375/375 [==============================] - 2s 4ms/step - loss: 0.0078 - accuracy: 0.9978 - val_loss: 0.0929 - val_accuracy: 0.9775\n",
            "Epoch 14/20\n",
            "375/375 [==============================] - 2s 4ms/step - loss: 0.0037 - accuracy: 0.9992 - val_loss: 0.0783 - val_accuracy: 0.9826\n",
            "Epoch 15/20\n",
            "375/375 [==============================] - 2s 4ms/step - loss: 0.0017 - accuracy: 0.9997 - val_loss: 0.0847 - val_accuracy: 0.9806\n",
            "Epoch 16/20\n",
            "375/375 [==============================] - 2s 4ms/step - loss: 0.0010 - accuracy: 0.9999 - val_loss: 0.0817 - val_accuracy: 0.9822\n",
            "Epoch 17/20\n",
            "375/375 [==============================] - 2s 4ms/step - loss: 0.0011 - accuracy: 0.9999 - val_loss: 0.0855 - val_accuracy: 0.9809\n",
            "Epoch 18/20\n",
            "375/375 [==============================] - 2s 4ms/step - loss: 0.0234 - accuracy: 0.9921 - val_loss: 0.1001 - val_accuracy: 0.9761\n",
            "Epoch 19/20\n",
            "375/375 [==============================] - 2s 4ms/step - loss: 0.0063 - accuracy: 0.9980 - val_loss: 0.0862 - val_accuracy: 0.9815\n",
            "Epoch 20/20\n",
            "375/375 [==============================] - 2s 4ms/step - loss: 0.0014 - accuracy: 0.9998 - val_loss: 0.0858 - val_accuracy: 0.9827\n",
            "INFO:tensorflow:Assets written to: test/assets\n",
            "313/313 [==============================] - 1s 3ms/step - loss: 0.0787 - accuracy: 0.9807\n",
            "0.079\n"
          ],
          "name": "stdout"
        }
      ]
    }
  ]
}