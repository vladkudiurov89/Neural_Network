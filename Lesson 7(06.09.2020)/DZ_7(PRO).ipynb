{
  "nbformat": 4,
  "nbformat_minor": 0,
  "metadata": {
    "colab": {
      "name": "DZ-7(PRO).ipynb",
      "provenance": [],
      "collapsed_sections": []
    },
    "kernelspec": {
      "name": "python3",
      "display_name": "Python 3"
    }
  },
  "cells": [
    {
      "cell_type": "code",
      "metadata": {
        "id": "-E4Lh6j3Fdcn"
      },
      "source": [
        "#Загружаем библиотеки\n",
        "\n",
        "import pandas as pd\n",
        "import numpy as np\n",
        "import matplotlib.pyplot as plt\n",
        "\n",
        "from tensorflow.keras.layers import concatenate, Input, Dense, Dropout, BatchNormalization, Flatten, Conv1D, LSTM \n",
        "from sklearn.preprocessing import StandardScaler, MinMaxScaler\n",
        "from tensorflow.keras import utils\n",
        "from tensorflow.keras.models import Sequential, Model \n",
        "from tensorflow.keras.optimizers import Adam\n",
        "from tensorflow.keras.preprocessing.sequence import TimeseriesGenerator\n",
        "\n",
        "%matplotlib inline"
      ],
      "execution_count": 2,
      "outputs": []
    },
    {
      "cell_type": "code",
      "metadata": {
        "colab": {
          "base_uri": "https://localhost:8080/"
        },
        "id": "015jW3IaFkrO",
        "outputId": "35b0f452-0a79-483e-f7a4-d7c30dca98f7"
      },
      "source": [
        "from google.colab import drive\n",
        "drive.mount('/content/drive')"
      ],
      "execution_count": 1,
      "outputs": [
        {
          "output_type": "stream",
          "text": [
            "Mounted at /content/drive\n"
          ],
          "name": "stdout"
        }
      ]
    },
    {
      "cell_type": "code",
      "metadata": {
        "colab": {
          "base_uri": "https://localhost:8080/",
          "height": 204
        },
        "id": "Wafa5UJaFkuC",
        "outputId": "225bf788-ebf0-4d41-da70-5050ebc07f9d"
      },
      "source": [
        "base_data = pd.read_csv('/content/drive/My Drive/datasets/date_csv/traff.csv')\n",
        "base_data.head()"
      ],
      "execution_count": 3,
      "outputs": [
        {
          "output_type": "execute_result",
          "data": {
            "text/html": [
              "<div>\n",
              "<style scoped>\n",
              "    .dataframe tbody tr th:only-of-type {\n",
              "        vertical-align: middle;\n",
              "    }\n",
              "\n",
              "    .dataframe tbody tr th {\n",
              "        vertical-align: top;\n",
              "    }\n",
              "\n",
              "    .dataframe thead th {\n",
              "        text-align: right;\n",
              "    }\n",
              "</style>\n",
              "<table border=\"1\" class=\"dataframe\">\n",
              "  <thead>\n",
              "    <tr style=\"text-align: right;\">\n",
              "      <th></th>\n",
              "      <th>1/1/2017</th>\n",
              "      <th>22,226.00</th>\n",
              "    </tr>\n",
              "  </thead>\n",
              "  <tbody>\n",
              "    <tr>\n",
              "      <th>0</th>\n",
              "      <td>1/2/2017</td>\n",
              "      <td>29,593.00</td>\n",
              "    </tr>\n",
              "    <tr>\n",
              "      <th>1</th>\n",
              "      <td>1/3/2017</td>\n",
              "      <td>31,726.00</td>\n",
              "    </tr>\n",
              "    <tr>\n",
              "      <th>2</th>\n",
              "      <td>1/4/2017</td>\n",
              "      <td>32,684.00</td>\n",
              "    </tr>\n",
              "    <tr>\n",
              "      <th>3</th>\n",
              "      <td>1/5/2017</td>\n",
              "      <td>31,820.00</td>\n",
              "    </tr>\n",
              "    <tr>\n",
              "      <th>4</th>\n",
              "      <td>1/6/2017</td>\n",
              "      <td>29,354.00</td>\n",
              "    </tr>\n",
              "  </tbody>\n",
              "</table>\n",
              "</div>"
            ],
            "text/plain": [
              "   1/1/2017  22,226.00\n",
              "0  1/2/2017  29,593.00\n",
              "1  1/3/2017  31,726.00\n",
              "2  1/4/2017  32,684.00\n",
              "3  1/5/2017  31,820.00\n",
              "4  1/6/2017  29,354.00"
            ]
          },
          "metadata": {
            "tags": []
          },
          "execution_count": 3
        }
      ]
    },
    {
      "cell_type": "code",
      "metadata": {
        "colab": {
          "base_uri": "https://localhost:8080/",
          "height": 204
        },
        "id": "nw9hw9-2Fkw6",
        "outputId": "cb1a8301-de5d-45a8-ef61-9a5d43e2b522"
      },
      "source": [
        "# Убираем ненужную колонку с датой\n",
        "base_data = base_data.iloc[:,1:]\n",
        "base_data.columns = ['traff']\n",
        "base_data.head()"
      ],
      "execution_count": 4,
      "outputs": [
        {
          "output_type": "execute_result",
          "data": {
            "text/html": [
              "<div>\n",
              "<style scoped>\n",
              "    .dataframe tbody tr th:only-of-type {\n",
              "        vertical-align: middle;\n",
              "    }\n",
              "\n",
              "    .dataframe tbody tr th {\n",
              "        vertical-align: top;\n",
              "    }\n",
              "\n",
              "    .dataframe thead th {\n",
              "        text-align: right;\n",
              "    }\n",
              "</style>\n",
              "<table border=\"1\" class=\"dataframe\">\n",
              "  <thead>\n",
              "    <tr style=\"text-align: right;\">\n",
              "      <th></th>\n",
              "      <th>traff</th>\n",
              "    </tr>\n",
              "  </thead>\n",
              "  <tbody>\n",
              "    <tr>\n",
              "      <th>0</th>\n",
              "      <td>29,593.00</td>\n",
              "    </tr>\n",
              "    <tr>\n",
              "      <th>1</th>\n",
              "      <td>31,726.00</td>\n",
              "    </tr>\n",
              "    <tr>\n",
              "      <th>2</th>\n",
              "      <td>32,684.00</td>\n",
              "    </tr>\n",
              "    <tr>\n",
              "      <th>3</th>\n",
              "      <td>31,820.00</td>\n",
              "    </tr>\n",
              "    <tr>\n",
              "      <th>4</th>\n",
              "      <td>29,354.00</td>\n",
              "    </tr>\n",
              "  </tbody>\n",
              "</table>\n",
              "</div>"
            ],
            "text/plain": [
              "       traff\n",
              "0  29,593.00\n",
              "1  31,726.00\n",
              "2  32,684.00\n",
              "3  31,820.00\n",
              "4  29,354.00"
            ]
          },
          "metadata": {
            "tags": []
          },
          "execution_count": 4
        }
      ]
    },
    {
      "cell_type": "code",
      "metadata": {
        "id": "QJ60ocGOFkzw"
      },
      "source": [
        "# Удаляем ненужный символ ','\n",
        "a = []\n",
        "for i in range(len(base_data)):\n",
        "    \n",
        "    a.append(float(base_data['traff'][i].replace(',','')))"
      ],
      "execution_count": 5,
      "outputs": []
    },
    {
      "cell_type": "code",
      "metadata": {
        "colab": {
          "base_uri": "https://localhost:8080/",
          "height": 415
        },
        "id": "wxCZl3SDGZxi",
        "outputId": "9602b07a-15fc-4cf6-d723-e3fdf5b439d5"
      },
      "source": [
        "index = list(range(len(base_data)))\n",
        "data = pd.DataFrame(a, columns = ['traff'], index = index)\n",
        "data"
      ],
      "execution_count": 6,
      "outputs": [
        {
          "output_type": "execute_result",
          "data": {
            "text/html": [
              "<div>\n",
              "<style scoped>\n",
              "    .dataframe tbody tr th:only-of-type {\n",
              "        vertical-align: middle;\n",
              "    }\n",
              "\n",
              "    .dataframe tbody tr th {\n",
              "        vertical-align: top;\n",
              "    }\n",
              "\n",
              "    .dataframe thead th {\n",
              "        text-align: right;\n",
              "    }\n",
              "</style>\n",
              "<table border=\"1\" class=\"dataframe\">\n",
              "  <thead>\n",
              "    <tr style=\"text-align: right;\">\n",
              "      <th></th>\n",
              "      <th>traff</th>\n",
              "    </tr>\n",
              "  </thead>\n",
              "  <tbody>\n",
              "    <tr>\n",
              "      <th>0</th>\n",
              "      <td>29593.0</td>\n",
              "    </tr>\n",
              "    <tr>\n",
              "      <th>1</th>\n",
              "      <td>31726.0</td>\n",
              "    </tr>\n",
              "    <tr>\n",
              "      <th>2</th>\n",
              "      <td>32684.0</td>\n",
              "    </tr>\n",
              "    <tr>\n",
              "      <th>3</th>\n",
              "      <td>31820.0</td>\n",
              "    </tr>\n",
              "    <tr>\n",
              "      <th>4</th>\n",
              "      <td>29354.0</td>\n",
              "    </tr>\n",
              "    <tr>\n",
              "      <th>...</th>\n",
              "      <td>...</td>\n",
              "    </tr>\n",
              "    <tr>\n",
              "      <th>1089</th>\n",
              "      <td>29801.0</td>\n",
              "    </tr>\n",
              "    <tr>\n",
              "      <th>1090</th>\n",
              "      <td>34913.0</td>\n",
              "    </tr>\n",
              "    <tr>\n",
              "      <th>1091</th>\n",
              "      <td>37665.0</td>\n",
              "    </tr>\n",
              "    <tr>\n",
              "      <th>1092</th>\n",
              "      <td>32643.0</td>\n",
              "    </tr>\n",
              "    <tr>\n",
              "      <th>1093</th>\n",
              "      <td>28212.0</td>\n",
              "    </tr>\n",
              "  </tbody>\n",
              "</table>\n",
              "<p>1094 rows × 1 columns</p>\n",
              "</div>"
            ],
            "text/plain": [
              "        traff\n",
              "0     29593.0\n",
              "1     31726.0\n",
              "2     32684.0\n",
              "3     31820.0\n",
              "4     29354.0\n",
              "...       ...\n",
              "1089  29801.0\n",
              "1090  34913.0\n",
              "1091  37665.0\n",
              "1092  32643.0\n",
              "1093  28212.0\n",
              "\n",
              "[1094 rows x 1 columns]"
            ]
          },
          "metadata": {
            "tags": []
          },
          "execution_count": 6
        }
      ]
    },
    {
      "cell_type": "code",
      "metadata": {
        "id": "NUUmCEuYGZ04"
      },
      "source": [
        "xLen = 60\n",
        "valLen = 300 \n",
        "\n",
        "trainLen = data.shape[0]-valLen \n",
        "\n",
        "xTrain,xTest = data[:trainLen], data[trainLen+xLen+2:]\n",
        "\n",
        "xScaler = MinMaxScaler()\n",
        "xScaler.fit(xTrain)\n",
        "xTrain = xScaler.transform(xTrain)\n",
        "xTest = xScaler.transform(xTest)\n",
        "\n",
        "yTrain,yTest = np.reshape(data[:trainLen],(-1,1)), np.reshape(data[trainLen+xLen+2:],(-1,1)) \n",
        "yScaler = MinMaxScaler()\n",
        "yScaler.fit(yTrain)\n",
        "yTrain = yScaler.transform(yTrain)\n",
        "yTest = yScaler.transform(yTest)\n",
        "\n",
        "trainDataGen = TimeseriesGenerator(xTrain, yTrain, \n",
        "                               length=xLen, sampling_rate=1, \n",
        "                               batch_size=20)                \n",
        "\n",
        "testDataGen = TimeseriesGenerator(xTest, yTest,\n",
        "                               length=xLen, sampling_rate=1,\n",
        "                               batch_size=20)"
      ],
      "execution_count": 7,
      "outputs": []
    },
    {
      "cell_type": "code",
      "metadata": {
        "colab": {
          "base_uri": "https://localhost:8080/"
        },
        "id": "NN6rOehLGZ3_",
        "outputId": "f83d7fbc-187c-4f27-e2e6-957b1ef540f3"
      },
      "source": [
        "print(xTrain.shape)\n",
        "print(xTest.shape)\n",
        "print(yTrain.shape)\n",
        "print(yTest.shape)\n",
        "print(trainDataGen[0][0].shape)\n",
        "# print(testDataGen.shape)"
      ],
      "execution_count": 8,
      "outputs": [
        {
          "output_type": "stream",
          "text": [
            "(794, 1)\n",
            "(238, 1)\n",
            "(794, 1)\n",
            "(238, 1)\n",
            "(20, 60, 1)\n"
          ],
          "name": "stdout"
        }
      ]
    },
    {
      "cell_type": "code",
      "metadata": {
        "id": "xhMIR3ZxGmr0"
      },
      "source": [
        "def getPred(currModel, xVal, yVal, yScaler):\n",
        "\n",
        "  predVal = yScaler.inverse_transform(currModel.predict(xVal))\n",
        "  yValUnscaled = yScaler.inverse_transform(yVal)\n",
        "  \n",
        "  return (predVal, yValUnscaled)\n",
        "\n",
        "def showPredict(start, step, channel, predVal, yValUnscaled):\n",
        "  plt.plot(predVal[start:start+step, 0],\n",
        "           label='Прогноз')\n",
        "  plt.plot(yValUnscaled[start:start+step, channel], \n",
        "           label='Базовый ряд')\n",
        "  plt.xlabel('Время')\n",
        "  plt.ylabel('Значение Close')\n",
        "  plt.legend()\n",
        "  plt.show()\n",
        "  \n",
        "def correlate(a, b):\n",
        "\n",
        "  ma = a.mean() \n",
        "  mb = b.mean()\n",
        "  mab = (a*b).mean() \n",
        "  sa = a.std() \n",
        "  sb = b.std() \n",
        "  \n",
        "  val = 1\n",
        "  if ((sa>0) & (sb>0)):\n",
        "    val = (mab-ma*mb)/(sa*sb)\n",
        "  return val\n",
        "\n",
        "def showCorr(channels, corrSteps, predVal, yValUnscaled):\n",
        "  for ch in channels:\n",
        "    corr = []\n",
        "    yLen = yValUnscaled.shape[0] \n",
        "    for i in range(corrSteps):\n",
        "      corr.append(correlate(yValUnscaled[:yLen-i,ch], predVal[i:, 0]))\n",
        "\n",
        "    own_corr = [] \n",
        "\n",
        "    for i in range(corrSteps):\n",
        "      own_corr.append(correlate(yValUnscaled[:yLen-i,ch], yValUnscaled[i:, ch]))\n",
        "\n",
        "    plt.plot(corr, label='Предсказание на ' + str(ch+1) + ' шаг')\n",
        "    plt.plot(own_corr, label='Эталон')\n",
        "    plt.xlabel('Время')\n",
        "    plt.ylabel('Значение')\n",
        "    plt.legend()\n",
        "    plt.show()\n",
        "\n",
        "\n",
        "\n",
        "\n",
        "\n",
        "DataGen = TimeseriesGenerator(xTest, yTest,\n",
        "                               length=xLen, sampling_rate=1,\n",
        "                               batch_size=len(xTest))\n",
        "xVal = []\n",
        "yVal = []\n",
        "for i in DataGen:\n",
        "  xVal.append(i[0])\n",
        "  yVal.append(i[1])\n",
        "\n",
        "xVal = np.array(xVal)\n",
        "yVal = np.array(yVal)"
      ],
      "execution_count": 9,
      "outputs": []
    },
    {
      "cell_type": "code",
      "metadata": {
        "colab": {
          "base_uri": "https://localhost:8080/",
          "height": 684
        },
        "id": "bqb0YAeyGmu_",
        "outputId": "459b9141-0e8c-459e-ac6e-d336479ffef0"
      },
      "source": [
        "modelC = Sequential()\n",
        "\n",
        "modelC.add(Conv1D(2048, 5, input_shape = (xLen,1), activation='linear'))\n",
        "modelC.add(Flatten())\n",
        "modelC.add(Dense(2048, activation='linear'))\n",
        "modelC.add(Dense(1, activation='linear'))\n",
        "\n",
        "modelC.compile(loss='mse', optimizer=Adam(lr=1e-4))\n",
        "\n",
        "history = modelC.fit_generator(\n",
        "                    trainDataGen,\n",
        "                    epochs=10, verbose=1,\n",
        "                    validation_data=testDataGen)\n",
        "\n",
        "plt.plot(history.history['loss'], \n",
        "         label='Средняя абсолютная ошибка на обучающем наборе')\n",
        "plt.plot(history.history['val_loss'], \n",
        "         label='Средняя абсолютная ошибка на проверочном наборе')\n",
        "plt.ylabel('Средняя ошибка')\n",
        "plt.legend()\n",
        "plt.show()"
      ],
      "execution_count": 10,
      "outputs": [
        {
          "output_type": "stream",
          "text": [
            "WARNING:tensorflow:From <ipython-input-10-ce19828b4adf>:13: Model.fit_generator (from tensorflow.python.keras.engine.training) is deprecated and will be removed in a future version.\n",
            "Instructions for updating:\n",
            "Please use Model.fit, which supports generators.\n",
            "Epoch 1/10\n",
            "37/37 [==============================] - 69s 2s/step - loss: 14.4464 - val_loss: 1.8408\n",
            "Epoch 2/10\n",
            "37/37 [==============================] - 69s 2s/step - loss: 0.6940 - val_loss: 0.4491\n",
            "Epoch 3/10\n",
            "37/37 [==============================] - 69s 2s/step - loss: 0.0852 - val_loss: 0.1146\n",
            "Epoch 4/10\n",
            "37/37 [==============================] - 69s 2s/step - loss: 0.0455 - val_loss: 0.0186\n",
            "Epoch 5/10\n",
            "37/37 [==============================] - 72s 2s/step - loss: 0.0143 - val_loss: 0.0154\n",
            "Epoch 6/10\n",
            "37/37 [==============================] - 69s 2s/step - loss: 0.0116 - val_loss: 0.0078\n",
            "Epoch 7/10\n",
            "37/37 [==============================] - 69s 2s/step - loss: 0.0080 - val_loss: 0.0075\n",
            "Epoch 8/10\n",
            "37/37 [==============================] - 69s 2s/step - loss: 0.0072 - val_loss: 0.0058\n",
            "Epoch 9/10\n",
            "37/37 [==============================] - 69s 2s/step - loss: 0.0080 - val_loss: 0.0055\n",
            "Epoch 10/10\n",
            "37/37 [==============================] - 69s 2s/step - loss: 0.0060 - val_loss: 0.0064\n"
          ],
          "name": "stdout"
        },
        {
          "output_type": "display_data",
          "data": {
            "image/png": "[encoded data removed]",
            "text/plain": [
              "<Figure size 432x288 with 1 Axes>"
            ]
          },
          "metadata": {
            "tags": [],
            "needs_background": "light"
          }
        }
      ]
    },
    {
      "cell_type": "code",
      "metadata": {
        "colab": {
          "base_uri": "https://localhost:8080/",
          "height": 541
        },
        "id": "bLuxslIMGmx7",
        "outputId": "0b92afd7-9140-4140-f9ef-754833707193"
      },
      "source": [
        "#Прогнозируем данные текущей сетью\n",
        "currModel = modelC\n",
        "(predVal, yValUnscaled) = getPred(currModel, xVal[0], yVal[0], yScaler)\n",
        "\n",
        "\n",
        "showPredict(0, 4000, 0, predVal, yValUnscaled)\n",
        "\n",
        "showCorr([0], 60, predVal, yValUnscaled)"
      ],
      "execution_count": 11,
      "outputs": [
        {
          "output_type": "display_data",
          "data": {
            "image/png": "[encoded data removed]",
            "text/plain": [
              "<Figure size 432x288 with 1 Axes>"
            ]
          },
          "metadata": {
            "tags": [],
            "needs_background": "light"
          }
        },
        {
          "output_type": "display_data",
          "data": {
            "image/png": "[encoded data removed]",
            "text/plain": [
              "<Figure size 432x288 with 1 Axes>"
            ]
          },
          "metadata": {
            "tags": [],
            "needs_background": "light"
          }
        }
      ]
    }
  ]
}