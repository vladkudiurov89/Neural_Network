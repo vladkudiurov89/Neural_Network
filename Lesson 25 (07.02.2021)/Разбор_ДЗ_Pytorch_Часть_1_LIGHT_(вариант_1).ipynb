{
  "nbformat": 4,
  "nbformat_minor": 0,
  "metadata": {
    "accelerator": "GPU",
    "colab": {
      "name": "Разбор ДЗ Pytorch. Часть #1 LIGHT (вариант 1)",
      "provenance": [],
      "collapsed_sections": [],
      "machine_shape": "hm"
    },
    "kernelspec": {
      "display_name": "Python 3",
      "language": "python",
      "name": "python3"
    },
    "language_info": {
      "codemirror_mode": {
        "name": "ipython",
        "version": 3
      },
      "file_extension": ".py",
      "mimetype": "text/x-python",
      "name": "python",
      "nbconvert_exporter": "python",
      "pygments_lexer": "ipython3",
      "version": "3.8.2"
    }
  },
  "cells": [
    {
      "cell_type": "markdown",
      "metadata": {
        "id": "SLSNkAK9cakx"
      },
      "source": [
        "**Light задание**\n",
        "1. Возьмите любые 10 изображений. Напишите свой класс для создания Dataset, в который на вход будут подаваться: путь с файлами, listID, labels. При этом изображения должны быть на выходе (xTrain) ч/б, перевернутые, урезанные до размера (32х32) и вытянутые в вектор.\n",
        "2. Напишите архитектуру сетки, которая будет обрабатывать данные из пункта 1.\n",
        "3. Напишите процесс обучения для такой архитектуры, используйте loss, criterion и optimizer не из занятия.\n"
      ]
    },
    {
      "cell_type": "code",
      "metadata": {
        "id": "TPt4ZS2plAlu"
      },
      "source": [
        ""
      ],
      "execution_count": null,
      "outputs": []
    },
    {
      "cell_type": "code",
      "metadata": {
        "id": "3vCfwq4B3clW"
      },
      "source": [
        "import numpy as np # импортируем Numpy\n",
        "import scipy # импортируем Scipy\n",
        "\n",
        "# библиотеки для использования PyTopch\n",
        "import torch\n",
        "import torchvision\n",
        "import torch.nn as nn\n",
        "import torch.utils.data as data\n",
        "import torchvision.transforms as transforms\n",
        "import torchvision.datasets as dsets\n",
        "from torch.autograd import Variable\n",
        "from torch.utils.tensorboard import SummaryWriter\n",
        "\n",
        "# для оценки времени\n",
        "import datetime, os\n",
        "import time\n",
        "\n",
        "# для работы с картинкой и графиками\n",
        "from PIL import Image\n",
        "import matplotlib.pyplot as plt\n",
        "%matplotlib inline"
      ],
      "execution_count": null,
      "outputs": []
    },
    {
      "cell_type": "code",
      "metadata": {
        "id": "WDYLL6d7Jgvm",
        "colab": {
          "base_uri": "https://localhost:8080/"
        },
        "outputId": "15f76741-d538-4b5e-f1b0-cfb1afa8238a"
      },
      "source": [
        "# подключаем Google Drive\n",
        "from google.colab import drive\n",
        "drive.mount('/content/drive')"
      ],
      "execution_count": null,
      "outputs": [
        {
          "output_type": "stream",
          "text": [
            "Mounted at /content/drive\n"
          ],
          "name": "stdout"
        }
      ]
    },
    {
      "cell_type": "code",
      "metadata": {
        "id": "8Dm2e9J16XGx",
        "colab": {
          "base_uri": "https://localhost:8080/"
        },
        "outputId": "ac87e16a-e154-4ba1-c91b-9cd8e8c851d9"
      },
      "source": [
        "# убеждаемся, что используем видеокарту\r\n",
        "!nvidia-smi"
      ],
      "execution_count": null,
      "outputs": [
        {
          "output_type": "stream",
          "text": [
            "Sat Nov 14 13:20:18 2020       \n",
            "+-----------------------------------------------------------------------------+\n",
            "| NVIDIA-SMI 455.32.00    Driver Version: 418.67       CUDA Version: 10.1     |\n",
            "|-------------------------------+----------------------+----------------------+\n",
            "| GPU  Name        Persistence-M| Bus-Id        Disp.A | Volatile Uncorr. ECC |\n",
            "| Fan  Temp  Perf  Pwr:Usage/Cap|         Memory-Usage | GPU-Util  Compute M. |\n",
            "|                               |                      |               MIG M. |\n",
            "|===============================+======================+======================|\n",
            "|   0  Tesla P100-PCIE...  Off  | 00000000:00:04.0 Off |                    0 |\n",
            "| N/A   36C    P0    26W / 250W |      0MiB / 16280MiB |      0%      Default |\n",
            "|                               |                      |                 ERR! |\n",
            "+-------------------------------+----------------------+----------------------+\n",
            "                                                                               \n",
            "+-----------------------------------------------------------------------------+\n",
            "| Processes:                                                                  |\n",
            "|  GPU   GI   CI        PID   Type   Process name                  GPU Memory |\n",
            "|        ID   ID                                                   Usage      |\n",
            "|=============================================================================|\n",
            "|  No running processes found                                                 |\n",
            "+-----------------------------------------------------------------------------+\n"
          ],
          "name": "stdout"
        }
      ]
    },
    {
      "cell_type": "code",
      "metadata": {
        "id": "y1cvlVxS6dRy"
      },
      "source": [
        "# для работы с датасетом\n",
        "class CustomDataset(data.Dataset):\n",
        "  def __init__(self, listID, labels, path, transforms=None):\n",
        "    self.listID = listID\n",
        "    print(self.listID)\n",
        "    self.labels = labels\n",
        "    print(self.labels)\n",
        "    self.transforms = transforms\n",
        "    self.path = path\n",
        "\n",
        "  def __getitem__(self, index):\n",
        "    ID = self.listID[index]\n",
        "    image = cv2.imread(path + ID)\n",
        "    image = cv2.cvtColor(image, cv2.COLOR_BGR2RGB)\n",
        "    \n",
        "    if self.transforms:\n",
        "      image = self.transforms(image)\n",
        "    trainX = image\n",
        "    trainY = self.labels[index]\n",
        "\n",
        "    return trainX, trainY\n",
        "\n",
        "  def __len__(self):\n",
        "    return len(self.listID)"
      ],
      "execution_count": null,
      "outputs": []
    },
    {
      "cell_type": "code",
      "metadata": {
        "id": "hOf7P3NxAd4N"
      },
      "source": [
        "# преобразуем датасет, как необходимо по заданию\n",
        "transform = transforms.Compose([\n",
        "                                transforms.ToTensor(),\n",
        "                                transforms.Grayscale(),\n",
        "                                transforms.RandomHorizontalFlip(p=1.0),\n",
        "                                transforms.Resize((32,32)),\n",
        "                                transforms.Lambda(lambda x: torch.flatten(x))\n",
        "\n",
        "])"
      ],
      "execution_count": null,
      "outputs": []
    },
    {
      "cell_type": "markdown",
      "metadata": {
        "id": "BPGkm8ma5Uho"
      },
      "source": [
        "Нарисовал 10 картинок: 5 крестиков и 5 галочек."
      ]
    },
    {
      "cell_type": "code",
      "metadata": {
        "id": "iTjVAr6UJ3Ki",
        "colab": {
          "base_uri": "https://localhost:8080/"
        },
        "outputId": "f8787ff4-3038-4d97-f169-5063878d317e"
      },
      "source": [
        "# загружаем картинки для датасета, создаём метки\n",
        "path = '/content/drive/My Drive/lesson25/' \n",
        "listID = os.listdir(path)\n",
        "labels = [0,1,1,0,0,0,0,1,1,1] # 0 - крестик, 1 - галочка\n",
        "print(listID)"
      ],
      "execution_count": null,
      "outputs": [
        {
          "output_type": "stream",
          "text": [
            "['1.png', '2.png', '3.png', '4.png', '5.png', '6.png', '7.png', '8.png', '9.png', '10.png']\n"
          ],
          "name": "stdout"
        }
      ]
    },
    {
      "cell_type": "code",
      "metadata": {
        "id": "kB5guP9NKLhz",
        "colab": {
          "base_uri": "https://localhost:8080/",
          "height": 268
        },
        "outputId": "4d2046e3-0f56-4e4e-ac4a-8140612b562d"
      },
      "source": [
        "# Посмотрим на примеры изображений\n",
        "img1 = Image.open(path+listID[0])\n",
        "img2 = Image.open(path+listID[1])\n",
        "\n",
        "fig, ax = plt.subplots(1,2, figsize=(10,5))\n",
        "ax[0].imshow(img1)\n",
        "ax[1].imshow(img2)\n",
        "plt.show()"
      ],
      "execution_count": null,
      "outputs": [
        {
          "output_type": "display_data",
          "data": {
            "image/png": "[encoded data removed]",
            "text/plain": [
              "<Figure size 720x360 with 2 Axes>"
            ]
          },
          "metadata": {
            "tags": [],
            "needs_background": "light"
          }
        }
      ]
    },
    {
      "cell_type": "code",
      "metadata": {
        "id": "YxCReC10JmOD",
        "colab": {
          "base_uri": "https://localhost:8080/"
        },
        "outputId": "6bdd6f44-3906-4383-99ce-22d07da1ab65"
      },
      "source": [
        "# Информация о датасете\n",
        "customData = CustomDataset(listID[2:], labels[2:], path, transform)\n",
        "len(customData)"
      ],
      "execution_count": null,
      "outputs": [
        {
          "output_type": "stream",
          "text": [
            "['3.png', '4.png', '5.png', '6.png', '7.png', '8.png', '9.png', '10.png']\n",
            "[1, 0, 0, 0, 0, 1, 1, 1]\n"
          ],
          "name": "stdout"
        },
        {
          "output_type": "execute_result",
          "data": {
            "text/plain": [
              "8"
            ]
          },
          "metadata": {
            "tags": []
          },
          "execution_count": 136
        }
      ]
    },
    {
      "cell_type": "code",
      "metadata": {
        "id": "d9_sQzr4L4Gg"
      },
      "source": [
        "# Создадим dataloader\n",
        "trainLoader = torch.utils.data.DataLoader(dataset=customData,\n",
        "                                          batch_size=4,\n",
        "                                          shuffle=True,\n",
        "                                          num_workers=4)"
      ],
      "execution_count": null,
      "outputs": []
    },
    {
      "cell_type": "code",
      "metadata": {
        "id": "ywBRjnUJMcXp",
        "colab": {
          "base_uri": "https://localhost:8080/"
        },
        "outputId": "1240ec02-6b59-417f-d507-da7429cd1e44"
      },
      "source": [
        "# Посмотрим на пример генерации\n",
        "dataiter = iter(trainLoader)\n",
        "images = dataiter.next()\n",
        "print(images[0].shape, images[1].shape)"
      ],
      "execution_count": null,
      "outputs": [
        {
          "output_type": "stream",
          "text": [
            "torch.Size([4, 1024]) torch.Size([4])\n"
          ],
          "name": "stdout"
        }
      ]
    },
    {
      "cell_type": "code",
      "metadata": {
        "id": "wm7wnb0IMmng",
        "colab": {
          "base_uri": "https://localhost:8080/",
          "height": 266
        },
        "outputId": "275ad9b6-faff-475c-efa4-864a0bb95eda"
      },
      "source": [
        "# И на преобразование изображения\n",
        "test_image = images[0][0].numpy().reshape(32,32)\n",
        "plt.imshow(test_image, plt.cm.gray)\n",
        "plt.show()"
      ],
      "execution_count": null,
      "outputs": [
        {
          "output_type": "display_data",
          "data": {
            "image/png": "[encoded data removed]",
            "text/plain": [
              "<Figure size 432x288 with 1 Axes>"
            ]
          },
          "metadata": {
            "tags": [],
            "needs_background": "light"
          }
        }
      ]
    },
    {
      "cell_type": "code",
      "metadata": {
        "id": "_GYq14IVNo0N"
      },
      "source": [
        "# объявляем константы\n",
        "input_size = 1024\n",
        "num_classes = 1\n",
        "epochs = 20\n",
        "learning_rate = 1e-3\n",
        "hidden_size = 400\n",
        "class_names = ['cross', 'ok']"
      ],
      "execution_count": null,
      "outputs": []
    },
    {
      "cell_type": "code",
      "metadata": {
        "id": "tiOG-iC_OXe6"
      },
      "source": [
        "# класс модели\n",
        "class Classification(nn.Module):\n",
        "  def __init__(self, input_size, hidden_size, num_classes):\n",
        "    super().__init__()\n",
        "    self.layer1 = nn.Linear(input_size, hidden_size)\n",
        "    self.relu = nn.ReLU()\n",
        "    self.layer2 = nn.Linear(hidden_size, num_classes)\n",
        "    self.sigmoid = nn.Sigmoid()\n",
        "\n",
        "  def forward(self, x):\n",
        "    out = self.layer1(x)\n",
        "    out = self.relu(out)\n",
        "    out = self.layer2(out)\n",
        "    out = self.sigmoid(out)\n",
        "    return out"
      ],
      "execution_count": null,
      "outputs": []
    },
    {
      "cell_type": "code",
      "metadata": {
        "id": "35YcF48ISYxw",
        "colab": {
          "base_uri": "https://localhost:8080/"
        },
        "outputId": "3c625887-d73d-417e-b286-1903706822f0"
      },
      "source": [
        "# создаём модель\n",
        "model = Classification(input_size, hidden_size, num_classes)\n",
        "\n",
        "model(images[0])"
      ],
      "execution_count": null,
      "outputs": [
        {
          "output_type": "execute_result",
          "data": {
            "text/plain": [
              "tensor([[0.4925],\n",
              "        [0.5006],\n",
              "        [0.4921],\n",
              "        [0.5066]], grad_fn=<SigmoidBackward>)"
            ]
          },
          "metadata": {
            "tags": []
          },
          "execution_count": 170
        }
      ]
    },
    {
      "cell_type": "code",
      "metadata": {
        "id": "tvIhknVuR81D",
        "colab": {
          "base_uri": "https://localhost:8080/"
        },
        "outputId": "9f36d1b1-a036-4c29-918d-a9debb9f3d5b"
      },
      "source": [
        "# компилируем модель\n",
        "criterion = nn.BCELoss()\n",
        "optimizer = torch.optim.Adam(model.parameters(), lr=learning_rate)\n",
        "losses = []\n",
        "model.train()"
      ],
      "execution_count": null,
      "outputs": [
        {
          "output_type": "execute_result",
          "data": {
            "text/plain": [
              "Classification(\n",
              "  (layer1): Linear(in_features=1024, out_features=400, bias=True)\n",
              "  (relu): ReLU()\n",
              "  (layer2): Linear(in_features=400, out_features=1, bias=True)\n",
              "  (sigmoid): Sigmoid()\n",
              ")"
            ]
          },
          "metadata": {
            "tags": []
          },
          "execution_count": 172
        }
      ]
    },
    {
      "cell_type": "code",
      "metadata": {
        "id": "ZQOKjJSdVS98"
      },
      "source": [
        "# если есть видеокарта, работаем с моделью на ней\n",
        "cuda = torch.cuda.is_available()\n",
        "if cuda:\n",
        "  model = model.cuda()"
      ],
      "execution_count": null,
      "outputs": []
    },
    {
      "cell_type": "code",
      "metadata": {
        "id": "-VCgf8TOSpHk",
        "colab": {
          "base_uri": "https://localhost:8080/",
          "height": 605
        },
        "outputId": "29e46599-fe2e-4300-ce7f-39a50c8a7b05"
      },
      "source": [
        "# обучаем модель\n",
        "for epoch in range(epochs):\n",
        "  lossTot = 0\n",
        "\n",
        "  for i, (images, labels) in enumerate(trainLoader):\n",
        "    labels = labels.view(-1,1).type(torch.FloatTensor)\n",
        "    images = images.cuda()\n",
        "    labels = labels.cuda()\n",
        "    optimizer.zero_grad()\n",
        "    outputs = model(images)\n",
        "    loss = criterion(outputs, labels)\n",
        "    loss.backward()\n",
        "\n",
        "    lossTot += loss.detach().data\n",
        "\n",
        "    optimizer.step()\n",
        "\n",
        "  losses.append(lossTot/len(customData))\n",
        "  print(f'Epoch: {epoch+1}/{epochs}, loss: {losses[-1]}')\n",
        "\n",
        "plt.plot(losses)\n",
        "plt.show()"
      ],
      "execution_count": null,
      "outputs": [
        {
          "output_type": "stream",
          "text": [
            "Epoch: 1/20, loss: 0.1724882572889328\n",
            "Epoch: 2/20, loss: 0.17326202988624573\n",
            "Epoch: 3/20, loss: 0.09523004293441772\n",
            "Epoch: 4/20, loss: 0.09198232740163803\n",
            "Epoch: 5/20, loss: 0.08381496369838715\n",
            "Epoch: 6/20, loss: 0.05879868194460869\n",
            "Epoch: 7/20, loss: 0.043901532888412476\n",
            "Epoch: 8/20, loss: 0.040747664868831635\n",
            "Epoch: 9/20, loss: 0.03604231774806976\n",
            "Epoch: 10/20, loss: 0.028824614360928535\n",
            "Epoch: 11/20, loss: 0.02217693254351616\n",
            "Epoch: 12/20, loss: 0.019135354086756706\n",
            "Epoch: 13/20, loss: 0.017710944637656212\n",
            "Epoch: 14/20, loss: 0.01607638970017433\n",
            "Epoch: 15/20, loss: 0.013468087650835514\n",
            "Epoch: 16/20, loss: 0.011232404038310051\n",
            "Epoch: 17/20, loss: 0.010078935883939266\n",
            "Epoch: 18/20, loss: 0.008135306648910046\n",
            "Epoch: 19/20, loss: 0.007461389992386103\n",
            "Epoch: 20/20, loss: 0.00655026501044631\n"
          ],
          "name": "stdout"
        },
        {
          "output_type": "display_data",
          "data": {
            "image/png": "[encoded data removed]",
            "text/plain": [
              "<Figure size 432x288 with 1 Axes>"
            ]
          },
          "metadata": {
            "tags": [],
            "needs_background": "light"
          }
        }
      ]
    },
    {
      "cell_type": "code",
      "metadata": {
        "id": "fMNT_nDFUTkp",
        "colab": {
          "base_uri": "https://localhost:8080/",
          "height": 263
        },
        "outputId": "21119b6a-4d20-4069-c94e-3952a6d7d75b"
      },
      "source": [
        "# проверяем работу модели\n",
        "model.eval()\n",
        "\n",
        "fig, ax = plt.subplots(1,2, figsize=(10,5))\n",
        "\n",
        "for i, id in enumerate(listID[:2]):\n",
        "  test_image = cv2.cvtColor(cv2.imread(path + id), cv2.COLOR_BGR2RGB)\n",
        "  test_image_for_predict = transform(test_image)\n",
        "  test_image_for_predict = test_image_for_predict.cuda()\n",
        "  prediction = model(test_image_for_predict).cpu().detach().numpy()[0]\n",
        "  ax[i].imshow(test_image)\n",
        "  ax[i].axis('off')\n",
        "  ax[i].title.set_text(class_names[int(round(prediction))] + ' ' + str(round(prediction, 2)))\n",
        "\n",
        "plt.show()"
      ],
      "execution_count": null,
      "outputs": [
        {
          "output_type": "display_data",
          "data": {
            "image/png": "[encoded data removed]",
            "text/plain": [
              "<Figure size 720x360 with 2 Axes>"
            ]
          },
          "metadata": {
            "tags": [],
            "needs_background": "light"
          }
        }
      ]
    }
  ]
}