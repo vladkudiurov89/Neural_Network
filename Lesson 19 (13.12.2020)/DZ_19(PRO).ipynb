{
  "nbformat": 4,
  "nbformat_minor": 0,
  "metadata": {
    "colab": {
      "name": "DZ-19(PRO).ipynb",
      "provenance": [],
      "collapsed_sections": [],
      "machine_shape": "hm"
    },
    "kernelspec": {
      "name": "python3",
      "display_name": "Python 3"
    },
    "accelerator": "GPU"
  },
  "cells": [
    {
      "cell_type": "code",
      "metadata": {
        "colab": {
          "base_uri": "https://localhost:8080/"
        },
        "id": "OfH1o_mLrquX",
        "outputId": "e19b17a3-15ee-48ed-9cc9-5be57a35f339"
      },
      "source": [
        "pip install tensorflow==2.3.1 gym keras-rl2 gym[atari]"
      ],
      "execution_count": 1,
      "outputs": [
        {
          "output_type": "stream",
          "text": [
            "Requirement already satisfied: tensorflow==2.3.1 in /usr/local/lib/python3.6/dist-packages (2.3.1)\n",
            "Requirement already satisfied: gym in /usr/local/lib/python3.6/dist-packages (0.17.3)\n",
            "Requirement already satisfied: keras-rl2 in /usr/local/lib/python3.6/dist-packages (1.0.4)\n",
            "Requirement already satisfied: six>=1.12.0 in /usr/local/lib/python3.6/dist-packages (from tensorflow==2.3.1) (1.15.0)\n",
            "Requirement already satisfied: h5py<2.11.0,>=2.10.0 in /usr/local/lib/python3.6/dist-packages (from tensorflow==2.3.1) (2.10.0)\n",
            "Requirement already satisfied: protobuf>=3.9.2 in /usr/local/lib/python3.6/dist-packages (from tensorflow==2.3.1) (3.12.4)\n",
            "Requirement already satisfied: grpcio>=1.8.6 in /usr/local/lib/python3.6/dist-packages (from tensorflow==2.3.1) (1.32.0)\n",
            "Requirement already satisfied: astunparse==1.6.3 in /usr/local/lib/python3.6/dist-packages (from tensorflow==2.3.1) (1.6.3)\n",
            "Requirement already satisfied: opt-einsum>=2.3.2 in /usr/local/lib/python3.6/dist-packages (from tensorflow==2.3.1) (3.3.0)\n",
            "Requirement already satisfied: absl-py>=0.7.0 in /usr/local/lib/python3.6/dist-packages (from tensorflow==2.3.1) (0.10.0)\n",
            "Requirement already satisfied: keras-preprocessing<1.2,>=1.1.1 in /usr/local/lib/python3.6/dist-packages (from tensorflow==2.3.1) (1.1.2)\n",
            "Requirement already satisfied: wheel>=0.26 in /usr/local/lib/python3.6/dist-packages (from tensorflow==2.3.1) (0.36.2)\n",
            "Requirement already satisfied: wrapt>=1.11.1 in /usr/local/lib/python3.6/dist-packages (from tensorflow==2.3.1) (1.12.1)\n",
            "Requirement already satisfied: numpy<1.19.0,>=1.16.0 in /usr/local/lib/python3.6/dist-packages (from tensorflow==2.3.1) (1.18.5)\n",
            "Requirement already satisfied: google-pasta>=0.1.8 in /usr/local/lib/python3.6/dist-packages (from tensorflow==2.3.1) (0.2.0)\n",
            "Requirement already satisfied: tensorflow-estimator<2.4.0,>=2.3.0 in /usr/local/lib/python3.6/dist-packages (from tensorflow==2.3.1) (2.3.0)\n",
            "Requirement already satisfied: gast==0.3.3 in /usr/local/lib/python3.6/dist-packages (from tensorflow==2.3.1) (0.3.3)\n",
            "Requirement already satisfied: termcolor>=1.1.0 in /usr/local/lib/python3.6/dist-packages (from tensorflow==2.3.1) (1.1.0)\n",
            "Requirement already satisfied: tensorboard<3,>=2.3.0 in /usr/local/lib/python3.6/dist-packages (from tensorflow==2.3.1) (2.4.0)\n",
            "Requirement already satisfied: pyglet<=1.5.0,>=1.4.0 in /usr/local/lib/python3.6/dist-packages (from gym) (1.5.0)\n",
            "Requirement already satisfied: scipy in /usr/local/lib/python3.6/dist-packages (from gym) (1.4.1)\n",
            "Requirement already satisfied: cloudpickle<1.7.0,>=1.2.0 in /usr/local/lib/python3.6/dist-packages (from gym) (1.3.0)\n",
            "Requirement already satisfied: setuptools in /usr/local/lib/python3.6/dist-packages (from protobuf>=3.9.2->tensorflow==2.3.1) (51.1.1)\n",
            "Requirement already satisfied: google-auth-oauthlib<0.5,>=0.4.1 in /usr/local/lib/python3.6/dist-packages (from tensorboard<3,>=2.3.0->tensorflow==2.3.1) (0.4.2)\n",
            "Requirement already satisfied: requests<3,>=2.21.0 in /usr/local/lib/python3.6/dist-packages (from tensorboard<3,>=2.3.0->tensorflow==2.3.1) (2.23.0)\n",
            "Requirement already satisfied: werkzeug>=0.11.15 in /usr/local/lib/python3.6/dist-packages (from tensorboard<3,>=2.3.0->tensorflow==2.3.1) (1.0.1)\n",
            "Requirement already satisfied: google-auth<2,>=1.6.3 in /usr/local/lib/python3.6/dist-packages (from tensorboard<3,>=2.3.0->tensorflow==2.3.1) (1.17.2)\n",
            "Requirement already satisfied: tensorboard-plugin-wit>=1.6.0 in /usr/local/lib/python3.6/dist-packages (from tensorboard<3,>=2.3.0->tensorflow==2.3.1) (1.7.0)\n",
            "Requirement already satisfied: markdown>=2.6.8 in /usr/local/lib/python3.6/dist-packages (from tensorboard<3,>=2.3.0->tensorflow==2.3.1) (3.3.3)\n",
            "Requirement already satisfied: future in /usr/local/lib/python3.6/dist-packages (from pyglet<=1.5.0,>=1.4.0->gym) (0.16.0)\n",
            "Requirement already satisfied: requests-oauthlib>=0.7.0 in /usr/local/lib/python3.6/dist-packages (from google-auth-oauthlib<0.5,>=0.4.1->tensorboard<3,>=2.3.0->tensorflow==2.3.1) (1.3.0)\n",
            "Requirement already satisfied: certifi>=2017.4.17 in /usr/local/lib/python3.6/dist-packages (from requests<3,>=2.21.0->tensorboard<3,>=2.3.0->tensorflow==2.3.1) (2020.12.5)\n",
            "Requirement already satisfied: urllib3!=1.25.0,!=1.25.1,<1.26,>=1.21.1 in /usr/local/lib/python3.6/dist-packages (from requests<3,>=2.21.0->tensorboard<3,>=2.3.0->tensorflow==2.3.1) (1.24.3)\n",
            "Requirement already satisfied: chardet<4,>=3.0.2 in /usr/local/lib/python3.6/dist-packages (from requests<3,>=2.21.0->tensorboard<3,>=2.3.0->tensorflow==2.3.1) (3.0.4)\n",
            "Requirement already satisfied: idna<3,>=2.5 in /usr/local/lib/python3.6/dist-packages (from requests<3,>=2.21.0->tensorboard<3,>=2.3.0->tensorflow==2.3.1) (2.10)\n",
            "Requirement already satisfied: rsa<5,>=3.1.4; python_version >= \"3\" in /usr/local/lib/python3.6/dist-packages (from google-auth<2,>=1.6.3->tensorboard<3,>=2.3.0->tensorflow==2.3.1) (4.6)\n",
            "Requirement already satisfied: pyasn1-modules>=0.2.1 in /usr/local/lib/python3.6/dist-packages (from google-auth<2,>=1.6.3->tensorboard<3,>=2.3.0->tensorflow==2.3.1) (0.2.8)\n",
            "Requirement already satisfied: cachetools<5.0,>=2.0.0 in /usr/local/lib/python3.6/dist-packages (from google-auth<2,>=1.6.3->tensorboard<3,>=2.3.0->tensorflow==2.3.1) (4.2.0)\n",
            "Requirement already satisfied: importlib-metadata; python_version < \"3.8\" in /usr/local/lib/python3.6/dist-packages (from markdown>=2.6.8->tensorboard<3,>=2.3.0->tensorflow==2.3.1) (3.3.0)\n",
            "Requirement already satisfied: oauthlib>=3.0.0 in /usr/local/lib/python3.6/dist-packages (from requests-oauthlib>=0.7.0->google-auth-oauthlib<0.5,>=0.4.1->tensorboard<3,>=2.3.0->tensorflow==2.3.1) (3.1.0)\n",
            "Requirement already satisfied: pyasn1>=0.1.3 in /usr/local/lib/python3.6/dist-packages (from rsa<5,>=3.1.4; python_version >= \"3\"->google-auth<2,>=1.6.3->tensorboard<3,>=2.3.0->tensorflow==2.3.1) (0.4.8)\n",
            "Requirement already satisfied: zipp>=0.5 in /usr/local/lib/python3.6/dist-packages (from importlib-metadata; python_version < \"3.8\"->markdown>=2.6.8->tensorboard<3,>=2.3.0->tensorflow==2.3.1) (3.4.0)\n",
            "Requirement already satisfied: typing-extensions>=3.6.4; python_version < \"3.8\" in /usr/local/lib/python3.6/dist-packages (from importlib-metadata; python_version < \"3.8\"->markdown>=2.6.8->tensorboard<3,>=2.3.0->tensorflow==2.3.1) (3.7.4.3)\n"
          ],
          "name": "stdout"
        }
      ]
    },
    {
      "cell_type": "code",
      "metadata": {
        "id": "msPom1gir1ds"
      },
      "source": [
        "# Подключение библиотек\r\n",
        "import gym \r\n",
        "import random\r\n",
        "import matplotlib.pyplot as plt\r\n",
        "\r\n",
        "import numpy as np\r\n",
        "from tensorflow.keras.models import Sequential\r\n",
        "from tensorflow.keras.layers import Dense, Flatten, Convolution2D\r\n",
        "from tensorflow.keras.optimizers import Adam\r\n",
        "\r\n",
        "from rl.agents import DQNAgent\r\n",
        "from rl.memory import SequentialMemory\r\n",
        "from rl.policy import LinearAnnealedPolicy, EpsGreedyQPolicy"
      ],
      "execution_count": 13,
      "outputs": []
    },
    {
      "cell_type": "code",
      "metadata": {
        "colab": {
          "base_uri": "https://localhost:8080/",
          "height": 35
        },
        "id": "Dxdum5hesOQ2",
        "outputId": "90a373c8-8463-48ba-dd07-7962c5b59521"
      },
      "source": [
        "# Проверка версии\r\n",
        "import tensorflow as tf\r\n",
        "tf.__version__"
      ],
      "execution_count": 14,
      "outputs": [
        {
          "output_type": "execute_result",
          "data": {
            "application/vnd.google.colaboratory.intrinsic+json": {
              "type": "string"
            },
            "text/plain": [
              "'2.3.1'"
            ]
          },
          "metadata": {
            "tags": []
          },
          "execution_count": 14
        }
      ]
    },
    {
      "cell_type": "code",
      "metadata": {
        "colab": {
          "base_uri": "https://localhost:8080/"
        },
        "id": "o-L4l1TRuk7E",
        "outputId": "219d0f23-6525-42ba-e795-4f3d0558078c"
      },
      "source": [
        "# Подключаем Диск\r\n",
        "from google.colab import drive\r\n",
        "drive.mount('/content/drive')"
      ],
      "execution_count": 21,
      "outputs": [
        {
          "output_type": "stream",
          "text": [
            "Mounted at /content/drive\n"
          ],
          "name": "stdout"
        }
      ]
    },
    {
      "cell_type": "code",
      "metadata": {
        "id": "DvrpjQV4r1go"
      },
      "source": [
        "# Загружаем среду\r\n",
        "env = gym.make('SpaceInvaders-v0')\r\n",
        "height, width, channels = env.observation_space.shape\r\n",
        "actions = env.action_space.n"
      ],
      "execution_count": 15,
      "outputs": []
    },
    {
      "cell_type": "code",
      "metadata": {
        "colab": {
          "base_uri": "https://localhost:8080/"
        },
        "id": "3Nv02RN_r1jt",
        "outputId": "3b57aaf0-6711-44f4-90a2-4ad785418311"
      },
      "source": [
        "# Проверяем действия\r\n",
        "env.unwrapped.get_action_meanings()"
      ],
      "execution_count": 16,
      "outputs": [
        {
          "output_type": "execute_result",
          "data": {
            "text/plain": [
              "['NOOP', 'FIRE', 'RIGHT', 'LEFT', 'RIGHTFIRE', 'LEFTFIRE']"
            ]
          },
          "metadata": {
            "tags": []
          },
          "execution_count": 16
        }
      ]
    },
    {
      "cell_type": "code",
      "metadata": {
        "colab": {
          "base_uri": "https://localhost:8080/"
        },
        "id": "9bB31p_24WSR",
        "outputId": "c36ec8a8-259f-4a48-9d42-2f02124b228f"
      },
      "source": [
        "# Запускаем 5 тестовых эпизодов\r\n",
        "episodes = 5\r\n",
        "for episode in range(1, episodes+1):\r\n",
        "    state = env.reset()\r\n",
        "    done = False\r\n",
        "    score = 0 \r\n",
        "    \r\n",
        "    while not done:\r\n",
        "        # env.render()\r\n",
        "        action = random.choice([0,1,2,3,4,5])\r\n",
        "        n_state, reward, done, info = env.step(action)\r\n",
        "        score+=reward\r\n",
        "    print('Episode:{} Score:{}'.format(episode, score))\r\n",
        "env.close()"
      ],
      "execution_count": 24,
      "outputs": [
        {
          "output_type": "stream",
          "text": [
            "Episode:1 Score:120.0\n",
            "Episode:2 Score:90.0\n",
            "Episode:3 Score:80.0\n",
            "Episode:4 Score:125.0\n",
            "Episode:5 Score:210.0\n"
          ],
          "name": "stdout"
        }
      ]
    },
    {
      "cell_type": "code",
      "metadata": {
        "id": "SOu7gUpn4WYG"
      },
      "source": [
        "# Функция построения модели\r\n",
        "def build_model(height, width, channels, actions):\r\n",
        "    model = Sequential()\r\n",
        "    model.add(Convolution2D(32, (8,8), strides=(4,4), activation='relu', input_shape=(3,height, width, channels)))\r\n",
        "    model.add(Convolution2D(64, (4,4), strides=(2,2), activation='relu'))\r\n",
        "    model.add(Convolution2D(64, (3,3), activation='relu'))\r\n",
        "    model.add(Flatten())\r\n",
        "    model.add(Dense(512, activation='relu'))\r\n",
        "    model.add(Dense(256, activation='relu'))\r\n",
        "    model.add(Dense(actions, activation='linear'))\r\n",
        "    return model"
      ],
      "execution_count": 35,
      "outputs": []
    },
    {
      "cell_type": "code",
      "metadata": {
        "colab": {
          "base_uri": "https://localhost:8080/"
        },
        "id": "K9Ix5C214gvE",
        "outputId": "4bef090c-8f4e-46ff-a4c9-eb160cd2e030"
      },
      "source": [
        "# Создадим модель и посмотрим характеристики\r\n",
        "model = build_model(height, width, channels, actions)\r\n",
        "model.summary()"
      ],
      "execution_count": 36,
      "outputs": [
        {
          "output_type": "stream",
          "text": [
            "Model: \"sequential_2\"\n",
            "_________________________________________________________________\n",
            "Layer (type)                 Output Shape              Param #   \n",
            "=================================================================\n",
            "conv2d_6 (Conv2D)            (None, 3, 51, 39, 32)     6176      \n",
            "_________________________________________________________________\n",
            "conv2d_7 (Conv2D)            (None, 3, 24, 18, 64)     32832     \n",
            "_________________________________________________________________\n",
            "conv2d_8 (Conv2D)            (None, 3, 22, 16, 64)     36928     \n",
            "_________________________________________________________________\n",
            "flatten_2 (Flatten)          (None, 67584)             0         \n",
            "_________________________________________________________________\n",
            "dense_8 (Dense)              (None, 512)               34603520  \n",
            "_________________________________________________________________\n",
            "dense_9 (Dense)              (None, 256)               131328    \n",
            "_________________________________________________________________\n",
            "dense_10 (Dense)             (None, 6)                 1542      \n",
            "=================================================================\n",
            "Total params: 34,812,326\n",
            "Trainable params: 34,812,326\n",
            "Non-trainable params: 0\n",
            "_________________________________________________________________\n"
          ],
          "name": "stdout"
        }
      ]
    },
    {
      "cell_type": "code",
      "metadata": {
        "id": "KUJM1_XM4g05"
      },
      "source": [
        "# Функция создания агента\r\n",
        "def build_agent(model, actions):\r\n",
        "    policy = LinearAnnealedPolicy(EpsGreedyQPolicy(), attr='eps', value_max=1., \r\n",
        "                                  value_min=.1, value_test=.2, nb_steps=10000)\r\n",
        "    memory = SequentialMemory(limit=1000, window_length=3)\r\n",
        "    dqn = DQNAgent(model=model, memory=memory, policy=policy, \r\n",
        "                   enable_dueling_network=True, dueling_type='avg', nb_actions=actions, nb_steps_warmup=1000)\r\n",
        "    return dqn"
      ],
      "execution_count": 38,
      "outputs": []
    },
    {
      "cell_type": "code",
      "metadata": {
        "id": "Amih-8Bi4g3Y"
      },
      "source": [
        "# Создаём агента и компилируем\r\n",
        "dqn = build_agent(model, actions)\r\n",
        "dqn.compile(Adam(lr=1e-4))"
      ],
      "execution_count": 39,
      "outputs": []
    },
    {
      "cell_type": "code",
      "metadata": {
        "colab": {
          "base_uri": "https://localhost:8080/"
        },
        "id": "Olpzp6Lp5HYd",
        "outputId": "46b6279f-70c7-4bbc-9b08-797f1f977156"
      },
      "source": [
        "dqn.fit(env, nb_steps=10000, visualize=False, verbose=2)\r\n"
      ],
      "execution_count": 40,
      "outputs": [
        {
          "output_type": "stream",
          "text": [
            "Training for 10000 steps ...\n",
            "WARNING:tensorflow:From /usr/local/lib/python3.6/dist-packages/tensorflow/python/keras/engine/training_v1.py:2070: Model.state_updates (from tensorflow.python.keras.engine.training) is deprecated and will be removed in a future version.\n",
            "Instructions for updating:\n",
            "This property should not be used in TensorFlow 2.0, as updates are applied automatically.\n",
            "  521/10000: episode: 1, duration: 4.825s, episode steps: 521, steps per second: 108, episode reward: 140.000, mean reward:  0.269 [ 0.000, 30.000], mean action: 2.367 [0.000, 5.000],  loss: --, mean_q: --, mean_eps: --\n",
            " 1362/10000: episode: 2, duration: 25.466s, episode steps: 841, steps per second:  33, episode reward: 210.000, mean reward:  0.250 [ 0.000, 30.000], mean action: 2.622 [0.000, 5.000],  loss: 9.590323, mean_q: 9.528542, mean_eps: 0.893710\n",
            " 2042/10000: episode: 3, duration: 44.196s, episode steps: 680, steps per second:  15, episode reward: 150.000, mean reward:  0.221 [ 0.000, 30.000], mean action: 2.546 [0.000, 5.000],  loss: 1.148274, mean_q: 8.324891, mean_eps: 0.846865\n",
            " 3039/10000: episode: 4, duration: 61.288s, episode steps: 997, steps per second:  16, episode reward: 290.000, mean reward:  0.291 [ 0.000, 30.000], mean action: 2.583 [0.000, 5.000],  loss: 0.937713, mean_q: 8.892074, mean_eps: 0.771400\n",
            " 4096/10000: episode: 5, duration: 63.034s, episode steps: 1057, steps per second:  17, episode reward: 290.000, mean reward:  0.274 [ 0.000, 30.000], mean action: 2.577 [0.000, 5.000],  loss: 0.504424, mean_q: 8.870522, mean_eps: 0.678970\n",
            " 4674/10000: episode: 6, duration: 34.545s, episode steps: 578, steps per second:  17, episode reward: 65.000, mean reward:  0.112 [ 0.000, 20.000], mean action: 2.493 [0.000, 5.000],  loss: 0.325258, mean_q: 8.435424, mean_eps: 0.605395\n",
            " 6209/10000: episode: 7, duration: 91.576s, episode steps: 1535, steps per second:  17, episode reward: 500.000, mean reward:  0.326 [ 0.000, 200.000], mean action: 2.557 [0.000, 5.000],  loss: 3.365100, mean_q: 7.690450, mean_eps: 0.510310\n",
            " 7212/10000: episode: 8, duration: 62.671s, episode steps: 1003, steps per second:  16, episode reward: 200.000, mean reward:  0.199 [ 0.000, 30.000], mean action: 2.205 [0.000, 5.000],  loss: 1.192974, mean_q: 8.449282, mean_eps: 0.396100\n",
            " 7805/10000: episode: 9, duration: 36.741s, episode steps: 593, steps per second:  16, episode reward: 50.000, mean reward:  0.084 [ 0.000, 30.000], mean action: 2.575 [0.000, 5.000],  loss: 0.320168, mean_q: 8.758193, mean_eps: 0.324280\n",
            " 8762/10000: episode: 10, duration: 58.819s, episode steps: 957, steps per second:  16, episode reward: 170.000, mean reward:  0.178 [ 0.000, 30.000], mean action: 2.381 [0.000, 5.000],  loss: 0.366025, mean_q: 8.016711, mean_eps: 0.254530\n",
            " 9432/10000: episode: 11, duration: 41.021s, episode steps: 670, steps per second:  16, episode reward: 65.000, mean reward:  0.097 [ 0.000, 20.000], mean action: 2.521 [0.000, 5.000],  loss: 0.147497, mean_q: 7.624937, mean_eps: 0.181315\n",
            " 9812/10000: episode: 12, duration: 23.319s, episode steps: 380, steps per second:  16, episode reward: 85.000, mean reward:  0.224 [ 0.000, 20.000], mean action: 3.016 [0.000, 5.000],  loss: 0.203211, mean_q: 7.555967, mean_eps: 0.134065\n",
            "done, took 559.555 seconds\n"
          ],
          "name": "stdout"
        },
        {
          "output_type": "execute_result",
          "data": {
            "text/plain": [
              "<tensorflow.python.keras.callbacks.History at 0x7f09b77449e8>"
            ]
          },
          "metadata": {
            "tags": []
          },
          "execution_count": 40
        }
      ]
    },
    {
      "cell_type": "code",
      "metadata": {
        "colab": {
          "base_uri": "https://localhost:8080/"
        },
        "id": "KM9NLTej4g6K",
        "outputId": "4cc384f4-5bde-43ed-b917-5c3ad0090301"
      },
      "source": [
        "dqn.fit(env, nb_steps=10000, verbose=1)\r\n"
      ],
      "execution_count": 41,
      "outputs": [
        {
          "output_type": "stream",
          "text": [
            "Training for 10000 steps ...\n",
            "Interval 1 (0 steps performed)\n",
            "10000/10000 [==============================] - 548s 55ms/step - reward: 0.2055\n",
            "done, took 547.533 seconds\n"
          ],
          "name": "stdout"
        },
        {
          "output_type": "execute_result",
          "data": {
            "text/plain": [
              "<tensorflow.python.keras.callbacks.History at 0x7f09b7d73a58>"
            ]
          },
          "metadata": {
            "tags": []
          },
          "execution_count": 41
        }
      ]
    },
    {
      "cell_type": "code",
      "metadata": {
        "id": "lQDcxRlKQjBM"
      },
      "source": [
        ""
      ],
      "execution_count": null,
      "outputs": []
    },
    {
      "cell_type": "code",
      "metadata": {
        "id": "323IqlK24g9l"
      },
      "source": [
        ""
      ],
      "execution_count": null,
      "outputs": []
    },
    {
      "cell_type": "code",
      "metadata": {
        "id": "B9E7BoI_r1pm"
      },
      "source": [
        ""
      ],
      "execution_count": null,
      "outputs": []
    },
    {
      "cell_type": "code",
      "metadata": {
        "id": "tnorou0Or1sQ"
      },
      "source": [
        ""
      ],
      "execution_count": null,
      "outputs": []
    }
  ]
}