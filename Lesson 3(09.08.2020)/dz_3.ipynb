{
  "nbformat": 4,
  "nbformat_minor": 0,
  "metadata": {
    "colab": {
      "name": "dz-3.ipynb",
      "provenance": [],
      "collapsed_sections": []
    },
    "kernelspec": {
      "name": "python3",
      "display_name": "Python 3"
    },
    "accelerator": "GPU"
  },
  "cells": [
    {
      "cell_type": "code",
      "metadata": {
        "id": "DbzYCYEEvbUX"
      },
      "source": [
        "from tensorflow.keras.datasets import mnist #Загружаем базу mnist\n",
        "from tensorflow.keras.datasets import cifar10 #Загружаем базу cifar10\n",
        "from tensorflow.keras.datasets import cifar100 #Загружаем базу cifar100\n",
        "from tensorflow.keras.datasets import fashion_mnist\n",
        "from tensorflow.keras.models import Sequential #Сеть прямого распространения\n",
        "#Базовые слои для счёрточных сетей\n",
        "from tensorflow.keras.layers import Dense, Conv2D, MaxPooling2D, Flatten, Dropout, BatchNormalization, Activation\n",
        "from tensorflow.python.keras.preprocessing.image import ImageDataGenerator # работа с изображениями\n",
        "from tensorflow.keras.optimizers import Adam, Adadelta # оптимизаторы\n",
        "from tensorflow.keras import utils #Используем дял to_categoricall\n",
        "from tensorflow.keras.preprocessing import image #Для отрисовки изображений\n",
        "from google.colab import files #Для загрузки своей картинки\n",
        "import numpy as np #Библиотека работы с массивами\n",
        "import matplotlib.pyplot as plt #Для отрисовки графиков\n",
        "from PIL import Image #Для отрисовки изображений\n",
        "import random #Для генерации случайных чисел \n",
        "import math # Для округления\n",
        "import os #Для работы с файлами \n",
        "# подключем диск\n",
        "from google.colab import drive\n",
        "\n",
        "%matplotlib inline"
      ],
      "execution_count": null,
      "outputs": []
    },
    {
      "cell_type": "code",
      "metadata": {
        "id": "604ykEG03yy2",
        "outputId": "482447e1-02d1-4293-fb9a-376855daf42e",
        "colab": {
          "base_uri": "https://localhost:8080/",
          "height": 52
        }
      },
      "source": [
        "(x_train_mnist, y_train_mnist), (x_test_mnist, y_test_mnist) = mnist.load_data()\n",
        "\n",
        "batch_size, img_rows, img_cols = 64, 28, 28\n",
        "x_train = x_train_mnist.reshape(x_train_mnist.shape[0], img_rows, img_cols, 1 )\n",
        "x_test = x_test_mnist.reshape(x_test_mnist.shape[0], img_rows, img_cols, 1)\n",
        "\n",
        "x_train = x_train.astype('float32')\n",
        "x_test  = x_test.astype('float32')\n",
        "x_train /= 255\n",
        "x_test /= 255\n",
        "\n",
        "\n",
        "y_train = utils.to_categorical(y_train_mnist, 10)\n",
        "y_test = utils.to_categorical(y_test_mnist, 10)\n",
        "# print(x_train.shape)\n",
        "# print(x_test.shape)\n",
        "# print(y_train.shape)\n",
        "# print(y_test.shape)\n"
      ],
      "execution_count": null,
      "outputs": [
        {
          "output_type": "stream",
          "text": [
            "Downloading data from https://storage.googleapis.com/tensorflow/tf-keras-datasets/mnist.npz\n",
            "11493376/11490434 [==============================] - 0s 0us/step\n"
          ],
          "name": "stdout"
        }
      ]
    },
    {
      "cell_type": "code",
      "metadata": {
        "id": "be03xP_17i1z"
      },
      "source": [
        "def create_model():\n",
        "  model = Sequential()\n",
        "\n",
        "  model.add(Conv2D(32, (3,3), input_shape=(28,28,1)))\n",
        "  BatchNormalization(axis=-1)\n",
        "  model.add(Activation('relu'))\n",
        " \n",
        "  model.add(Conv2D(32, (3,3)))\n",
        "  BatchNormalization(axis=-1)\n",
        "  model.add(Activation('relu'))\n",
        "  model.add(MaxPooling2D(pool_size=(2,2)))\n",
        "  BatchNormalization(axis=-1)\n",
        "  model.add(Conv2D(64, (3,3)))\n",
        "  BatchNormalization(axis=-1)\n",
        "  model.add(Activation('relu'))\n",
        "  model.add(Conv2D(64, (3,3)))\n",
        "  model.add(Activation('relu'))\n",
        "  model.add(MaxPooling2D(pool_size=(2,2)))\n",
        "  model.add(Flatten())\n",
        "  BatchNormalization()\n",
        "  model.add(Dense(512))\n",
        "  BatchNormalization()\n",
        "  model.add(Activation('relu'))\n",
        "  model.add(Dropout(0.2))\n",
        "  model.add(Dense(10))\n",
        "  model.add(Activation('softmax'))\n",
        "  return model"
      ],
      "execution_count": null,
      "outputs": []
    },
    {
      "cell_type": "code",
      "metadata": {
        "id": "oyhE_pWZocQv",
        "outputId": "ecd5dc33-d60f-4992-8be9-7bd1d0c05025",
        "colab": {
          "base_uri": "https://localhost:8080/",
          "height": 1000
        }
      },
      "source": [
        "model = create_model()\n",
        "model.compile(loss='mse', optimizer='adam', metrics=['accuracy'])\n",
        "model.summary()\n",
        "# model.fit(x_train, y_train, batch_size=batch_size, epochs=10, verbose=1, validation_data=(x_test, y_test))\n",
        "score = model.evaluate(x_test, y_test, verbose=1)\n",
        "# print(f'Model Loss: {score[0]}')\n",
        "# print(f'Model score: {score[1]}')"
      ],
      "execution_count": null,
      "outputs": [
        {
          "output_type": "stream",
          "text": [
            "Model: \"sequential_6\"\n",
            "_________________________________________________________________\n",
            "Layer (type)                 Output Shape              Param #   \n",
            "=================================================================\n",
            "conv2d_12 (Conv2D)           (None, 26, 26, 32)        320       \n",
            "_________________________________________________________________\n",
            "activation_8 (Activation)    (None, 26, 26, 32)        0         \n",
            "_________________________________________________________________\n",
            "conv2d_13 (Conv2D)           (None, 24, 24, 32)        9248      \n",
            "_________________________________________________________________\n",
            "activation_9 (Activation)    (None, 24, 24, 32)        0         \n",
            "_________________________________________________________________\n",
            "max_pooling2d_6 (MaxPooling2 (None, 12, 12, 32)        0         \n",
            "_________________________________________________________________\n",
            "conv2d_14 (Conv2D)           (None, 10, 10, 64)        18496     \n",
            "_________________________________________________________________\n",
            "activation_10 (Activation)   (None, 10, 10, 64)        0         \n",
            "_________________________________________________________________\n",
            "conv2d_15 (Conv2D)           (None, 8, 8, 64)          36928     \n",
            "_________________________________________________________________\n",
            "activation_11 (Activation)   (None, 8, 8, 64)          0         \n",
            "_________________________________________________________________\n",
            "max_pooling2d_7 (MaxPooling2 (None, 4, 4, 64)          0         \n",
            "_________________________________________________________________\n",
            "flatten_1 (Flatten)          (None, 1024)              0         \n",
            "_________________________________________________________________\n",
            "dense_2 (Dense)              (None, 512)               524800    \n",
            "_________________________________________________________________\n",
            "activation_12 (Activation)   (None, 512)               0         \n",
            "_________________________________________________________________\n",
            "dropout_1 (Dropout)          (None, 512)               0         \n",
            "_________________________________________________________________\n",
            "dense_3 (Dense)              (None, 10)                5130      \n",
            "_________________________________________________________________\n",
            "activation_13 (Activation)   (None, 10)                0         \n",
            "=================================================================\n",
            "Total params: 594,922\n",
            "Trainable params: 594,922\n",
            "Non-trainable params: 0\n",
            "_________________________________________________________________\n",
            "Epoch 1/10\n",
            "938/938 [==============================] - 140s 149ms/step - loss: 0.0072 - accuracy: 0.9508 - val_loss: 0.0026 - val_accuracy: 0.9834\n",
            "Epoch 2/10\n",
            "938/938 [==============================] - 141s 150ms/step - loss: 0.0022 - accuracy: 0.9855 - val_loss: 0.0019 - val_accuracy: 0.9878\n",
            "Epoch 3/10\n",
            "938/938 [==============================] - 141s 150ms/step - loss: 0.0017 - accuracy: 0.9892 - val_loss: 0.0015 - val_accuracy: 0.9898\n",
            "Epoch 4/10\n",
            "938/938 [==============================] - 142s 151ms/step - loss: 0.0014 - accuracy: 0.9912 - val_loss: 0.0016 - val_accuracy: 0.9901\n",
            "Epoch 5/10\n",
            "938/938 [==============================] - 141s 150ms/step - loss: 0.0013 - accuracy: 0.9915 - val_loss: 0.0017 - val_accuracy: 0.9889\n",
            "Epoch 6/10\n",
            "938/938 [==============================] - 141s 151ms/step - loss: 0.0012 - accuracy: 0.9925 - val_loss: 0.0014 - val_accuracy: 0.9912\n",
            "Epoch 7/10\n",
            "938/938 [==============================] - 140s 149ms/step - loss: 0.0010 - accuracy: 0.9934 - val_loss: 0.0015 - val_accuracy: 0.9907\n",
            "Epoch 8/10\n",
            "938/938 [==============================] - 142s 151ms/step - loss: 8.7374e-04 - accuracy: 0.9947 - val_loss: 0.0017 - val_accuracy: 0.9899\n",
            "Epoch 9/10\n",
            "938/938 [==============================] - 141s 150ms/step - loss: 8.9252e-04 - accuracy: 0.9945 - val_loss: 0.0013 - val_accuracy: 0.9926\n",
            "Epoch 10/10\n",
            "938/938 [==============================] - 141s 150ms/step - loss: 8.5075e-04 - accuracy: 0.9949 - val_loss: 0.0013 - val_accuracy: 0.9922\n",
            "313/313 [==============================] - 7s 21ms/step - loss: 0.0013 - accuracy: 0.9922\n",
            "Model Score: 0.0013113442109897733\n",
            "Model score: 0.9922000169754028\n"
          ],
          "name": "stdout"
        }
      ]
    },
    {
      "cell_type": "code",
      "metadata": {
        "id": "TO5umRzvzYV3",
        "outputId": "108d9b76-cb0e-458d-d55a-c9ba3327f580",
        "colab": {
          "base_uri": "https://localhost:8080/",
          "height": 139
        }
      },
      "source": [
        "(X_train, Y_train), (X_test, Y_test) = fashion_mnist.load_data()\n",
        "fashion_mnist_labels = [\"T-shirt/top\",  # index 0\n",
        "                        \"Trouser\",      # index 1\n",
        "                        \"Pullover\",     # index 2 \n",
        "                        \"Dress\",        # index 3 \n",
        "                        \"Coat\",         # index 4\n",
        "                        \"Sandal\",       # index 5\n",
        "                        \"Shirt\",        # index 6 \n",
        "                        \"Sneaker\",      # index 7 \n",
        "                        \"Bag\",          # index 8 \n",
        "                        \"Ankle boot\"]   # index 9\n",
        "                        \n",
        "print(f\"X_train fashion shape:{X_train.shape}\") \n",
        "print(f\"Y_train Fashion shape:{Y_train.shape}\")\n",
        "\n",
        "X_train = X_train.astype('float32') / 255\n",
        "X_test = X_test.astype('float32') / 255\n",
        "\n",
        "(X_train, X_valid) = X_train[5000:], X_train[:5000] \n",
        "(Y_train, Y_valid) = Y_train[5000:], Y_train[:5000]\n",
        "\n",
        "w, h = 28, 28\n",
        "X_train = X_train.reshape(X_train.shape[0], w, h, 1)\n",
        "X_valid = X_valid.reshape(X_valid.shape[0], w, h, 1)\n",
        "X_test = X_test.reshape(X_test.shape[0], w, h, 1)\n",
        "\n",
        "Y_train = utils.to_categorical(Y_train, 10)\n",
        "Y_valid = utils.to_categorical(Y_valid, 10)\n",
        "Y_test = utils.to_categorical(Y_test, 10)\n",
        "\n",
        "print(f\"X_train shape: {X_train.shape}\") \n",
        "print(f\"Y_train shape: {Y_train.shape}\" )\n",
        "print(f'train set: {X_train.shape[0]}')\n",
        "print(f'validation set: {X_valid.shape[0]}')\n",
        "print(f'test set: {X_test.shape[0]}')"
      ],
      "execution_count": null,
      "outputs": [
        {
          "output_type": "stream",
          "text": [
            "X_train fashion shape:(60000, 28, 28)\n",
            "Y_train Fashion shape:(60000,)\n",
            "X_train shape: (55000, 28, 28, 1)\n",
            "Y_train shape: (55000, 10)\n",
            "train set: 55000\n",
            "validation set: 5000\n",
            "test set: 10000\n"
          ],
          "name": "stdout"
        }
      ]
    },
    {
      "cell_type": "code",
      "metadata": {
        "id": "NjeuZebK0pwH",
        "outputId": "82949640-4c43-4427-9606-b38d1c7d74da",
        "colab": {
          "base_uri": "https://localhost:8080/",
          "height": 503
        }
      },
      "source": [
        "model_ultra_pro = Sequential()\n",
        "\n",
        "model_ultra_pro.add(Conv2D(filters=64, kernel_size=2, padding='same', activation='relu', input_shape=(28,28,1))) \n",
        "model_ultra_pro.add(MaxPooling2D(pool_size=2))\n",
        "model_ultra_pro.add(Dropout(0.3))\n",
        "model_ultra_pro.add(Conv2D(filters=32, kernel_size=2, padding='same', activation='relu'))\n",
        "model_ultra_pro.add(MaxPooling2D(pool_size=2))\n",
        "model_ultra_pro.add(Dropout(0.3))\n",
        "model_ultra_pro.add(Flatten())\n",
        "model_ultra_pro.add(Dense(256, activation='relu'))\n",
        "model_ultra_pro.add(Dropout(0.5))\n",
        "model_ultra_pro.add(Dense(10, activation='softmax'))\n",
        "model_ultra_pro.summary()"
      ],
      "execution_count": null,
      "outputs": [
        {
          "output_type": "stream",
          "text": [
            "Model: \"sequential\"\n",
            "_________________________________________________________________\n",
            "Layer (type)                 Output Shape              Param #   \n",
            "=================================================================\n",
            "conv2d (Conv2D)              (None, 28, 28, 64)        320       \n",
            "_________________________________________________________________\n",
            "max_pooling2d (MaxPooling2D) (None, 14, 14, 64)        0         \n",
            "_________________________________________________________________\n",
            "dropout (Dropout)            (None, 14, 14, 64)        0         \n",
            "_________________________________________________________________\n",
            "conv2d_1 (Conv2D)            (None, 14, 14, 32)        8224      \n",
            "_________________________________________________________________\n",
            "max_pooling2d_1 (MaxPooling2 (None, 7, 7, 32)          0         \n",
            "_________________________________________________________________\n",
            "dropout_1 (Dropout)          (None, 7, 7, 32)          0         \n",
            "_________________________________________________________________\n",
            "flatten (Flatten)            (None, 1568)              0         \n",
            "_________________________________________________________________\n",
            "dense (Dense)                (None, 256)               401664    \n",
            "_________________________________________________________________\n",
            "dropout_2 (Dropout)          (None, 256)               0         \n",
            "_________________________________________________________________\n",
            "dense_1 (Dense)              (None, 10)                2570      \n",
            "=================================================================\n",
            "Total params: 412,778\n",
            "Trainable params: 412,778\n",
            "Non-trainable params: 0\n",
            "_________________________________________________________________\n"
          ],
          "name": "stdout"
        }
      ]
    },
    {
      "cell_type": "code",
      "metadata": {
        "id": "jJempACs2Bwj",
        "outputId": "5b1da52c-434c-49af-8067-21c1078ed49e",
        "colab": {
          "base_uri": "https://localhost:8080/",
          "height": 416
        }
      },
      "source": [
        "model_ultra_pro.compile(loss='categorical_crossentropy', optimizer='adam', metrics=['accuracy'])\n",
        "model_ultra_pro.fit(X_train, Y_train, batch_size=64, epochs=10, verbose=1, validation_data=(X_valid, Y_valid))\n",
        "score_1 = model_ultra_pro.evaluate(X_test, Y_test, verbose=1)\n",
        "\n",
        "print(f'Model Loss: {score_1[0]}')\n",
        "print(f'Model Score: {score_1[1]}')"
      ],
      "execution_count": null,
      "outputs": [
        {
          "output_type": "stream",
          "text": [
            "Epoch 1/10\n",
            "860/860 [==============================] - 4s 4ms/step - loss: 0.2630 - accuracy: 0.9028 - val_loss: 0.2225 - val_accuracy: 0.9190\n",
            "Epoch 2/10\n",
            "860/860 [==============================] - 4s 4ms/step - loss: 0.2561 - accuracy: 0.9066 - val_loss: 0.2249 - val_accuracy: 0.9180\n",
            "Epoch 3/10\n",
            "860/860 [==============================] - 3s 4ms/step - loss: 0.2515 - accuracy: 0.9053 - val_loss: 0.2160 - val_accuracy: 0.9216\n",
            "Epoch 4/10\n",
            "860/860 [==============================] - 3s 4ms/step - loss: 0.2447 - accuracy: 0.9096 - val_loss: 0.2128 - val_accuracy: 0.9196\n",
            "Epoch 5/10\n",
            "860/860 [==============================] - 3s 4ms/step - loss: 0.2412 - accuracy: 0.9101 - val_loss: 0.2065 - val_accuracy: 0.9226\n",
            "Epoch 6/10\n",
            "860/860 [==============================] - 3s 4ms/step - loss: 0.2345 - accuracy: 0.9126 - val_loss: 0.2076 - val_accuracy: 0.9220\n",
            "Epoch 7/10\n",
            "860/860 [==============================] - 3s 4ms/step - loss: 0.2333 - accuracy: 0.9126 - val_loss: 0.2049 - val_accuracy: 0.9244\n",
            "Epoch 8/10\n",
            "860/860 [==============================] - 3s 4ms/step - loss: 0.2289 - accuracy: 0.9145 - val_loss: 0.2052 - val_accuracy: 0.9208\n",
            "Epoch 9/10\n",
            "860/860 [==============================] - 3s 4ms/step - loss: 0.2269 - accuracy: 0.9161 - val_loss: 0.2038 - val_accuracy: 0.9242\n",
            "Epoch 10/10\n",
            "860/860 [==============================] - 4s 4ms/step - loss: 0.2223 - accuracy: 0.9170 - val_loss: 0.2016 - val_accuracy: 0.9264\n",
            "313/313 [==============================] - 1s 2ms/step - loss: 0.2236 - accuracy: 0.9196\n",
            "Model Loss: 0.22358906269073486\n",
            "Model score: 0.9196000099182129\n"
          ],
          "name": "stdout"
        }
      ]
    },
    {
      "cell_type": "code",
      "metadata": {
        "id": "lgO50gkC5pVb",
        "outputId": "3e185d31-6ad7-46bd-c8d8-f8bb6886d5ac",
        "colab": {
          "base_uri": "https://localhost:8080/",
          "height": 87
        }
      },
      "source": [
        "(X_train10, Y_train10), (X_test10, Y_test10) = cifar10.load_data()\n",
        "classes = ['самолет', 'автомобиль', 'птица', 'кот', 'олень', 'собака', 'лягушка', 'лошадь', 'корабль', 'грузовик']\n",
        "def normalize(x):\n",
        "    min_val = np.min(x)\n",
        "    max_val = np.max(x)\n",
        "    x = (x-min_val) / (max_val-min_val)\n",
        "    return x\n",
        "\n",
        "X_train10 = X_train10.astype('float32')\n",
        "X_test10 = X_test10.astype('float32')\n",
        "X_train10 = normalize(X_train10)\n",
        "X_test10 = normalize(X_test10)\n",
        "X_train10 = X_train10.reshape(-1,32, 32, 3)\n",
        "\n",
        "Y_train10 = utils.to_categorical(Y_train10, 10)\n",
        "Y_test10 = utils.to_categorical(Y_test10, 10)\n",
        "print(f'Y_train shape: {Y_train10.shape}')\n",
        "print(f'Y_test shape: {Y_test10.shape}')\n",
        "print(f'X_train shape: {X_train10.shape}')\n",
        "print(f'x_test: {Y_test10.shape}')"
      ],
      "execution_count": null,
      "outputs": [
        {
          "output_type": "stream",
          "text": [
            "Y_train shape: (50000, 10)\n",
            "Y_test shape: (10000, 10)\n",
            "X_train shape: (50000, 32, 32, 3)\n",
            "x_test: (10000, 10)\n"
          ],
          "name": "stdout"
        }
      ]
    },
    {
      "cell_type": "code",
      "metadata": {
        "id": "m_N9BRsl6ey7",
        "outputId": "c0725d64-e426-4c8f-c310-188a668c4d2a",
        "colab": {
          "base_uri": "https://localhost:8080/",
          "height": 1000
        }
      },
      "source": [
        "model_pro = Sequential()\n",
        "model_pro.add(Conv2D(32, (3, 3), input_shape=X_train10.shape[1:]))\n",
        "model_pro.add(MaxPooling2D(pool_size=2))\n",
        "model_pro.add(Dropout(0.3))\n",
        "model_pro.add(Conv2D(filters=32, kernel_size=2, padding='same', activation='relu'))\n",
        "model_pro.add(MaxPooling2D(pool_size=2))\n",
        "model_pro.add(Dropout(0.3))\n",
        "model_pro.add(Flatten())\n",
        "model_pro.add(Dense(256, activation='relu'))\n",
        "model_pro.add(Dropout(0.5))\n",
        "model_pro.add(Dense(10, activation='softmax'))\n",
        "\n",
        "\n",
        "model_pro.compile(optimizer=\"adam\", loss=\"categorical_crossentropy\",metrics=[\"accuracy\"])\n",
        "model_pro.summary()\n",
        "\n",
        "model_pro.fit(X_train10, Y_train10, epochs=25, validation_data=(X_test10, Y_test10))\n",
        "score_2 = model_pro.evaluate(X_test10, Y_test10, verbose=1)\n",
        "\n",
        "print(f'Model Loss: {score_2[0]}')\n",
        "print(f'Model Score: {score_2[1]}')"
      ],
      "execution_count": null,
      "outputs": [
        {
          "output_type": "stream",
          "text": [
            "Model: \"sequential_9\"\n",
            "_________________________________________________________________\n",
            "Layer (type)                 Output Shape              Param #   \n",
            "=================================================================\n",
            "conv2d_22 (Conv2D)           (None, 30, 30, 32)        896       \n",
            "_________________________________________________________________\n",
            "max_pooling2d_18 (MaxPooling (None, 15, 15, 32)        0         \n",
            "_________________________________________________________________\n",
            "dropout_11 (Dropout)         (None, 15, 15, 32)        0         \n",
            "_________________________________________________________________\n",
            "conv2d_23 (Conv2D)           (None, 15, 15, 32)        4128      \n",
            "_________________________________________________________________\n",
            "max_pooling2d_19 (MaxPooling (None, 7, 7, 32)          0         \n",
            "_________________________________________________________________\n",
            "dropout_12 (Dropout)         (None, 7, 7, 32)          0         \n",
            "_________________________________________________________________\n",
            "flatten_9 (Flatten)          (None, 1568)              0         \n",
            "_________________________________________________________________\n",
            "dense_18 (Dense)             (None, 256)               401664    \n",
            "_________________________________________________________________\n",
            "dropout_13 (Dropout)         (None, 256)               0         \n",
            "_________________________________________________________________\n",
            "dense_19 (Dense)             (None, 10)                2570      \n",
            "=================================================================\n",
            "Total params: 409,258\n",
            "Trainable params: 409,258\n",
            "Non-trainable params: 0\n",
            "_________________________________________________________________\n",
            "Epoch 1/25\n",
            "1563/1563 [==============================] - 6s 4ms/step - loss: 1.6359 - accuracy: 0.4070 - val_loss: 1.2737 - val_accuracy: 0.5521\n",
            "Epoch 2/25\n",
            "1563/1563 [==============================] - 6s 4ms/step - loss: 1.3489 - accuracy: 0.5196 - val_loss: 1.1670 - val_accuracy: 0.5845\n",
            "Epoch 3/25\n",
            "1563/1563 [==============================] - 6s 4ms/step - loss: 1.2544 - accuracy: 0.5526 - val_loss: 1.0849 - val_accuracy: 0.6249\n",
            "Epoch 4/25\n",
            "1563/1563 [==============================] - 6s 4ms/step - loss: 1.2009 - accuracy: 0.5731 - val_loss: 1.0703 - val_accuracy: 0.6240\n",
            "Epoch 5/25\n",
            "1563/1563 [==============================] - 6s 4ms/step - loss: 1.1535 - accuracy: 0.5909 - val_loss: 1.0228 - val_accuracy: 0.6451\n",
            "Epoch 6/25\n",
            "1563/1563 [==============================] - 6s 4ms/step - loss: 1.1122 - accuracy: 0.6074 - val_loss: 0.9529 - val_accuracy: 0.6648\n",
            "Epoch 7/25\n",
            "1563/1563 [==============================] - 6s 4ms/step - loss: 1.0865 - accuracy: 0.6168 - val_loss: 0.9582 - val_accuracy: 0.6684\n",
            "Epoch 8/25\n",
            "1563/1563 [==============================] - 6s 4ms/step - loss: 1.0700 - accuracy: 0.6226 - val_loss: 0.9299 - val_accuracy: 0.6828\n",
            "Epoch 9/25\n",
            "1563/1563 [==============================] - 6s 4ms/step - loss: 1.0423 - accuracy: 0.6344 - val_loss: 0.9032 - val_accuracy: 0.6843\n",
            "Epoch 10/25\n",
            "1563/1563 [==============================] - 6s 4ms/step - loss: 1.0154 - accuracy: 0.6433 - val_loss: 0.9067 - val_accuracy: 0.6850\n",
            "Epoch 11/25\n",
            "1563/1563 [==============================] - 6s 4ms/step - loss: 1.0036 - accuracy: 0.6471 - val_loss: 0.8880 - val_accuracy: 0.6912\n",
            "Epoch 12/25\n",
            "1563/1563 [==============================] - 6s 4ms/step - loss: 0.9957 - accuracy: 0.6513 - val_loss: 0.9185 - val_accuracy: 0.6818\n",
            "Epoch 13/25\n",
            "1563/1563 [==============================] - 6s 4ms/step - loss: 0.9852 - accuracy: 0.6536 - val_loss: 0.8794 - val_accuracy: 0.6970\n",
            "Epoch 14/25\n",
            "1563/1563 [==============================] - 6s 4ms/step - loss: 0.9653 - accuracy: 0.6586 - val_loss: 0.8865 - val_accuracy: 0.6903\n",
            "Epoch 15/25\n",
            "1563/1563 [==============================] - 6s 4ms/step - loss: 0.9609 - accuracy: 0.6606 - val_loss: 0.8416 - val_accuracy: 0.7113\n",
            "Epoch 16/25\n",
            "1563/1563 [==============================] - 5s 4ms/step - loss: 0.9511 - accuracy: 0.6656 - val_loss: 0.8212 - val_accuracy: 0.7112\n",
            "Epoch 17/25\n",
            "1563/1563 [==============================] - 6s 4ms/step - loss: 0.9384 - accuracy: 0.6672 - val_loss: 0.8632 - val_accuracy: 0.6997\n",
            "Epoch 18/25\n",
            "1563/1563 [==============================] - 6s 4ms/step - loss: 0.9314 - accuracy: 0.6712 - val_loss: 0.8249 - val_accuracy: 0.7146\n",
            "Epoch 19/25\n",
            "1563/1563 [==============================] - 6s 4ms/step - loss: 0.9260 - accuracy: 0.6740 - val_loss: 0.8333 - val_accuracy: 0.7088\n",
            "Epoch 20/25\n",
            "1563/1563 [==============================] - 6s 4ms/step - loss: 0.9150 - accuracy: 0.6770 - val_loss: 0.8100 - val_accuracy: 0.7132\n",
            "Epoch 21/25\n",
            "1563/1563 [==============================] - 5s 4ms/step - loss: 0.9157 - accuracy: 0.6787 - val_loss: 0.8204 - val_accuracy: 0.7138\n",
            "Epoch 22/25\n",
            "1563/1563 [==============================] - 6s 4ms/step - loss: 0.9054 - accuracy: 0.6822 - val_loss: 0.8356 - val_accuracy: 0.7109\n",
            "Epoch 23/25\n",
            "1563/1563 [==============================] - 6s 4ms/step - loss: 0.8990 - accuracy: 0.6830 - val_loss: 0.8235 - val_accuracy: 0.7138\n",
            "Epoch 24/25\n",
            "1563/1563 [==============================] - 6s 4ms/step - loss: 0.8798 - accuracy: 0.6888 - val_loss: 0.8252 - val_accuracy: 0.7150\n",
            "Epoch 25/25\n",
            "1563/1563 [==============================] - 6s 4ms/step - loss: 0.8872 - accuracy: 0.6888 - val_loss: 0.8221 - val_accuracy: 0.7146\n",
            "313/313 [==============================] - 1s 2ms/step - loss: 0.8221 - accuracy: 0.7146\n",
            "Model Loss: 0.822104811668396\n",
            "Model Score: 0.7146000266075134\n"
          ],
          "name": "stdout"
        }
      ]
    }
  ]
}