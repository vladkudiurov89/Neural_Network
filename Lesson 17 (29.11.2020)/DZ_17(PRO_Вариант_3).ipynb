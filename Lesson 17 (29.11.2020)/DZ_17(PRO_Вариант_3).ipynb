{
  "nbformat": 4,
  "nbformat_minor": 0,
  "metadata": {
    "colab": {
      "name": "DZ-17(PRO Вариант 3).ipynb",
      "provenance": [],
      "machine_shape": "hm"
    },
    "kernelspec": {
      "name": "python3",
      "display_name": "Python 3"
    },
    "accelerator": "GPU"
  },
  "cells": [
    {
      "cell_type": "code",
      "metadata": {
        "id": "8Cem2rhEbW8c"
      },
      "source": [
        "# Статический вывод графики (графики отображаются в той ячейке, в которой используется plt.show())\r\n",
        "%matplotlib inline\r\n",
        "\r\n",
        "import pandas as pd # импортируем библиотеку обработки и анализа данных pandas\r\n",
        "import matplotlib.pyplot as plt # Импортируем модуль pyplot библиотеки matplotlib для построения графиков\r\n",
        "from tensorflow.keras import utils # Импортируем модуль utils библиотеки tensorflow.keras для получения OHE-представления\r\n",
        "import numpy as np # Импортируем библиотеку numpy\r\n",
        "from keras.preprocessing.text import Tokenizer, text_to_word_sequence,tokenizer_from_json \r\n",
        "\r\n",
        "from sklearn.preprocessing import StandardScaler, LabelEncoder # Импортируем библиотеку StandardScaler и LabelEncoder\r\n",
        "from sklearn.cluster import KMeans # Импортируем библиотуке KMeans для кластеризации\r\n",
        "from sklearn.metrics.cluster import homogeneity_score\r\n",
        "from sklearn.manifold import TSNE\r\n",
        "import time\r\n",
        "import os\r\n",
        "\r\n",
        "from tensorflow.keras.models import Sequential, Model # Полносвязная модель\r\n",
        "from tensorflow.keras.layers import Input, Dense, Conv2D, MaxPooling2D, Reshape, Conv2DTranspose, Dropout, SpatialDropout1D, BatchNormalization, Embedding, Flatten, Activation # Слои для сети\r\n",
        "from tensorflow.keras.preprocessing.sequence import pad_sequences # Метод для работы с последовательностями\r\n",
        "from tensorflow.keras.optimizers import Adam\r\n",
        "from tensorflow.keras.callbacks import ModelCheckpoint\r\n",
        "from tensorflow.keras.datasets import mnist"
      ],
      "execution_count": null,
      "outputs": []
    },
    {
      "cell_type": "code",
      "metadata": {
        "colab": {
          "base_uri": "https://localhost:8080/"
        },
        "id": "mozhq8CSbix_",
        "outputId": "3e60192d-dd8a-498f-ee99-58f79744916f"
      },
      "source": [
        "# Загрузим данные\r\n",
        "(x_train, y_train), (_, _) = mnist.load_data()\r\n",
        "X = x_train.astype(np.float32)/255.\r\n",
        "X = np.expand_dims(X, -1)\r\n",
        "X.shape, X.dtype"
      ],
      "execution_count": null,
      "outputs": [
        {
          "output_type": "stream",
          "text": [
            "Downloading data from https://storage.googleapis.com/tensorflow/tf-keras-datasets/mnist.npz\n",
            "11493376/11490434 [==============================] - 0s 0us/step\n"
          ],
          "name": "stdout"
        },
        {
          "output_type": "execute_result",
          "data": {
            "text/plain": [
              "((60000, 28, 28, 1), dtype('float32'))"
            ]
          },
          "metadata": {
            "tags": []
          },
          "execution_count": 2
        }
      ]
    },
    {
      "cell_type": "code",
      "metadata": {
        "id": "BsuxpmRsbi02"
      },
      "source": [
        "# Используем автоэнкодер как модель\r\n",
        "def Autoencoder(shape=(28, 28, 1), latent_dim=100): \r\n",
        "    img_input = Input((shape)) \r\n",
        "    x = Conv2D(64, (3, 3), padding='same', activation='relu')(img_input) \r\n",
        "    x = BatchNormalization()(x) \r\n",
        "    x = Conv2D(64, (3, 3), padding='same', activation='relu')(x) \r\n",
        "    x = BatchNormalization()(x) \r\n",
        "    x = Conv2D(64, (3, 3), padding='same', activation='relu')(x) \r\n",
        "    x = BatchNormalization()(x) \r\n",
        "    x = MaxPooling2D()(x) \r\n",
        "\r\n",
        "    x = Conv2D(128, (3, 3), padding='same', activation='relu')(x) \r\n",
        "    x = BatchNormalization()(x)  \r\n",
        "    x = Conv2D(128, (3, 3), padding='same', activation='relu')(x)  \r\n",
        "    x = BatchNormalization()(x) \r\n",
        "    x = Conv2D(128, (3, 3), padding='same', activation='relu')(x)  \r\n",
        "    x = BatchNormalization()(x) \r\n",
        "    x = MaxPooling2D()(x) \r\n",
        "    x = Flatten()(x)\r\n",
        "    \r\n",
        "    z = Dense(latent_dim, name=\"latent_space\")(x)\r\n",
        "\r\n",
        "    x = Dense(7*7*128)(z)\r\n",
        "    x = Reshape((7, 7, 128))(x)\r\n",
        "    x = Conv2DTranspose(128, (2, 2), strides=(2, 2), padding='same', activation='relu')(x) \r\n",
        "    x = BatchNormalization()(x) \r\n",
        "    \r\n",
        "    x = Conv2D(128, (3, 3), padding='same', activation='relu')(x) \r\n",
        "    x = BatchNormalization()(x) \r\n",
        "    x = Conv2D(128, (3, 3), padding='same', activation='relu')(x) \r\n",
        "    x = BatchNormalization()(x) \r\n",
        "    x = Conv2D(128, (3, 3), padding='same', activation='relu')(x) \r\n",
        "    x = BatchNormalization()(x) \r\n",
        "\r\n",
        "    x = Conv2DTranspose(64, (2, 2), strides=(2, 2), padding='same', activation='relu')(x) \r\n",
        "    x = BatchNormalization()(x) \r\n",
        "    x = Conv2D(64, (3, 3), padding='same', activation='relu')(x)\r\n",
        "    x = BatchNormalization()(x) \r\n",
        "    x = Conv2D(64, (3, 3), padding='same', activation='relu')(x) \r\n",
        "    x = BatchNormalization()(x) \r\n",
        "    x = Conv2D(64, (3, 3), padding='same', activation='relu')(x) \r\n",
        "    x = BatchNormalization()(x) \r\n",
        "\r\n",
        "    out = Conv2D(1, (3, 3), activation='sigmoid', padding='same')(x)\r\n",
        "\r\n",
        "    model = Model(img_input, out) \r\n",
        "    encoder = Model(img_input, z)\r\n",
        "\r\n",
        "    model.compile(optimizer=Adam(lr=0.0001), loss='mean_squared_error') \r\n",
        "\r\n",
        "    return model, encoder"
      ],
      "execution_count": null,
      "outputs": []
    },
    {
      "cell_type": "code",
      "metadata": {
        "colab": {
          "base_uri": "https://localhost:8080/"
        },
        "id": "-Fh0js2fbi3r",
        "outputId": "11191ed9-ab5b-4fd0-e277-1845bbb9fb42"
      },
      "source": [
        "# Создадим модель\r\n",
        "model, enc = Autoencoder((28, 28, 1))\r\n",
        "model.summary()"
      ],
      "execution_count": null,
      "outputs": [
        {
          "output_type": "stream",
          "text": [
            "Model: \"model\"\n",
            "_________________________________________________________________\n",
            "Layer (type)                 Output Shape              Param #   \n",
            "=================================================================\n",
            "input_1 (InputLayer)         [(None, 28, 28, 1)]       0         \n",
            "_________________________________________________________________\n",
            "conv2d (Conv2D)              (None, 28, 28, 64)        640       \n",
            "_________________________________________________________________\n",
            "batch_normalization (BatchNo (None, 28, 28, 64)        256       \n",
            "_________________________________________________________________\n",
            "conv2d_1 (Conv2D)            (None, 28, 28, 64)        36928     \n",
            "_________________________________________________________________\n",
            "batch_normalization_1 (Batch (None, 28, 28, 64)        256       \n",
            "_________________________________________________________________\n",
            "conv2d_2 (Conv2D)            (None, 28, 28, 64)        36928     \n",
            "_________________________________________________________________\n",
            "batch_normalization_2 (Batch (None, 28, 28, 64)        256       \n",
            "_________________________________________________________________\n",
            "max_pooling2d (MaxPooling2D) (None, 14, 14, 64)        0         \n",
            "_________________________________________________________________\n",
            "conv2d_3 (Conv2D)            (None, 14, 14, 128)       73856     \n",
            "_________________________________________________________________\n",
            "batch_normalization_3 (Batch (None, 14, 14, 128)       512       \n",
            "_________________________________________________________________\n",
            "conv2d_4 (Conv2D)            (None, 14, 14, 128)       147584    \n",
            "_________________________________________________________________\n",
            "batch_normalization_4 (Batch (None, 14, 14, 128)       512       \n",
            "_________________________________________________________________\n",
            "conv2d_5 (Conv2D)            (None, 14, 14, 128)       147584    \n",
            "_________________________________________________________________\n",
            "batch_normalization_5 (Batch (None, 14, 14, 128)       512       \n",
            "_________________________________________________________________\n",
            "max_pooling2d_1 (MaxPooling2 (None, 7, 7, 128)         0         \n",
            "_________________________________________________________________\n",
            "flatten (Flatten)            (None, 6272)              0         \n",
            "_________________________________________________________________\n",
            "latent_space (Dense)         (None, 100)               627300    \n",
            "_________________________________________________________________\n",
            "dense (Dense)                (None, 6272)              633472    \n",
            "_________________________________________________________________\n",
            "reshape (Reshape)            (None, 7, 7, 128)         0         \n",
            "_________________________________________________________________\n",
            "conv2d_transpose (Conv2DTran (None, 14, 14, 128)       65664     \n",
            "_________________________________________________________________\n",
            "batch_normalization_6 (Batch (None, 14, 14, 128)       512       \n",
            "_________________________________________________________________\n",
            "conv2d_6 (Conv2D)            (None, 14, 14, 128)       147584    \n",
            "_________________________________________________________________\n",
            "batch_normalization_7 (Batch (None, 14, 14, 128)       512       \n",
            "_________________________________________________________________\n",
            "conv2d_7 (Conv2D)            (None, 14, 14, 128)       147584    \n",
            "_________________________________________________________________\n",
            "batch_normalization_8 (Batch (None, 14, 14, 128)       512       \n",
            "_________________________________________________________________\n",
            "conv2d_8 (Conv2D)            (None, 14, 14, 128)       147584    \n",
            "_________________________________________________________________\n",
            "batch_normalization_9 (Batch (None, 14, 14, 128)       512       \n",
            "_________________________________________________________________\n",
            "conv2d_transpose_1 (Conv2DTr (None, 28, 28, 64)        32832     \n",
            "_________________________________________________________________\n",
            "batch_normalization_10 (Batc (None, 28, 28, 64)        256       \n",
            "_________________________________________________________________\n",
            "conv2d_9 (Conv2D)            (None, 28, 28, 64)        36928     \n",
            "_________________________________________________________________\n",
            "batch_normalization_11 (Batc (None, 28, 28, 64)        256       \n",
            "_________________________________________________________________\n",
            "conv2d_10 (Conv2D)           (None, 28, 28, 64)        36928     \n",
            "_________________________________________________________________\n",
            "batch_normalization_12 (Batc (None, 28, 28, 64)        256       \n",
            "_________________________________________________________________\n",
            "conv2d_11 (Conv2D)           (None, 28, 28, 64)        36928     \n",
            "_________________________________________________________________\n",
            "batch_normalization_13 (Batc (None, 28, 28, 64)        256       \n",
            "_________________________________________________________________\n",
            "conv2d_12 (Conv2D)           (None, 28, 28, 1)         577       \n",
            "=================================================================\n",
            "Total params: 2,362,277\n",
            "Trainable params: 2,359,589\n",
            "Non-trainable params: 2,688\n",
            "_________________________________________________________________\n"
          ],
          "name": "stdout"
        }
      ]
    },
    {
      "cell_type": "code",
      "metadata": {
        "colab": {
          "base_uri": "https://localhost:8080/"
        },
        "id": "EhknNEu-bi6a",
        "outputId": "026717cd-63d9-4ece-ce0e-bd9b9c1ccb3d"
      },
      "source": [
        "# Обучим модель\r\n",
        "history = model.fit(X, X, epochs=10, batch_size=100, validation_split=0.1)"
      ],
      "execution_count": null,
      "outputs": [
        {
          "output_type": "stream",
          "text": [
            "Epoch 1/10\n",
            "540/540 [==============================] - 13s 22ms/step - loss: 0.0024 - val_loss: 0.0028\n",
            "Epoch 2/10\n",
            "540/540 [==============================] - 12s 21ms/step - loss: 0.0022 - val_loss: 0.0021\n",
            "Epoch 3/10\n",
            "540/540 [==============================] - 12s 21ms/step - loss: 0.0020 - val_loss: 0.0028\n",
            "Epoch 4/10\n",
            "540/540 [==============================] - 12s 21ms/step - loss: 0.0019 - val_loss: 0.0023\n",
            "Epoch 5/10\n",
            "540/540 [==============================] - 12s 21ms/step - loss: 0.0018 - val_loss: 0.0019\n",
            "Epoch 6/10\n",
            "540/540 [==============================] - 12s 21ms/step - loss: 0.0017 - val_loss: 0.0018\n",
            "Epoch 7/10\n",
            "540/540 [==============================] - 12s 21ms/step - loss: 0.0016 - val_loss: 0.0018\n",
            "Epoch 8/10\n",
            "540/540 [==============================] - 12s 21ms/step - loss: 0.0016 - val_loss: 0.0018\n",
            "Epoch 9/10\n",
            "540/540 [==============================] - 12s 21ms/step - loss: 0.0015 - val_loss: 0.0017\n",
            "Epoch 10/10\n",
            "540/540 [==============================] - 12s 22ms/step - loss: 0.0015 - val_loss: 0.0015\n"
          ],
          "name": "stdout"
        }
      ]
    },
    {
      "cell_type": "code",
      "metadata": {
        "colab": {
          "base_uri": "https://localhost:8080/"
        },
        "id": "L2Fu42sAcFUn",
        "outputId": "c69ebb44-afbd-45ac-ea32-a006a178a7df"
      },
      "source": [
        "# Предикт модели\r\n",
        "pred = model.predict(X)\r\n",
        "pred"
      ],
      "execution_count": null,
      "outputs": [
        {
          "output_type": "execute_result",
          "data": {
            "text/plain": [
              "array([[[[0.00405986],\n",
              "         [0.00278948],\n",
              "         [0.00162856],\n",
              "         ...,\n",
              "         [0.00313752],\n",
              "         [0.00298142],\n",
              "         [0.00524904]],\n",
              "\n",
              "        [[0.00355049],\n",
              "         [0.00201078],\n",
              "         [0.00123975],\n",
              "         ...,\n",
              "         [0.00278132],\n",
              "         [0.00235026],\n",
              "         [0.00481569]],\n",
              "\n",
              "        [[0.00199587],\n",
              "         [0.00188202],\n",
              "         [0.00173148],\n",
              "         ...,\n",
              "         [0.00284584],\n",
              "         [0.00314161],\n",
              "         [0.0023365 ]],\n",
              "\n",
              "        ...,\n",
              "\n",
              "        [[0.00421174],\n",
              "         [0.00279944],\n",
              "         [0.00862923],\n",
              "         ...,\n",
              "         [0.00284888],\n",
              "         [0.00293915],\n",
              "         [0.00399735]],\n",
              "\n",
              "        [[0.00151455],\n",
              "         [0.00262238],\n",
              "         [0.00893444],\n",
              "         ...,\n",
              "         [0.00280825],\n",
              "         [0.00214617],\n",
              "         [0.00327364]],\n",
              "\n",
              "        [[0.00472661],\n",
              "         [0.00369798],\n",
              "         [0.00631344],\n",
              "         ...,\n",
              "         [0.00299264],\n",
              "         [0.00288021],\n",
              "         [0.00594204]]],\n",
              "\n",
              "\n",
              "       [[[0.00335928],\n",
              "         [0.00253012],\n",
              "         [0.00195702],\n",
              "         ...,\n",
              "         [0.00301876],\n",
              "         [0.00299283],\n",
              "         [0.00506796]],\n",
              "\n",
              "        [[0.00203436],\n",
              "         [0.00141863],\n",
              "         [0.00152076],\n",
              "         ...,\n",
              "         [0.00126007],\n",
              "         [0.00139533],\n",
              "         [0.00391533]],\n",
              "\n",
              "        [[0.00198189],\n",
              "         [0.00269155],\n",
              "         [0.00343484],\n",
              "         ...,\n",
              "         [0.00214827],\n",
              "         [0.00217395],\n",
              "         [0.00182384]],\n",
              "\n",
              "        ...,\n",
              "\n",
              "        [[0.00252841],\n",
              "         [0.00096304],\n",
              "         [0.0008708 ],\n",
              "         ...,\n",
              "         [0.00143323],\n",
              "         [0.00110622],\n",
              "         [0.00259594]],\n",
              "\n",
              "        [[0.00216995],\n",
              "         [0.00153979],\n",
              "         [0.00121718],\n",
              "         ...,\n",
              "         [0.00172402],\n",
              "         [0.00091362],\n",
              "         [0.002673  ]],\n",
              "\n",
              "        [[0.00497399],\n",
              "         [0.00247607],\n",
              "         [0.00176217],\n",
              "         ...,\n",
              "         [0.00177162],\n",
              "         [0.00179212],\n",
              "         [0.00597817]]],\n",
              "\n",
              "\n",
              "       [[[0.00621437],\n",
              "         [0.00299268],\n",
              "         [0.0030835 ],\n",
              "         ...,\n",
              "         [0.00337218],\n",
              "         [0.00342984],\n",
              "         [0.00638113]],\n",
              "\n",
              "        [[0.00327193],\n",
              "         [0.00177676],\n",
              "         [0.001799  ],\n",
              "         ...,\n",
              "         [0.0017251 ],\n",
              "         [0.00220276],\n",
              "         [0.0061416 ]],\n",
              "\n",
              "        [[0.00306516],\n",
              "         [0.00208484],\n",
              "         [0.00243452],\n",
              "         ...,\n",
              "         [0.00311691],\n",
              "         [0.00390992],\n",
              "         [0.00287861]],\n",
              "\n",
              "        ...,\n",
              "\n",
              "        [[0.00691592],\n",
              "         [0.00584139],\n",
              "         [0.00679132],\n",
              "         ...,\n",
              "         [0.00132631],\n",
              "         [0.0018525 ],\n",
              "         [0.00570791]],\n",
              "\n",
              "        [[0.00242731],\n",
              "         [0.00150346],\n",
              "         [0.00223632],\n",
              "         ...,\n",
              "         [0.002     ],\n",
              "         [0.0012151 ],\n",
              "         [0.00426877]],\n",
              "\n",
              "        [[0.00470878],\n",
              "         [0.0018278 ],\n",
              "         [0.00215156],\n",
              "         ...,\n",
              "         [0.0024936 ],\n",
              "         [0.00156106],\n",
              "         [0.00791907]]],\n",
              "\n",
              "\n",
              "       ...,\n",
              "\n",
              "\n",
              "       [[[0.00419993],\n",
              "         [0.00327541],\n",
              "         [0.00211239],\n",
              "         ...,\n",
              "         [0.0043738 ],\n",
              "         [0.0038693 ],\n",
              "         [0.00640408]],\n",
              "\n",
              "        [[0.00395039],\n",
              "         [0.0022893 ],\n",
              "         [0.00148764],\n",
              "         ...,\n",
              "         [0.00306259],\n",
              "         [0.00266417],\n",
              "         [0.00579105]],\n",
              "\n",
              "        [[0.00296053],\n",
              "         [0.00338281],\n",
              "         [0.0033286 ],\n",
              "         ...,\n",
              "         [0.00282271],\n",
              "         [0.00373361],\n",
              "         [0.00365845]],\n",
              "\n",
              "        ...,\n",
              "\n",
              "        [[0.00282238],\n",
              "         [0.00174535],\n",
              "         [0.00144478],\n",
              "         ...,\n",
              "         [0.00343417],\n",
              "         [0.00336373],\n",
              "         [0.00475516]],\n",
              "\n",
              "        [[0.00222244],\n",
              "         [0.00226702],\n",
              "         [0.00259023],\n",
              "         ...,\n",
              "         [0.00291422],\n",
              "         [0.00226229],\n",
              "         [0.00330856]],\n",
              "\n",
              "        [[0.00399262],\n",
              "         [0.00193917],\n",
              "         [0.00182551],\n",
              "         ...,\n",
              "         [0.00251478],\n",
              "         [0.00198355],\n",
              "         [0.00506041]]],\n",
              "\n",
              "\n",
              "       [[[0.00438096],\n",
              "         [0.00270191],\n",
              "         [0.00206242],\n",
              "         ...,\n",
              "         [0.00266826],\n",
              "         [0.00329665],\n",
              "         [0.00776348]],\n",
              "\n",
              "        [[0.00291782],\n",
              "         [0.00158175],\n",
              "         [0.00151206],\n",
              "         ...,\n",
              "         [0.00126088],\n",
              "         [0.00175819],\n",
              "         [0.00684264]],\n",
              "\n",
              "        [[0.00229572],\n",
              "         [0.00275895],\n",
              "         [0.00349165],\n",
              "         ...,\n",
              "         [0.00376422],\n",
              "         [0.00343196],\n",
              "         [0.00315229]],\n",
              "\n",
              "        ...,\n",
              "\n",
              "        [[0.00290934],\n",
              "         [0.00174933],\n",
              "         [0.00088924],\n",
              "         ...,\n",
              "         [0.0017574 ],\n",
              "         [0.00156497],\n",
              "         [0.00329919]],\n",
              "\n",
              "        [[0.00297334],\n",
              "         [0.00288032],\n",
              "         [0.00218518],\n",
              "         ...,\n",
              "         [0.00253202],\n",
              "         [0.00154856],\n",
              "         [0.00337052]],\n",
              "\n",
              "        [[0.00484197],\n",
              "         [0.0033779 ],\n",
              "         [0.00425983],\n",
              "         ...,\n",
              "         [0.00205   ],\n",
              "         [0.00273053],\n",
              "         [0.00717898]]],\n",
              "\n",
              "\n",
              "       [[[0.0042055 ],\n",
              "         [0.00370819],\n",
              "         [0.00272392],\n",
              "         ...,\n",
              "         [0.00402146],\n",
              "         [0.00410496],\n",
              "         [0.00615451]],\n",
              "\n",
              "        [[0.00287757],\n",
              "         [0.00175015],\n",
              "         [0.00184677],\n",
              "         ...,\n",
              "         [0.0024208 ],\n",
              "         [0.00240332],\n",
              "         [0.00600707]],\n",
              "\n",
              "        [[0.00194571],\n",
              "         [0.00223308],\n",
              "         [0.0024578 ],\n",
              "         ...,\n",
              "         [0.00196282],\n",
              "         [0.00236194],\n",
              "         [0.00307325]],\n",
              "\n",
              "        ...,\n",
              "\n",
              "        [[0.00339051],\n",
              "         [0.00124256],\n",
              "         [0.00078317],\n",
              "         ...,\n",
              "         [0.00172544],\n",
              "         [0.001817  ],\n",
              "         [0.00295727]],\n",
              "\n",
              "        [[0.00322006],\n",
              "         [0.00181189],\n",
              "         [0.00090237],\n",
              "         ...,\n",
              "         [0.00166344],\n",
              "         [0.00180425],\n",
              "         [0.00294846]],\n",
              "\n",
              "        [[0.00824508],\n",
              "         [0.00299377],\n",
              "         [0.00123416],\n",
              "         ...,\n",
              "         [0.00184076],\n",
              "         [0.00232281],\n",
              "         [0.00614964]]]], dtype=float32)"
            ]
          },
          "metadata": {
            "tags": []
          },
          "execution_count": 8
        }
      ]
    },
    {
      "cell_type": "code",
      "metadata": {
        "colab": {
          "base_uri": "https://localhost:8080/",
          "height": 323
        },
        "id": "wTTe75ElcFXu",
        "outputId": "90969fd4-198f-4900-9735-52ebe8729963"
      },
      "source": [
        "plt.figure(figsize=(20,6))\r\n",
        "shift = np.random.randint(1000)\r\n",
        "for i in range(10):\r\n",
        "    plt.subplot(2, 10, 1+i)\r\n",
        "    plt.imshow(X[y_train == i][shift].reshape(28,28), cmap='gray')\r\n",
        "    plt.subplot(2, 10, 11+i)\r\n",
        "    plt.imshow(pred[y_train == i][shift].reshape(28,28), cmap='gray')\r\n",
        "plt.show()"
      ],
      "execution_count": null,
      "outputs": [
        {
          "output_type": "display_data",
          "data": {
            "image/png": "[encoded data removed]",
            "text/plain": [
              "<Figure size 1440x432 with 20 Axes>"
            ]
          },
          "metadata": {
            "tags": [],
            "needs_background": "light"
          }
        }
      ]
    },
    {
      "cell_type": "code",
      "metadata": {
        "colab": {
          "base_uri": "https://localhost:8080/"
        },
        "id": "6kAjv8JHcFab",
        "outputId": "1b2b7e86-fbd3-497b-cbf7-d12675075040"
      },
      "source": [
        "z_train = enc.predict(X)\r\n",
        "z_train.shape, z_train.std()"
      ],
      "execution_count": null,
      "outputs": [
        {
          "output_type": "execute_result",
          "data": {
            "text/plain": [
              "((60000, 100), 6.485273)"
            ]
          },
          "metadata": {
            "tags": []
          },
          "execution_count": 10
        }
      ]
    },
    {
      "cell_type": "code",
      "metadata": {
        "colab": {
          "base_uri": "https://localhost:8080/",
          "height": 327
        },
        "id": "c3pscQC3cyYC",
        "outputId": "8c91ab5d-8548-4dc6-952f-7702d64c0959"
      },
      "source": [
        "# Изобразим граффик кластеров\r\n",
        "%%time\r\n",
        "n_clusters = 20               # Зададим количество кластеров\r\n",
        "cost = []                     # Создаем пустой список\r\n",
        "for i in range(1, n_clusters+1): # Пробегаем по списку от 1 до n_clusters\r\n",
        "    kmean = KMeans(i)           # Создаем объект KMeans с i-классами\r\n",
        "    kmean.fit(z_train)   # Проводим кластеризацию z_train\r\n",
        "    cost.append(kmean.inertia_) # Добавляем в cost элемент kmean.inertia_\r\n",
        "    print(i, end=' ')\r\n",
        "print()\r\n",
        "\r\n",
        "# Отобразим значения списка cost на графике\r\n",
        "plt.plot([i for i in range(1, n_clusters+1)], cost, 'bx-')\r\n",
        "plt.show()"
      ],
      "execution_count": null,
      "outputs": [
        {
          "output_type": "stream",
          "text": [
            "1 2 3 4 5 6 7 8 9 10 11 12 13 14 15 16 17 18 19 20 \n"
          ],
          "name": "stdout"
        },
        {
          "output_type": "display_data",
          "data": {
            "image/png": "[encoded data removed]",
            "text/plain": [
              "<Figure size 432x288 with 1 Axes>"
            ]
          },
          "metadata": {
            "tags": [],
            "needs_background": "light"
          }
        },
        {
          "output_type": "stream",
          "text": [
            "CPU times: user 6min 38s, sys: 7min 58s, total: 14min 37s\n",
            "Wall time: 6min 27s\n"
          ],
          "name": "stdout"
        }
      ]
    },
    {
      "cell_type": "code",
      "metadata": {
        "colab": {
          "base_uri": "https://localhost:8080/"
        },
        "id": "_Bd-bNDkcyav",
        "outputId": "d36ebdf8-722a-42fc-d211-8a1fa442dd62"
      },
      "source": [
        "# Кластеризация Метрика homogeneity_score \r\n",
        "km = KMeans(10)\r\n",
        "km.fit(z_train)\r\n",
        "\r\n",
        "pred = km.predict(z_train)\r\n",
        "print(homogeneity_score(y_train, pred))"
      ],
      "execution_count": null,
      "outputs": [
        {
          "output_type": "stream",
          "text": [
            "0.5317741615174435\n"
          ],
          "name": "stdout"
        }
      ]
    },
    {
      "cell_type": "code",
      "metadata": {
        "id": "DnYzI4tWcydj"
      },
      "source": [
        "# Помения параметры dim=12\r\n",
        "model_1, enc_1 = Autoencoder((28, 28, 1), latent_dim=12)\r\n"
      ],
      "execution_count": null,
      "outputs": []
    },
    {
      "cell_type": "code",
      "metadata": {
        "colab": {
          "base_uri": "https://localhost:8080/"
        },
        "id": "JkP9pE_8dIs_",
        "outputId": "6f6273b4-3828-4b72-989b-181d5c99c59b"
      },
      "source": [
        "history = model_1.fit(X, X, epochs=20, batch_size=300, validation_split=0.1)\r\n"
      ],
      "execution_count": null,
      "outputs": [
        {
          "output_type": "stream",
          "text": [
            "Epoch 1/20\n",
            "180/180 [==============================] - 11s 54ms/step - loss: 0.1299 - val_loss: 0.1025\n",
            "Epoch 2/20\n",
            "180/180 [==============================] - 9s 51ms/step - loss: 0.0477 - val_loss: 0.0982\n",
            "Epoch 3/20\n",
            "180/180 [==============================] - 9s 51ms/step - loss: 0.0364 - val_loss: 0.0449\n",
            "Epoch 4/20\n",
            "180/180 [==============================] - 9s 51ms/step - loss: 0.0255 - val_loss: 0.0240\n",
            "Epoch 5/20\n",
            "180/180 [==============================] - 9s 51ms/step - loss: 0.0232 - val_loss: 0.0243\n",
            "Epoch 6/20\n",
            "180/180 [==============================] - 9s 51ms/step - loss: 0.0220 - val_loss: 0.0230\n",
            "Epoch 7/20\n",
            "180/180 [==============================] - 9s 51ms/step - loss: 0.0212 - val_loss: 0.0210\n",
            "Epoch 8/20\n",
            "180/180 [==============================] - 9s 51ms/step - loss: 0.0200 - val_loss: 0.0203\n",
            "Epoch 9/20\n",
            "180/180 [==============================] - 9s 51ms/step - loss: 0.0193 - val_loss: 0.0186\n",
            "Epoch 10/20\n",
            "180/180 [==============================] - 9s 51ms/step - loss: 0.0151 - val_loss: 0.0122\n",
            "Epoch 11/20\n",
            "180/180 [==============================] - 9s 51ms/step - loss: 0.0117 - val_loss: 0.0119\n",
            "Epoch 12/20\n",
            "180/180 [==============================] - 9s 51ms/step - loss: 0.0111 - val_loss: 0.0113\n",
            "Epoch 13/20\n",
            "180/180 [==============================] - 9s 51ms/step - loss: 0.0108 - val_loss: 0.0112\n",
            "Epoch 14/20\n",
            "180/180 [==============================] - 9s 51ms/step - loss: 0.0105 - val_loss: 0.0107\n",
            "Epoch 15/20\n",
            "180/180 [==============================] - 9s 51ms/step - loss: 0.0102 - val_loss: 0.0108\n",
            "Epoch 16/20\n",
            "180/180 [==============================] - 9s 51ms/step - loss: 0.0100 - val_loss: 0.0103\n",
            "Epoch 17/20\n",
            "180/180 [==============================] - 9s 51ms/step - loss: 0.0097 - val_loss: 0.0102\n",
            "Epoch 18/20\n",
            "180/180 [==============================] - 9s 52ms/step - loss: 0.0096 - val_loss: 0.0102\n",
            "Epoch 19/20\n",
            "180/180 [==============================] - 9s 51ms/step - loss: 0.0093 - val_loss: 0.0099\n",
            "Epoch 20/20\n",
            "180/180 [==============================] - 9s 51ms/step - loss: 0.0092 - val_loss: 0.0096\n"
          ],
          "name": "stdout"
        }
      ]
    },
    {
      "cell_type": "code",
      "metadata": {
        "colab": {
          "base_uri": "https://localhost:8080/",
          "height": 323
        },
        "id": "Ez-RY8ZhdIvz",
        "outputId": "c246e1b9-5a5f-449a-f1e9-9e79e3a2c1d0"
      },
      "source": [
        "pred = model_1.predict(X)\r\n",
        "\r\n",
        "plt.figure(figsize=(20,6))\r\n",
        "shift = np.random.randint(1000)\r\n",
        "for i in range(10):\r\n",
        "    plt.subplot(2, 10, 1+i)\r\n",
        "    plt.imshow(X[y_train == i][shift].reshape(28,28), cmap='gray')\r\n",
        "    plt.subplot(2, 10, 11+i)\r\n",
        "    plt.imshow(pred[y_train == i][shift].reshape(28,28), cmap='gray')\r\n",
        "plt.show()"
      ],
      "execution_count": null,
      "outputs": [
        {
          "output_type": "display_data",
          "data": {
            "image/png": "[encoded data removed]",
            "text/plain": [
              "<Figure size 1440x432 with 20 Axes>"
            ]
          },
          "metadata": {
            "tags": [],
            "needs_background": "light"
          }
        }
      ]
    },
    {
      "cell_type": "code",
      "metadata": {
        "id": "-3fsA_uSekHc"
      },
      "source": [
        "z_train3 = enc_1.predict(X)"
      ],
      "execution_count": null,
      "outputs": []
    },
    {
      "cell_type": "code",
      "metadata": {
        "colab": {
          "base_uri": "https://localhost:8080/",
          "height": 327
        },
        "id": "Kts0QmZZekKY",
        "outputId": "8a1b7164-d10c-471b-bf5a-a393eb932b35"
      },
      "source": [
        "%%time\r\n",
        "n_clusters = 16               # Зададим количество кластеров\r\n",
        "cost = []                     # Создаем пустой список\r\n",
        "for i in range(1, n_clusters+1): # Пробегаем по списку от 1 до n_clusters\r\n",
        "    kmean = KMeans(i)           # Создаем объект KMeans с i-классами\r\n",
        "    kmean.fit(z_train3)   # Проводим кластеризацию z_train\r\n",
        "    cost.append(kmean.inertia_) # Добавляем в cost элемент kmean.inertia_\r\n",
        "    print(i, end=' ')\r\n",
        "print()\r\n",
        "\r\n",
        "# Отобразим значения списка cost на графике\r\n",
        "plt.plot([i for i in range(1, n_clusters+1)], cost, 'bx-')\r\n",
        "plt.show()"
      ],
      "execution_count": null,
      "outputs": [
        {
          "output_type": "stream",
          "text": [
            "1 2 3 4 5 6 7 8 9 10 11 12 13 14 15 16 \n"
          ],
          "name": "stdout"
        },
        {
          "output_type": "display_data",
          "data": {
            "image/png": "[encoded data removed]",
            "text/plain": [
              "<Figure size 432x288 with 1 Axes>"
            ]
          },
          "metadata": {
            "tags": [],
            "needs_background": "light"
          }
        },
        {
          "output_type": "stream",
          "text": [
            "CPU times: user 1min 2s, sys: 57.2 s, total: 1min 59s\n",
            "Wall time: 58 s\n"
          ],
          "name": "stdout"
        }
      ]
    },
    {
      "cell_type": "code",
      "metadata": {
        "colab": {
          "base_uri": "https://localhost:8080/"
        },
        "id": "IPVsixyBekNO",
        "outputId": "d95c9a01-3b79-467c-c193-2c32b909f76b"
      },
      "source": [
        "# Кластеризация Метрика homogeneity_score \r\n",
        "km = KMeans(10)\r\n",
        "km.fit(z_train3)\r\n",
        "\r\n",
        "pred = km.predict(z_train3)\r\n",
        "print(homogeneity_score(y_train, pred))"
      ],
      "execution_count": null,
      "outputs": [
        {
          "output_type": "stream",
          "text": [
            "0.6713215247659858\n"
          ],
          "name": "stdout"
        }
      ]
    }
  ]
}