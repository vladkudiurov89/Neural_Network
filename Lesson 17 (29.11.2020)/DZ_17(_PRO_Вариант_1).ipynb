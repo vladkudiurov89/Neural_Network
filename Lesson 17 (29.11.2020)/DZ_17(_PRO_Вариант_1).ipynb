{
  "nbformat": 4,
  "nbformat_minor": 0,
  "metadata": {
    "colab": {
      "name": "DZ-17( PRO Вариант 1).ipynb",
      "provenance": [],
      "machine_shape": "hm"
    },
    "kernelspec": {
      "name": "python3",
      "display_name": "Python 3"
    },
    "accelerator": "GPU"
  },
  "cells": [
    {
      "cell_type": "code",
      "metadata": {
        "id": "gFgtNpuDVI1X"
      },
      "source": [
        "# Статический вывод графики (графики отображаются в той ячейке, в которой используется plt.show())\r\n",
        "%matplotlib inline\r\n",
        "\r\n",
        "import pandas as pd # импортируем библиотеку обработки и анализа данных pandas\r\n",
        "import matplotlib.pyplot as plt # Импортируем модуль pyplot библиотеки matplotlib для построения графиков\r\n",
        "from tensorflow.keras import utils # Импортируем модуль utils библиотеки tensorflow.keras для получения OHE-представления\r\n",
        "import numpy as np # Импортируем библиотеку numpy\r\n",
        "from keras.preprocessing.text import Tokenizer, text_to_word_sequence,tokenizer_from_json \r\n",
        "\r\n",
        "from sklearn.preprocessing import StandardScaler, LabelEncoder # Импортируем библиотеку StandardScaler и LabelEncoder\r\n",
        "from sklearn.cluster import KMeans # Импортируем библиотуке KMeans для кластеризации\r\n",
        "from sklearn.metrics.cluster import homogeneity_score\r\n",
        "from sklearn.manifold import TSNE\r\n",
        "import time\r\n",
        "import os\r\n",
        "\r\n",
        "from tensorflow.keras.models import Sequential, Model # Полносвязная модель\r\n",
        "from tensorflow.keras.layers import Input, Dense, Conv2D, MaxPooling2D, Reshape, Conv2DTranspose, Dropout, SpatialDropout1D, BatchNormalization, Embedding, Flatten, Activation # Слои для сети\r\n",
        "from tensorflow.keras.preprocessing.sequence import pad_sequences # Метод для работы с последовательностями\r\n",
        "from tensorflow.keras.optimizers import Adam\r\n",
        "from tensorflow.keras.callbacks import ModelCheckpoint"
      ],
      "execution_count": null,
      "outputs": []
    },
    {
      "cell_type": "code",
      "metadata": {
        "colab": {
          "base_uri": "https://localhost:8080/"
        },
        "id": "M34agGhTVVNB",
        "outputId": "861fa84c-6bee-4437-8ced-6257c15ed80e"
      },
      "source": [
        "# Подключаем диск\r\n",
        "from google.colab import drive\r\n",
        "drive.mount('/content/drive')"
      ],
      "execution_count": null,
      "outputs": [
        {
          "output_type": "stream",
          "text": [
            "Mounted at /content/drive\n"
          ],
          "name": "stdout"
        }
      ]
    },
    {
      "cell_type": "code",
      "metadata": {
        "id": "WNHhAJpqVVP-"
      },
      "source": [
        "!unzip -q '/content/drive/My Drive/datasets/texts/Тексты писателей.zip' -d '/content/texts'"
      ],
      "execution_count": null,
      "outputs": []
    },
    {
      "cell_type": "code",
      "metadata": {
        "id": "yipKyCa5VVSz"
      },
      "source": [
        "def readText(fileName): # Объявляем функции для чтения файла. На вход отправляем путь к файлу  \r\n",
        "  f = open(fileName, 'r')        # Задаем открытие нужного файла в режиме чтения\r\n",
        "  text = f.read()                # Читаем текст\r\n",
        "  text = text.replace(\"\\n\", \" \") # Переносы строки переводим в пробелы\r\n",
        "  \r\n",
        "  return text                    # Возвращаем текст файла\r\n",
        "\r\n",
        "className = [\"О. Генри\", \"Стругацкие\", \"Булгаков\", \"Саймак\", \"Фрай\", \"Брэдберри\"] # Объявляем интересующие нас классы\r\n",
        "nClasses = len(className) # Считаем количество классов\r\n",
        "\r\n",
        "# Формирование обучающей выборки по листу индексов слов\r\n",
        "# (разделение на короткие векторы)\r\n",
        "def getSetFromIndexes(wordIndexes, xLen, step): # функция принимает последовательность индексов, размер окна, шаг окна\r\n",
        "  xSample = [] # Объявляем переменную для векторов\r\n",
        "  wordsLen = len(wordIndexes) # Считаем количество слов\r\n",
        "  index = 0 # Задаем начальный индекс \r\n",
        "\r\n",
        "  while (index + xLen <= wordsLen):# Идём по всей длине вектора индексов\r\n",
        "    xSample.append(wordIndexes[index:index+xLen]) # \"Откусываем\" векторы длины xLen\r\n",
        "    index += step # Смещаеммся вперёд на step\r\n",
        "    \r\n",
        "  return xSample\r\n",
        "  \r\n",
        "# Формирование обучающей и проверочной выборки\r\n",
        "# Из двух листов индексов от двух классов\r\n",
        "def createSetsMultiClasses(wordIndexes, xLen, step): # Функция принимает последовательность индексов, размер окна, шаг окна\r\n",
        "\r\n",
        "  # Для каждого из 6 классов\r\n",
        "  # Создаём обучающую/проверочную выборку из индексов\r\n",
        "  nClasses = len(wordIndexes) # Задаем количество классов выборки\r\n",
        "  classesXSamples = []        # Здесь будет список размером \"кол-во классов*кол-во окон в тексте*длину окна (например, 6 по 1341*1000)\"\r\n",
        "  for wI in wordIndexes:      # Для каждого текста выборки из последовательности индексов\r\n",
        "    classesXSamples.append(getSetFromIndexes(wI, xLen, step)) # Добавляем в список очередной текст индексов, разбитый на \"кол-во окон*длину окна\" \r\n",
        "\r\n",
        "  # Формируем один общий xSamples\r\n",
        "  xSamples = [] # Здесь будет список размером \"суммарное кол-во окон во всех текстах*длину окна (например, 15779*1000)\"\r\n",
        "  ySamples = [] # Здесь будет список размером \"суммарное кол-во окон во всех текстах*вектор длиной 6\"\r\n",
        "  \r\n",
        "  for t in range(nClasses): # В диапазоне кол-ва классов(6)\r\n",
        "    xT = classesXSamples[t] # Берем очередной текст вида \"кол-во окон в тексте*длину окна\"(например, 1341*1000)\r\n",
        "    for i in range(len(xT)): # И каждое его окно\r\n",
        "      xSamples.append(xT[i]) # Добавляем в общий список выборки\r\n",
        "      ySamples.append(utils.to_categorical(t, nClasses)) # Добавляем соответствующий вектор класса\r\n",
        "\r\n",
        "  xSamples = np.array(xSamples) # Переводим в массив numpy для подачи в нейронку\r\n",
        "  ySamples = np.array(ySamples) # Переводим в массив numpy для подачи в нейронку\r\n",
        "\r\n",
        "  \r\n",
        "  return (xSamples, ySamples) #Функция возвращает выборку и соответствующие векторы классов"
      ],
      "execution_count": null,
      "outputs": []
    },
    {
      "cell_type": "code",
      "metadata": {
        "colab": {
          "base_uri": "https://localhost:8080/"
        },
        "id": "vP7kcNlaVVVr",
        "outputId": "2939bccd-529d-42bd-ea42-c5a045c2faac"
      },
      "source": [
        "trainText = [] #Формируем обучающие тексты\r\n",
        "testText = [] #Формируем тестовые тексты\r\n",
        "\r\n",
        "#Формирование необходимо произвести следующим образом \r\n",
        "#Класс каждого i-ого эллемента в обучающей выборке должен соответствовать \r\n",
        "#классу каждого i-ого эллемента в тестовой выборке\r\n",
        "\r\n",
        "for i in className: #Проходим по каждому классу\r\n",
        "  for j in os.listdir('texts/'): #Проходим по каждому файлу в папке с текстами #\r\n",
        "    if i in j: #Проверяем, содержит ли файл j в названии имя класса i\r\n",
        "      \r\n",
        "      if 'Обучающая' in j: #Если в имени найденного класса есть строка \"Обучающая\" \r\n",
        "        trainText.append(readText('texts/' + j)) #добавляем в обучающую выборку\r\n",
        "        print(j, 'добавлен в обучающую выборку') #Выводим информацию\r\n",
        "      if 'Тестовая' in j: #Если в имени найденного класса есть строка \"Тестовая\"\r\n",
        "        testText.append(readText('texts/' + j)) #добавляем в обучающую выборку\r\n",
        "        print(j, 'добавлен в тестовую выборку') #Выводим информацию\r\n",
        "  print()"
      ],
      "execution_count": null,
      "outputs": [
        {
          "output_type": "stream",
          "text": [
            "(О. Генри) Обучающая_50 вместе.txt добавлен в обучающую выборку\n",
            "(О. Генри) Тестовая_20 вместе.txt добавлен в тестовую выборку\n",
            "\n",
            "(Стругацкие) Тестовая_2 вместе.txt добавлен в тестовую выборку\n",
            "(Стругацкие) Обучающая_5 вместе.txt добавлен в обучающую выборку\n",
            "\n",
            "(Булгаков) Тестовая_2 вместе.txt добавлен в тестовую выборку\n",
            "(Булгаков) Обучающая_5 вместе.txt добавлен в обучающую выборку\n",
            "\n",
            "(Клиффорд_Саймак) Обучающая_5 вместе.txt добавлен в обучающую выборку\n",
            "(Клиффорд_Саймак) Тестовая_2 вместе.txt добавлен в тестовую выборку\n",
            "\n",
            "(Макс Фрай) Обучающая_5 вместе.txt добавлен в обучающую выборку\n",
            "(Макс Фрай) Тестовая_2 вместе.txt добавлен в тестовую выборку\n",
            "\n",
            "(Рэй Брэдберри) Обучающая_22 вместе.txt добавлен в обучающую выборку\n",
            "(Рэй Брэдберри) Тестовая_8 вместе.txt добавлен в тестовую выборку\n",
            "\n"
          ],
          "name": "stdout"
        }
      ]
    },
    {
      "cell_type": "code",
      "metadata": {
        "id": "3k1B2-7CVVYY"
      },
      "source": [
        "# Задаём базовые параметры\r\n",
        "xLen = 1000  # Длина отрезка текста, по которой анализируем, в словах\r\n",
        "step = 100  # Шаг разбиения исходного текста на обучающие векторы\r\n",
        "maxWordsCount = 50000\r\n",
        "tokenizer = Tokenizer(num_words=maxWordsCount, filters='!\"#$%&()*+,-–—./…:;<=>?@[\\\\]^_`{|}~«»\\t\\n\\xa0\\ufeff', lower=True, split=' ', oov_token='unknown', char_level=False)\r\n",
        "tokenizer.fit_on_texts(trainText)\r\n",
        "# Преобразовываем текст в последовательность индексов согласно частотному словарю\r\n",
        "trainWordIndexes = tokenizer.texts_to_sequences(trainText) # Обучающие тесты в индексы\r\n",
        "testWordIndexes = tokenizer.texts_to_sequences(testText)  # Проверочные тесты в индексы\r\n",
        "# Формируем обучающую и тестовую выборку\r\n",
        "xTrain, yTrain = createSetsMultiClasses(trainWordIndexes, xLen, step)  # извлекаем обучающую выборку\r\n",
        "xTest, yTest = createSetsMultiClasses(testWordIndexes, xLen, step)    # извлекаем тестовую выборку"
      ],
      "execution_count": null,
      "outputs": []
    },
    {
      "cell_type": "code",
      "metadata": {
        "colab": {
          "base_uri": "https://localhost:8080/"
        },
        "id": "fv7bRkVXVVbt",
        "outputId": "e4d792f8-9fbd-4b1a-ec77-1e9bbb07e42e"
      },
      "source": [
        "xTrain.shape, yTrain.shape, xTest.shape, yTest.shape"
      ],
      "execution_count": null,
      "outputs": [
        {
          "output_type": "execute_result",
          "data": {
            "text/plain": [
              "((17640, 1000), (17640, 6), (6686, 1000), (6686, 6))"
            ]
          },
          "metadata": {
            "tags": []
          },
          "execution_count": 11
        }
      ]
    },
    {
      "cell_type": "code",
      "metadata": {
        "id": "pcGE4logVVei"
      },
      "source": [
        "def createEmbeddingModel(dim=128, xLen=1000, neurons=1024, activation='softmax'):\r\n",
        "    inp = Input(shape=(xLen))\r\n",
        "    emb = Embedding(maxWordsCount, dim, input_length=xLen)(inp)\r\n",
        "    x = SpatialDropout1D(0.2)(emb)\r\n",
        "    x = Flatten()(x)\r\n",
        "    x = BatchNormalization()(x)\r\n",
        "    x = Dense(neurons, activation=\"relu\")(x)\r\n",
        "    x = Dropout(0.2)(x)\r\n",
        "    x = BatchNormalization()(x)\r\n",
        "    out = Dense(6, activation='softmax')(x)\r\n",
        "\r\n",
        "    model = Model(inp, out)\r\n",
        "    embed = Model(inp, emb)\r\n",
        "\r\n",
        "    model.compile(optimizer='adam', \r\n",
        "                loss='categorical_crossentropy', \r\n",
        "                metrics=['accuracy'])\r\n",
        "    return model, embed"
      ],
      "execution_count": null,
      "outputs": []
    },
    {
      "cell_type": "code",
      "metadata": {
        "id": "kpYrH-hnYRmN"
      },
      "source": [
        "model, embed = createEmbeddingModel()"
      ],
      "execution_count": null,
      "outputs": []
    },
    {
      "cell_type": "code",
      "metadata": {
        "colab": {
          "base_uri": "https://localhost:8080/",
          "height": 789
        },
        "id": "1s6xihbGYRpG",
        "outputId": "b6dade15-bcc3-456e-9f66-c48afbc04cc8"
      },
      "source": [
        "history = model.fit(xTrain, yTrain, epochs=15, batch_size=64, verbose=1, validation_data=(xTest, yTest))\r\n",
        "plt.plot(history.history['accuracy'], \r\n",
        "         label='Доля верных ответов на обучающем наборе')\r\n",
        "plt.plot(history.history['val_accuracy'], \r\n",
        "         label='Доля верных ответов на проверочном наборе')\r\n",
        "plt.xlabel('Эпоха обучения')\r\n",
        "plt.ylabel('Доля верных ответов')\r\n",
        "plt.legend()\r\n",
        "plt.show()                 \r\n",
        "                                "
      ],
      "execution_count": null,
      "outputs": [
        {
          "output_type": "stream",
          "text": [
            "Epoch 1/15\n",
            "276/276 [==============================] - 23s 76ms/step - loss: 1.8593 - accuracy: 0.6761 - val_loss: 1.4547 - val_accuracy: 0.4809\n",
            "Epoch 2/15\n",
            "276/276 [==============================] - 21s 74ms/step - loss: 0.0071 - accuracy: 0.9996 - val_loss: 1.2609 - val_accuracy: 0.5390\n",
            "Epoch 3/15\n",
            "276/276 [==============================] - 20s 74ms/step - loss: 0.0019 - accuracy: 0.9998 - val_loss: 1.1956 - val_accuracy: 0.6168\n",
            "Epoch 4/15\n",
            "276/276 [==============================] - 20s 74ms/step - loss: 8.9866e-04 - accuracy: 1.0000 - val_loss: 1.2000 - val_accuracy: 0.6297\n",
            "Epoch 5/15\n",
            "276/276 [==============================] - 20s 74ms/step - loss: 4.8795e-04 - accuracy: 1.0000 - val_loss: 1.1898 - val_accuracy: 0.6342\n",
            "Epoch 6/15\n",
            "276/276 [==============================] - 20s 74ms/step - loss: 4.0580e-04 - accuracy: 1.0000 - val_loss: 1.2472 - val_accuracy: 0.6255\n",
            "Epoch 7/15\n",
            "276/276 [==============================] - 20s 74ms/step - loss: 2.3921e-04 - accuracy: 1.0000 - val_loss: 1.2483 - val_accuracy: 0.6295\n",
            "Epoch 8/15\n",
            "276/276 [==============================] - 20s 74ms/step - loss: 2.3153e-04 - accuracy: 1.0000 - val_loss: 1.2927 - val_accuracy: 0.6270\n",
            "Epoch 9/15\n",
            "276/276 [==============================] - 20s 74ms/step - loss: 1.5932e-04 - accuracy: 1.0000 - val_loss: 1.2615 - val_accuracy: 0.6349\n",
            "Epoch 10/15\n",
            "276/276 [==============================] - 20s 74ms/step - loss: 1.1670e-04 - accuracy: 1.0000 - val_loss: 1.2295 - val_accuracy: 0.6457\n",
            "Epoch 11/15\n",
            "276/276 [==============================] - 20s 74ms/step - loss: 9.4264e-05 - accuracy: 1.0000 - val_loss: 1.2632 - val_accuracy: 0.6400\n",
            "Epoch 12/15\n",
            "276/276 [==============================] - 20s 74ms/step - loss: 1.0887e-04 - accuracy: 1.0000 - val_loss: 1.2617 - val_accuracy: 0.6410\n",
            "Epoch 13/15\n",
            "276/276 [==============================] - 21s 74ms/step - loss: 5.2928e-05 - accuracy: 1.0000 - val_loss: 1.2750 - val_accuracy: 0.6428\n",
            "Epoch 14/15\n",
            "276/276 [==============================] - 20s 74ms/step - loss: 4.6019e-05 - accuracy: 1.0000 - val_loss: 1.2825 - val_accuracy: 0.6383\n",
            "Epoch 15/15\n",
            "276/276 [==============================] - 20s 74ms/step - loss: 3.9234e-05 - accuracy: 1.0000 - val_loss: 1.2545 - val_accuracy: 0.6509\n"
          ],
          "name": "stdout"
        },
        {
          "output_type": "display_data",
          "data": {
            "image/png": "[encoded data removed]",
            "text/plain": [
              "<Figure size 432x288 with 1 Axes>"
            ]
          },
          "metadata": {
            "tags": [],
            "needs_background": "light"
          }
        }
      ]
    },
    {
      "cell_type": "code",
      "metadata": {
        "colab": {
          "base_uri": "https://localhost:8080/"
        },
        "id": "FHGNuSwbYRr9",
        "outputId": "7ed610b5-a647-43f9-def2-39176cedd940"
      },
      "source": [
        "ids = np.array([i for i in range(maxWordsCount)]).reshape(-1, xLen)\r\n",
        "ids.shape"
      ],
      "execution_count": null,
      "outputs": [
        {
          "output_type": "execute_result",
          "data": {
            "text/plain": [
              "(50, 1000)"
            ]
          },
          "metadata": {
            "tags": []
          },
          "execution_count": 15
        }
      ]
    },
    {
      "cell_type": "code",
      "metadata": {
        "colab": {
          "base_uri": "https://localhost:8080/"
        },
        "id": "u73CBMyVZdq4",
        "outputId": "6b8e9193-e103-4aa6-bdc6-850bed154035"
      },
      "source": [
        "# Делаем предикт моделью\r\n",
        "dim = 128\r\n",
        "zTrain = embed.predict(ids)\r\n",
        "zTrain = zTrain.reshape(-1, dim)\r\n",
        "zTrain.shape"
      ],
      "execution_count": null,
      "outputs": [
        {
          "output_type": "execute_result",
          "data": {
            "text/plain": [
              "(50000, 128)"
            ]
          },
          "metadata": {
            "tags": []
          },
          "execution_count": 16
        }
      ]
    },
    {
      "cell_type": "code",
      "metadata": {
        "colab": {
          "base_uri": "https://localhost:8080/"
        },
        "id": "ht56vPiOZdt1",
        "outputId": "549de7a4-4813-47e3-8971-6f349df0e33e"
      },
      "source": [
        "# Попробуем кластеризовать слова по писателям.\r\n",
        "km = KMeans(6)\r\n",
        "km.fit(zTrain)\r\n",
        "\r\n",
        "pred = km.predict(zTrain)\r\n",
        "pred[:20]"
      ],
      "execution_count": null,
      "outputs": [
        {
          "output_type": "execute_result",
          "data": {
            "text/plain": [
              "array([4, 1, 4, 4, 5, 5, 0, 3, 5, 0, 0, 3, 5, 0, 2, 0, 1, 3, 1, 1],\n",
              "      dtype=int32)"
            ]
          },
          "metadata": {
            "tags": []
          },
          "execution_count": 17
        }
      ]
    },
    {
      "cell_type": "code",
      "metadata": {
        "colab": {
          "base_uri": "https://localhost:8080/",
          "height": 316
        },
        "id": "O8hiN3lfZdwu",
        "outputId": "ad34a02a-8149-45a1-d6ea-dac72c6e4f98"
      },
      "source": [
        "%%time\r\n",
        "n_clusters = 20               # Зададим количество кластеров\r\n",
        "cost = []                     # Создаем пустой список\r\n",
        "for i in range(1, n_clusters): # Пробегаем по списку от 1 до n_clusters\r\n",
        "    kmean = KMeans(i)           # Создаем объект KMeans с i-классами\r\n",
        "    kmean.fit(zTrain)   # Проводим кластеризацию zTrain\r\n",
        "    cost.append(kmean.inertia_) # Добавляем в cost элемент kmean.inertia_\r\n",
        "    print(i, end=' ')\r\n",
        "print()\r\n",
        "  \r\n",
        "# inertia_ - это среднее растояние от точек до центров их классов\r\n",
        "# Может использоваться для подбора оптимального количества классов \r\n",
        "\r\n",
        "# Отобразим значения списка cost на графике\r\n",
        "plt.plot([i for i in range(1, n_clusters)], cost, 'bx-')\r\n",
        "plt.show()"
      ],
      "execution_count": null,
      "outputs": [
        {
          "output_type": "stream",
          "text": [
            "1 2 3 4 5 6 7 8 9 10 11 12 13 14 15 16 17 18 19 \n"
          ],
          "name": "stdout"
        },
        {
          "output_type": "display_data",
          "data": {
            "image/png": "[encoded data removed]",
            "text/plain": [
              "<Figure size 432x288 with 1 Axes>"
            ]
          },
          "metadata": {
            "tags": [],
            "needs_background": "light"
          }
        },
        {
          "output_type": "stream",
          "text": [
            "CPU times: user 13min 39s, sys: 3min 26s, total: 17min 5s\n",
            "Wall time: 13min 8s\n"
          ],
          "name": "stdout"
        }
      ]
    },
    {
      "cell_type": "code",
      "metadata": {
        "colab": {
          "base_uri": "https://localhost:8080/"
        },
        "id": "-nU4A_GGZdzK",
        "outputId": "232f900f-ead4-4a0d-8548-1e952a565106"
      },
      "source": [
        "km = KMeans(200)\r\n",
        "km.fit(zTrain)\r\n",
        "\r\n",
        "pred = km.predict(zTrain)\r\n",
        "pred[:10]"
      ],
      "execution_count": null,
      "outputs": [
        {
          "output_type": "execute_result",
          "data": {
            "text/plain": [
              "array([ 42,   1,  31,  76,  25,  24, 131,  40,  25, 197], dtype=int32)"
            ]
          },
          "metadata": {
            "tags": []
          },
          "execution_count": 19
        }
      ]
    },
    {
      "cell_type": "code",
      "metadata": {
        "colab": {
          "base_uri": "https://localhost:8080/"
        },
        "id": "zIp5GzruZvpf",
        "outputId": "9ac6e11e-40cb-4d50-b7c6-6418af11bc7e"
      },
      "source": [
        "voc = [i for i in range(50000)]\r\n",
        "voc[:10]"
      ],
      "execution_count": null,
      "outputs": [
        {
          "output_type": "execute_result",
          "data": {
            "text/plain": [
              "[0, 1, 2, 3, 4, 5, 6, 7, 8, 9]"
            ]
          },
          "metadata": {
            "tags": []
          },
          "execution_count": 20
        }
      ]
    },
    {
      "cell_type": "code",
      "metadata": {
        "colab": {
          "base_uri": "https://localhost:8080/"
        },
        "id": "5M4tYfYrZvse",
        "outputId": "90d3d70e-ca65-4537-ae51-247ddd38e7c0"
      },
      "source": [
        "cnt = 0\r\n",
        "print(\"cluster #%d\"%i, end=\": \")\r\n",
        "  for j in range(50000):\r\n",
        "      if pred[j] == i:\r\n",
        "          print(tokenizer.index_word[j], end=\" \")\r\n",
        "          cnt += 1\r\n",
        "          if cnt == 20:\r\n",
        "                print()\r\n",
        "                break"
      ],
      "execution_count": null,
      "outputs": [
        {
          "output_type": "stream",
          "text": [
            "cluster #19: таких виду нашей крайней ответ жалко порой советник долговязый север синие коридору усы сухой смертью куртки персоной валя женщиной холме \n"
          ],
          "name": "stdout"
        }
      ]
    },
    {
      "cell_type": "code",
      "metadata": {
        "colab": {
          "base_uri": "https://localhost:8080/",
          "height": 789
        },
        "id": "UppII2BpZvvJ",
        "outputId": "1109fc61-8cf3-40b4-9fc3-7bf10d7dace3"
      },
      "source": [
        "dim = 256\r\n",
        "model2, embed2 = createEmbeddingModel(dim=dim)\r\n",
        "history = model2.fit(xTrain, yTrain, epochs=15, batch_size=64, verbose=1, validation_data=(xTest, yTest))\r\n",
        "                     \r\n",
        "plt.plot(history.history['accuracy'], \r\n",
        "         label='Доля верных ответов на обучающем наборе')\r\n",
        "plt.plot(history.history['val_accuracy'], \r\n",
        "         label='Доля верных ответов на проверочном наборе')\r\n",
        "plt.xlabel('Эпоха обучения')\r\n",
        "plt.ylabel('Доля верных ответов')\r\n",
        "plt.legend()\r\n",
        "plt.show()                   \r\n",
        "            "
      ],
      "execution_count": null,
      "outputs": [
        {
          "output_type": "stream",
          "text": [
            "Epoch 1/15\n",
            "276/276 [==============================] - 40s 140ms/step - loss: 1.9910 - accuracy: 0.6865 - val_loss: 1.5098 - val_accuracy: 0.4635\n",
            "Epoch 2/15\n",
            "276/276 [==============================] - 39s 140ms/step - loss: 0.0080 - accuracy: 0.9996 - val_loss: 1.2591 - val_accuracy: 0.5410\n",
            "Epoch 3/15\n",
            "276/276 [==============================] - 39s 140ms/step - loss: 0.0020 - accuracy: 0.9999 - val_loss: 1.2371 - val_accuracy: 0.6010\n",
            "Epoch 4/15\n",
            "276/276 [==============================] - 39s 140ms/step - loss: 9.5234e-04 - accuracy: 1.0000 - val_loss: 1.2512 - val_accuracy: 0.6102\n",
            "Epoch 5/15\n",
            "276/276 [==============================] - 39s 140ms/step - loss: 4.3793e-04 - accuracy: 1.0000 - val_loss: 1.2252 - val_accuracy: 0.6195\n",
            "Epoch 6/15\n",
            "276/276 [==============================] - 39s 140ms/step - loss: 3.9369e-04 - accuracy: 1.0000 - val_loss: 1.3197 - val_accuracy: 0.6065\n",
            "Epoch 7/15\n",
            "276/276 [==============================] - 39s 141ms/step - loss: 2.5683e-04 - accuracy: 1.0000 - val_loss: 1.2884 - val_accuracy: 0.6162\n",
            "Epoch 8/15\n",
            "276/276 [==============================] - 39s 140ms/step - loss: 1.7781e-04 - accuracy: 1.0000 - val_loss: 1.2712 - val_accuracy: 0.6195\n",
            "Epoch 9/15\n",
            "276/276 [==============================] - 38s 138ms/step - loss: 1.2318e-04 - accuracy: 1.0000 - val_loss: 1.2684 - val_accuracy: 0.6226\n",
            "Epoch 10/15\n",
            "276/276 [==============================] - 38s 139ms/step - loss: 1.2056e-04 - accuracy: 1.0000 - val_loss: 1.2486 - val_accuracy: 0.6304\n",
            "Epoch 11/15\n",
            "276/276 [==============================] - 38s 139ms/step - loss: 1.0245e-04 - accuracy: 1.0000 - val_loss: 1.2748 - val_accuracy: 0.6279\n",
            "Epoch 12/15\n",
            "276/276 [==============================] - 38s 139ms/step - loss: 6.7398e-05 - accuracy: 1.0000 - val_loss: 1.2841 - val_accuracy: 0.6292\n",
            "Epoch 13/15\n",
            "276/276 [==============================] - 38s 138ms/step - loss: 5.9763e-05 - accuracy: 1.0000 - val_loss: 1.2931 - val_accuracy: 0.6280\n",
            "Epoch 14/15\n",
            "276/276 [==============================] - 38s 139ms/step - loss: 4.7150e-05 - accuracy: 1.0000 - val_loss: 1.3045 - val_accuracy: 0.6262\n",
            "Epoch 15/15\n",
            "276/276 [==============================] - 38s 139ms/step - loss: 2.8663e-05 - accuracy: 1.0000 - val_loss: 1.2980 - val_accuracy: 0.6310\n"
          ],
          "name": "stdout"
        },
        {
          "output_type": "display_data",
          "data": {
            "image/png": "[encoded data removed]",
            "text/plain": [
              "<Figure size 432x288 with 1 Axes>"
            ]
          },
          "metadata": {
            "tags": [],
            "needs_background": "light"
          }
        }
      ]
    },
    {
      "cell_type": "code",
      "metadata": {
        "colab": {
          "base_uri": "https://localhost:8080/"
        },
        "id": "5vUeO79TZvyI",
        "outputId": "161d7e36-752c-4ffd-bef8-691c0ab2a8b7"
      },
      "source": [
        "zTrain2 = embed2.predict(ids)\r\n",
        "zTrain2 = zTrain2.reshape(-1, dim)\r\n",
        "zTrain2.shape"
      ],
      "execution_count": null,
      "outputs": [
        {
          "output_type": "execute_result",
          "data": {
            "text/plain": [
              "(50000, 256)"
            ]
          },
          "metadata": {
            "tags": []
          },
          "execution_count": 23
        }
      ]
    },
    {
      "cell_type": "code",
      "metadata": {
        "colab": {
          "base_uri": "https://localhost:8080/"
        },
        "id": "6h7zpDpmaSEc",
        "outputId": "11cdec1f-5ccb-4424-e3cf-e80080886ca5"
      },
      "source": [
        "%%time\r\n",
        "n_clusters = 20               # Зададим количество кластеров\r\n",
        "cost = []                     # Создаем пустой список\r\n",
        "for i in range(1, n_clusters): # Пробегаем по списку от 1 до n_clusters\r\n",
        "    kmean = KMeans(i)           # Создаем объект KMeans с i-классами\r\n",
        "    kmean.fit(zTrain2)   # Проводим кластеризацию zTrain2\r\n",
        "    cost.append(kmean.inertia_) # Добавляем в cost элемент kmean.inertia_\r\n",
        "    print(i, end=' ')\r\n",
        "print()\r\n",
        "\r\n",
        "# Отобразим значения списка cost на графике\r\n",
        "plt.plot([i for i in range(1, n_clusters)], cost, 'bx-')\r\n",
        "plt.show()"
      ],
      "execution_count": null,
      "outputs": [
        {
          "output_type": "stream",
          "text": [
            "1 2 3 4 5 6 7 8 9 10 11 12 13 14 15 16 17 18 19 \n"
          ],
          "name": "stdout"
        },
        {
          "output_type": "display_data",
          "data": {
            "image/png": "[encoded data removed]",
            "text/plain": [
              "<Figure size 432x288 with 1 Axes>"
            ]
          },
          "metadata": {
            "tags": [],
            "needs_background": "light"
          }
        },
        {
          "output_type": "stream",
          "text": [
            "CPU times: user 24min 36s, sys: 5min 16s, total: 29min 52s\n",
            "Wall time: 23min 34s\n"
          ],
          "name": "stdout"
        }
      ]
    },
    {
      "cell_type": "code",
      "metadata": {
        "id": "ETX-mc3UaSHT"
      },
      "source": [
        ""
      ],
      "execution_count": null,
      "outputs": []
    },
    {
      "cell_type": "code",
      "metadata": {
        "id": "Xc9iAZQzaSKH"
      },
      "source": [
        ""
      ],
      "execution_count": null,
      "outputs": []
    }
  ]
}