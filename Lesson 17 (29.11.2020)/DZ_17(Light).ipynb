{
  "nbformat": 4,
  "nbformat_minor": 0,
  "metadata": {
    "colab": {
      "name": "DZ-17(Light).ipynb",
      "provenance": [],
      "machine_shape": "hm"
    },
    "kernelspec": {
      "name": "python3",
      "display_name": "Python 3"
    },
    "accelerator": "GPU"
  },
  "cells": [
    {
      "cell_type": "code",
      "metadata": {
        "id": "GyNHyaf_Vlbe"
      },
      "source": [
        "# Статический вывод графики (графики отображаются в той ячейке, в которой используется plt.show())\r\n",
        "%matplotlib inline\r\n",
        "from sklearn.preprocessing import StandardScaler, LabelEncoder # Импортируем библиотеку StandardScaler и LabelEncoder\r\n",
        "from sklearn.cluster import KMeans # Импортируем библиотуке KMeans для кластеризации\r\n",
        "from sklearn.metrics.cluster import homogeneity_score\r\n",
        "from sklearn.manifold import TSNE\r\n",
        "import time\r\n",
        "import os\r\n",
        "import pandas as pd # импортируем библиотеку обработки и анализа данных pandas\r\n",
        "import matplotlib.pyplot as plt # Импортируем модуль pyplot библиотеки matplotlib для построения графиков\r\n",
        "from tensorflow.keras import utils # Импортируем модуль utils библиотеки tensorflow.keras для получения OHE-представления\r\n",
        "import numpy as np # Импортируем библиотеку numpy\r\n",
        "from keras.preprocessing.text import Tokenizer, text_to_word_sequence,tokenizer_from_json \r\n",
        "from tensorflow.keras.models import Sequential, Model # Полносвязная модель\r\n",
        "from tensorflow.keras.layers import Input, Dense, Conv2D, MaxPooling2D, Reshape, Conv2DTranspose, Dropout, SpatialDropout1D, BatchNormalization, Embedding, Flatten, Activation # Слои для сети\r\n",
        "from tensorflow.keras.preprocessing.sequence import pad_sequences # Метод для работы с последовательностями\r\n",
        "from tensorflow.keras.optimizers import Adam\r\n",
        "from tensorflow.keras.callbacks import ModelCheckpoint\r\n",
        "from tensorflow.keras.datasets import mnist"
      ],
      "execution_count": null,
      "outputs": []
    },
    {
      "cell_type": "code",
      "metadata": {
        "colab": {
          "base_uri": "https://localhost:8080/"
        },
        "id": "Yq8OP4-6V67U",
        "outputId": "d1afb77c-05ca-48a0-fdcc-4821f6f201e6"
      },
      "source": [
        "# Подключаем диск\r\n",
        "from google.colab import drive\r\n",
        "drive.mount('/content/drive')"
      ],
      "execution_count": null,
      "outputs": [
        {
          "output_type": "stream",
          "text": [
            "Mounted at /content/drive\n"
          ],
          "name": "stdout"
        }
      ]
    },
    {
      "cell_type": "code",
      "metadata": {
        "colab": {
          "base_uri": "https://localhost:8080/",
          "height": 204
        },
        "id": "P5W34Jn-V6-b",
        "outputId": "6a925376-9cda-4314-ebff-ab671943ee2f"
      },
      "source": [
        "# Читаем данные из загруженной базы\r\n",
        "df = pd.read_csv('/content/drive/My Drive/datasets/cluster/online_carts.csv') \r\n",
        "df.head()"
      ],
      "execution_count": null,
      "outputs": [
        {
          "output_type": "execute_result",
          "data": {
            "text/html": [
              "<div>\n",
              "<style scoped>\n",
              "    .dataframe tbody tr th:only-of-type {\n",
              "        vertical-align: middle;\n",
              "    }\n",
              "\n",
              "    .dataframe tbody tr th {\n",
              "        vertical-align: top;\n",
              "    }\n",
              "\n",
              "    .dataframe thead th {\n",
              "        text-align: right;\n",
              "    }\n",
              "</style>\n",
              "<table border=\"1\" class=\"dataframe\">\n",
              "  <thead>\n",
              "    <tr style=\"text-align: right;\">\n",
              "      <th></th>\n",
              "      <th>Unnamed: 0</th>\n",
              "      <th>Валовая прибыль</th>\n",
              "      <th>Unnamed: 2</th>\n",
              "      <th>Unnamed: 3</th>\n",
              "      <th>Unnamed: 4</th>\n",
              "    </tr>\n",
              "  </thead>\n",
              "  <tbody>\n",
              "    <tr>\n",
              "      <th>0</th>\n",
              "      <td>NaN</td>\n",
              "      <td>Период: Февраль 2019 г. - Август 2019 г.</td>\n",
              "      <td>NaN</td>\n",
              "      <td>NaN</td>\n",
              "      <td>NaN</td>\n",
              "    </tr>\n",
              "    <tr>\n",
              "      <th>1</th>\n",
              "      <td>NaN</td>\n",
              "      <td>Показатели: Стоимость продажи (руб.)(С НДС)</td>\n",
              "      <td>Количество(Базовых ед.)</td>\n",
              "      <td>NaN</td>\n",
              "      <td>NaN</td>\n",
              "    </tr>\n",
              "    <tr>\n",
              "      <th>2</th>\n",
              "      <td>NaN</td>\n",
              "      <td>Группировки строк: ЗаказПокупателя.Дата оправк...</td>\n",
              "      <td>ЗаказПокупателя.ID заказа (Элементы)</td>\n",
              "      <td>Номенклатура.Наименование (Элементы)</td>\n",
              "      <td>NaN</td>\n",
              "    </tr>\n",
              "    <tr>\n",
              "      <th>3</th>\n",
              "      <td>NaN</td>\n",
              "      <td>Отборы:\\nПодразделение В списке (estel.m-cosme...</td>\n",
              "      <td>NaN</td>\n",
              "      <td>NaN</td>\n",
              "      <td>NaN</td>\n",
              "    </tr>\n",
              "    <tr>\n",
              "      <th>4</th>\n",
              "      <td>NaN</td>\n",
              "      <td>NaN</td>\n",
              "      <td>NaN</td>\n",
              "      <td>NaN</td>\n",
              "      <td>NaN</td>\n",
              "    </tr>\n",
              "  </tbody>\n",
              "</table>\n",
              "</div>"
            ],
            "text/plain": [
              "   Unnamed: 0  ... Unnamed: 4\n",
              "0         NaN  ...        NaN\n",
              "1         NaN  ...        NaN\n",
              "2         NaN  ...        NaN\n",
              "3         NaN  ...        NaN\n",
              "4         NaN  ...        NaN\n",
              "\n",
              "[5 rows x 5 columns]"
            ]
          },
          "metadata": {
            "tags": []
          },
          "execution_count": 3
        }
      ]
    },
    {
      "cell_type": "code",
      "metadata": {
        "colab": {
          "base_uri": "https://localhost:8080/",
          "height": 204
        },
        "id": "w_CI2FeFV7BN",
        "outputId": "7b7dd8fc-4073-42eb-fd6a-06dae7e9fc98"
      },
      "source": [
        "# Удалим первый столбец и переименнуем его\r\n",
        "new = df.drop(['Unnamed: 0'], axis =1)\r\n",
        "new.insert(0, column='Дата', value = [x for x in range(len(new))]) \r\n",
        "new = new.fillna('unknown') \r\n",
        "new.head()"
      ],
      "execution_count": null,
      "outputs": [
        {
          "output_type": "execute_result",
          "data": {
            "text/html": [
              "<div>\n",
              "<style scoped>\n",
              "    .dataframe tbody tr th:only-of-type {\n",
              "        vertical-align: middle;\n",
              "    }\n",
              "\n",
              "    .dataframe tbody tr th {\n",
              "        vertical-align: top;\n",
              "    }\n",
              "\n",
              "    .dataframe thead th {\n",
              "        text-align: right;\n",
              "    }\n",
              "</style>\n",
              "<table border=\"1\" class=\"dataframe\">\n",
              "  <thead>\n",
              "    <tr style=\"text-align: right;\">\n",
              "      <th></th>\n",
              "      <th>Дата</th>\n",
              "      <th>Валовая прибыль</th>\n",
              "      <th>Unnamed: 2</th>\n",
              "      <th>Unnamed: 3</th>\n",
              "      <th>Unnamed: 4</th>\n",
              "    </tr>\n",
              "  </thead>\n",
              "  <tbody>\n",
              "    <tr>\n",
              "      <th>0</th>\n",
              "      <td>0</td>\n",
              "      <td>Период: Февраль 2019 г. - Август 2019 г.</td>\n",
              "      <td>unknown</td>\n",
              "      <td>unknown</td>\n",
              "      <td>unknown</td>\n",
              "    </tr>\n",
              "    <tr>\n",
              "      <th>1</th>\n",
              "      <td>1</td>\n",
              "      <td>Показатели: Стоимость продажи (руб.)(С НДС)</td>\n",
              "      <td>Количество(Базовых ед.)</td>\n",
              "      <td>unknown</td>\n",
              "      <td>unknown</td>\n",
              "    </tr>\n",
              "    <tr>\n",
              "      <th>2</th>\n",
              "      <td>2</td>\n",
              "      <td>Группировки строк: ЗаказПокупателя.Дата оправк...</td>\n",
              "      <td>ЗаказПокупателя.ID заказа (Элементы)</td>\n",
              "      <td>Номенклатура.Наименование (Элементы)</td>\n",
              "      <td>unknown</td>\n",
              "    </tr>\n",
              "    <tr>\n",
              "      <th>3</th>\n",
              "      <td>3</td>\n",
              "      <td>Отборы:\\nПодразделение В списке (estel.m-cosme...</td>\n",
              "      <td>unknown</td>\n",
              "      <td>unknown</td>\n",
              "      <td>unknown</td>\n",
              "    </tr>\n",
              "    <tr>\n",
              "      <th>4</th>\n",
              "      <td>4</td>\n",
              "      <td>unknown</td>\n",
              "      <td>unknown</td>\n",
              "      <td>unknown</td>\n",
              "      <td>unknown</td>\n",
              "    </tr>\n",
              "  </tbody>\n",
              "</table>\n",
              "</div>"
            ],
            "text/plain": [
              "   Дата  ... Unnamed: 4\n",
              "0     0  ...    unknown\n",
              "1     1  ...    unknown\n",
              "2     2  ...    unknown\n",
              "3     3  ...    unknown\n",
              "4     4  ...    unknown\n",
              "\n",
              "[5 rows x 5 columns]"
            ]
          },
          "metadata": {
            "tags": []
          },
          "execution_count": 4
        }
      ]
    },
    {
      "cell_type": "code",
      "metadata": {
        "id": "8jbpupo0V7D5",
        "colab": {
          "base_uri": "https://localhost:8080/"
        },
        "outputId": "86880ce6-65be-497f-fa9e-4468182507cc"
      },
      "source": [
        "# Здесь будут лежать все индексы строк, где есть информация в формате даты\r\n",
        "date_list = list(new[new['Валовая прибыль'].str.contains(\"\\d\\d.\\d\\d.2019\")].index) \r\n",
        "\r\n",
        "indx=0\r\n",
        "for i in range(len(new)):                       # Проходимся по каждой строке базы\r\n",
        "  if i in date_list:                            # Если индекс находится среди тех, где есть формат даты\r\n",
        "    indx = i                                    # Обновляем текущий индекс\r\n",
        "  new['Дата'][i] = new['Валовая прибыль'][indx] # Присваиваем текущий индекс всем последующим строкам, пока не наткнемся на новый индекс-дату"
      ],
      "execution_count": null,
      "outputs": [
        {
          "output_type": "stream",
          "text": [
            "/usr/local/lib/python3.6/dist-packages/ipykernel_launcher.py:8: SettingWithCopyWarning: \n",
            "A value is trying to be set on a copy of a slice from a DataFrame\n",
            "\n",
            "See the caveats in the documentation: https://pandas.pydata.org/pandas-docs/stable/user_guide/indexing.html#returning-a-view-versus-a-copy\n",
            "  \n",
            "/usr/local/lib/python3.6/dist-packages/pandas/core/indexing.py:670: SettingWithCopyWarning: \n",
            "A value is trying to be set on a copy of a slice from a DataFrame\n",
            "\n",
            "See the caveats in the documentation: https://pandas.pydata.org/pandas-docs/stable/user_guide/indexing.html#returning-a-view-versus-a-copy\n",
            "  iloc._setitem_with_indexer(indexer, value)\n"
          ],
          "name": "stderr"
        }
      ]
    },
    {
      "cell_type": "code",
      "metadata": {
        "colab": {
          "base_uri": "https://localhost:8080/",
          "height": 204
        },
        "id": "d-nj96RDdLPW",
        "outputId": "e0777541-51c7-402f-f470-8eb09807fee7"
      },
      "source": [
        "new = new.drop(new[new['Дата'].str.contains('Период')].index,axis = 0)           # Удалим строки \"Период\"\r\n",
        "new = new.drop(new[new['Валовая прибыль'].str.contains('unknown')].index,axis=0) # Удалим пустые строки между корзинами\r\n",
        "new = new.drop(new[new['Валовая прибыль']==new['Дата']].index)                   # Удалим строки-даты, которые находятся в столбце корзин\r\n",
        "new.reset_index(inplace=True)                                                    # Обновим индекс\r\n",
        "new = new.drop('index',axis=1)                                                   # Удалим ненужную колонку\r\n",
        "new.head()"
      ],
      "execution_count": null,
      "outputs": [
        {
          "output_type": "execute_result",
          "data": {
            "text/html": [
              "<div>\n",
              "<style scoped>\n",
              "    .dataframe tbody tr th:only-of-type {\n",
              "        vertical-align: middle;\n",
              "    }\n",
              "\n",
              "    .dataframe tbody tr th {\n",
              "        vertical-align: top;\n",
              "    }\n",
              "\n",
              "    .dataframe thead th {\n",
              "        text-align: right;\n",
              "    }\n",
              "</style>\n",
              "<table border=\"1\" class=\"dataframe\">\n",
              "  <thead>\n",
              "    <tr style=\"text-align: right;\">\n",
              "      <th></th>\n",
              "      <th>Дата</th>\n",
              "      <th>Валовая прибыль</th>\n",
              "      <th>Unnamed: 2</th>\n",
              "      <th>Unnamed: 3</th>\n",
              "      <th>Unnamed: 4</th>\n",
              "    </tr>\n",
              "  </thead>\n",
              "  <tbody>\n",
              "    <tr>\n",
              "      <th>0</th>\n",
              "      <td>01.01.2019 0:00:00</td>\n",
              "      <td>MCOSM13113</td>\n",
              "      <td>26236</td>\n",
              "      <td>9</td>\n",
              "      <td>unknown</td>\n",
              "    </tr>\n",
              "    <tr>\n",
              "      <th>1</th>\n",
              "      <td>01.01.2019 0:00:00</td>\n",
              "      <td>CONTURA (HS61) машинка для стрижки волос</td>\n",
              "      <td>9059</td>\n",
              "      <td>1</td>\n",
              "      <td>unknown</td>\n",
              "    </tr>\n",
              "    <tr>\n",
              "      <th>2</th>\n",
              "      <td>01.01.2019 0:00:00</td>\n",
              "      <td>Holika Holika Универсальный гель 99% алоэ вера...</td>\n",
              "      <td>539</td>\n",
              "      <td>1</td>\n",
              "      <td>unknown</td>\n",
              "    </tr>\n",
              "    <tr>\n",
              "      <th>3</th>\n",
              "      <td>01.01.2019 0:00:00</td>\n",
              "      <td>Kapous Бальзам-уход для придания объема Volume...</td>\n",
              "      <td>181</td>\n",
              "      <td>1</td>\n",
              "      <td>unknown</td>\n",
              "    </tr>\n",
              "    <tr>\n",
              "      <th>4</th>\n",
              "      <td>01.01.2019 0:00:00</td>\n",
              "      <td>Kapous Шампунь для придания объема Volume up 3...</td>\n",
              "      <td>181</td>\n",
              "      <td>1</td>\n",
              "      <td>unknown</td>\n",
              "    </tr>\n",
              "  </tbody>\n",
              "</table>\n",
              "</div>"
            ],
            "text/plain": [
              "                 Дата  ... Unnamed: 4\n",
              "0  01.01.2019 0:00:00  ...    unknown\n",
              "1  01.01.2019 0:00:00  ...    unknown\n",
              "2  01.01.2019 0:00:00  ...    unknown\n",
              "3  01.01.2019 0:00:00  ...    unknown\n",
              "4  01.01.2019 0:00:00  ...    unknown\n",
              "\n",
              "[5 rows x 5 columns]"
            ]
          },
          "metadata": {
            "tags": []
          },
          "execution_count": 6
        }
      ]
    },
    {
      "cell_type": "code",
      "metadata": {
        "id": "KUkL0TETdLSS"
      },
      "source": [
        "new = new.drop(new[new['Дата'].str.contains('Период')].index,axis = 0)           # Выкинем превьюшные строки\r\n",
        "new = new.drop(new[new['Валовая прибыль'].str.contains('unknown')].index,axis=0) # Выкинем пустые строки между корзинами\r\n",
        "new = new.drop(new[new['Валовая прибыль']==new['Дата']].index)                   # Выкинем строки-даты, которые находятся в столбце корзин\r\n",
        "new.reset_index(inplace=True)                                                    # Обновим индекс\r\n",
        "new = new.drop('index',axis=1)                                                   # Выкинем ненужную, образовавшуюся после предыдущей операции колонку"
      ],
      "execution_count": null,
      "outputs": []
    },
    {
      "cell_type": "code",
      "metadata": {
        "id": "I-fuvpncdshH"
      },
      "source": [
        "cart_list = list(new[new['Валовая прибыль'].str.contains(\"MCOSM\")].index)        # Здесь будут лежать все индексы строк, где строка содержит флаг начала корзины\r\n",
        "cafre_list = list(new[new['Валовая прибыль'].str.contains(\"CAFRE\")].index)       # Здесь будут лежать все индексы строк, где строка содержит флаг CAFRE"
      ],
      "execution_count": null,
      "outputs": []
    },
    {
      "cell_type": "code",
      "metadata": {
        "colab": {
          "base_uri": "https://localhost:8080/",
          "height": 359
        },
        "id": "emZJFNFmdsj7",
        "outputId": "c87b06cd-52cf-4867-bd96-0da5a84b6169"
      },
      "source": [
        "new.head(10)"
      ],
      "execution_count": null,
      "outputs": [
        {
          "output_type": "execute_result",
          "data": {
            "text/html": [
              "<div>\n",
              "<style scoped>\n",
              "    .dataframe tbody tr th:only-of-type {\n",
              "        vertical-align: middle;\n",
              "    }\n",
              "\n",
              "    .dataframe tbody tr th {\n",
              "        vertical-align: top;\n",
              "    }\n",
              "\n",
              "    .dataframe thead th {\n",
              "        text-align: right;\n",
              "    }\n",
              "</style>\n",
              "<table border=\"1\" class=\"dataframe\">\n",
              "  <thead>\n",
              "    <tr style=\"text-align: right;\">\n",
              "      <th></th>\n",
              "      <th>Дата</th>\n",
              "      <th>Валовая прибыль</th>\n",
              "      <th>Unnamed: 2</th>\n",
              "      <th>Unnamed: 3</th>\n",
              "      <th>Unnamed: 4</th>\n",
              "    </tr>\n",
              "  </thead>\n",
              "  <tbody>\n",
              "    <tr>\n",
              "      <th>0</th>\n",
              "      <td>01.01.2019 0:00:00</td>\n",
              "      <td>MCOSM13113</td>\n",
              "      <td>26236</td>\n",
              "      <td>9</td>\n",
              "      <td>unknown</td>\n",
              "    </tr>\n",
              "    <tr>\n",
              "      <th>1</th>\n",
              "      <td>01.01.2019 0:00:00</td>\n",
              "      <td>CONTURA (HS61) машинка для стрижки волос</td>\n",
              "      <td>9059</td>\n",
              "      <td>1</td>\n",
              "      <td>unknown</td>\n",
              "    </tr>\n",
              "    <tr>\n",
              "      <th>2</th>\n",
              "      <td>01.01.2019 0:00:00</td>\n",
              "      <td>Holika Holika Универсальный гель 99% алоэ вера...</td>\n",
              "      <td>539</td>\n",
              "      <td>1</td>\n",
              "      <td>unknown</td>\n",
              "    </tr>\n",
              "    <tr>\n",
              "      <th>3</th>\n",
              "      <td>01.01.2019 0:00:00</td>\n",
              "      <td>Kapous Бальзам-уход для придания объема Volume...</td>\n",
              "      <td>181</td>\n",
              "      <td>1</td>\n",
              "      <td>unknown</td>\n",
              "    </tr>\n",
              "    <tr>\n",
              "      <th>4</th>\n",
              "      <td>01.01.2019 0:00:00</td>\n",
              "      <td>Kapous Шампунь для придания объема Volume up 3...</td>\n",
              "      <td>181</td>\n",
              "      <td>1</td>\n",
              "      <td>unknown</td>\n",
              "    </tr>\n",
              "    <tr>\n",
              "      <th>5</th>\n",
              "      <td>01.01.2019 0:00:00</td>\n",
              "      <td>XPERT (HS71) машинка для стрижки волос</td>\n",
              "      <td>12989</td>\n",
              "      <td>1</td>\n",
              "      <td>unknown</td>\n",
              "    </tr>\n",
              "    <tr>\n",
              "      <th>6</th>\n",
              "      <td>01.01.2019 0:00:00</td>\n",
              "      <td>ЛП ТНА САВАЖ ПАНАШ 250 мл</td>\n",
              "      <td>988</td>\n",
              "      <td>1</td>\n",
              "      <td>unknown</td>\n",
              "    </tr>\n",
              "    <tr>\n",
              "      <th>7</th>\n",
              "      <td>01.01.2019 0:00:00</td>\n",
              "      <td>перчатки (50 пар) винил размер S черные</td>\n",
              "      <td>319</td>\n",
              "      <td>1</td>\n",
              "      <td>unknown</td>\n",
              "    </tr>\n",
              "    <tr>\n",
              "      <th>8</th>\n",
              "      <td>01.01.2019 0:00:00</td>\n",
              "      <td>Услуга доставки DPD до двери</td>\n",
              "      <td>990</td>\n",
              "      <td>1</td>\n",
              "      <td>unknown</td>\n",
              "    </tr>\n",
              "    <tr>\n",
              "      <th>9</th>\n",
              "      <td>01.01.2019 0:00:00</td>\n",
              "      <td>Услуга доставки СДЭК</td>\n",
              "      <td>990</td>\n",
              "      <td>1</td>\n",
              "      <td>unknown</td>\n",
              "    </tr>\n",
              "  </tbody>\n",
              "</table>\n",
              "</div>"
            ],
            "text/plain": [
              "                 Дата  ... Unnamed: 4\n",
              "0  01.01.2019 0:00:00  ...    unknown\n",
              "1  01.01.2019 0:00:00  ...    unknown\n",
              "2  01.01.2019 0:00:00  ...    unknown\n",
              "3  01.01.2019 0:00:00  ...    unknown\n",
              "4  01.01.2019 0:00:00  ...    unknown\n",
              "5  01.01.2019 0:00:00  ...    unknown\n",
              "6  01.01.2019 0:00:00  ...    unknown\n",
              "7  01.01.2019 0:00:00  ...    unknown\n",
              "8  01.01.2019 0:00:00  ...    unknown\n",
              "9  01.01.2019 0:00:00  ...    unknown\n",
              "\n",
              "[10 rows x 5 columns]"
            ]
          },
          "metadata": {
            "tags": []
          },
          "execution_count": 9
        }
      ]
    },
    {
      "cell_type": "code",
      "metadata": {
        "id": "fiZgAaopdspe"
      },
      "source": [
        "carts = []                     # Здесь будут лежать все корзины \r\n",
        "cart=[]                        # В этом списке будет текущая корзина\r\n",
        "i=0                            # Счетчик для прохождения по базе\r\n",
        "val = new['Валовая прибыль']   # Будем работать с этим столбцом\r\n",
        "allPositions = []              # Создаем пустой список позиций\r\n",
        "\r\n",
        "while i!=len(new):             # Пока не дойдем до конца списка\r\n",
        "  if i in cart_list:           # Если счетчик в списке индексов-корзин\r\n",
        "    if i!=cart_list[-1]:       # Проверяем, если это не последний индекс-флаг\r\n",
        "      ind = cart_list.index(i) # Текущему индексу-флагу присваиваем значение конкретно этой корзины\r\n",
        "      # Пробегаемся дальше по счетчику до момента, когда он не будет равен следующему в списке индексу-флагу\r\n",
        "      # Если условия соблюдаются, то закидываем следующую строку в текущую корзину\r\n",
        "      # Инкремент счетчика\r\n",
        "      while i<cart_list[ind+1]-1:\r\n",
        "        cart.append(val[i+1])\r\n",
        "        allPositions.append(val[i+1]) \r\n",
        "        i+=1     \r\n",
        "    else:                      # Если же текущий индекс-флаг последний в спискf\r\n",
        "      # Пробегаемся дальше по счетчику до момента, когда он не будет равен концу списка всех строк в столбце-1\r\n",
        "      # Если условия соблюдаются, то закидываем следующую строку в текущую корзину\r\n",
        "      # Инкремент счетчика\r\n",
        "      while i<(len(new)-1):\r\n",
        "        cart.append(val[i+1])\r\n",
        "        allPositions.append(val[i+1]) \r\n",
        "        i+=1\r\n",
        "    carts.append(cart)         # Закидываем корзину в список всех корзин\r\n",
        "    cart=[]                    # Очищаем корзину\r\n",
        "  else:\r\n",
        "    i+=1                       # Если счетчик не в списке корзин, то инкрементируем"
      ],
      "execution_count": null,
      "outputs": []
    },
    {
      "cell_type": "code",
      "metadata": {
        "id": "XVSX7cmVdssy",
        "colab": {
          "base_uri": "https://localhost:8080/"
        },
        "outputId": "852fc7c5-fe14-4777-887f-9e64e3008ad1"
      },
      "source": [
        "len(carts)"
      ],
      "execution_count": null,
      "outputs": [
        {
          "output_type": "execute_result",
          "data": {
            "text/plain": [
              "13567"
            ]
          },
          "metadata": {
            "tags": []
          },
          "execution_count": 11
        }
      ]
    },
    {
      "cell_type": "code",
      "metadata": {
        "id": "feGfNCFudLVn",
        "colab": {
          "base_uri": "https://localhost:8080/"
        },
        "outputId": "38a4be02-77c4-4805-8972-791fb96cced5"
      },
      "source": [
        "items = 0\r\n",
        "for cart in carts:\r\n",
        "    for item in cart:\r\n",
        "        items += 1\r\n",
        "print(items)"
      ],
      "execution_count": null,
      "outputs": [
        {
          "output_type": "stream",
          "text": [
            "85617\n"
          ],
          "name": "stdout"
        }
      ]
    },
    {
      "cell_type": "code",
      "metadata": {
        "id": "VlP4af4xdLYQ",
        "colab": {
          "base_uri": "https://localhost:8080/"
        },
        "outputId": "11454426-7356-43f9-a689-cfc76405a5d1"
      },
      "source": [
        "print(len(carts)==len(cart_list))   # Проверка, если у нас количество корзин совпадает с количеством флагов корзин\r\n",
        "print('Количество всех позиций: ', len(allPositions)) \r\n",
        "print('Пример того, что лежит в корзине: ', carts[0])"
      ],
      "execution_count": null,
      "outputs": [
        {
          "output_type": "stream",
          "text": [
            "True\n",
            "Количество всех позиций:  85617\n",
            "Пример того, что лежит в корзине:  ['CONTURA (HS61) машинка для стрижки волос', 'Holika Holika Универсальный гель 99% алоэ вера, 250 мл', 'Kapous Бальзам-уход для придания объема Volume up 350 мл', 'Kapous Шампунь для придания объема Volume up 350 мл', 'XPERT (HS71) машинка для стрижки волос', 'ЛП ТНА САВАЖ ПАНАШ 250 мл', 'перчатки (50 пар) винил размер S черные', 'Услуга доставки DPD до двери', 'Услуга доставки СДЭК']\n"
          ],
          "name": "stdout"
        }
      ]
    },
    {
      "cell_type": "code",
      "metadata": {
        "colab": {
          "base_uri": "https://localhost:8080/"
        },
        "id": "nRXfs1gUQOW0",
        "outputId": "5f0efa40-c204-4c5c-e845-229109c9a4f2"
      },
      "source": [
        "for i in range(10):\r\n",
        "    print(carts[i])"
      ],
      "execution_count": null,
      "outputs": [
        {
          "output_type": "stream",
          "text": [
            "['CONTURA (HS61) машинка для стрижки волос', 'Holika Holika Универсальный гель 99% алоэ вера, 250 мл', 'Kapous Бальзам-уход для придания объема Volume up 350 мл', 'Kapous Шампунь для придания объема Volume up 350 мл', 'XPERT (HS71) машинка для стрижки волос', 'ЛП ТНА САВАЖ ПАНАШ 250 мл', 'перчатки (50 пар) винил размер S черные', 'Услуга доставки DPD до двери', 'Услуга доставки СДЭК']\n",
            "['OLLIN SERVICE LINE Увлаж. Бальзам для волос 1000 мл', 'OLLIN SERVICE LINE Шампунь.-стабилизатор рН 3.5 1000 мл', 'Масло-уход для светлых волос  ESTEL PRIMA BLONDE 100 мл.', 'Услуга доставки Почта России', '/101 Крем-краска ESTEL PRINCESS ESSEX пепельный', '/44 Крем-краска ESTEL PRINCESS ESSEX медный', '0/00 Стойкая крем-краска чистый тон', '0/00N Крем-краска ESTEL PRINCESS ESSEX нейтральный', '0/11 Крем-краска ESTEL PRINCESS ESSEX синий', '0/22 Крем-краска ESTEL PRINCESS ESSEX зеленый', '0/33 Крем-краска ESTEL PRINCESS ESSEX желтый', '0/33 Стойкая крем-краска интенсивный золотистисты', '0/55 Крем-краска ESTEL PRINCESS ESSEX красный', '0/66 Крем-краска ESTEL PRINCESS ESSEX фиолетовый', '1/0 Крем-краска ESTEL PRINCESS ESSEX черный классический', '1/11 Крем-краска ESTEL PRINCESS ESSEX сине-черный', '10/0 Крем-краска ESTEL PRINCESS ESSEX светлый блондин', '10/16 светлый блондин пепельно-фиолетовый DLSe', '12/0 Стойкая крем-краска специальный блонд', '12/61 Стойкая крем-краска специальный блонд фиолет', '12/81 Стойкая крем-краска специальный блонд жемч', '12/89 Стойкая крем-краска специальный блонд жемчуж', '3/0 Крем-краска ESTEL PRINCESS ESSEX темный шатен', '4/0 Крем-краска ESTEL PRINCESS ESSEX шатен', '4/0 Стойкая крем-краска шатен', '4/7 Крем-краска ESTEL PRINCESS ESSEX мокко', '5/0 Крем-краска ESTEL PRINCESS ESSEX светлый шатен', '5/0 Стойкая крем-краска светлый шатен', '5/70 Светлый шатен коричневый для седины DL', '6/0 Крем-краска ESTEL PRINCESS ESSEX темно-русый', '6/0 Стойкая крем-краска темный блонд', '6/00 Крем-краска ESTEL PRINCESS ESSEX темно-русый для седины', '6/54 Крем-краска ESTEL PRINCESS ESSEX темно-русый красно-медный', '6/7 Стойкая крем-краска темный блонд коричневый', '6/7 темный блонд коричневый', '6/7 ЭскимоKoleston Perfect ME+', '7/0 Крем-краска ESTEL PRINCESS ESSEX средне-русый', '7/0 Стойкая крем-краска блонд', '7/00 Крем-краска ESTEL PRINCESS ESSEX средне-русый для седины', '8/0 Крем-краска ESTEL PRINCESS ESSEX светло-русый', '8/0 Стойкая крем-краска светлый блонд', '9.0 HY насыщнный очень светлый блонд 100 мл', '9/0 Крем-краска ESTEL PRINCESS ESSEX блондин', '9/0 Стойкая крем-краска очень светлый блонд', '9/1 блондин пепельный DLSe', '9/1 Стойкая крем-краска очень светлый блонд пепель', '9/16 блондин пепельно-фиолетовый DLSe', '9/65 Стойкая крем-краска розовое дерево', 'ALL IN ONE Маска-спрей 15 в 1 для всех типов волос 150 мл', 'CRISTALINAS Mikado Арома-диффузор для жилых помещений с ароматом цветущего апельсина и мандарина90мл', 'CRISTALINAS Natural Spray Спрей-Поглотитель запаха с ароматом ванили 280 мл', 'DGP Жидкое лезвие локальное для удаления натоптышей 70 мл', 'Fiber Infusion восстанавливающее средство 750 мл.', 'Kapous Кремообразная проявляющая эмульсия CremOXON 9% Hyaluronic  1 л', 'Kapous Лак аэрозольный для волос сильной фиксации 750 мл', 'Kapous Мусс для укладки волос сильной фиксации Kapous STUDIO 300 мл', 'Kapous Шампунь увлажняющий для волос с маслами авокадо и оливы линии Studio Professional 1 л', 'OLLIN CARE Шампунь для восстан. структуры в.1000 мл', 'OLLIN SERVICE LINE Увлаж. Бальзам для волос 5000 мл', 'OLLIN SERVICE LINE Шампунь для ежедн. примен.pH5.5 5000 мл', 'Бальзам DE LUXE стабилизатор цвета 1000 мл.', 'Бальзам для ежедневного применения 1000 мл. Curex Classic', 'Бальзам для интенсивного увлажнения волос OTIUM AQUA 1000 мл.', 'Бальзам для ламинированных волос 200 мл.', 'Восстанавливающий эликсир LuxeOil 100 мл.', 'Гель для волос сильной фиксации Airex 200 мл. Estel', 'Интенсивная маска для поврежденных волос 500 мл.', 'Карандаш для глаз ART SOFFIO P-815 Черный', 'Кондиционер для окрашенных волос 1000 мл. Color Save Conditioner SP', 'Лак для волос сильной фиксации FIX IT 500 мл. Londa Новый', 'Лак для волос экстрасильной фиксации 500 мл. SUPER SET Wella', 'Лак для волос экстрасильной фиксации LOCK IT 500 мл. Londa', 'Лосьон для удаления краски с кожи 200мл', 'Маска для окрашенных волос 500 мл.', 'Окислительная эмульсия  3% Londa 1000 мл.', 'Окислительная эмульсия  4% Londa 1000 мл.', 'Окислительная эмульсия  6% Londa 1000 мл.', 'Оксигент 6% 60 мл DE LUXE', 'Оксигент 9% 900 мл DE LUXE', 'Оксигент для волос 3% ESTEL PRINCESS ESSEX 1000 мл.', 'Оксигент для волос 6% ESTEL PRINCESS ESSEX 1000 мл.', 'Оксигент для волос 9% ESTEL PRINCESS ESSEX 1000 мл.', 'Пена для укладки легкой фиксации 300 мл. NATURAL VOLUME Wella', 'полотенце 35 см.х70 см. 100 шт. в рулоне', 'Профессиональное средство Velvet Oil с аргановым маслом 750 мл. Londa', 'Пудра  для обесцвечивания, 750 гр. De Luxe', 'Пудра для создания объема волос ALPHA HOMME 8 гр.', 'Регенерирующая маска ReVerse 400 мл.', 'Спрей для термозащиты Special Effects Heat Protector Spray 110 мл', 'Спрей-мусс для прикорневого объема 200 мл. ROOT SHOOT Wella', 'Универсальная пумпа для шампуня 1000 мл.', 'Услуга доставки DPD до двери', 'Услуга доставки Почта России', 'Услуга доставки СДЭК', 'Хромоэнергетический комплекс', 'чаша для краски DEWAL черная с ручкой и носиком с резинкой на дне 260 мл.', 'Шампунь DE LUXE стабилизатор цвета 1000 мл.', 'Шампунь для ежедневного применения 1000 мл. Curex Classic', 'Шампунь для интенсивного увлажнения волос OTIUM AQUA 1000 мл.', 'Шампунь для ламинированных волос 250 мл.', 'Шампунь для окрашенных волос Color Radiance 1000 мл. Londa', 'Шампунь для поврежденных волос Visible Repair 1000 мл. Londa', 'Шампунь с маслом Арганы для питания сухих, окрашенных волос EGOMANIA, 250мл', 'Эмульсия для удаления краски с волос', 'CAFRE3100', '6.0 HY темный блондин 100 мл', '923 ультра-светлый перламутровый блонд серии Studio 100 мл', 'Kapous  Кремообразная окислительная эмульсия с женьшенем и рисовыми протеинами ActiOx 6% 150 мл', 'Kapous Бальзам для окрашенных волос Color Care 350 мл', 'Kapous Бальзам для частого использования Daily 350 мл', 'Kapous Бальзам-уход для придания объема Volume up 350 мл', 'Kapous Блеск-флюид для волос Diamond Dews 300 мл', 'Kapous Кератин бальзам серии Magic Keratin 250 мл', 'Kapous Кератин шампунь серии Magic Keratin Professional 300 мл', 'Kapous Оксид с экстрактом женьшеня и рисовыми протеинами 6 % ActiOx линии Studio Professional 1 л', 'Kapous Оксид с экстрактом женьшеня и рисовыми протеинами 9 % ActiOx линии Studio Professional 1 л', 'Kapous Осветляющий порошок с кератином в микрогранулах без аммиака 500 гр', 'Kapous Увлажняющий шампунь с маслом арганы серии Arganoil 300 мл', 'Kapous Флюид для поврежденных кончиков волос серии Treatment 60 мл', 'Kapous Шампунь глубокой очистки для всех типов волос 1 л', 'Kapous Шампунь для восстановления волос Profound Re 350 мл', 'Kapous Шампунь для придания объема Volume up 350 мл', 'Kapous Шампунь для частого использования Daily 350 мл', 'Крем-краска для волос Studio «Kapous», оттенок 1.0 Чёрный, 100 мл', 'Крем-краска для волос Studio «Kapous», оттенок 3.0 Тёмно-коричневый, 100 мл', 'Крем-краска для волос Studio «Kapous», оттенок 4.12 коричневый пепельно-перламутровый 100 мл', 'Крем-краска для волос Studio «Kapous», оттенок 5.0 Светло-коричневый, 100 мл', 'Крем-краска для волос Studio «Kapous», оттенок 5.8 Шоколад, 100 мл', 'Крем-краска для волос Studio «Kapous», оттенок 6.1 темный пепельный блонд 100 мл', 'Крем-краска для волос Studio «Kapous», оттенок 7.07 насыщенный холодный блонд 100 мл', 'Крем-краска для волос Studio «Kapous», оттенок 7.1 пепельный блонд 100 мл', 'Крем-краска для волос Studio «Kapous», оттенок 8.1 светлый пепельный блонд 100 мл', 'Крем-краска для волос Studio «Kapous», оттенок 8.12 светлый пепельно-перламутровый блонд 100 мл', 'Крем-краска для волос Studio «Kapous», оттенок 8.44 интенсивный светлый медный блонд 100 мл', 'Крем-краска для волос Studio «Kapous», оттенок 9.1 очень светлый пепельный блонд 100 мл', 'Крем-краска для волос Studio «Kapous», оттенок 9.12 очень светлый пепельно-перламутровый блонд', 'Крем-краска для волос Studio «Kapous», оттенок 9.21 очень светлый фиолетово-пепельный блонд 100 мл', 'Крем-краска для волос Studio «Kapous», оттенок 9.23 очень светлый бежевый перламутровый блонд 100 мл', 'Крем-краска для волос Studio Kapous, оттенок 8.23 светлый бежевый-перламутровый  блонд 100 мл', 'салфетка-воротничок 7 см. х 40 см. пластом 100 шт.']\n",
            "['Услуга доставки СДЭК']\n",
            "['Восстанавливающий эликсир LuxeOil 100 мл.', 'Маска для восстановления кератина LuxeOil 400 мл.', 'Шампунь для защиты кератина LuxeOil 1000 мл.']\n",
            "['Лосьон для укладки 150 мл. PERFECT SETTING Wella', 'Увлажняющий кондиционер 1000 мл. Hydrate Conditioner SP', 'Увлажняющий шампунь 1000 мл. Hydrate Shampoo SP', 'Услуга доставки DPD до двери', 'Шампунь для окрашенных волос 1000 мл. Color Save Shampoo SP']\n",
            "['10/65 светлый блондин фиолетово-красный DLSe', '10/76 светлый блондин коричнево-фиолетовый DLSe', 'Бальзам DE LUXE для выравнивания структуры 1000 мл.', 'Бальзам DE LUXE стабилизатор цвета 1000 мл.', 'Восстанавливающий эликсир LuxeOil 100 мл.', 'Разглаживающее масло для интенсивного блеска 100 мл. Wella', 'Шампунь DE LUXE интенсивное очищение 1000 мл.', 'Шампунь DE LUXE стабилизатор цвета 1000 мл.']\n",
            "['Бальзам для интенсивного увлажнения волос OTIUM AQUA 1000 мл.', 'Восстанавливающий эликсир LuxeOil 100 мл.', 'Оттеночный бальзам-уход для холодных светлых оттенков 200 мл.', 'Услуга доставки Почта России', 'Шампунь для интенсивного увлажнения волос OTIUM AQUA 1000 мл.']\n",
            "['12/81 Белое золото Koleston Perfect ME+', 'Bourjois Accessories Ж Товар Кисточка для пудры pinceau poudre', 'ЛП ТНА ВОЛЮМ АРХИТЕКТОР 150 мл']\n",
            "['Крем-краска для волос Studio «Kapous», оттенок 5.07 насыщенный холодный светло-коричневый 100 мл', 'Крем-краска для волос Studio «Kapous», оттенок 7.8 карамель 100 мл', 'Услуга доставки СДЭК', 'щипцы-гофре DEWAL Pro-ZWide титаново-турмалиновое покрытие 50х90 мм. 55 Вт.']\n",
            "['Kapou Шампунь с биотином для укрепления и стимуляции роста волос серии Biotin Energy 250 мл', 'Kapous Маска с биотином для укрепления и стимуляции роста волос серии Biotin Energy 250 мл', 'Matrix Socolor Beauty 9M  - Стойкая краска Очень светлый блондин мокка', 'Спрей для придания объема волосам - Lisap Fashion Volumizer 200 мл', 'Услуга доставки СДЭК']\n"
          ],
          "name": "stdout"
        }
      ]
    },
    {
      "cell_type": "code",
      "metadata": {
        "colab": {
          "base_uri": "https://localhost:8080/",
          "height": 265
        },
        "id": "bGXeaZptQOZz",
        "outputId": "b39333ba-3041-4e6e-fcc3-52aa976edb0f"
      },
      "source": [
        "# Отобразим гистограмму размеров корзин\r\n",
        "plt.hist([len(c) for c in carts], 20, [1, 21])\r\n",
        "plt.show()"
      ],
      "execution_count": null,
      "outputs": [
        {
          "output_type": "display_data",
          "data": {
            "image/png": "[encoded data removed]",
            "text/plain": [
              "<Figure size 432x288 with 1 Axes>"
            ]
          },
          "metadata": {
            "tags": [],
            "needs_background": "light"
          }
        }
      ]
    },
    {
      "cell_type": "code",
      "metadata": {
        "colab": {
          "base_uri": "https://localhost:8080/"
        },
        "id": "YyChnQxjQOcl",
        "outputId": "247f8885-95d4-4ddb-d88a-d39fb1221a33"
      },
      "source": [
        "allPositions[:10]"
      ],
      "execution_count": null,
      "outputs": [
        {
          "output_type": "execute_result",
          "data": {
            "text/plain": [
              "['CONTURA (HS61) машинка для стрижки волос',\n",
              " 'Holika Holika Универсальный гель 99% алоэ вера, 250 мл',\n",
              " 'Kapous Бальзам-уход для придания объема Volume up 350 мл',\n",
              " 'Kapous Шампунь для придания объема Volume up 350 мл',\n",
              " 'XPERT (HS71) машинка для стрижки волос',\n",
              " 'ЛП ТНА САВАЖ ПАНАШ 250 мл',\n",
              " 'перчатки (50 пар) винил размер S черные',\n",
              " 'Услуга доставки DPD до двери',\n",
              " 'Услуга доставки СДЭК',\n",
              " 'OLLIN SERVICE LINE Увлаж. Бальзам для волос 1000 мл']"
            ]
          },
          "metadata": {
            "tags": []
          },
          "execution_count": 16
        }
      ]
    },
    {
      "cell_type": "code",
      "metadata": {
        "colab": {
          "base_uri": "https://localhost:8080/"
        },
        "id": "IIOX3SimQOfj",
        "outputId": "281e1854-0edc-42c6-e604-ab9088cff182"
      },
      "source": [
        "labelEncoder = LabelEncoder()  # Создаем объект LabelEncoder \r\n",
        "labelEncoder.fit(allPositions) # Обрабатываем все имеющиеся позиции товаров"
      ],
      "execution_count": null,
      "outputs": [
        {
          "output_type": "execute_result",
          "data": {
            "text/plain": [
              "LabelEncoder()"
            ]
          },
          "metadata": {
            "tags": []
          },
          "execution_count": 17
        }
      ]
    },
    {
      "cell_type": "code",
      "metadata": {
        "colab": {
          "base_uri": "https://localhost:8080/"
        },
        "id": "iV-DgqbCQcIo",
        "outputId": "99c9c55b-1c0d-4f1c-ca3c-ac8b69af2432"
      },
      "source": [
        "maxPositionsCount = max(labelEncoder.transform(allPositions))+1 # Посчитаем количество уникальных товаров\r\n",
        "print(maxPositionsCount)"
      ],
      "execution_count": null,
      "outputs": [
        {
          "output_type": "stream",
          "text": [
            "6663\n"
          ],
          "name": "stdout"
        }
      ]
    },
    {
      "cell_type": "code",
      "metadata": {
        "colab": {
          "base_uri": "https://localhost:8080/"
        },
        "id": "ppRQVDxMQcLX",
        "outputId": "31ac8c44-3195-44ab-f9e0-c33c761a49da"
      },
      "source": [
        "cartsIndexes = [labelEncoder.transform(c) for c in carts] # Создаем список индексов для каждой корзины\r\n",
        "\r\n",
        "n = 0                  # Укажем номер корзины\r\n",
        "print(carts[n])        # Отобразим содержимое этой корзины\r\n",
        "print(cartsIndexes[n]) # Отобразим соответствующие индексы"
      ],
      "execution_count": null,
      "outputs": [
        {
          "output_type": "stream",
          "text": [
            "['CONTURA (HS61) машинка для стрижки волос', 'Holika Holika Универсальный гель 99% алоэ вера, 250 мл', 'Kapous Бальзам-уход для придания объема Volume up 350 мл', 'Kapous Шампунь для придания объема Volume up 350 мл', 'XPERT (HS71) машинка для стрижки волос', 'ЛП ТНА САВАЖ ПАНАШ 250 мл', 'перчатки (50 пар) винил размер S черные', 'Услуга доставки DPD до двери', 'Услуга доставки СДЭК']\n",
            "[1503 1732 1804 1987 2962 4226 6274 5656 5660]\n"
          ],
          "name": "stdout"
        }
      ]
    },
    {
      "cell_type": "code",
      "metadata": {
        "id": "iyfGLYm8QcOk"
      },
      "source": [
        "'''\r\n",
        "  Функция преобразования вектора по приницпу bag of words\r\n",
        "    Входные параметры:\r\n",
        "      - trainVector - исходный вектор индексов слов\r\n",
        "      - wordsCount - установленная длинна вектора\r\n",
        "    Функция возращает: \r\n",
        "      - сформированный вектор из 0 и 1\r\n",
        "'''\r\n",
        "def changeXTo01(trainVector, wordsCount):\r\n",
        "  out = np.zeros(wordsCount)                   # Создаем вектор из нулей длинной wordsCount\r\n",
        "  for x in trainVector:                        # Пробегаем по всем индексам в trainVector\r\n",
        "    out[x] = 1                                 # Изменяем на 1 значение out в позиции текущего индекса \r\n",
        "  return out                                   # Возвращаем сформированный вектор\r\n",
        "\r\n",
        "\r\n",
        "'''\r\n",
        "  Функция преобразования выборки (обучающей или проверочной) по принципе Bag of words\r\n",
        "    Входные параметры:\r\n",
        "      - trainSet - выборка\r\n",
        "      - wordsCount - установленная длинна вектора\r\n",
        "    Функция возращает: \r\n",
        "      - сформированная выборка из 0 и 1\r\n",
        "'''\r\n",
        "def changeSetTo01(trainSet, wordsCount):\r\n",
        "  out = []                                     # Создаем пустой список  \r\n",
        "  for x in trainSet:                           # Пробегаем по всем элемента выборки\r\n",
        "    out.append(changeXTo01(x, wordsCount))     # Получаем вектор Bag of words для текущего элемента    \r\n",
        "  return np.array(out)                         # Возрващаем сформированную выборку"
      ],
      "execution_count": null,
      "outputs": []
    },
    {
      "cell_type": "code",
      "metadata": {
        "id": "NhAcFk25Q7TI"
      },
      "source": [
        "carts01 = changeSetTo01(cartsIndexes, maxPositionsCount) # Создаем выборку по принципу bag of words"
      ],
      "execution_count": null,
      "outputs": []
    },
    {
      "cell_type": "code",
      "metadata": {
        "colab": {
          "base_uri": "https://localhost:8080/"
        },
        "id": "w3JH1wupQ7WD",
        "outputId": "a18c92ae-142d-4d66-c524-20adda865514"
      },
      "source": [
        "print(carts[n])        # Выводим содержимое корзины\r\n",
        "print(cartsIndexes[n]) # Выводим список соответствующих индексов\r\n",
        "print(carts01[n])      # Выводим соответсвующий список bag of words"
      ],
      "execution_count": null,
      "outputs": [
        {
          "output_type": "stream",
          "text": [
            "['CONTURA (HS61) машинка для стрижки волос', 'Holika Holika Универсальный гель 99% алоэ вера, 250 мл', 'Kapous Бальзам-уход для придания объема Volume up 350 мл', 'Kapous Шампунь для придания объема Volume up 350 мл', 'XPERT (HS71) машинка для стрижки волос', 'ЛП ТНА САВАЖ ПАНАШ 250 мл', 'перчатки (50 пар) винил размер S черные', 'Услуга доставки DPD до двери', 'Услуга доставки СДЭК']\n",
            "[1503 1732 1804 1987 2962 4226 6274 5656 5660]\n",
            "[0. 0. 0. ... 0. 0. 0.]\n"
          ],
          "name": "stdout"
        }
      ]
    },
    {
      "cell_type": "code",
      "metadata": {
        "colab": {
          "base_uri": "https://localhost:8080/"
        },
        "id": "M-tHZ2ZLQ7Y9",
        "outputId": "4a443724-1e6c-401d-942e-ffe1246bbb7c"
      },
      "source": [
        "%%time\r\n",
        "cur_time = time.time()\r\n",
        "clustersCount = 8                                  # Указываем количество кластеров\r\n",
        "kmean = KMeans(clustersCount)                        # Создаем объект KMeans\r\n",
        "kmean.fit(carts01)                                   # Производим кластеризацию набора carts01\r\n",
        "labels = kmean.labels_                               # Сохраняем метки в переменную labels\r\n",
        "\r\n",
        "npCarts = np.array(carts)                            # Преобразуем список корзин в numpy\r\n",
        "print('Время обработки: ', round(time.time() - cur_time,2),'c')"
      ],
      "execution_count": null,
      "outputs": [
        {
          "output_type": "stream",
          "text": [
            "Время обработки:  62.3 c\n",
            "CPU times: user 1min 29s, sys: 20.8 s, total: 1min 50s\n",
            "Wall time: 1min 2s\n"
          ],
          "name": "stdout"
        },
        {
          "output_type": "stream",
          "text": [
            "/usr/local/lib/python3.6/dist-packages/ipykernel_launcher.py:7: VisibleDeprecationWarning: Creating an ndarray from ragged nested sequences (which is a list-or-tuple of lists-or-tuples-or ndarrays with different lengths or shapes) is deprecated. If you meant to do this, you must specify 'dtype=object' when creating the ndarray\n",
            "  import sys\n"
          ],
          "name": "stderr"
        }
      ]
    },
    {
      "cell_type": "code",
      "metadata": {
        "colab": {
          "base_uri": "https://localhost:8080/"
        },
        "id": "MJOOeIfyRaVH",
        "outputId": "62458100-ed0b-42a9-db08-46f7bbbe3098"
      },
      "source": [
        "print(labels)                                                   # Отображаем метки кластеров\r\n",
        "clusterSize = [sum(labels==i) for i in range(0, clustersCount)] # Создадим список размеров каждого кластера\r\n",
        "\r\n",
        "# Выведем номер кластера и его размер\r\n",
        "for i, s in enumerate(clusterSize):\r\n",
        "  print(i, s)"
      ],
      "execution_count": null,
      "outputs": [
        {
          "output_type": "stream",
          "text": [
            "[6 0 4 ... 3 3 6]\n",
            "0 128\n",
            "1 24\n",
            "2 60\n",
            "3 4971\n",
            "4 3830\n",
            "5 366\n",
            "6 873\n",
            "7 3315\n"
          ],
          "name": "stdout"
        }
      ]
    },
    {
      "cell_type": "code",
      "metadata": {
        "id": "uqO545_ORaX9"
      },
      "source": [
        "def getCluster(x):\r\n",
        "  clasterSize = x.shape[0]                           # Берем размер кластера\r\n",
        "  sumX = np.sum(x, axis=0)                           # Считаем сумму кластера по позициям\r\n",
        "  sumX /= clasterSize                                # Смотрим насколько часто конкретная позиция появляется в данном кластере\r\n",
        "  \r\n",
        "  positions = []                                     # Создаем пустой список позиций\r\n",
        "  positionValues = []                                # Создаем пустой список значений\r\n",
        "  \r\n",
        "  for i in range(sumX.shape[0]):                     # Пробегаем по всем имеющимся примерам товаров\r\n",
        "    if (sumX[i] > 0):                                # Если товар присутствует в данном кластере\r\n",
        "      position = labelEncoder.inverse_transform([i]) # Получаем обратный энкодер\r\n",
        "      positions.append(position)                     # Добавляем позицию в список позиций \r\n",
        "      positionValues.append(sumX[i])                 # В списк значений добавляем количество данной позиции в текущем кластере\r\n",
        "  \r\n",
        "  return positions, positionValues                   # Возвращаем список позиций кластера и количество каждой позиции"
      ],
      "execution_count": null,
      "outputs": []
    },
    {
      "cell_type": "code",
      "metadata": {
        "colab": {
          "base_uri": "https://localhost:8080/"
        },
        "id": "ViyA7O1yRaap",
        "outputId": "420edd9b-fb81-4158-9b73-630a260a0fb2"
      },
      "source": [
        "for clusterNumber in range(len(clusterSize)):                # Пробегаем по всем кластерам\r\n",
        "  if (clusterSize[clusterNumber] > 5):                       # Если размер кластера больше 5\r\n",
        "    pos, posVal = getCluster(carts01[labels==clusterNumber]) # Получаем позиции и их количество в текущем кластере\r\n",
        "    print(\"Покупок:\", clusterSize[clusterNumber])            # Выводим размер текущего кластера\r\n",
        "    print(\"Позиций:\", len(pos))                              # Выводим общее число позиций в текущем кластере\r\n",
        "    pos = np.array(pos)                                      # Преобразуем в numpy\r\n",
        "    posVal = np.array(posVal)                                # Преобразуем в numpy\r\n",
        "    indexes = posVal > 0.6                                   # Берем индексы тех позиций, доля которых составляет больше 20%\r\n",
        "    indexedPos = pos[indexes]                                # Выбираем эти позиции из pos\r\n",
        "    indexedPosVal = posVal[indexes]                          # Выбираем доли этих позиций\r\n",
        "\r\n",
        "    # Отображаем долю позиции и название самой позиции\r\n",
        "    for i in range(len(indexedPos)):\r\n",
        "      print(round(100*indexedPosVal[i]), \"% \", indexedPos[i], sep=\"\")\r\n",
        "\r\n",
        "    print()\r\n",
        "    print()"
      ],
      "execution_count": null,
      "outputs": [
        {
          "output_type": "stream",
          "text": [
            "Покупок: 128\n",
            "Позиций: 2949\n",
            "71% ['Услуга доставки Почта России']\n",
            "66% ['Услуга доставки СДЭК']\n",
            "\n",
            "\n",
            "Покупок: 24\n",
            "Позиций: 864\n",
            "62% ['Крем-краска для волос Studio «Kapous», оттенок 8.1 светлый пепельный блонд 100 мл']\n",
            "67% ['Крем-краска для волос Studio «Kapous», оттенок 8.12 светлый пепельно-перламутровый блонд 100 мл']\n",
            "79% ['Крем-краска для волос Studio «Kapous», оттенок 9.12 очень светлый пепельно-перламутровый блонд']\n",
            "62% ['Крем-краска для волос Studio «Kapous», оттенок 9.21 очень светлый фиолетово-пепельный блонд 100 мл']\n",
            "67% ['Услуга доставки Почта России']\n",
            "\n",
            "\n",
            "Покупок: 60\n",
            "Позиций: 1446\n",
            "78% ['Флюид-коктейль ЖИДКИЙ ШЕЛК- 7 масел чемпионов 50 ml']\n",
            "63% ['Экспресс-сыворотка для ломких,сухих, секущихся волос РАСПЛАВЛЕННЫЙ ХРУСТАЛЬ 50 ml']\n",
            "\n",
            "\n",
            "Покупок: 4971\n",
            "Позиций: 4982\n",
            "\n",
            "\n",
            "Покупок: 3830\n",
            "Позиций: 3379\n",
            "100% ['Услуга доставки СДЭК']\n",
            "\n",
            "\n",
            "Покупок: 366\n",
            "Позиций: 1082\n",
            "68% ['Бальзам для интенсивного увлажнения волос OTIUM AQUA 1000 мл.']\n",
            "94% ['Шампунь для интенсивного увлажнения волос OTIUM AQUA 1000 мл.']\n",
            "\n",
            "\n",
            "Покупок: 873\n",
            "Позиций: 2060\n",
            "100% ['Услуга доставки DPD до двери']\n",
            "\n",
            "\n",
            "Покупок: 3315\n",
            "Позиций: 3617\n",
            "100% ['Услуга доставки Почта России']\n",
            "\n",
            "\n"
          ],
          "name": "stdout"
        }
      ]
    },
    {
      "cell_type": "code",
      "metadata": {
        "colab": {
          "base_uri": "https://localhost:8080/",
          "height": 537
        },
        "id": "hmwbiEUKRzbT",
        "outputId": "a51dd925-ab9a-47f7-f03a-4ca5149946fa"
      },
      "source": [
        "%%time\r\n",
        "cost = []\r\n",
        "for i in range(1,15):\r\n",
        "  kmean = KMeans(i*1) # *20\r\n",
        "  kmean.fit(carts01)\r\n",
        "  cost.append(kmean.inertia_)\r\n",
        "  print(\"Готово разбиение на \", i*1, \" классов\", sep=\"\")\r\n",
        "    \r\n",
        "plt.plot(cost, 'bx-')"
      ],
      "execution_count": null,
      "outputs": [
        {
          "output_type": "stream",
          "text": [
            "Готово разбиение на 1 классов\n",
            "Готово разбиение на 2 классов\n",
            "Готово разбиение на 3 классов\n",
            "Готово разбиение на 4 классов\n",
            "Готово разбиение на 5 классов\n",
            "Готово разбиение на 6 классов\n",
            "Готово разбиение на 7 классов\n",
            "Готово разбиение на 8 классов\n",
            "Готово разбиение на 9 классов\n",
            "Готово разбиение на 10 классов\n",
            "Готово разбиение на 11 классов\n",
            "Готово разбиение на 12 классов\n",
            "Готово разбиение на 13 классов\n",
            "Готово разбиение на 14 классов\n",
            "CPU times: user 20min 3s, sys: 6min 14s, total: 26min 18s\n",
            "Wall time: 14min 5s\n"
          ],
          "name": "stdout"
        },
        {
          "output_type": "display_data",
          "data": {
            "image/png": "[encoded data removed]",
            "text/plain": [
              "<Figure size 432x288 with 1 Axes>"
            ]
          },
          "metadata": {
            "tags": [],
            "needs_background": "light"
          }
        }
      ]
    },
    {
      "cell_type": "code",
      "metadata": {
        "colab": {
          "base_uri": "https://localhost:8080/"
        },
        "id": "XNwlIypdRzeo",
        "outputId": "ba53f0a9-7307-4588-edc8-704384e38e48"
      },
      "source": [
        "max(labels)"
      ],
      "execution_count": null,
      "outputs": [
        {
          "output_type": "execute_result",
          "data": {
            "text/plain": [
              "7"
            ]
          },
          "metadata": {
            "tags": []
          },
          "execution_count": 31
        }
      ]
    },
    {
      "cell_type": "code",
      "metadata": {
        "colab": {
          "base_uri": "https://localhost:8080/"
        },
        "id": "ZKZ6F0TVRzhq",
        "outputId": "69d5f9ce-b9f0-4bce-d51d-63570d21ffe2"
      },
      "source": [
        "# Разбиение на 280 классов\r\n",
        "for clusterNumber in range(max(labels)):                     # Пробегаем по всем значениям\r\n",
        "    if (clusterSize[clusterNumber] > 5):                     # Если размер кластера больше 5\r\n",
        "      pos, posVal = getCluster(carts01[labels==clusterNumber]) # Получаем позиции и их количество в текущем кластере\r\n",
        "      print(\"Покупок:\", clusterSize[clusterNumber])            # Выводим размер текущего кластера\r\n",
        "      print(\"Позиций:\", len(pos))                              # Выводим общее число позиций в текущем кластере\r\n",
        "      pos = np.array(pos)                                      # Преобразуем в numpy\r\n",
        "      posVal = np.array(posVal)                                # Преобразуем в numpy\r\n",
        "      indexes = posVal > 0.2                                   # Берем индексы тех позиций, доля которых составляет больше 20%\r\n",
        "      indexedPos = pos[indexes]                                # Выбираем эти позиции из pos\r\n",
        "      indexedPosVal = posVal[indexes]                          # Выбираем доли этих позиций\r\n",
        "\r\n",
        "      # Отображаем долю позиции и название самой позиции\r\n",
        "      for i in range(len(indexedPos)):\r\n",
        "        print(round(100*indexedPosVal[i]), \"% \", indexedPos[i], sep=\"\")\r\n",
        "\r\n",
        "      print()\r\n",
        "      print()"
      ],
      "execution_count": null,
      "outputs": [
        {
          "output_type": "stream",
          "text": [
            "Покупок: 128\n",
            "Позиций: 2949\n",
            "20% ['10/38 Стойкая крем-краскад/в яркий блонд золотисто']\n",
            "21% ['10/8 Стойкая крем-краска яркий блонд жемчужный']\n",
            "23% ['10/81 яркий блонд перламутрово-пепельный Интенсивное тонирование НОВЫЙ']\n",
            "30% ['12/0 Стойкая крем-краска специальный блонд']\n",
            "40% ['12/61 Стойкая крем-краска специальный блонд фиолет']\n",
            "30% ['12/81 Стойкая крем-краска специальный блонд жемч']\n",
            "34% ['12/89 Стойкая крем-краска специальный блонд жемчуж']\n",
            "30% ['4/0 Стойкая крем-краска шатен']\n",
            "20% ['4/77 Стойкая крем-краска шатен интенсивно-коричнев']\n",
            "36% ['5/0 Стойкая крем-краска светлый шатен']\n",
            "20% ['5/7 Стойкая крем-краска светлый шатен коричневый']\n",
            "22% ['5/71 Стойкая крем-краска светлый шатен коричнево-п']\n",
            "34% ['6/0 Стойкая крем-краска темный блонд']\n",
            "24% ['6/1 Стойкая крем-краска темный блонд пепельный']\n",
            "30% ['6/7 Стойкая крем-краска темный блонд коричневый']\n",
            "29% ['6/71 Стойкая крем-краска темный блонд коричнево-пе']\n",
            "26% ['6/77 Стойкая крем-краска темный блонд интенсивно-коричневый']\n",
            "41% ['7/0 Стойкая крем-краска блонд']\n",
            "20% ['7/71 Стойкая крем-краска блонд коричнево-пепельный']\n",
            "20% ['7/77 Стойкая крем-краска блонд интенсивно-коричневый']\n",
            "27% ['8/0 Стойкая крем-краска светлый блонд']\n",
            "22% ['8/38 Стойкая крем-краска светлый блонд золотисто-жемчужный']\n",
            "20% ['8/71 Стойкая крем-краска светлый блонд коричнево-п']\n",
            "21% ['8/81 светлый блонд перламутрово-пепельный Интенсивное тонирование НОВЫЙ']\n",
            "23% ['9/0 Стойкая крем-краска очень светлый блонд']\n",
            "34% ['9/1 Стойкая крем-краска очень светлый блонд пепель']\n",
            "23% ['9/16 Стойкая крем-краска очень светл блонд пепельно-фиолетовый']\n",
            "23% ['9/65 Стойкая крем-краска розовое дерево']\n",
            "27% ['AQUATIKA Маска-смузи  увлажнение Likato 250мл']\n",
            "23% ['AQUATIKA Софт-Бальзам увлажнение Likato 250мл']\n",
            "23% ['AQUATIKA Софт-Шампунь с алоэ Likato 250мл']\n",
            "23% ['Fiber Infusion восстанавливающее средство 750 мл.']\n",
            "21% ['Londa Насос-дозатор для шампуней Londa Professional 1000 мл.']\n",
            "31% ['Бальзам для ежедневного применения 1000 мл. Curex Classic']\n",
            "27% ['Кондиционер для окрашенных волос Color Radiance 1000 мл. Londa']\n",
            "24% ['Кондиционер для поврежденных волос Visible Repair 1000 мл. Londa']\n",
            "32% ['Масло Velvet Oil с аргановым маслом 100 мл. Londa']\n",
            "23% ['Масло Velvet Oil с аргановым маслом 30 мл. Londa']\n",
            "35% ['Окислительная эмульсия  1,9% Londa 1000 мл.']\n",
            "36% ['Окислительная эмульсия  3% Londa 1000 мл.']\n",
            "52% ['Окислительная эмульсия  6% Londa 1000 мл.']\n",
            "23% ['Окислительная эмульсия  9% Londa 1000 мл.']\n",
            "22% ['Оксигент для волос 9% ESTEL PRINCESS ESSEX 1000 мл.']\n",
            "30% ['Профессиональное средство Velvet Oil с аргановым маслом 750 мл. Londa']\n",
            "20% ['Пудра  для обесцвечивания волос, 750 гр. Princess Essex']\n",
            "28% ['Серебристая маска для холодных оттенков блонд ESTEL PRIMA BLONDE 300 мл.']\n",
            "27% ['Средство для восстановления поврежденных волос Visible Repair 750 мл. Londa']\n",
            "48% ['Услуга доставки DPD до двери']\n",
            "71% ['Услуга доставки Почта России']\n",
            "66% ['Услуга доставки СДЭК']\n",
            "23% ['Хромоэнергетический комплекс']\n",
            "23% ['Шампунь Velvet Oil с аргановым маслом 1000 мл. Londa']\n",
            "38% ['Шампунь для ежедневного применения 1000 мл. Curex Classic']\n",
            "25% ['Шампунь для интенсивного увлажнения волос OTIUM AQUA 1000 мл.']\n",
            "35% ['Шампунь для окрашенных волос Color Radiance 1000 мл. Londa']\n",
            "33% ['Шампунь для поврежденных волос Visible Repair 1000 мл. Londa']\n",
            "\n",
            "\n",
            "Покупок: 24\n",
            "Позиций: 864\n",
            "25% ['01 HY Усилитель пепельный 100 мл']\n",
            "21% ['07 HY Усилитель синий 100 мл']\n",
            "42% ['901 суперосветляющий пепельный блонд серии Studio 100 мл']\n",
            "25% ['902 суперосветляющий  фиолетовый блонд серии Studio, 100 мл']\n",
            "33% ['911 суперосветляющий серебр-пепельный блонд серии Studio 100 мл']\n",
            "38% ['921 суперосветляющий фиолет-пепельный блонд серии Studio 100 мл']\n",
            "42% ['923 ультра-светлый перламутровый блонд серии Studio 100 мл']\n",
            "21% ['Kapous Бальзам для окрашенных волос с рисовыми протеинами и экстрактом женьшеня 1 л']\n",
            "29% ['Kapous Кремообразная окислительная эмульсия с женьшенем и рисовыми протеинами ActiOx 1,5% 1 л']\n",
            "29% ['Kapous Обесцвечивающая пудра с антижелтым эффектом серии Blond Bar 500 мл']\n",
            "25% ['Kapous Оксид с экстрактом женьшеня и рисовыми протеинами 12 % ActiOx линии Studio Professional 1л']\n",
            "54% ['Kapous Оксид с экстрактом женьшеня и рисовыми протеинами 3% ActiOx линии Studio Professional 1 л']\n",
            "46% ['Kapous Оксид с экстрактом женьшеня и рисовыми протеинами 6 % ActiOx линии Studio Professional 1 л']\n",
            "38% ['Kapous Оксид с экстрактом женьшеня и рисовыми протеинами 9 % ActiOx линии Studio Professional 1 л']\n",
            "29% ['Крем-краска для волос Studio Kapous, оттенок 7.23 бежевый- перламутровый блонд 100 мл']\n",
            "54% ['Крем-краска для волос Studio Kapous, оттенок 8.23 светлый бежевый-перламутровый  блонд 100 мл']\n",
            "33% ['Крем-краска для волос Studio «Kapous», оттенок 10.0 Платиновый блонд, 100 мл']\n",
            "21% ['Крем-краска для волос Studio «Kapous», оттенок 10.02 перламутровый блонд 100 мл']\n",
            "33% ['Крем-краска для волос Studio «Kapous», оттенок 10.1 пепельно-платиновый блонд, 100 мл']\n",
            "38% ['Крем-краска для волос Studio «Kapous», оттенок 10.23 бежевый перламутрово-платиновый блонд 100 мл']\n",
            "25% ['Крем-краска для волос Studio «Kapous», оттенок 10.31 бежевый -платиновый блонд 100 мл']\n",
            "21% ['Крем-краска для волос Studio «Kapous», оттенок 1000 прозрачный 100 мл']\n",
            "38% ['Крем-краска для волос Studio «Kapous», оттенок 3.0 Тёмно-коричневый, 100 мл']\n",
            "29% ['Крем-краска для волос Studio «Kapous», оттенок 4.0 Коричневый, 100 мл']\n",
            "21% ['Крем-краска для волос Studio «Kapous», оттенок 4.1 пепельно-коричневый 100 мл']\n",
            "25% ['Крем-краска для волос Studio «Kapous», оттенок 4.8 Какао, 100 мл']\n",
            "38% ['Крем-краска для волос Studio «Kapous», оттенок 5.0 Светло-коричневый, 100 мл']\n",
            "21% ['Крем-краска для волос Studio «Kapous», оттенок 5.07 насыщенный холодный светло-коричневый 100 мл']\n",
            "46% ['Крем-краска для волос Studio «Kapous», оттенок 5.8 Шоколад, 100 мл']\n",
            "25% ['Крем-краска для волос Studio «Kapous», оттенок 5.81 светло-коричневый пепельный 100 мл']\n",
            "38% ['Крем-краска для волос Studio «Kapous», оттенок 6.0 Тёмный блонд, 100 мл']\n",
            "50% ['Крем-краска для волос Studio «Kapous», оттенок 6.1 темный пепельный блонд 100 мл']\n",
            "25% ['Крем-краска для волос Studio «Kapous», оттенок 6.31 табак 100 мл']\n",
            "21% ['Крем-краска для волос Studio «Kapous», оттенок 6.43 темный медно-золотой блонд 100 мл']\n",
            "29% ['Крем-краска для волос Studio «Kapous», оттенок 6.62 темный красно-фиолетовый блонд 100 мл']\n",
            "42% ['Крем-краска для волос Studio «Kapous», оттенок 6.8 капуччино, 100 мл']\n",
            "38% ['Крем-краска для волос Studio «Kapous», оттенок 7.0 Блонд, 100 мл']\n",
            "50% ['Крем-краска для волос Studio «Kapous», оттенок 7.1 пепельный блонд 100 мл']\n",
            "25% ['Крем-краска для волос Studio «Kapous», оттенок 7.62 красно-фиолетовый блонд, 100 мл']\n",
            "38% ['Крем-краска для волос Studio «Kapous», оттенок 7.8 карамель 100 мл']\n",
            "46% ['Крем-краска для волос Studio «Kapous», оттенок 7.81 коричнево-пепельный блонд 100 мл']\n",
            "29% ['Крем-краска для волос Studio «Kapous», оттенок 8.0 Светлый блонд, 100 мл']\n",
            "62% ['Крем-краска для волос Studio «Kapous», оттенок 8.1 светлый пепельный блонд 100 мл']\n",
            "67% ['Крем-краска для волос Studio «Kapous», оттенок 8.12 светлый пепельно-перламутровый блонд 100 мл']\n",
            "21% ['Крем-краска для волос Studio «Kapous», оттенок 8.13 светлый бежевый блонд 100 мл']\n",
            "25% ['Крем-краска для волос Studio «Kapous», оттенок 9.0 Очень светлый блонд, 100 мл']\n",
            "21% ['Крем-краска для волос Studio «Kapous», оттенок 9.02 нордический  блонд, 100 мл']\n",
            "42% ['Крем-краска для волос Studio «Kapous», оттенок 9.1 очень светлый пепельный блонд 100 мл']\n",
            "79% ['Крем-краска для волос Studio «Kapous», оттенок 9.12 очень светлый пепельно-перламутровый блонд']\n",
            "42% ['Крем-краска для волос Studio «Kapous», оттенок 9.2 очень светлый фиолетовый блонд 100 мл']\n",
            "62% ['Крем-краска для волос Studio «Kapous», оттенок 9.21 очень светлый фиолетово-пепельный блонд 100 мл']\n",
            "50% ['Крем-краска для волос Studio «Kapous», оттенок 9.22 очень светлый перламутровый блонд 100 мл']\n",
            "42% ['Крем-краска для волос Studio «Kapous», оттенок 9.23 очень светлый бежевый перламутровый блонд 100 мл']\n",
            "38% ['Крем-краска для волос Studio «Kapous», оттенок 9.26 очень светлый розовый блонд 100 мл']\n",
            "21% ['Оттеночный бальзам Эффект арктический блонд, 1000 мл']\n",
            "67% ['Услуга доставки Почта России']\n",
            "29% ['Услуга доставки СДЭК']\n",
            "25% ['Шампунь восстанавливающий Lavant UPDATE 250 мл.']\n",
            "\n",
            "\n",
            "Покупок: 60\n",
            "Позиций: 1446\n",
            "38% ['Актив-тоник для иммунитета волос ЖИВАЯ ВОДА 50 ml']\n",
            "25% ['Бальзам-кондиционер серебристый для светлых и седых волос 200 мл.']\n",
            "28% ['Интенсивная увлажняющая и питательная маска для сухих и нормальных волос 200 мл.']\n",
            "35% ['Кератин-кондиционер для реконструкции и выпрямления волос 200 мл.']\n",
            "23% ['Кератин-шампунь для реконструкции и разглаживания волос 250 мл.']\n",
            "23% ['Кондиционер-бальзам увлажнение и питание 200 мл.']\n",
            "33% ['МАСЛО 3D- СПРЕЙ КЕРА-ТЕРАПИЯ ВЫПАДЕНИЯ, ЖИРНОСТИ И ПЕРХОТИ 100мл']\n",
            "35% ['МАСЛО-СПРЕЙ для сухих, тонких и ломких волос(смола мумие)']\n",
            "33% ['Маска для волос-восстановление и питание 200 мл.']\n",
            "28% ['Маска с маслом арганы, льна и сладкого миндаля 200 мл.']\n",
            "23% ['Маска с маслом макадамии и маслом оливы 200 мл.']\n",
            "33% ['Маска-кератин с натуральным йогуртом 200 мл.']\n",
            "30% ['НЕКТАР СПРЕЙ-УХОД 14 в 1 с экстрасильной фиксацией']\n",
            "22% ['СЕРЕБРИСТЫЙ ШАМПУНЬ. ЧИСТЫЙ АРКТИЧЕСКИЙ БЛОНД 200 ml']\n",
            "50% ['СПРЕЙ - ЖИВИЦА для кончиков волос 120 мл']\n",
            "23% ['СПРЕЙ-БЛЕСК: сияние холодного блонда,   анти-желтый эффект, северные ягоды 120 мл']\n",
            "33% ['Сливочный флюид МОРОЖЕНОЕ ДЛЯ ВОЛОС 50 ml']\n",
            "40% ['Смузи-флюид КРЕМ-БРЮЛЕ ДЛЯ ВОЛОС 50 ml']\n",
            "22% ['Стайлинг-пудра для объема волос 20 гр']\n",
            "22% ['Увлажняющая сыворотка 2 фазная с гидролизатом  мидий 200 мл.']\n",
            "23% ['Услуга доставки Почта России']\n",
            "22% ['Услуга доставки СДЭК']\n",
            "52% ['Флюид-защита и питание светлых волос АНГЕЛ БЛОНДИНОК  50 ml']\n",
            "78% ['Флюид-коктейль ЖИДКИЙ ШЕЛК- 7 масел чемпионов 50 ml']\n",
            "23% ['Шампунь для объема волос 250 мл.']\n",
            "22% ['Шампунь серебристый для светлых и осветленных волос 250 мл.']\n",
            "22% ['Шампунь-шелк ламинирование и кератирование волос  250 мл.']\n",
            "63% ['Экспресс-сыворотка для ломких,сухих, секущихся волос РАСПЛАВЛЕННЫЙ ХРУСТАЛЬ 50 ml']\n",
            "47% ['Эликсир молодости-управление возрастом волос, машина времени волос 50 ml']\n",
            "58% ['Эликсир релакс stop stress, питание, талассотерапия 50 ml']\n",
            "\n",
            "\n",
            "Покупок: 4971\n",
            "Позиций: 4982\n",
            "\n",
            "\n",
            "Покупок: 3830\n",
            "Позиций: 3379\n",
            "100% ['Услуга доставки СДЭК']\n",
            "\n",
            "\n",
            "Покупок: 366\n",
            "Позиций: 1082\n",
            "68% ['Бальзам для интенсивного увлажнения волос OTIUM AQUA 1000 мл.']\n",
            "20% ['Комфорт-маска для интенсивного увлажнения волос OTIUM AQUA 300 мл.']\n",
            "94% ['Шампунь для интенсивного увлажнения волос OTIUM AQUA 1000 мл.']\n",
            "\n",
            "\n",
            "Покупок: 873\n",
            "Позиций: 2060\n",
            "100% ['Услуга доставки DPD до двери']\n",
            "\n",
            "\n"
          ],
          "name": "stdout"
        }
      ]
    },
    {
      "cell_type": "code",
      "metadata": {
        "colab": {
          "base_uri": "https://localhost:8080/"
        },
        "id": "ztUtkfGXSCgF",
        "outputId": "1f35ed8b-98e0-4d91-d522-ef89139e7e0a"
      },
      "source": [
        "carts_ = [[item for item in cart if not item.startswith('Услуга доставки')] for cart in carts]\r\n",
        "len(carts_) # новый список содержит корзины, из которых удалены доставки"
      ],
      "execution_count": null,
      "outputs": [
        {
          "output_type": "execute_result",
          "data": {
            "text/plain": [
              "13567"
            ]
          },
          "metadata": {
            "tags": []
          },
          "execution_count": 33
        }
      ]
    },
    {
      "cell_type": "code",
      "metadata": {
        "colab": {
          "base_uri": "https://localhost:8080/"
        },
        "id": "aH5jWWg8SCjI",
        "outputId": "30c1740b-b0de-49cc-d23f-8d5feba85aa8"
      },
      "source": [
        "# Число позиций после удаления доставок:\r\n",
        "items = 0\r\n",
        "for cart in carts_:\r\n",
        "    for item in cart:\r\n",
        "        items += 1\r\n",
        "print(items)"
      ],
      "execution_count": null,
      "outputs": [
        {
          "output_type": "stream",
          "text": [
            "76716\n"
          ],
          "name": "stdout"
        }
      ]
    },
    {
      "cell_type": "code",
      "metadata": {
        "colab": {
          "base_uri": "https://localhost:8080/"
        },
        "id": "kf8o_5j0SCly",
        "outputId": "32aad06c-1f49-4eb8-cf65-a50131028ccf"
      },
      "source": [
        "# Пересоздадим списки cartsIndexes and carts01:\r\n",
        "carts, carts_ = carts_, carts # теперь в carts_ будут корзины с доставками\r\n",
        "cartsIndexes = [labelEncoder.transform(c) for c in carts] \r\n",
        "carts01 = changeSetTo01(cartsIndexes, maxPositionsCount)\r\n",
        "\r\n",
        "n = 0                  # Указываем номер корзины\r\n",
        "print(carts[n])        # Выводим содержимое корзины\r\n",
        "print(cartsIndexes[n]) # Выводим список соответствующих индексов\r\n",
        "print(carts01[n])      # Выводим соответсвующий список bag of words"
      ],
      "execution_count": null,
      "outputs": [
        {
          "output_type": "stream",
          "text": [
            "['CONTURA (HS61) машинка для стрижки волос', 'Holika Holika Универсальный гель 99% алоэ вера, 250 мл', 'Kapous Бальзам-уход для придания объема Volume up 350 мл', 'Kapous Шампунь для придания объема Volume up 350 мл', 'XPERT (HS71) машинка для стрижки волос', 'ЛП ТНА САВАЖ ПАНАШ 250 мл', 'перчатки (50 пар) винил размер S черные']\n",
            "[1503 1732 1804 1987 2962 4226 6274]\n",
            "[0. 0. 0. ... 0. 0. 0.]\n"
          ],
          "name": "stdout"
        }
      ]
    },
    {
      "cell_type": "code",
      "metadata": {
        "colab": {
          "base_uri": "https://localhost:8080/",
          "height": 292
        },
        "id": "yEBHFxBISUOW",
        "outputId": "bf33baf8-c4bb-485a-c908-c5de917f4310"
      },
      "source": [
        "# Выведите две гистограммы\r\n",
        "# Распределения размеров классов - сколько корзин\r\n",
        "# Распределение количества уникальных позиций в классе\r\n",
        "# Кластеризуем по-новой (мы изменили carts01)\r\n",
        "\r\n",
        "%%time\r\n",
        "cost = []\r\n",
        "for i in range(1, 13):\r\n",
        "  kmean = KMeans(i) # *20\r\n",
        "  kmean.fit(carts01)\r\n",
        "  cost.append(kmean.inertia_)\r\n",
        "  print(\"Готово разбиение на \", i, \" классов\", sep=\"\")\r\n",
        "    \r\n",
        "plt.plot(list(range(1, 13)), cost, 'bx-')"
      ],
      "execution_count": null,
      "outputs": [
        {
          "output_type": "stream",
          "text": [
            "Готово разбиение на 1 классов\n",
            "Готово разбиение на 2 классов\n",
            "Готово разбиение на 3 классов\n",
            "Готово разбиение на 4 классов\n",
            "Готово разбиение на 5 классов\n",
            "Готово разбиение на 6 классов\n",
            "Готово разбиение на 7 классов\n",
            "Готово разбиение на 8 классов\n",
            "Готово разбиение на 9 классов\n",
            "Готово разбиение на 10 классов\n",
            "Готово разбиение на 11 классов\n",
            "Готово разбиение на 12 классов\n",
            "CPU times: user 14min 31s, sys: 4min 17s, total: 18min 48s\n",
            "Wall time: 10min 3s\n"
          ],
          "name": "stdout"
        },
        {
          "output_type": "display_data",
          "data": {
            "image/png": "[encoded data removed]",
            "text/plain": [
              "<Figure size 432x288 with 1 Axes>"
            ]
          },
          "metadata": {
            "tags": [],
            "needs_background": "light"
          }
        }
      ]
    },
    {
      "cell_type": "code",
      "metadata": {
        "colab": {
          "base_uri": "https://localhost:8080/"
        },
        "id": "fCN9_DIQSURV",
        "outputId": "1ad527c7-3822-4554-b4c3-f1286f4a0d3f"
      },
      "source": [
        "%%time\r\n",
        "clustersCount = 9                                   # Указываем количество кластеров\r\n",
        "kmean = KMeans(clustersCount)                        # Создаем объект KMeans\r\n",
        "kmean.fit(carts01)                                   # Производим кластеризацию набора carts01\r\n",
        "labels = kmean.labels_                               # Сохраняем метки в переменную labels\r\n",
        "\r\n",
        "npCarts = np.array(carts)\r\n",
        "len(carts), len(carts01)"
      ],
      "execution_count": null,
      "outputs": [
        {
          "output_type": "stream",
          "text": [
            "CPU times: user 1min 40s, sys: 37.6 s, total: 2min 18s\n",
            "Wall time: 1min 7s\n"
          ],
          "name": "stdout"
        },
        {
          "output_type": "stream",
          "text": [
            "/usr/local/lib/python3.6/dist-packages/ipykernel_launcher.py:6: VisibleDeprecationWarning: Creating an ndarray from ragged nested sequences (which is a list-or-tuple of lists-or-tuples-or ndarrays with different lengths or shapes) is deprecated. If you meant to do this, you must specify 'dtype=object' when creating the ndarray\n",
            "  \n"
          ],
          "name": "stderr"
        }
      ]
    },
    {
      "cell_type": "code",
      "metadata": {
        "colab": {
          "base_uri": "https://localhost:8080/"
        },
        "id": "icbnFdunSUT4",
        "outputId": "3dd3a9e0-f433-49c4-8836-b4fc5242e71c"
      },
      "source": [
        "print(labels)                                                   # Отображаем метки кластеров\r\n",
        "clusterSize = [sum(labels==i) for i in range(0, clustersCount)] # Создадим список размеров каждого кластера\r\n",
        "\r\n",
        "# Выведем номер кластера и его размер\r\n",
        "for i, s in enumerate(clusterSize):\r\n",
        "    print(i, s)"
      ],
      "execution_count": null,
      "outputs": [
        {
          "output_type": "stream",
          "text": [
            "[5 4 5 ... 5 5 5]\n",
            "0 370\n",
            "1 57\n",
            "2 1\n",
            "3 544\n",
            "4 107\n",
            "5 11854\n",
            "6 214\n",
            "7 393\n",
            "8 27\n"
          ],
          "name": "stdout"
        }
      ]
    },
    {
      "cell_type": "code",
      "metadata": {
        "colab": {
          "base_uri": "https://localhost:8080/",
          "height": 54
        },
        "id": "4pG93wQUS3sp",
        "outputId": "aa95b95c-c166-424b-d7a7-b67273429171"
      },
      "source": [
        "_ = plt.hist(labels, clustersCount, [0, clustersCount])"
      ],
      "execution_count": null,
      "outputs": [
        {
          "output_type": "display_data",
          "data": {
            "image/png": "[encoded data removed]",
            "text/plain": [
              "<Figure size 432x288 with 1 Axes>"
            ]
          },
          "metadata": {
            "tags": [],
            "needs_background": "light"
          }
        }
      ]
    },
    {
      "cell_type": "code",
      "metadata": {
        "id": "ywtkGh6RTJyN"
      },
      "source": [
        "def printSize(cluster):\r\n",
        "    \"\"\"\r\n",
        "    cluster: список корзин (в любом формате) \r\n",
        "    \"\"\"\r\n",
        "    print(\"Cluster has %d carts\" % len(cluster))"
      ],
      "execution_count": null,
      "outputs": []
    },
    {
      "cell_type": "code",
      "metadata": {
        "colab": {
          "base_uri": "https://localhost:8080/"
        },
        "id": "lF3etWZHTKlx",
        "outputId": "524a4058-d140-4c20-f13b-689d6245822d"
      },
      "source": [
        "n = 2 # номер класса\r\n",
        "cluster = [cartsIndexes[i] for i in range(len(carts)) if labels[i] == n]\r\n",
        "items = []\r\n",
        "for i in cluster:\r\n",
        "    items.extend(i)\r\n",
        "print(\"Cluster #%d has %d carts\" % (n , len(cluster)))"
      ],
      "execution_count": null,
      "outputs": [
        {
          "output_type": "stream",
          "text": [
            "Cluster #2 has 1 carts\n"
          ],
          "name": "stdout"
        }
      ]
    },
    {
      "cell_type": "code",
      "metadata": {
        "colab": {
          "base_uri": "https://localhost:8080/"
        },
        "id": "PsxmBoOsTKoj",
        "outputId": "725b507e-bc2e-4043-845c-4c91220b8d42"
      },
      "source": [
        "def printNumberUniqPositions(cluster):\r\n",
        "    items = []\r\n",
        "    for cart in cluster:\r\n",
        "        items.extend(cart)\r\n",
        "    uniqs = set()\r\n",
        "    [uniqs.add(item) for item in items]\r\n",
        "    print(\"Uniq positions:\", len(uniqs))\r\n",
        "\r\n",
        "printNumberUniqPositions(cluster)"
      ],
      "execution_count": null,
      "outputs": [
        {
          "output_type": "stream",
          "text": [
            "Uniq positions: 76\n"
          ],
          "name": "stdout"
        }
      ]
    },
    {
      "cell_type": "code",
      "metadata": {
        "id": "vjxGcW8fTKro"
      },
      "source": [
        "def printPopularPositions(cluster, level=0.2):\r\n",
        "    N = int(level*len(cluster)) \r\n",
        "    items = []\r\n",
        "    for cart in cluster:\r\n",
        "        items.extend(cart)\r\n",
        "    uniqs = set()\r\n",
        "    [uniqs.add(item) for item in items]\r\n",
        "    qty = {id: 0 for id in uniqs} # словарь id -> в скольких корзинах встречается позиция id\r\n",
        "    for cart in cluster:\r\n",
        "        for id in cart:\r\n",
        "            qty[id] += 1\r\n",
        "    ids20 = [id for id in uniqs if qty[id] > N] # список ids которые встретились более чем в N корзинах\r\n",
        "    print('Позиции, которые есть минимум в %d%% корзин:' % int(100*level), ids20)"
      ],
      "execution_count": null,
      "outputs": []
    },
    {
      "cell_type": "code",
      "metadata": {
        "colab": {
          "base_uri": "https://localhost:8080/"
        },
        "id": "76yG2CfnTPnh",
        "outputId": "81cbef16-250d-4359-c8a2-288b959e8595"
      },
      "source": [
        "printPopularPositions(cluster, level=0.2)"
      ],
      "execution_count": null,
      "outputs": [
        {
          "output_type": "stream",
          "text": [
            "Позиции, которые есть минимум в 20% корзин: [2816, 2818, 2819, 2820, 2947, 5381, 2952, 2953, 5770, 4106, 1037, 3213, 271, 1296, 1297, 1298, 1299, 4370, 3093, 1301, 1180, 1565, 1566, 287, 1567, 1568, 290, 1570, 292, 4641, 1574, 4769, 5288, 1065, 5291, 44, 5293, 5805, 5404, 4792, 4546, 2812, 1479, 1481, 203, 844, 1484, 1485, 4427, 2000, 5790, 82, 1753, 1755, 1756, 1757, 4575, 5983, 2017, 2018, 2019, 2020, 2021, 5094, 744, 2030, 5743, 5486, 881, 5873, 3059, 6000, 6001, 4472, 252, 2815]\n"
          ],
          "name": "stdout"
        }
      ]
    },
    {
      "cell_type": "code",
      "metadata": {
        "colab": {
          "base_uri": "https://localhost:8080/"
        },
        "id": "5H8s_o0ATPqZ",
        "outputId": "275fd803-f3de-483e-e6f5-88802e2ec1ef"
      },
      "source": [
        "printPopularPositions(cluster, level=0.02)"
      ],
      "execution_count": null,
      "outputs": [
        {
          "output_type": "stream",
          "text": [
            "Позиции, которые есть минимум в 2% корзин: [2816, 2818, 2819, 2820, 2947, 5381, 2952, 2953, 5770, 4106, 1037, 3213, 271, 1296, 1297, 1298, 1299, 4370, 3093, 1301, 1180, 1565, 1566, 287, 1567, 1568, 290, 1570, 292, 4641, 1574, 4769, 5288, 1065, 5291, 44, 5293, 5805, 5404, 4792, 4546, 2812, 1479, 1481, 203, 844, 1484, 1485, 4427, 2000, 5790, 82, 1753, 1755, 1756, 1757, 4575, 5983, 2017, 2018, 2019, 2020, 2021, 5094, 744, 2030, 5743, 5486, 881, 5873, 3059, 6000, 6001, 4472, 252, 2815]\n"
          ],
          "name": "stdout"
        }
      ]
    },
    {
      "cell_type": "code",
      "metadata": {
        "colab": {
          "base_uri": "https://localhost:8080/"
        },
        "id": "gyNAeEmSTPtI",
        "outputId": "93d77505-80ce-4d70-a178-185194ada805"
      },
      "source": [
        "printPopularPositions(cluster, level=0.01)"
      ],
      "execution_count": null,
      "outputs": [
        {
          "output_type": "stream",
          "text": [
            "Позиции, которые есть минимум в 1% корзин: [2816, 2818, 2819, 2820, 2947, 5381, 2952, 2953, 5770, 4106, 1037, 3213, 271, 1296, 1297, 1298, 1299, 4370, 3093, 1301, 1180, 1565, 1566, 287, 1567, 1568, 290, 1570, 292, 4641, 1574, 4769, 5288, 1065, 5291, 44, 5293, 5805, 5404, 4792, 4546, 2812, 1479, 1481, 203, 844, 1484, 1485, 4427, 2000, 5790, 82, 1753, 1755, 1756, 1757, 4575, 5983, 2017, 2018, 2019, 2020, 2021, 5094, 744, 2030, 5743, 5486, 881, 5873, 3059, 6000, 6001, 4472, 252, 2815]\n"
          ],
          "name": "stdout"
        }
      ]
    },
    {
      "cell_type": "code",
      "metadata": {
        "id": "C2nUB1gtTgB3"
      },
      "source": [
        "maxWordsCount = 10000\r\n",
        "tok = Tokenizer(num_words=maxWordsCount, filters='!\"#$%&()*+,-–—./:;<=>?@[\\\\]^_`{|}~\\t\\n\\xa0', lower=True, split=' ', oov_token='unknown', char_level=False)\r\n",
        "positions = []\r\n",
        "for p in carts:\r\n",
        "    positions.extend(p)\r\n",
        "tok.fit_on_texts(positions)         \r\n",
        "items = list(tok.word_index.items())"
      ],
      "execution_count": null,
      "outputs": []
    },
    {
      "cell_type": "code",
      "metadata": {
        "colab": {
          "base_uri": "https://localhost:8080/"
        },
        "id": "r1fI7vGFTgEc",
        "outputId": "2758a0c0-6c59-4a16-a292-f793a12d6b85"
      },
      "source": [
        "positionIds = tok.texts_to_sequences(positions)\r\n",
        "positionIds[:10]"
      ],
      "execution_count": null,
      "outputs": [
        {
          "output_type": "execute_result",
          "data": {
            "text/plain": [
              "[[4290, 4291, 967, 3, 729, 4],\n",
              " [337, 337, 763, 122, 1313, 326, 1057, 14, 2],\n",
              " [15, 17, 112, 3, 204, 95, 196, 430, 270, 2],\n",
              " [15, 6, 3, 204, 95, 196, 430, 270, 2],\n",
              " [3588, 3589, 967, 3, 729, 4],\n",
              " [364, 1288, 3360, 3361, 14, 2],\n",
              " [420, 74, 478, 575, 458, 515, 587],\n",
              " [18, 170, 125, 557, 17, 3, 4, 7, 2],\n",
              " [18, 170, 125, 6, 242, 657, 53, 37, 7, 2],\n",
              " [71, 112, 3, 120, 4, 10, 107, 98, 16, 2]]"
            ]
          },
          "metadata": {
            "tags": []
          },
          "execution_count": 48
        }
      ]
    },
    {
      "cell_type": "code",
      "metadata": {
        "colab": {
          "base_uri": "https://localhost:8080/"
        },
        "id": "eoTSvrPZTwhA",
        "outputId": "11f123a6-9a51-43d0-e2da-e82b29f345d9"
      },
      "source": [
        "uniqPositions = set()\r\n",
        "[uniqPositions.add(p) for p in positions]\r\n",
        "print(\"Distinct positions:\", len(uniqPositions))"
      ],
      "execution_count": null,
      "outputs": [
        {
          "output_type": "stream",
          "text": [
            "Distinct positions: 6658\n"
          ],
          "name": "stdout"
        }
      ]
    },
    {
      "cell_type": "code",
      "metadata": {
        "id": "Z3ve6NsWTwj1"
      },
      "source": [
        "def printPopularWords(cluster, level=0.2):\r\n",
        "    pos_count = 0\r\n",
        "    for cart in cluster:\r\n",
        "        pos_count += len(cart) # Находим полное число позиций в кластере\r\n",
        "    N = int(level*pos_count) # Пороговое количество позиций для слова.\r\n",
        "    qty = {id: 0 for id in range(1, len(tok.word_index.items())+1)} # словарь id -> в скольких позициях встречается слово id\r\n",
        "    for item in positionIds:\r\n",
        "        for id in item:\r\n",
        "            qty[id] += 1\r\n",
        "    ids20 = [id for id in range(1, len(tok.word_index.items())+1) if qty[id] > N] # список ids слов, которые встретились более чем в N позициях\r\n",
        "    words = [tok.index_word[id] for id in ids20]\r\n",
        "    print('слова, которые есть минимум в %d%% позиций:' % int(100*level), words)"
      ],
      "execution_count": null,
      "outputs": []
    },
    {
      "cell_type": "code",
      "metadata": {
        "colab": {
          "base_uri": "https://localhost:8080/"
        },
        "id": "CJHHYopeTwm1",
        "outputId": "dc4d1122-2a8c-450f-9060-e01803e94ab1"
      },
      "source": [
        "printPopularWords(cluster, level=0.2)"
      ],
      "execution_count": null,
      "outputs": [
        {
          "output_type": "stream",
          "text": [
            "слова, которые есть минимум в 20% позиций: ['мл', 'для', 'волос', 'крем', 'шампунь', '1000', 'краска', 'с', 'estel', 'маска', 'блонд', 'и', '250', 'kapous', '100', 'бальзам', 'ollin', '200', 'londa', 'color', '1', 'светлый', 'princess', 'essex', '6', 'блондин', 'стойкая', '0', '9', '7', '300', '500', 'пепельный', '10', 'русый', '5', 'спрей', 'otium', 'dewal', '60', '8', 'окрашенных', 'likato', 'фиолетовый', 'кондиционер', 'в', 'de', 'luxe', 'эмульсия', 'коричневый', 'studio', '3', '4', 'серии', 'гр', 'коричнево', 'шатен', 'keratin', 'оксигент', 'оттенков', '250мл', 'маслом', '12', 'фиксации', 'matrix', '150', 'classic', 'л', 'dl', 'масло', 'см', 'д', '50', 'ml', 'curex', 'интенсивного', 'светло', '2', 'пудра', 'окислительная', 'шт', '60мл', 'сыворотка', 'professional', 'oil', 'оттенок', 'темный', 'увлажнения', 'перманентная', 'очень', 'холодных', 'всех', '«kapous»', 'объема', 'мм', 'aqua', 'blonde', 'поврежденных', 'кератин', 'применения', 'серебристый', '750', 'типов', 'ежедневного', 'скраб', 'prima', 'экстрактом', 'увлажнение', 'интенсивное', 'лосьон', 'уход', 'кожи', 'блеск', 'пепельно', 'темно', 'magic', 'care', 'красный', 'светлых', 'новый', 'гель', '16', 'увлажняющий', 'line', 'perfect', 'haute', 'couture', 'лак', 'интенсивный', 'протеинами', 'флюид', 'аргановым', '15', 'бровей', 'восстановление', 'питание', '30', '100мл', 'цвета', 'repair', 'тонирование', 'восстановления', 'velvet', 'beauty', 'тонирующая', 'медный', 'dlse', 'восстанавливающий', 'действия', 'blond', 'фиолетово', '71', 'активатор', 'прямого', 'линии', 'краски', 'wella', '65', 'расческа', 'интенсивная', 'на', 'hair', 'против', 'перламутровый', 'черная', 'увлажняющая', 'me', '75', 'service', 'от', 'сухих', 'софт', 'жемчужный', 'окрашивания', '900', '76', '00', 'черный', 'сильной', 'блеска', '20', 'radiance', 'удаления', 'лица', 'выпадения', 'средство', 'visible', '400', 'золотисто', 'кисть', 'пигмент', 'dls', 'загара', 'специальный', 'volume', 'newtone', 'окислитель', 'airex', 'золотистый', 'защита', 'розовый', 'яркий', 'придания', 'кератином', 'эффектом', 'moisture', 'роста', 'рисовыми', 'brow', 'кератиновая', '11', 'touch', 'солярии', 'кремообразная', 'мусс', 'mask', 'оттеночный', 'жирных', 'комплекс', 'recovery', 'вт', 'обесцвечивания', 'life', 'несмываемый', 'окисляющая', 'luxury', '77', 'socolor', 'hyaluronic', 'hy', '18', 'женьшеня', 'aquatika', 'soffio', 'набор', 'депиляции', 'organic', '81', 'd', 'brown', 'стабилизатор', 'bionika', 'паста', 'седины', '66', 'koleston', 'sync', 'двухфазный', 'it', 'серебристая', 'х', 'рук', 'wellness', 'м', 'смузи', 'cream', 'средне', 'shop', 'дозатор', 'эликсир', 'actiox', '120', 'нормальной', 'shampoo', 'кератиновый', 'revive', 'перхоти', 'масел', '350', 'укладки', 'deep', 'хромоэнергетический', 'медно', 'натуральный', 'коктейль', 'кончиков', 'ламинирование', 'питательный', 'питательная', 'cc', 'головы', 'тонких', 'без', 'тела', 'синий', 'губ', 'oxy', 'вода', 'matisse', '400мл', 'создания', 'экспресс', 'термозащита', 'органик', 'эффект', 'miracle', 'ресниц', 'тон', 'diamond', 'фиксация', 'phase', '21', 'покрытие', 'щетка', 'тоник', 'нормальных', 'секущихся', 'шелк', 'performance', 'сахарная', 'пилка', 'арганы', 'авокадо', '61', 'глаз', 'пилинг', '22', 'кислотой', 'г', '44', 'оливы', 'интенсивно', 'cremoxon', 'сухой', 'алоэ', '38', 'комфорт', 'карандаш', 'style', 'alpha', 'homme', 'реконструктор', 'xtro', 'гладкости', 'illumina', 'holika', '125', '90', 'dual', 'renascence', 'арктический', 'y', 'жидкий', 'хна', 'c', 'black', 'uv', 'сияние', 'порошок', 'комплексом', '180', 'маслами', 'защиты', 'оксид', 'щипцы', 'ног', 'выравнивающий', 'бежевый', '07', 'tony', 'фильтром', 'широкая', 'лп', 'fiber', 'очистки', 'lavant', 'глубокой', 'классический', 'bar', 'moly', 'п', 'антицеллюлитный', 'краситель', 'dgp', 'infusion', 'expert', 'art', 'разглаживающий', '550', 'sheet', 'цвет', 'саше', '43', 'сильная', 'экстрасильной', 'эконом', 'force', 'разглаживания', 'графит', 'фаза', 'минеральный', 'unique', 'восстанавливающая', '45', 'dark', 'and', 'реструктурирующая', 'обесцвечивающая', 'уп', 'q3', 'омолаживающий', '25', 'хвостиком', 'перламутрово', '23', 'welloxon', 'реконструкции', 'ультра', '40', 'очищающий', 'conditioner', 'перманент', 'холодный', 'ягодная', 'роскошь', 'деликатный', 'тканевая', 'ломких', 'перчатки', 'массажная', 'pro', 'vol', 'после', '“blond', 'корректор', 'флаконов', 'ламинирования', 'резинки', 'up', 'био', 'light', 'silk', 'турмалиновое', 'обновляющий', 'шаг', 'пластик', 'антижелтым', '17', 'энергетический', '55', 'объем', '270', 'желтый', 'bar”', 'штифт', 'arganoil', 'ручкой', 'объёма', 'пластиковый', 'masters', 'насосный', 'душа', '20vol', 'регенерирующий', 'curl', 'витаминами', 'размер', '80', 'зажим', 'basic', 'p', 'ослабленных', 'красно', 'аэрозольный', 'помада', '73', 'основе', 'серебро', 'воск', 'спа', 'стимуляции', 'чемпионов', 'anti', 're', 'energy', 'длинных', 'пар', 'мокка', 'платиновый', 'ногтей', '320', 'прикорневого', 'вьющихся', 'update', 'en4', 'batiste', 'top', 'system', 'пена', 'lisap', 'barevival', 'серия', 'конд', 'узкая', 'насос', 'осветляющая', 'plus', 'структуры', 'легкой', 'гофре', 'little', 'wave', 'детский', 'чистый', 'super', 'питания', 'щетиной', 'укрепляющий', 'moire', 'примен', 'хрусталь', 'delikate', 'легкое', 's', 'проявляющая', 'шоколад', 'расчесывание', 'мочевиной', 'ежедн', 'ph5', 'megapolis', '34', '160', '03', 'e', '50мл', 'creme', 'twist', 'процедуры', 'диспенсер', 'плунжером', 'сборе', 'ёмкостей', 'расчесывания', 'рабочая', 'biolage', 'насыщенный', 'colorito', 'тонизирующий', 'фольга', 'терморегулятором', 'мкрон', 'niagara', 'r', 'shine', 'профессиональный', 'оксидант', 'щетина', 'придание', '35', 'xxl', 'oxydant', 'natura', 'siberica', 'серый', 'увлаж', 'биотином', 'молочко', 'full', 'detox', 'белый', 'пенка', 'рулоне', 'профессиональное', 'гиалуроновой', 'термозащитой', 'микстон', 'морской', 'chocolatier', 'eye', 'сэ', 'пластиковым', 'натурально', 'винил', 'охлаждающим', 'шампуней', 'выпрямления', 'завивки', 'пеньюар', 'sleek', 'ореха', 'экстра', 'женьшенем', 'архитектор', '20v', 'черные', 'рядов', 'powder', '31', 'миндаля', '70', 'осветленных', '300мл', 'солью', '96', '500мл', 'восстан', 'thalasso', 'фиолет', 'biotin', 'nectar', 'gel', 'макадамии', 'восстанавливающее', 'укрепления', '19', '200мл', 'treatment', 'по', 'расплавленный', 'альгинатная', 'насадки', 'keen', 'elements', 'осветляющий', 'smooth', 'иланг', 'ножницы', 'универсальная', 'men', '116', 'polish', 'кератирование', 'сандрэ', 'окр', 'разглаживающее', 'воротнички', 'липучке', 'жирной', 'миска', 'деревянная', 'ultimate', 'red', 'частого', '240', 'фен', 'красоты', 'светл', 'натуральная', 'нейтральный', 'прямые', 'флакон', 'пшеничными', 'серо', 'плойка', 'a', 'обесцвечивающий', '№1', 'снятия', 'stress', 'ремонт', '36', 'натуральным', 'ангел', 'intense', 'рн', 'profound', 'booster', 'luxeoil', 'sp', 'штифтом', 'йогуртом', 'натоптышей', '1л', 'collagen', 'гребень', 'orly®', 'vital', 'silver', 'прозрачный', 'violet', 'кудрявых', 'глубокий', 'средняя', 'жемчужно', 'ментолом', 'цветной', 'выравнивания', '13', 'патчи', 'keraless', '89', 'пепльно', 'блондинок', 'тушь', 'активированным', '26', 'седых', 'fluid', 'patch', 'фуксия', 'поддержание', 'силиконовые', 'энергетик', 'ампулы', 'глиоксиловой', 'glyoxysleek', 'бигуди', 'koloris', 'kl', 'чаша', \"m'use\", 'пастельный', '01', 't', 'будет', 'баночке', 'риса', 'sun', 'не', 'кислотами', 'ароматом', '28', 'l', '56', '10vol', 'spray', 'кутикулы', 'white', 'приготовления', 'окрашивающих', 'смесей', 'коклюшки', 'парикмахерский', 'intensive', '88', 'углем', 'стрижки', 'зеленый', 'титаново', '10амп', 'жемчуг', 'дыня', 'перед', 'impressive', 'solargel', 'термобрашенг', 'стайлинг', '37', 'льна', 'под', 'чувствительной', 'сияния', 'черного', 'розовая', 'acid', 'сладкого', 'new', 'терапевтический', 'in', 'анти', 'белая', '№3', 'мини', 'волна', 'ms', 'концентрат', 'midi', '02', 'pureness', 'triumph', 'универсальный', 'выпрямители', 'глубокого', 'коллагеном', 'коробке', 'нектар', 'антистатик', 'g', 'жидкие', 'полоски', '15мл', '5мл', 'hydra', 'матовый', 'парафин', \"man's\", '110', 'термозащитный', 'керамико', 'power', 'теплозащитный', 'лака', '00n', 'пластины', 'наносеребром', 'облегчение', 'тальк', 'my', 'smoother', 'na', 'дерево', 'очищение', '722', 'for', 'blue', 'spa', 'к', 'усилитель', 'эластичной', 'protect', 'оранжевый', 'черной', 'легкий', 'туннельная', '2мл', 'bleaching', 'developer', 'сохраняющий', 'пепель', 'лезвие', 'vision', 'stop', '06', 'шёлковая', 'пластичная', 'отдушек', 'добавок', 'лопата', 'жемч', 'маникюрные', '9605', 'банан', 'ombrage', 'ash', 'straight', 'tres', 'манго', 'element', 'индиго', 'grey', 'cosmetics', 'жидкое', 'полотенце', 'резинкой', 'дне', 'парикмахерских', 'безаммиачный', 'стойкий', 'розовое', 'использования', 'миндального', 'en1', '“styling”', 'help', 'термоащитой', 'умывания', '33', 'жемчуж', 'депиляцией', 'коричневая', 'защитный', 'щётка', 'живица', 'комбинированная', 'ополаскиватель', '14', 'daily', 'металлическим', '3d', 'коричневых', 'нейтрализатор', '750мл', 'микрогранулах', 'капли', 'шугаринга', 'махагоновый', 'прозрачная', 'сливки', 'смола', 'мумие', 'nourishing', 'фруктовыми', 'finish', 'проблемной', 'fast', 'gloss', 'брасс', 'офф', 'мерный', 'стакан', 'ионокерамика', 'smart', 'бриллиантовый', 'глина', 'лучей', 'ми', 'картридже', 'бамбука', 'драгоценное', 'голубая', '№2', 'gray', 'cool', 'i’m', 'real', 'пе', 'dry', 'тени', '1000мл', 'локонов', 'ж', 'товар', 'cuticle', 'ehko', 'релакс', 'titanium', 'cветлый', 'голубой', 'логотипом', 'en3', 'талассотерапия', 'моделирующий', 'profi', 'mango', 'кусачки', 'нежный', 'восстанавление', 'сливочный', 'горячая', 'терапия', 'colour', '5000', 'ламинированных', 'save', 'стекло', 'aha', 'глаза', 'peel', 'карамель', 'co', 'коричневые', 'массажа', 'pink', 'мужчин', 'укрепляющая', 'вуаль', 'complex', 'u', 'fix', '260', 'стандартная', 'косметическая', 'снят', 'поврежд', 'голубые', 'coco', 'sf', 'цветные', 'синяя', 'салфетки', 'суперосветляющий', 'сильно', 'keraplant', 'средней', 'актив', 'ионизация', 'очищения', 'амулет', 'one', 'vitamin', 'кутикул', 'салонный', 'мицеллярная', 'purifying', 'машинка', '32', 'сторонняя', 'филировочные', 'баланс', 'фиксаж', '74', 'маракуйя', 'lift', 'easy', 'двойное', 'lk', 'зебра', 'кокос', 'холодная', 'распылитель', 'термобрашинг', 'скошенная', 'витаминный', 'молодости', 'освежающий', '250ml', 'рост', 'skin', 'nano', '46', 'уф', 'солнечный', 'root', 'пленка', 'ножниц', 'шпильки', 'овальная', '41', 'dream', 'ат', 'палисандр', 'start', 'definer', 'step', 'ультрапитательный', 'структур', 'жирности', 'усиленный', 'р', 'виши', 'enzyme', 'мягкая', 'долговременной', 'стимулятор', 'curly', '117', 'мицеллярный', 'салфетка', 'воротничок', 'пластом', 'упаковке', 'за', 'пастельного', 'тонирования', '62', 'оранжевая', 'консистенции', 'лифтинг', 'mini', 'арома', 'ухода', 'волнистой', 'аква', 'cuticule', 'брюле', '210', 'chocolate', 'ши', 'мягкий', 'трудноподдающихся', 'мыло', 'век', 'репейника', '30vol', 'очищающая', 'extra', '101', 'полиэтилен', 'helix', 'град', 'bond', 'cпрей', 'ul', 'лето', 'вера', 'мокко', '54', 'as', 'double', 'dare', 'omg', 'ежедневный', 'мороженое', 'styling', '161', 'n', 'роза', 'set', 'flower', 'белой', 'пластмассовым', 'фазный', 'золотой', 'прямоугольная', 'essence', 'macadamia', 'мед', 'начеса', 'малина', 'ля', 'рош', 'позе', 'high', 'солнца', 'organza', '5vol', 'филлер', 'сине', 'диффузор', 'терка', 'химической', 'какао', '№', 'лаванды', 'термозащищающий', 'бабочка', 'бумажные', 'воздушный', 'dramatize', 'lifting', 'сложении', 'химических', 'spark', 'ампул', 'коноплей', 'банке', 'экстремального', 'релакса', 'карите', 'antiage100', 'абсолют', 'голд', 'дренажная', 'сухого', 'активизирующий', '93', 'блок', \"lucas'\", '08', 'мгновенное', 'крючках', 'ночной', 'карманная', 'прикорневой', 'эфф', 'малая', 'аммиака', 'fashion', 'кера', 'е', 'greenergetik', 'сезона', 'весна', 'oi', 'ботокса', 'lamination', 'белые', 'ресницы15пар', 'корнях', 'жестких', 'natural', 'волосам', 'zslim', '10х88', '04', 'band', 'повязка', 'деревянной', 'enigma', 'плотность', 'ширина', 'пластин', '803', 'bath', 'with', 'плотная', 'base', 'коричнев', 'сетевая', '52', 'краскад', 'вросших', 'wonders', 'фартук', 'до', 'аппл', 'active', 'иммунитета', 'живая', 'damage', 'аллюминевый', 'миндаль', 'hot', 'er', 'адм', 'obsessed', 'солнцезащитный', '650', 'сульф', 'lock', 'ant', 'кристаллы', 'pearl', 'shocking', 'матовым', 'помпа', 'микс', 'обезжириватель', '024', 'zmini', '15х60', 'сандре', 'amplify', 'брашинг', 'rose', 'нейлоновая', 'гиалуроновый', 'cristalinas', 'керамическое', 'en5', 'mega', 'пшеницы', 'профф', 'пинцет', 'поцелуй', 'сохран', 'желтизны', 'фиксацией', 'кератина', 'интенсив', 'spf', 'праймер', 'ha', 'thermo', 'gold', 'образования', 'пыли', 'мяты', 'молоко', 'tan', 'tonic', 'фиол', 'моделирования', 'кокоса', 'полировочный', '450', 'ванильный', 'белого', 'влажные', 'тёмный', 'ретинолом', 'cold', 'рестайлинг', 'облепиховый', 'long', 'бирюзовый', 'epil', 'emulsion', 'clear', 'мелирования', 'эрзац', 'китового', 'уса', 'управление', 'возрастом', 'машина', 'времени', 'ф', 'медных', 'витамины', 'винограда', 'антиоксидантами', 'espresso', 'реструктурант', 'italwax', 'энергетич', 'выжиматель', 'тюбика', 'on', 'master', 'almond', 'блонда', 'т', 'form', 'фазная', 'иссиня', 'золот', 'морская', 'strong', 'структ', 'пантенолом', 'чехле', 'dandruff', 'экранирования', 'кругов', '3oz', '05', 'milk', 'разделительным', 'зубцом', 'remover', 'so', 'невидимки', 'intenso', 'насыщенного', 'тна', 'липучки', 'теплый', 'free', 'экстракт', 'катридже', 'thermal', 'no', 'serum', 'маникюрная', 'acne', 'темных', 'жожоба', '175', 'молекулярный', 'stimulating', 'sensation', 'ультрасильной', 'терапевтическая', 'volute', 'замедления', 'ботекс', 'energe', 'шеллак', 'средних', '99', 'термозащиты', '220', 'липидиум', 'замена', 'алюминиевый', 'scalp', 'kodi', 'верхнее', 'холодного', 'северные', 'ягоды', '2200', 'purify', 'двойная', 'nail', 'женьшень', 'восстанавливающие', 'olive', 'экстремальной', 'носки', 'bourjois', 'purple', 'подготовки', 'супер', 'green', 'cтабилизатор', 'ice', 'крючок', '10p', 'одноразовый', 'э', 'работ', '390589', 'о', 'окрашеных', 'protein', 'керамика', '280', 'пумпа', 'кисточка', 'control', 'янтаря', 'premier', 'ламинирующий', 'непослушных', 'sensitive', 'реконструкция', 'со', 'panda’s', 'шнур', 'металл', 'fresh', 'аккумуляторно', 'гиалуроновая', 'система', 'ключ', 'golden', '730', 'химии', 'quick', 'лакричный', 'фиолетовая', 'термо', 'пастель', 'keratindose', 'бумеранг', 'восстанов', 'чёрные', 'профессиональная', 'nutri', 'эко', 'love', 'crystal', 'зеркало', 'подводка', 'голубым', 'cleanser', 'keratine', 'красные', 'дышащий', 'ногтями', 'кофе', 'шапочка', 'neutralizer', 'тропический', 'лимона', 'абсолютной', 'braun', 'салф', 'sahara', 'бежевая', 'argan', 'petitfee', 'гидрогелевые', 'разглаживание', 'уплотнение', 'mikado', 'жилых', 'помещений', 'шампуня', 'тёмно', 'мужской', 'пара', 'pure', 'легкого', 'масла', 'карманное', '72', 'f', 'blondes', 'unlimited', 'bronzing', 'мягкой', 'нанесения', 'маски', 'пепельн', 'mousse', 'золото', '01cветлый', 'бамбук', 'etude', 'house', 'силиконом', 'лёгкое', 'correct', 'morpher', 'soap', 'имплант', 'керапластика', 'укл', 'eyelashes', 'elasticity', 'рядная', 'горный', 'бумага', 'иммунной', 'бров', 'рес', 'наборе', 'hold', 'концентрированный', 'bi', 'uniq', 'палочка', 'elastin', '475', 'быстродействующий', 'eat', 'bobbles', 'шамп', 'fruit', 'soft', 'фиксатор', 'сумка', 'абразивная', 'педикюрная', '5шт', '30v', 'микронасечками', 'легкая', 'легким', 'бронзингом', 'mocaccino', 'sea', 'ксс', 'омолаживающая', 'корней', 'молочной', 'link', 'neutrol', 'best', 'choice', 'rubber', 'oz', 'турмалин', 'q10', 'амп', 'm', 'текстурирования', 'роз', 'скандинавский', '30гр', 'защитным', 'молочными', 'рисовым', 'протеинам', 'mohito', 'ночная', 'детокс', 'bb', 'бандаж', 'витаминно', 'royal', 'image', 'age', 'кокосовый', 'ceramic', 'extreme', 'полярный', 'lactica', 'exfoliate', 'кристальные', 'drops', 'шампуни', 'витамином', 'compact', 'трещин', 'тёплый', '82', 'естественного', 'delicato', 'однофазный', '60м', 'керамидами', '67', 'кор', 'vita', 'океана', 'сеточка', 'махагон', 'дымчатая', '215', 'maxi', 'spray»', 'чистотелом', 'основа', 'рай', 'pore', 'reconstruction', 'шоколадный', 'bio', 'увлажн', 'персик', 'мечта', 'десерт', 'энзимный', 'зеленые', 'макияжа', '2000', 'гидролизатом', 'мидий', 'пластиковая', 'primer', 'яркость', 'горячий', 'разглаживающим', 'invisible', 'носиком', 'kapou', 'витамино', 'колор', 'закладным', 'карманом', 'sunligt', 'ampoule', 'gentlemen', 'созания', 'волосах', 'volumetrik', 'уровень', 'мультиспрей', '«multi', 'термозащитное', 'утюжок', 'глиной', 'дерева', 'румяна', 'домашнего', 'саквояж', 'rich', 'зеленая', 'copper', 'by', 'зеленого', 'elixir', 'х100', 'биоэнергетическая', 'золотистые', 'spv', 'прически', 'конусная', 'фазы', '69', 'off', 'cердце', 'all', 'dust', 'семян', 'табачный', '911', 'medium', 'экстремальный', 'зелёные', 'volumizing', 'розово', 'balance', 'кость', 'счастье', 'икрой', '390541', 'теплых', 'ceramide', 'поролоновые', 'смягчающий', 'микрофибра', 'tropical', 'lucas', 'ногтевой', 'ваниль', 'запечатывающая', 'бумеранги', 'песочный', 'фейхоа', 'чёрный', 'honey', 'экстрактами', 'серебряный', 'виноградных', 'косточек', 'керамический', 'контурный', 'моделирующая', 'сторонний', 'papaya', 'обновление', 'pre', 'люкс', 'чая', 'покрытием', 'кедр', 'лаванда', 'страстная', 'серебристо', 'foaming', '85', 'де', 'пероксан', 'peroxan', 'skulptor', '150мл', 'розы', 'послушные', 'lagoon', 'vitality', 'express', 'сила', 'дневной', 'виноградной', 'косточки', 'sebum', 'вращ', 'ванночек', 'sbf', 'индив', 'tangle', 'teezer', '86', 'sos', 'вечеринки', 'solutionist', 'продувная', 'paste', 'объём', 'прямых', 'титан', 'toner', 'mer', 'мыльный', 'мер', '001', 'компакт', 'подвижной', 'grapefruit', 'парабенов', 'локоны', 'успокаивающая', '27', 'поетеа', 'ultra', 'сушка', 'прямая', 'аметист', 'pomade', 'стаканчик', 'стеклянный', 'разведения', 'хны', 'bl', '39', '10a', 'down', 'лиловый', '09', 'протектор', '165', 'а', 'идеальный', 'пурпурного', 'barrier', 'ромашки', 'hairspray', 'формирования', 'матовая', 'расческой', 'silberweiz', 'effektspulung', '95', 'цветочный', '79', 'карамельная', 'сказка', 'protection', 'сиреневый', 'сульфатов', 'хлебный', 'сульфат', 'табак', 'пчелиным', 'золотая', 'глубоко', 'аммиачный', 'капучино', 'легкость', 'x', 'always', 'розовые', 'грейпфрут', 'дозатором', 'spectrum', 'нсс', 'платина', 'плюс', 'масок', 'чередой', 'xp', '390275', 'orly', 'смешивания', 'термальная', 'граната', 'услуга', 'вскрытие', 'посылки', 'over', 'latex', 'caviar', 'бежево', 'шампанское', 'masterpiece', 'leave', 'no2', 'эхинацеи', 'стальной', 'мультиламеллярный', 'velour', 'snail', 'аэробика', 'красная', 'ледяной', 'glycolic', 'освет', 'каштан', '48', 'камфоры', 'золоти', 'норм', 'дуба', 'es', 'укол', 'вв', 'блондирования', 'крючком', 'силикон', 'з', 'doypack', 'икры', 'зрелой', 'апельсин', 'вилкой', 'отшелушивающая', 'factor', 'мгновенного', 'sbr', 'layer', 'кармен', 'амино', 'суперувлажняющий', 'вегетарианский', 'цитрусовый', 'стайлер', 'шарм', '004', '47', 'revitalizing', 'no3', 'pack', 'moisturizing', '“hyaluronic', 'acid”', 'серебр', 'forsage', 'original', 'slim', 'персика', 'матирующий', 'the', 'optima', 'красителей', 'cleansing', 'фиалковый', 'антистатическим', 'тройная', 'argana', 'salon', 'спонж', 'насадок', 'серебристые', 'expand', 'profilactic', '006', 'желто', 'secret', 'улитки', 'воротник', '923', 'multifunctional', 'облепиховая', 'сакура', 'косой', '30мл', '10av', 'х90', 'полирующий', 'питательное', 'двойные', 'mai', 'tai', 'en6', '92', 'бустер', 'change', 'липкого', 'слоя', 'натуральных', '140', 'decoxon', 'faze', 'клубничный', 'foam', 'оживляющий', 'действием', 'фруктовый', 'ws', '10мм', 'целлюлоза', 'бритья', 'шеллака', 'coil', 'mix', 'окисительная', 'max', '901', 'питат', 'вит', 'стимулирующий', '5n', '6a', 'термозащит', 'кофейный', 'шеи', 'beige', 'revlon', '№4', 'мелиссы', '005', 'aloe', 'ссадин', 'ботаническая', 'красн', 'кр', '00а', 'lrp', 'мокрых', 'boost', 'aaa', 'уника', 'flexi', 'нейлоновый', 'formula', 'машинок', 'коричн', 'shift', '015', 'asch', 'reconstructor', 'пелерина', 'кремовый', 'fs', 'fulldensity', 'аквамарин', '40vol', 'обновляющая', 'спелая', 'матирующим', 'тонер', 'non', 'хлебная', 'dews', 'кислоты', '5av', 'krt', 'бьюти', 'дымчатый', 'расчесок', 'ланолином', 'сенсорный', 'облегчения', 'бел', 'миоксинолом', 'hydro', 'антицеллюлитное', 'пор', '10v', 'daiquiri', '8p', 'cherry', 'пластиковой', 'дерма', 'kondor', 'blush', 'перманентнаякрем', 'открытых', 'техник', '«kapoyage»', '1133', 'пузырьковая', '10гр', 'редкозубая', 'nexxt', 'bleachihg', 'vit', 'уплотнения', 'lab', 'х50', 'chi', 'карбокситерапии', 'co2', 'сияющего', 'ammonia', 'лопатка', 'прядей', 'силиконовая', 'металлик', 'вегетарианская', 'дозаторы', 'протеиновый', 'heat', 'egomania', '6n', 'сс', 'а4', '081', '«для', 'раздражения', 'coconut', 'норка', 'несмываемая', 'stretch', 'дизайна', 'квадратное', 'sk', 'k', 'pop', 'натуральное', 'охлаждающее', 'star', 'листьев', 'камелии', '390565', 'помпой', 'иноа', 'ods', 'total', 'treat', 'econom', 'питающее', 'exquisite', 'бережный', '010', 'colorlast', '828', 'jet', 'коралловый', 'текстурирующий', 'ковошинг', 'нарощенных', 'oily', 'schwarz', 'brilliants', 'яичный', 'rinse', 'сreme', 'coverage', 'ромашкой', 'грецкого', 'улажняющая', 'арганового', 'circle', 'двойной', 'clean', 'вокруг', 'w', 'щербет', 'active»', 'choсоlate', 'sebo', 'минерализованная', 'белое', 'из', 'совершенство', 'педикюра', 'соль', 'активный', 'wash', 'брашенг', 'jelly', 'красного', 'ocean', 'hairs', 'azulene', 'рыбья', 'перманентнная', 'кристалл', 'длинное', 'тонкое', 'глянцевый', 'магия', 'ягод', 'фисташковая', 'мафия', 'синие', '115х146', 'мелированных', '822', 'ч', 'silky', 'круглое', 'explosion', 'трехфазный', 'дыхание', 'no1', 'sprey', 'высокоэффективный', 'снятие', 'prep', 'овал', 'завершения', 'специальное', 'мелирование', 'α', 'бисабололом', 'витаминным', 'полукруглая', 'гладких', 'taming', 'разглаживающая', 'satin', 'антрацит', 'в5', 'хлопка', 'hydrasource', 'lotion', 'energizing', 'лифтинговый', '135', 'уплотняющий', 'more', 'inside', 'mist', 'graphite', 'расчёсывание', 'hydrobalance', 'sl', '697', '012', '105', 'инаносеребром', 'бриз', '500г', 'пудрой', 'каучуковая', 'каучуковое', 'патч', 'фиксирующая', 'контроля', 'водоросли', '75мл', 'freesia', 'фрезия', 'cellulite', 'митик', 'ойл', '10mm', 'окислением', 'мори', 'make', 'максимальная', 'длина', 'no4', 'золотисты', '1122', 'eyes', 'капуччино', 'нейтрал', 'энергетическая', 'мадагаскарская', 'growth', 'лед', 'гидрофильное', '145', 'matt', 'подкручивание', '3n', '800', 'hello', 'blondie', '8a', 'двойным', 'хвостом', 'ванн', 'iq', 'секретом', 'большая', 'двухфазная', 'essential', 'coppery', 'вишня', 'крышка', 'банки', 'салициловой', 'paradise', 'liquid']\n"
          ],
          "name": "stdout"
        }
      ]
    },
    {
      "cell_type": "code",
      "metadata": {
        "id": "zRtVDIVFT4d8"
      },
      "source": [
        "# Искомая продвинутая функция\r\n",
        "def printAdvanced(cluster):\r\n",
        "    printSize(cluster)\r\n",
        "    printNumberUniqPositions(cluster)\r\n",
        "    printPopularPositions(cluster)\r\n",
        "    printPopularWords(cluster)"
      ],
      "execution_count": null,
      "outputs": []
    },
    {
      "cell_type": "code",
      "metadata": {
        "colab": {
          "base_uri": "https://localhost:8080/"
        },
        "id": "QB51LQS_T4g7",
        "outputId": "d11e32ae-da40-4c8a-f0a9-b753fb61f742"
      },
      "source": [
        "printAdvanced(cluster)"
      ],
      "execution_count": null,
      "outputs": [
        {
          "output_type": "stream",
          "text": [
            "Cluster has 1 carts\n",
            "Uniq positions: 76\n",
            "Позиции, которые есть минимум в 20% корзин: [2816, 2818, 2819, 2820, 2947, 5381, 2952, 2953, 5770, 4106, 1037, 3213, 271, 1296, 1297, 1298, 1299, 4370, 3093, 1301, 1180, 1565, 1566, 287, 1567, 1568, 290, 1570, 292, 4641, 1574, 4769, 5288, 1065, 5291, 44, 5293, 5805, 5404, 4792, 4546, 2812, 1479, 1481, 203, 844, 1484, 1485, 4427, 2000, 5790, 82, 1753, 1755, 1756, 1757, 4575, 5983, 2017, 2018, 2019, 2020, 2021, 5094, 744, 2030, 5743, 5486, 881, 5873, 3059, 6000, 6001, 4472, 252, 2815]\n",
            "слова, которые есть минимум в 20% позиций: ['мл', 'для', 'волос', 'крем', 'шампунь', '1000', 'краска', 'с', 'estel', 'маска', 'блонд', 'и', '250', 'kapous', '100', 'бальзам', 'ollin', '200', 'londa', 'color', '1', 'светлый', 'princess', 'essex', '6', 'блондин', 'стойкая', '0', '9', '7', '300', '500', 'пепельный', '10', 'русый', '5', 'спрей', 'otium', 'dewal', '60', '8', 'окрашенных', 'likato', 'фиолетовый', 'кондиционер', 'в', 'de', 'luxe', 'эмульсия', 'коричневый', 'studio', '3', '4', 'серии', 'гр', 'коричнево', 'шатен', 'keratin', 'оксигент', 'оттенков', '250мл', 'маслом', '12', 'фиксации', 'matrix', '150', 'classic', 'л', 'dl', 'масло', 'см', 'д', '50', 'ml', 'curex', 'интенсивного', 'светло', '2', 'пудра', 'окислительная', 'шт', '60мл', 'сыворотка', 'professional', 'oil', 'оттенок', 'темный', 'увлажнения', 'перманентная', 'очень', 'холодных', 'всех', '«kapous»', 'объема', 'мм', 'aqua', 'blonde', 'поврежденных', 'кератин', 'применения', 'серебристый', '750', 'типов', 'ежедневного', 'скраб', 'prima', 'экстрактом', 'увлажнение', 'интенсивное', 'лосьон', 'уход', 'кожи', 'блеск', 'пепельно', 'темно', 'magic', 'care', 'красный', 'светлых', 'новый', 'гель', '16', 'увлажняющий', 'line', 'perfect', 'haute', 'couture', 'лак', 'интенсивный', 'протеинами', 'флюид', 'аргановым', '15', 'бровей', 'восстановление', 'питание', '30', '100мл', 'цвета', 'repair', 'тонирование', 'восстановления', 'velvet', 'beauty', 'тонирующая', 'медный', 'dlse', 'восстанавливающий', 'действия', 'blond', 'фиолетово', '71', 'активатор', 'прямого', 'линии', 'краски', 'wella', '65', 'расческа', 'интенсивная', 'на', 'hair', 'против', 'перламутровый', 'черная', 'увлажняющая', 'me', '75', 'service', 'от', 'сухих', 'софт', 'жемчужный', 'окрашивания', '900', '76', '00', 'черный', 'сильной', 'блеска', '20', 'radiance', 'удаления', 'лица', 'выпадения', 'средство', 'visible', '400', 'золотисто', 'кисть', 'пигмент', 'dls', 'загара', 'специальный', 'volume', 'newtone', 'окислитель', 'airex', 'золотистый', 'защита', 'розовый', 'яркий', 'придания', 'кератином', 'эффектом', 'moisture', 'роста', 'рисовыми', 'brow', 'кератиновая', '11', 'touch', 'солярии', 'кремообразная', 'мусс', 'mask', 'оттеночный', 'жирных', 'комплекс', 'recovery', 'вт', 'обесцвечивания', 'life', 'несмываемый', 'окисляющая', 'luxury', '77', 'socolor', 'hyaluronic', 'hy', '18', 'женьшеня', 'aquatika', 'soffio', 'набор', 'депиляции', 'organic', '81', 'd', 'brown', 'стабилизатор', 'bionika', 'паста', 'седины', '66', 'koleston', 'sync', 'двухфазный', 'it', 'серебристая', 'х', 'рук', 'wellness', 'м', 'смузи', 'cream', 'средне', 'shop', 'дозатор', 'эликсир', 'actiox', '120', 'нормальной', 'shampoo', 'кератиновый', 'revive', 'перхоти', 'масел', '350', 'укладки', 'deep', 'хромоэнергетический', 'медно', 'натуральный', 'коктейль', 'кончиков', 'ламинирование', 'питательный', 'питательная', 'cc', 'головы', 'тонких', 'без', 'тела', 'синий', 'губ', 'oxy', 'вода', 'matisse', '400мл', 'создания', 'экспресс', 'термозащита', 'органик', 'эффект', 'miracle', 'ресниц', 'тон', 'diamond', 'фиксация', 'phase', '21', 'покрытие', 'щетка', 'тоник', 'нормальных', 'секущихся', 'шелк', 'performance', 'сахарная', 'пилка', 'арганы', 'авокадо', '61', 'глаз', 'пилинг', '22', 'кислотой', 'г', '44', 'оливы', 'интенсивно', 'cremoxon', 'сухой', 'алоэ', '38', 'комфорт', 'карандаш', 'style', 'alpha', 'homme', 'реконструктор', 'xtro', 'гладкости', 'illumina', 'holika', '125', '90', 'dual', 'renascence', 'арктический', 'y', 'жидкий', 'хна', 'c', 'black', 'uv', 'сияние', 'порошок', 'комплексом', '180', 'маслами', 'защиты', 'оксид', 'щипцы', 'ног', 'выравнивающий', 'бежевый', '07', 'tony', 'фильтром', 'широкая', 'лп', 'fiber', 'очистки', 'lavant', 'глубокой', 'классический', 'bar', 'moly', 'п', 'антицеллюлитный', 'краситель', 'dgp', 'infusion', 'expert', 'art', 'разглаживающий', '550', 'sheet', 'цвет', 'саше', '43', 'сильная', 'экстрасильной', 'эконом', 'force', 'разглаживания', 'графит', 'фаза', 'минеральный', 'unique', 'восстанавливающая', '45', 'dark', 'and', 'реструктурирующая', 'обесцвечивающая', 'уп', 'q3', 'омолаживающий', '25', 'хвостиком', 'перламутрово', '23', 'welloxon', 'реконструкции', 'ультра', '40', 'очищающий', 'conditioner', 'перманент', 'холодный', 'ягодная', 'роскошь', 'деликатный', 'тканевая', 'ломких', 'перчатки', 'массажная', 'pro', 'vol', 'после', '“blond', 'корректор', 'флаконов', 'ламинирования', 'резинки', 'up', 'био', 'light', 'silk', 'турмалиновое', 'обновляющий', 'шаг', 'пластик', 'антижелтым', '17', 'энергетический', '55', 'объем', '270', 'желтый', 'bar”', 'штифт', 'arganoil', 'ручкой', 'объёма', 'пластиковый', 'masters', 'насосный', 'душа', '20vol', 'регенерирующий', 'curl', 'витаминами', 'размер', '80', 'зажим', 'basic', 'p', 'ослабленных', 'красно', 'аэрозольный', 'помада', '73', 'основе', 'серебро', 'воск', 'спа', 'стимуляции', 'чемпионов', 'anti', 're', 'energy', 'длинных', 'пар', 'мокка', 'платиновый', 'ногтей', '320', 'прикорневого', 'вьющихся', 'update', 'en4', 'batiste', 'top', 'system', 'пена', 'lisap', 'barevival', 'серия', 'конд', 'узкая', 'насос', 'осветляющая', 'plus', 'структуры', 'легкой', 'гофре', 'little', 'wave', 'детский', 'чистый', 'super', 'питания', 'щетиной', 'укрепляющий', 'moire', 'примен', 'хрусталь', 'delikate', 'легкое', 's', 'проявляющая', 'шоколад', 'расчесывание', 'мочевиной', 'ежедн', 'ph5', 'megapolis', '34', '160', '03', 'e', '50мл', 'creme', 'twist', 'процедуры', 'диспенсер', 'плунжером', 'сборе', 'ёмкостей', 'расчесывания', 'рабочая', 'biolage', 'насыщенный', 'colorito', 'тонизирующий', 'фольга', 'терморегулятором', 'мкрон', 'niagara', 'r', 'shine', 'профессиональный', 'оксидант', 'щетина', 'придание', '35', 'xxl', 'oxydant', 'natura', 'siberica', 'серый', 'увлаж', 'биотином', 'молочко', 'full', 'detox', 'белый', 'пенка', 'рулоне', 'профессиональное', 'гиалуроновой', 'термозащитой', 'микстон', 'морской', 'chocolatier', 'eye', 'сэ', 'пластиковым', 'натурально', 'винил', 'охлаждающим', 'шампуней', 'выпрямления', 'завивки', 'пеньюар', 'sleek', 'ореха', 'экстра', 'женьшенем', 'архитектор', '20v', 'черные', 'рядов', 'powder', '31', 'миндаля', '70', 'осветленных', '300мл', 'солью', '96', '500мл', 'восстан', 'thalasso', 'фиолет', 'biotin', 'nectar', 'gel', 'макадамии', 'восстанавливающее', 'укрепления', '19', '200мл', 'treatment', 'по', 'расплавленный', 'альгинатная', 'насадки', 'keen', 'elements', 'осветляющий', 'smooth', 'иланг', 'ножницы', 'универсальная', 'men', '116', 'polish', 'кератирование', 'сандрэ', 'окр', 'разглаживающее', 'воротнички', 'липучке', 'жирной', 'миска', 'деревянная', 'ultimate', 'red', 'частого', '240', 'фен', 'красоты', 'светл', 'натуральная', 'нейтральный', 'прямые', 'флакон', 'пшеничными', 'серо', 'плойка', 'a', 'обесцвечивающий', '№1', 'снятия', 'stress', 'ремонт', '36', 'натуральным', 'ангел', 'intense', 'рн', 'profound', 'booster', 'luxeoil', 'sp', 'штифтом', 'йогуртом', 'натоптышей', '1л', 'collagen', 'гребень', 'orly®', 'vital', 'silver', 'прозрачный', 'violet', 'кудрявых', 'глубокий', 'средняя', 'жемчужно', 'ментолом', 'цветной', 'выравнивания', '13', 'патчи', 'keraless', '89', 'пепльно', 'блондинок', 'тушь', 'активированным', '26', 'седых', 'fluid', 'patch', 'фуксия', 'поддержание', 'силиконовые', 'энергетик', 'ампулы', 'глиоксиловой', 'glyoxysleek', 'бигуди', 'koloris', 'kl', 'чаша', \"m'use\", 'пастельный', '01', 't', 'будет', 'баночке', 'риса', 'sun', 'не', 'кислотами', 'ароматом', '28', 'l', '56', '10vol', 'spray', 'кутикулы', 'white', 'приготовления', 'окрашивающих', 'смесей', 'коклюшки', 'парикмахерский', 'intensive', '88', 'углем', 'стрижки', 'зеленый', 'титаново', '10амп', 'жемчуг', 'дыня', 'перед', 'impressive', 'solargel', 'термобрашенг', 'стайлинг', '37', 'льна', 'под', 'чувствительной', 'сияния', 'черного', 'розовая', 'acid', 'сладкого', 'new', 'терапевтический', 'in', 'анти', 'белая', '№3', 'мини', 'волна', 'ms', 'концентрат', 'midi', '02', 'pureness', 'triumph', 'универсальный', 'выпрямители', 'глубокого', 'коллагеном', 'коробке', 'нектар', 'антистатик', 'g', 'жидкие', 'полоски', '15мл', '5мл', 'hydra', 'матовый', 'парафин', \"man's\", '110', 'термозащитный', 'керамико', 'power', 'теплозащитный', 'лака', '00n', 'пластины', 'наносеребром', 'облегчение', 'тальк', 'my', 'smoother', 'na', 'дерево', 'очищение', '722', 'for', 'blue', 'spa', 'к', 'усилитель', 'эластичной', 'protect', 'оранжевый', 'черной', 'легкий', 'туннельная', '2мл', 'bleaching', 'developer', 'сохраняющий', 'пепель', 'лезвие', 'vision', 'stop', '06', 'шёлковая', 'пластичная', 'отдушек', 'добавок', 'лопата', 'жемч', 'маникюрные', '9605', 'банан', 'ombrage', 'ash', 'straight', 'tres', 'манго', 'element', 'индиго', 'grey', 'cosmetics', 'жидкое', 'полотенце', 'резинкой', 'дне', 'парикмахерских', 'безаммиачный', 'стойкий', 'розовое', 'использования', 'миндального', 'en1', '“styling”', 'help', 'термоащитой', 'умывания', '33', 'жемчуж', 'депиляцией', 'коричневая', 'защитный', 'щётка', 'живица', 'комбинированная', 'ополаскиватель', '14', 'daily', 'металлическим', '3d', 'коричневых', 'нейтрализатор', '750мл', 'микрогранулах', 'капли', 'шугаринга', 'махагоновый', 'прозрачная', 'сливки', 'смола', 'мумие', 'nourishing', 'фруктовыми', 'finish', 'проблемной', 'fast', 'gloss', 'брасс', 'офф', 'мерный', 'стакан', 'ионокерамика', 'smart', 'бриллиантовый', 'глина', 'лучей', 'ми', 'картридже', 'бамбука', 'драгоценное', 'голубая', '№2', 'gray', 'cool', 'i’m', 'real', 'пе', 'dry', 'тени', '1000мл', 'локонов', 'ж', 'товар', 'cuticle', 'ehko', 'релакс', 'titanium', 'cветлый', 'голубой', 'логотипом', 'en3', 'талассотерапия', 'моделирующий', 'profi', 'mango', 'кусачки', 'нежный', 'восстанавление', 'сливочный', 'горячая', 'терапия', 'colour', '5000', 'ламинированных', 'save', 'стекло', 'aha', 'глаза', 'peel', 'карамель', 'co', 'коричневые', 'массажа', 'pink', 'мужчин', 'укрепляющая', 'вуаль', 'complex', 'u', 'fix', '260', 'стандартная', 'косметическая', 'снят', 'поврежд', 'голубые', 'coco', 'sf', 'цветные', 'синяя', 'салфетки', 'суперосветляющий', 'сильно', 'keraplant', 'средней', 'актив', 'ионизация', 'очищения', 'амулет', 'one', 'vitamin', 'кутикул', 'салонный', 'мицеллярная', 'purifying', 'машинка', '32', 'сторонняя', 'филировочные', 'баланс', 'фиксаж', '74', 'маракуйя', 'lift', 'easy', 'двойное', 'lk', 'зебра', 'кокос', 'холодная', 'распылитель', 'термобрашинг', 'скошенная', 'витаминный', 'молодости', 'освежающий', '250ml', 'рост', 'skin', 'nano', '46', 'уф', 'солнечный', 'root', 'пленка', 'ножниц', 'шпильки', 'овальная', '41', 'dream', 'ат', 'палисандр', 'start', 'definer', 'step', 'ультрапитательный', 'структур', 'жирности', 'усиленный', 'р', 'виши', 'enzyme', 'мягкая', 'долговременной', 'стимулятор', 'curly', '117', 'мицеллярный', 'салфетка', 'воротничок', 'пластом', 'упаковке', 'за', 'пастельного', 'тонирования', '62', 'оранжевая', 'консистенции', 'лифтинг', 'mini', 'арома', 'ухода', 'волнистой', 'аква', 'cuticule', 'брюле', '210', 'chocolate', 'ши', 'мягкий', 'трудноподдающихся', 'мыло', 'век', 'репейника', '30vol', 'очищающая', 'extra', '101', 'полиэтилен', 'helix', 'град', 'bond', 'cпрей', 'ul', 'лето', 'вера', 'мокко', '54', 'as', 'double', 'dare', 'omg', 'ежедневный', 'мороженое', 'styling', '161', 'n', 'роза', 'set', 'flower', 'белой', 'пластмассовым', 'фазный', 'золотой', 'прямоугольная', 'essence', 'macadamia', 'мед', 'начеса', 'малина', 'ля', 'рош', 'позе', 'high', 'солнца', 'organza', '5vol', 'филлер', 'сине', 'диффузор', 'терка', 'химической', 'какао', '№', 'лаванды', 'термозащищающий', 'бабочка', 'бумажные', 'воздушный', 'dramatize', 'lifting', 'сложении', 'химических', 'spark', 'ампул', 'коноплей', 'банке', 'экстремального', 'релакса', 'карите', 'antiage100', 'абсолют', 'голд', 'дренажная', 'сухого', 'активизирующий', '93', 'блок', \"lucas'\", '08', 'мгновенное', 'крючках', 'ночной', 'карманная', 'прикорневой', 'эфф', 'малая', 'аммиака', 'fashion', 'кера', 'е', 'greenergetik', 'сезона', 'весна', 'oi', 'ботокса', 'lamination', 'белые', 'ресницы15пар', 'корнях', 'жестких', 'natural', 'волосам', 'zslim', '10х88', '04', 'band', 'повязка', 'деревянной', 'enigma', 'плотность', 'ширина', 'пластин', '803', 'bath', 'with', 'плотная', 'base', 'коричнев', 'сетевая', '52', 'краскад', 'вросших', 'wonders', 'фартук', 'до', 'аппл', 'active', 'иммунитета', 'живая', 'damage', 'аллюминевый', 'миндаль', 'hot', 'er', 'адм', 'obsessed', 'солнцезащитный', '650', 'сульф', 'lock', 'ant', 'кристаллы', 'pearl', 'shocking', 'матовым', 'помпа', 'микс', 'обезжириватель', '024', 'zmini', '15х60', 'сандре', 'amplify', 'брашинг', 'rose', 'нейлоновая', 'гиалуроновый', 'cristalinas', 'керамическое', 'en5', 'mega', 'пшеницы', 'профф', 'пинцет', 'поцелуй', 'сохран', 'желтизны', 'фиксацией', 'кератина', 'интенсив', 'spf', 'праймер', 'ha', 'thermo', 'gold', 'образования', 'пыли', 'мяты', 'молоко', 'tan', 'tonic', 'фиол', 'моделирования', 'кокоса', 'полировочный', '450', 'ванильный', 'белого', 'влажные', 'тёмный', 'ретинолом', 'cold', 'рестайлинг', 'облепиховый', 'long', 'бирюзовый', 'epil', 'emulsion', 'clear', 'мелирования', 'эрзац', 'китового', 'уса', 'управление', 'возрастом', 'машина', 'времени', 'ф', 'медных', 'витамины', 'винограда', 'антиоксидантами', 'espresso', 'реструктурант', 'italwax', 'энергетич', 'выжиматель', 'тюбика', 'on', 'master', 'almond', 'блонда', 'т', 'form', 'фазная', 'иссиня', 'золот', 'морская', 'strong', 'структ', 'пантенолом', 'чехле', 'dandruff', 'экранирования', 'кругов', '3oz', '05', 'milk', 'разделительным', 'зубцом', 'remover', 'so', 'невидимки', 'intenso', 'насыщенного', 'тна', 'липучки', 'теплый', 'free', 'экстракт', 'катридже', 'thermal', 'no', 'serum', 'маникюрная', 'acne', 'темных', 'жожоба', '175', 'молекулярный', 'stimulating', 'sensation', 'ультрасильной', 'терапевтическая', 'volute', 'замедления', 'ботекс', 'energe', 'шеллак', 'средних', '99', 'термозащиты', '220', 'липидиум', 'замена', 'алюминиевый', 'scalp', 'kodi', 'верхнее', 'холодного', 'северные', 'ягоды', '2200', 'purify', 'двойная', 'nail', 'женьшень', 'восстанавливающие', 'olive', 'экстремальной', 'носки', 'bourjois', 'purple', 'подготовки', 'супер', 'green', 'cтабилизатор', 'ice', 'крючок', '10p', 'одноразовый', 'э', 'работ', '390589', 'о', 'окрашеных', 'protein', 'керамика', '280', 'пумпа', 'кисточка', 'control', 'янтаря', 'premier', 'ламинирующий', 'непослушных', 'sensitive', 'реконструкция', 'со', 'panda’s', 'шнур', 'металл', 'fresh', 'аккумуляторно', 'гиалуроновая', 'система', 'ключ', 'golden', '730', 'химии', 'quick', 'лакричный', 'фиолетовая', 'термо', 'пастель', 'keratindose', 'бумеранг', 'восстанов', 'чёрные', 'профессиональная', 'nutri', 'эко', 'love', 'crystal', 'зеркало', 'подводка', 'голубым', 'cleanser', 'keratine', 'красные', 'дышащий', 'ногтями', 'кофе', 'шапочка', 'neutralizer', 'тропический', 'лимона', 'абсолютной', 'braun', 'салф', 'sahara', 'бежевая', 'argan', 'petitfee', 'гидрогелевые', 'разглаживание', 'уплотнение', 'mikado', 'жилых', 'помещений', 'шампуня', 'тёмно', 'мужской', 'пара', 'pure', 'легкого', 'масла', 'карманное', '72', 'f', 'blondes', 'unlimited', 'bronzing', 'мягкой', 'нанесения', 'маски', 'пепельн', 'mousse', 'золото', '01cветлый', 'бамбук', 'etude', 'house', 'силиконом', 'лёгкое', 'correct', 'morpher', 'soap', 'имплант', 'керапластика', 'укл', 'eyelashes', 'elasticity', 'рядная', 'горный', 'бумага', 'иммунной', 'бров', 'рес', 'наборе', 'hold', 'концентрированный', 'bi', 'uniq', 'палочка', 'elastin', '475', 'быстродействующий', 'eat', 'bobbles', 'шамп', 'fruit', 'soft', 'фиксатор', 'сумка', 'абразивная', 'педикюрная', '5шт', '30v', 'микронасечками', 'легкая', 'легким', 'бронзингом', 'mocaccino', 'sea', 'ксс', 'омолаживающая', 'корней', 'молочной', 'link', 'neutrol', 'best', 'choice', 'rubber', 'oz', 'турмалин', 'q10', 'амп', 'm', 'текстурирования', 'роз', 'скандинавский', '30гр', 'защитным', 'молочными', 'рисовым', 'протеинам', 'mohito', 'ночная', 'детокс', 'bb', 'бандаж', 'витаминно', 'royal', 'image', 'age', 'кокосовый', 'ceramic', 'extreme', 'полярный', 'lactica', 'exfoliate', 'кристальные', 'drops', 'шампуни', 'витамином', 'compact', 'трещин', 'тёплый', '82', 'естественного', 'delicato', 'однофазный', '60м', 'керамидами', '67', 'кор', 'vita', 'океана', 'сеточка', 'махагон', 'дымчатая', '215', 'maxi', 'spray»', 'чистотелом', 'основа', 'рай', 'pore', 'reconstruction', 'шоколадный', 'bio', 'увлажн', 'персик', 'мечта', 'десерт', 'энзимный', 'зеленые', 'макияжа', '2000', 'гидролизатом', 'мидий', 'пластиковая', 'primer', 'яркость', 'горячий', 'разглаживающим', 'invisible', 'носиком', 'kapou', 'витамино', 'колор', 'закладным', 'карманом', 'sunligt', 'ampoule', 'gentlemen', 'созания', 'волосах', 'volumetrik', 'уровень', 'мультиспрей', '«multi', 'термозащитное', 'утюжок', 'глиной', 'дерева', 'румяна', 'домашнего', 'саквояж', 'rich', 'зеленая', 'copper', 'by', 'зеленого', 'elixir', 'х100', 'биоэнергетическая', 'золотистые', 'spv', 'прически', 'конусная', 'фазы', '69', 'off', 'cердце', 'all', 'dust', 'семян', 'табачный', '911', 'medium', 'экстремальный', 'зелёные', 'volumizing', 'розово', 'balance', 'кость', 'счастье', 'икрой', '390541', 'теплых', 'ceramide', 'поролоновые', 'смягчающий', 'микрофибра', 'tropical', 'lucas', 'ногтевой', 'ваниль', 'запечатывающая', 'бумеранги', 'песочный', 'фейхоа', 'чёрный', 'honey', 'экстрактами', 'серебряный', 'виноградных', 'косточек', 'керамический', 'контурный', 'моделирующая', 'сторонний', 'papaya', 'обновление', 'pre', 'люкс', 'чая', 'покрытием', 'кедр', 'лаванда', 'страстная', 'серебристо', 'foaming', '85', 'де', 'пероксан', 'peroxan', 'skulptor', '150мл', 'розы', 'послушные', 'lagoon', 'vitality', 'express', 'сила', 'дневной', 'виноградной', 'косточки', 'sebum', 'вращ', 'ванночек', 'sbf', 'индив', 'tangle', 'teezer', '86', 'sos', 'вечеринки', 'solutionist', 'продувная', 'paste', 'объём', 'прямых', 'титан', 'toner', 'mer', 'мыльный', 'мер', '001', 'компакт', 'подвижной', 'grapefruit', 'парабенов', 'локоны', 'успокаивающая', '27', 'поетеа', 'ultra', 'сушка', 'прямая', 'аметист', 'pomade', 'стаканчик', 'стеклянный', 'разведения', 'хны', 'bl', '39', '10a', 'down', 'лиловый', '09', 'протектор', '165', 'а', 'идеальный', 'пурпурного', 'barrier', 'ромашки', 'hairspray', 'формирования', 'матовая', 'расческой', 'silberweiz', 'effektspulung', '95', 'цветочный', '79', 'карамельная', 'сказка', 'protection', 'сиреневый', 'сульфатов', 'хлебный', 'сульфат', 'табак', 'пчелиным', 'золотая', 'глубоко', 'аммиачный', 'капучино', 'легкость', 'x', 'always', 'розовые', 'грейпфрут', 'дозатором', 'spectrum', 'нсс', 'платина', 'плюс', 'масок', 'чередой', 'xp', '390275', 'orly', 'смешивания', 'термальная', 'граната', 'услуга', 'вскрытие', 'посылки', 'over', 'latex', 'caviar', 'бежево', 'шампанское', 'masterpiece', 'leave', 'no2', 'эхинацеи', 'стальной', 'мультиламеллярный', 'velour', 'snail', 'аэробика', 'красная', 'ледяной', 'glycolic', 'освет', 'каштан', '48', 'камфоры', 'золоти', 'норм', 'дуба', 'es', 'укол', 'вв', 'блондирования', 'крючком', 'силикон', 'з', 'doypack', 'икры', 'зрелой', 'апельсин', 'вилкой', 'отшелушивающая', 'factor', 'мгновенного', 'sbr', 'layer', 'кармен', 'амино', 'суперувлажняющий', 'вегетарианский', 'цитрусовый', 'стайлер', 'шарм', '004', '47', 'revitalizing', 'no3', 'pack', 'moisturizing', '“hyaluronic', 'acid”', 'серебр', 'forsage', 'original', 'slim', 'персика', 'матирующий', 'the', 'optima', 'красителей', 'cleansing', 'фиалковый', 'антистатическим', 'тройная', 'argana', 'salon', 'спонж', 'насадок', 'серебристые', 'expand', 'profilactic', '006', 'желто', 'secret', 'улитки', 'воротник', '923', 'multifunctional', 'облепиховая', 'сакура', 'косой', '30мл', '10av', 'х90', 'полирующий', 'питательное', 'двойные', 'mai', 'tai', 'en6', '92', 'бустер', 'change', 'липкого', 'слоя', 'натуральных', '140', 'decoxon', 'faze', 'клубничный', 'foam', 'оживляющий', 'действием', 'фруктовый', 'ws', '10мм', 'целлюлоза', 'бритья', 'шеллака', 'coil', 'mix', 'окисительная', 'max', '901', 'питат', 'вит', 'стимулирующий', '5n', '6a', 'термозащит', 'кофейный', 'шеи', 'beige', 'revlon', '№4', 'мелиссы', '005', 'aloe', 'ссадин', 'ботаническая', 'красн', 'кр', '00а', 'lrp', 'мокрых', 'boost', 'aaa', 'уника', 'flexi', 'нейлоновый', 'formula', 'машинок', 'коричн', 'shift', '015', 'asch', 'reconstructor', 'пелерина', 'кремовый', 'fs', 'fulldensity', 'аквамарин', '40vol', 'обновляющая', 'спелая', 'матирующим', 'тонер', 'non', 'хлебная', 'dews', 'кислоты', '5av', 'krt', 'бьюти', 'дымчатый', 'расчесок', 'ланолином', 'сенсорный', 'облегчения', 'бел', 'миоксинолом', 'hydro', 'антицеллюлитное', 'пор', '10v', 'daiquiri', '8p', 'cherry', 'пластиковой', 'дерма', 'kondor', 'blush', 'перманентнаякрем', 'открытых', 'техник', '«kapoyage»', '1133', 'пузырьковая', '10гр', 'редкозубая', 'nexxt', 'bleachihg', 'vit', 'уплотнения', 'lab', 'х50', 'chi', 'карбокситерапии', 'co2', 'сияющего', 'ammonia', 'лопатка', 'прядей', 'силиконовая', 'металлик', 'вегетарианская', 'дозаторы', 'протеиновый', 'heat', 'egomania', '6n', 'сс', 'а4', '081', '«для', 'раздражения', 'coconut', 'норка', 'несмываемая', 'stretch', 'дизайна', 'квадратное', 'sk', 'k', 'pop', 'натуральное', 'охлаждающее', 'star', 'листьев', 'камелии', '390565', 'помпой', 'иноа', 'ods', 'total', 'treat', 'econom', 'питающее', 'exquisite', 'бережный', '010', 'colorlast', '828', 'jet', 'коралловый', 'текстурирующий', 'ковошинг', 'нарощенных', 'oily', 'schwarz', 'brilliants', 'яичный', 'rinse', 'сreme', 'coverage', 'ромашкой', 'грецкого', 'улажняющая', 'арганового', 'circle', 'двойной', 'clean', 'вокруг', 'w', 'щербет', 'active»', 'choсоlate', 'sebo', 'минерализованная', 'белое', 'из', 'совершенство', 'педикюра', 'соль', 'активный', 'wash', 'брашенг', 'jelly', 'красного', 'ocean', 'hairs', 'azulene', 'рыбья', 'перманентнная', 'кристалл', 'длинное', 'тонкое', 'глянцевый', 'магия', 'ягод', 'фисташковая', 'мафия', 'синие', '115х146', 'мелированных', '822', 'ч', 'silky', 'круглое', 'explosion', 'трехфазный', 'дыхание', 'no1', 'sprey', 'высокоэффективный', 'снятие', 'prep', 'овал', 'завершения', 'специальное', 'мелирование', 'α', 'бисабололом', 'витаминным', 'полукруглая', 'гладких', 'taming', 'разглаживающая', 'satin', 'антрацит', 'в5', 'хлопка', 'hydrasource', 'lotion', 'energizing', 'лифтинговый', '135', 'уплотняющий', 'more', 'inside', 'mist', 'graphite', 'расчёсывание', 'hydrobalance', 'sl', '697', '012', '105', 'инаносеребром', 'бриз', '500г', 'пудрой', 'каучуковая', 'каучуковое', 'патч', 'фиксирующая', 'контроля', 'водоросли', '75мл', 'freesia', 'фрезия', 'cellulite', 'митик', 'ойл', '10mm', 'окислением', 'мори', 'make', 'максимальная', 'длина', 'no4', 'золотисты', '1122', 'eyes', 'капуччино', 'нейтрал', 'энергетическая', 'мадагаскарская', 'growth', 'лед', 'гидрофильное', '145', 'matt', 'подкручивание', '3n', '800', 'hello', 'blondie', '8a', 'двойным', 'хвостом', 'ванн', 'iq', 'секретом', 'большая', 'двухфазная', 'essential', 'coppery', 'вишня', 'крышка', 'банки', 'салициловой', 'paradise', 'liquid']\n"
          ],
          "name": "stdout"
        }
      ]
    }
  ]
}