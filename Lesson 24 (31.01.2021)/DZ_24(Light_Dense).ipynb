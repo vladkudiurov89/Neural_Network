{
  "nbformat": 4,
  "nbformat_minor": 0,
  "metadata": {
    "colab": {
      "name": "DZ-24(Light - Dense).ipynb",
      "provenance": [],
      "collapsed_sections": [],
      "machine_shape": "hm"
    },
    "kernelspec": {
      "name": "python3",
      "display_name": "Python 3"
    },
    "accelerator": "GPU"
  },
  "cells": [
    {
      "cell_type": "code",
      "metadata": {
        "id": "zLYbjgiLdd2C"
      },
      "source": [
        "# Импортируем библиотеки \r\n",
        "import tensorflow as tf\r\n",
        "from tensorflow.keras import utils\r\n",
        "import matplotlib.pyplot as plt\r\n",
        "import numpy as np\r\n",
        "import os, sys, random, datetime\r\n",
        "from tensorflow.keras.datasets import cifar10"
      ],
      "execution_count": null,
      "outputs": []
    },
    {
      "cell_type": "code",
      "metadata": {
        "id": "jAvt7nud5scU",
        "colab": {
          "base_uri": "https://localhost:8080/"
        },
        "outputId": "b5d881cb-377b-4530-b890-734cdfb765f2"
      },
      "source": [
        "from google.colab import drive\r\n",
        "drive.mount('/content/drive')"
      ],
      "execution_count": null,
      "outputs": [
        {
          "output_type": "stream",
          "text": [
            "Mounted at /content/drive\n"
          ],
          "name": "stdout"
        }
      ]
    },
    {
      "cell_type": "markdown",
      "metadata": {
        "id": "8o4C1eD-LP_7"
      },
      "source": [
        "**Полносвязанная нейронная сеть**"
      ]
    },
    {
      "cell_type": "code",
      "metadata": {
        "id": "Orkqo2j_rvk-"
      },
      "source": [
        "# Обозначем метки клааов\r\n",
        "classes = ['самолет', 'автомобиль', 'птица', 'кот', 'олень', 'собака', 'лягушка', 'лошадь', 'корабль', 'грузовик']\r\n",
        "\r\n",
        "# Параметры обучения и оптимизации\r\n",
        "learning_rate = 0.5\r\n",
        "epochs = 20\r\n",
        "batchSize = 100\r\n",
        "img_size = (32, 32, 3)\r\n",
        "# Оптимизатор и метрика\r\n",
        "optimizer = tf.keras.optimizers.SGD(learning_rate = learning_rate)\r\n",
        "m = tf.keras.metrics.Accuracy()\r\n"
      ],
      "execution_count": null,
      "outputs": []
    },
    {
      "cell_type": "code",
      "metadata": {
        "id": "hn2AuSXbryhz"
      },
      "source": [
        "# Функция для загрузки датасета\r\n",
        "def get_data(flatten = True):\r\n",
        "  (X_train10, Y_train10), (X_test10, Y_test10) = cifar10.load_data()\r\n",
        "\r\n",
        "  if (flatten):\r\n",
        "    X_train10 = X_train10.reshape(-1, 3072)\r\n",
        "    X_test10 = X_test10.reshape(-1, 3072)\r\n",
        "  else:\r\n",
        "    X_train10 = X_train10.reshape(-1, 32, 32, 3)\r\n",
        "    X_test10 = X_test10.reshape(-1, 32, 32, 3)\r\n",
        "\r\n",
        "  X_train10 = X_train10.astype(np.float32)/255\r\n",
        "  X_test10 = X_test10.astype(np.float32)/255\r\n",
        "\r\n",
        "  print(f'X_train10 = {X_train10.shape}')\r\n",
        "  print(f'X_test10 = {X_test10.shape}')\r\n",
        "\r\n",
        "  Y_train10 = utils.to_categorical(Y_train10, 10).astype(np.float32)\r\n",
        "  Y_test10 = utils.to_categorical(Y_test10, 10).astype(np.float32)\r\n",
        "\r\n",
        "  print(f'Y_train10 = {Y_train10.shape}')\r\n",
        "  print(f'Y_test10 = {Y_test10.shape}')\r\n",
        "\r\n",
        "  return X_train10, Y_train10, X_test10, Y_test10\r\n"
      ],
      "execution_count": null,
      "outputs": []
    },
    {
      "cell_type": "code",
      "metadata": {
        "id": "edgp_Z1fwSXu",
        "colab": {
          "base_uri": "https://localhost:8080/"
        },
        "outputId": "bbaa18cf-f1d1-4651-cee2-375f9d4254b9"
      },
      "source": [
        "# Загрузили данные\r\n",
        "X_train10, Y_train10, X_test10, Y_test10 = get_data()"
      ],
      "execution_count": null,
      "outputs": [
        {
          "output_type": "stream",
          "text": [
            "Downloading data from https://www.cs.toronto.edu/~kriz/cifar-10-python.tar.gz\n",
            "170500096/170498071 [==============================] - 6s 0us/step\n",
            "X_train10 = (50000, 3072)\n",
            "X_test10 = (10000, 3072)\n",
            "Y_train10 = (50000, 10)\n",
            "Y_test10 = (10000, 10)\n"
          ],
          "name": "stdout"
        }
      ]
    },
    {
      "cell_type": "code",
      "metadata": {
        "id": "VXDVPqlKfnkQ"
      },
      "source": [
        "# Тренируемые параметры\r\n",
        "TrainParams = []\r\n",
        "\r\n",
        "# Вес W1, 300 размер скрытого слоя\r\n",
        "TrainParams.append(tf.Variable(tf.random.normal([3072, 30], stddev=0.03), name='W1'))\r\n",
        "\r\n",
        "# Используя нормальное распределение со средни 0 и статистическим отклонением 0.03, определяем bias \r\n",
        "TrainParams.append(tf.Variable(tf.random.normal([30], stddev=0.03), name='b1'))\r\n",
        "\r\n",
        "# Для весов и bias(откллонения) от скрытого к выходному\r\n",
        "TrainParams.append(tf.Variable(tf.random.normal([30, 10], stddev=0.03), name='W2'))\r\n",
        "TrainParams.append(tf.Variable(tf.random.normal([10], stddev=0.03), name='b2'))\r\n",
        "\r\n",
        "# Функция подсчета ошибки\r\n",
        "def loss(pred, target):\r\n",
        "  return tf.losses.categorical_crossentropy(target, pred)\r\n",
        "\r\n",
        "# Полносвязанный слой с несколькими функциями активации\r\n",
        "def dense(x, params):\r\n",
        "  W1 = params[0]\r\n",
        "  b1 = params[1]\r\n",
        "  W2 = params[2]\r\n",
        "  b2 = params[3]\r\n",
        "\r\n",
        "  hidden_out = tf.nn.relu( x @ W1 + b1)\r\n",
        "  y = tf.nn.softmax(hidden_out @ W2 + b2)\r\n",
        "  return y\r\n",
        "\r\n",
        "# Модель\r\n",
        "def model(x):\r\n",
        "  y = dense(x, TrainParams)\r\n",
        "  return y\r\n",
        "\r\n"
      ],
      "execution_count": null,
      "outputs": []
    },
    {
      "cell_type": "code",
      "metadata": {
        "id": "bT_uHvYsE_xk",
        "colab": {
          "base_uri": "https://localhost:8080/"
        },
        "outputId": "72b455ad-6897-4bdb-c524-e17bcfe5f190"
      },
      "source": [
        "model(X_train10[[1]])"
      ],
      "execution_count": null,
      "outputs": [
        {
          "output_type": "execute_result",
          "data": {
            "text/plain": [
              "<tf.Tensor: shape=(1, 10), dtype=float32, numpy=\n",
              "array([[0.11156564, 0.10157739, 0.10075769, 0.08467957, 0.09521645,\n",
              "        0.07951672, 0.09832054, 0.11029885, 0.12002683, 0.09804034]],\n",
              "      dtype=float32)>"
            ]
          },
          "metadata": {
            "tags": []
          },
          "execution_count": 7
        }
      ]
    },
    {
      "cell_type": "code",
      "metadata": {
        "id": "ylcztHVLfnnd",
        "colab": {
          "base_uri": "https://localhost:8080/"
        },
        "outputId": "cff7a929-b02e-4abf-d0da-1cd476aa07ee"
      },
      "source": [
        "X_train10[1].shape"
      ],
      "execution_count": null,
      "outputs": [
        {
          "output_type": "execute_result",
          "data": {
            "text/plain": [
              "(3072,)"
            ]
          },
          "metadata": {
            "tags": []
          },
          "execution_count": 8
        }
      ]
    },
    {
      "cell_type": "code",
      "metadata": {
        "id": "pf7h6k_EwSaf",
        "colab": {
          "base_uri": "https://localhost:8080/"
        },
        "outputId": "77153789-e5b6-4ac2-a8d3-d207d6baac69"
      },
      "source": [
        "Y_train10[1]"
      ],
      "execution_count": null,
      "outputs": [
        {
          "output_type": "execute_result",
          "data": {
            "text/plain": [
              "array([0., 0., 0., 0., 0., 0., 0., 0., 0., 1.], dtype=float32)"
            ]
          },
          "metadata": {
            "tags": []
          },
          "execution_count": 9
        }
      ]
    },
    {
      "cell_type": "code",
      "metadata": {
        "id": "lxH_tBj2wSdW"
      },
      "source": [
        "# Функция вывода прогрессбара\r\n",
        "def  print_log(current, amount, params):\r\n",
        "  bar_len = 30\r\n",
        "  percent = int(current * bar_len / amount)\r\n",
        "  progressbar = ''\r\n",
        "\r\n",
        "  for i in range(bar_len):\r\n",
        "    if(i < percent):\r\n",
        "      progressbar += '='\r\n",
        "    elif(i == percent):\r\n",
        "      progressbar += '>'\r\n",
        "    else:\r\n",
        "      progressbar += '-'\r\n",
        "\r\n",
        "  message = '\\r' + str(current) + '/' + str(amount) + '[' + progressbar + ']'\r\n",
        "  for key in params:\r\n",
        "    message += key + str(params[key]) + '.'\r\n",
        "\r\n",
        "  sys.stdout.write(message)\r\n",
        "  sys.stdout.flush()\r\n",
        "\r\n",
        "# Функция тренировки сети\r\n",
        "def train_model(train, inputs, outputs):\r\n",
        "  with tf.GradientTape() as tape:\r\n",
        "    current_loss = tf.reduce_mean(loss(model(inputs), outputs))\r\n",
        "    grads = tape.gradient(current_loss, TrainParams)\r\n",
        "    optimizer.apply_gradients(zip(grads, TrainParams))\r\n",
        "    m.update_state(np.argmax(outputs, axis=1), np.argmax(model(inputs), axis=1))\r\n",
        "  return current_loss, m.result().numpy()"
      ],
      "execution_count": null,
      "outputs": []
    },
    {
      "cell_type": "code",
      "metadata": {
        "id": "BztDcB6IwSf-",
        "colab": {
          "base_uri": "https://localhost:8080/"
        },
        "outputId": "7c9764ce-a122-44d4-93b5-58cdfa11aa7e"
      },
      "source": [
        "# Очищаем папку с записанной информацией обучения\r\n",
        "!rm -R /content/drive/MyDrive/Tensorflow"
      ],
      "execution_count": null,
      "outputs": [
        {
          "output_type": "stream",
          "text": [
            "rm: cannot remove '/content/drive/MyDrive/Tensorflow': No such file or directory\n"
          ],
          "name": "stdout"
        }
      ]
    },
    {
      "cell_type": "code",
      "metadata": {
        "id": "QnnMnOtXfnp0",
        "colab": {
          "base_uri": "https://localhost:8080/"
        },
        "outputId": "f08920ba-ab45-4adb-d5c2-2f650e01f6b1"
      },
      "source": [
        "PATH = '/content/drive/MyDrive/Tensorflow'\r\n",
        "\r\n",
        "cur_time = datetime.datetime.now().strftime(\"%Y%m%d - %H%M%S\")\r\n",
        "loss_log_dir = PATH + cur_time +'/data' \r\n",
        "loss_summary_writer = tf.summary.create_file_writer(loss_log_dir)\r\n",
        "\r\n",
        "amount_batches = int(len(X_train10)/ batchSize)\r\n",
        "\r\n",
        "with loss_summary_writer.as_default():\r\n",
        "  for epoch in range(1, epochs + 1):\r\n",
        "    learning_epoch_start_time = datetime.datetime.now()\r\n",
        "    print(f'\\nЭпоха {epoch} / {epochs}')\r\n",
        "    avg_loss = 0\r\n",
        "\r\n",
        "    # Проходим по X_train10 с шагом batcSize\r\n",
        "    for batch in range(0, len(X_train10), batchSize):\r\n",
        "      current_loss, accuracy = train_model(model, X_train10[batch: batch + batchSize], Y_train10[batch: batch + batchSize])\r\n",
        "      avg_loss += current_loss\r\n",
        "\r\n",
        "    # Задаем параметры\r\n",
        "    params = {'Время обучения: ': datetime.datetime.now() - learning_epoch_start_time, ' loss ': round(current_loss.numpy(), 4), ' accuracy ': round(accuracy, 4)}\r\n",
        "\r\n",
        "    if(batch >= len(X_train10) - batchSize):\r\n",
        "      params['loss: '] = round((avg_loss / amount_batches).numpy(), 4) \r\n",
        "\r\n",
        "    current_batch = int(batch / batchSize) + 1\r\n",
        "    print_log(current_batch, amount_batches, params)\r\n",
        "\r\n",
        "tf.summary.scalar('avg_loss', avg_loss, step=epoch)\r\n",
        "tf.summary.scalar('accuracy', accuracy, step=epoch)\r\n",
        "print()\r\n",
        "\r\n"
      ],
      "execution_count": null,
      "outputs": [
        {
          "output_type": "stream",
          "text": [
            "\n",
            "Эпоха 1 / 20\n",
            "500/500[==============================]Время обучения: 0:00:04.315695. loss 2.2993. accuracy 0.1218.loss: 2.3048.\n",
            "Эпоха 2 / 20\n",
            "500/500[==============================]Время обучения: 0:00:04.133748. loss 2.3053. accuracy 0.1211.loss: 2.302.\n",
            "Эпоха 3 / 20\n",
            "500/500[==============================]Время обучения: 0:00:04.095730. loss 2.2992. accuracy 0.1213.loss: 2.2997.\n",
            "Эпоха 4 / 20\n",
            "500/500[==============================]Время обучения: 0:00:04.043336. loss 2.2989. accuracy 0.1202.loss: 2.304.\n",
            "Эпоха 5 / 20\n",
            "500/500[==============================]Время обучения: 0:00:04.055295. loss 2.2991. accuracy 0.1196.loss: 2.3038.\n",
            "Эпоха 6 / 20\n",
            "500/500[==============================]Время обучения: 0:00:04.125044. loss 2.3161. accuracy 0.1194.loss: 2.3035.\n",
            "Эпоха 7 / 20\n",
            "500/500[==============================]Время обучения: 0:00:04.092852. loss 2.2992. accuracy 0.1197.loss: 2.3008.\n",
            "Эпоха 8 / 20\n",
            "500/500[==============================]Время обучения: 0:00:04.111288. loss 2.2995. accuracy 0.1198.loss: 2.3012.\n",
            "Эпоха 9 / 20\n",
            "500/500[==============================]Время обучения: 0:00:04.069882. loss 2.2881. accuracy 0.1196.loss: 2.3041.\n",
            "Эпоха 10 / 20\n",
            "500/500[==============================]Время обучения: 0:00:04.067578. loss 2.2992. accuracy 0.1195.loss: 2.3031.\n",
            "Эпоха 11 / 20\n",
            "500/500[==============================]Время обучения: 0:00:04.067798. loss 2.2992. accuracy 0.1193.loss: 2.3039.\n",
            "Эпоха 12 / 20\n",
            "500/500[==============================]Время обучения: 0:00:04.103374. loss 2.2992. accuracy 0.1191.loss: 2.3034.\n",
            "Эпоха 13 / 20\n",
            "500/500[==============================]Время обучения: 0:00:04.024314. loss 2.2992. accuracy 0.1189.loss: 2.3038.\n",
            "Эпоха 14 / 20\n",
            "500/500[==============================]Время обучения: 0:00:04.058690. loss 2.3046. accuracy 0.1188.loss: 2.3034.\n",
            "Эпоха 15 / 20\n",
            "500/500[==============================]Время обучения: 0:00:04.169345. loss 2.2992. accuracy 0.119.loss: 2.3014.\n",
            "Эпоха 16 / 20\n",
            "500/500[==============================]Время обучения: 0:00:04.188512. loss 2.2992. accuracy 0.1189.loss: 2.3039.\n",
            "Эпоха 17 / 20\n",
            "500/500[==============================]Время обучения: 0:00:04.223827. loss 2.2992. accuracy 0.1187.loss: 2.3039.\n",
            "Эпоха 18 / 20\n",
            "500/500[==============================]Время обучения: 0:00:04.152646. loss 2.2992. accuracy 0.1186.loss: 2.3039.\n",
            "Эпоха 19 / 20\n",
            "500/500[==============================]Время обучения: 0:00:04.037680. loss 2.2992. accuracy 0.1185.loss: 2.3039.\n",
            "Эпоха 20 / 20\n",
            "500/500[==============================]Время обучения: 0:00:04.080250. loss 2.2992. accuracy 0.1184.loss: 2.3038.\n"
          ],
          "name": "stdout"
        }
      ]
    },
    {
      "cell_type": "code",
      "metadata": {
        "id": "UoDcrZxmDrnT",
        "colab": {
          "base_uri": "https://localhost:8080/",
          "height": 186
        },
        "outputId": "c9527709-259f-4b6b-bc0a-7113823664a2"
      },
      "source": [
        "# Выводим картинки по классам\r\n",
        "print('Сеть разпознала: ')\r\n",
        "fig, axs = plt.subplots(1, 10, figsize=(25, 3))\r\n",
        "for i in range(10):\r\n",
        "  label_ind = np.where(np.argmax(Y_test10, axis=1) == i)[0]\r\n",
        "  ind = random.choice(label_ind)\r\n",
        "  img = X_test10[ind]\r\n",
        "  axs[i].imshow(img.reshape(img_size))\r\n",
        "  axs[i].set_title(classes[np.argmax(model([img]))], size=18)\r\n",
        "  axs[i].axis('off')\r\n",
        "plt.show()\r\n"
      ],
      "execution_count": null,
      "outputs": [
        {
          "output_type": "stream",
          "text": [
            "Сеть разпознала: \n"
          ],
          "name": "stdout"
        },
        {
          "output_type": "display_data",
          "data": {
            "image/png": "[encoded data removed]",
            "text/plain": [
              "<Figure size 1800x216 with 10 Axes>"
            ]
          },
          "metadata": {
            "tags": [],
            "needs_background": "light"
          }
        }
      ]
    },
    {
      "cell_type": "code",
      "metadata": {
        "id": "gHV54sCcqART"
      },
      "source": [
        ""
      ],
      "execution_count": null,
      "outputs": []
    },
    {
      "cell_type": "code",
      "metadata": {
        "id": "HjYmaHEcqAaV"
      },
      "source": [
        ""
      ],
      "execution_count": null,
      "outputs": []
    }
  ]
}